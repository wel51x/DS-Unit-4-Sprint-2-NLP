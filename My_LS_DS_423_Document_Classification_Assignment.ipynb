{
  "nbformat": 4,
  "nbformat_minor": 0,
  "metadata": {
    "colab": {
      "name": "My LS_DS_423_Document_Classification_Assignment.ipynb",
      "version": "0.3.2",
      "provenance": [],
      "collapsed_sections": [],
      "include_colab_link": true
    },
    "language_info": {
      "codemirror_mode": {
        "name": "ipython",
        "version": 3
      },
      "file_extension": ".py",
      "mimetype": "text/x-python",
      "name": "python",
      "nbconvert_exporter": "python",
      "pygments_lexer": "ipython3",
      "version": "3.7.3"
    },
    "kernelspec": {
      "display_name": "Python 3",
      "language": "python",
      "name": "python3"
    }
  },
  "cells": [
    {
      "cell_type": "markdown",
      "metadata": {
        "id": "view-in-github",
        "colab_type": "text"
      },
      "source": [
        "<a href=\"https://colab.research.google.com/github/wel51x/DS-Unit-4-Sprint-2-NLP/blob/master/My_LS_DS_423_Document_Classification_Assignment.ipynb\" target=\"_parent\"><img src=\"https://colab.research.google.com/assets/colab-badge.svg\" alt=\"Open In Colab\"/></a>"
      ]
    },
    {
      "metadata": {
        "colab_type": "text",
        "id": "-OJHr-tbuSuI"
      },
      "cell_type": "markdown",
      "source": [
        "<img align=\"left\" src=\"https://lever-client-logos.s3.amazonaws.com/864372b1-534c-480e-acd5-9711f850815c-1524247202159.png\" width=200>\n",
        "<br></br>\n",
        "<br></br>\n",
        "\n",
        "## *Data Science Unit 4 Sprint 2 Assignment 3*\n",
        "\n",
        "# Document Classification\n",
        "\n",
        "Use the following dataset of scraped \"Data Scientist\" and \"Data Analyst\" job listings to create your own Document Classification Models.\n",
        "\n",
        "<https://raw.githubusercontent.com/LambdaSchool/DS-Unit-4-Sprint-2-NLP/master/module3-Document-Classification/job_listings.csv>\n",
        "\n",
        "Requirements:\n",
        "\n",
        "- Apply both CountVectorizer and TfidfVectorizer methods to this data and compare results\n",
        "- Use at least two different classification models to compare differences in model accuracy\n",
        "- Try to \"Hyperparameter Tune\" your model by using different n_gram ranges, max_results, and data cleaning methods\n",
        "- Try and get the highest accuracy possible!"
      ]
    },
    {
      "metadata": {
        "id": "EVrFJA1gVYHN",
        "colab_type": "code",
        "colab": {}
      },
      "cell_type": "code",
      "source": [
        "import pandas as pd\n",
        "import numpy as np\n",
        "pd.set_option('display.width', 1000)\n",
        "pd.set_option('max_colwidth', 160)\n"
      ],
      "execution_count": 0,
      "outputs": []
    },
    {
      "metadata": {
        "id": "kZQYj-yEVX1U",
        "colab_type": "code",
        "colab": {}
      },
      "cell_type": "code",
      "source": [
        "url = \"https://raw.githubusercontent.com/LambdaSchool/DS-Unit-4-Sprint-2-NLP/master/module3-Document-Classification/job_listings.csv\"\n",
        "\n",
        "df = pd.read_csv(url)"
      ],
      "execution_count": 0,
      "outputs": []
    },
    {
      "metadata": {
        "id": "5b_g3ZBUVt_t",
        "colab_type": "code",
        "colab": {
          "base_uri": "https://localhost:8080/",
          "height": 190
        },
        "outputId": "9ea03bfe-9894-4ed8-a81a-1669acc25819"
      },
      "cell_type": "code",
      "source": [
        "df.describe()"
      ],
      "execution_count": 64,
      "outputs": [
        {
          "output_type": "execute_result",
          "data": {
            "text/html": [
              "<div>\n",
              "<style scoped>\n",
              "    .dataframe tbody tr th:only-of-type {\n",
              "        vertical-align: middle;\n",
              "    }\n",
              "\n",
              "    .dataframe tbody tr th {\n",
              "        vertical-align: top;\n",
              "    }\n",
              "\n",
              "    .dataframe thead th {\n",
              "        text-align: right;\n",
              "    }\n",
              "</style>\n",
              "<table border=\"1\" class=\"dataframe\">\n",
              "  <thead>\n",
              "    <tr style=\"text-align: right;\">\n",
              "      <th></th>\n",
              "      <th>description</th>\n",
              "      <th>title</th>\n",
              "      <th>job</th>\n",
              "    </tr>\n",
              "  </thead>\n",
              "  <tbody>\n",
              "    <tr>\n",
              "      <th>count</th>\n",
              "      <td>499</td>\n",
              "      <td>499</td>\n",
              "      <td>500</td>\n",
              "    </tr>\n",
              "    <tr>\n",
              "      <th>unique</th>\n",
              "      <td>423</td>\n",
              "      <td>232</td>\n",
              "      <td>2</td>\n",
              "    </tr>\n",
              "    <tr>\n",
              "      <th>top</th>\n",
              "      <td>b'&lt;p&gt;&lt;/p&gt;&lt;div&gt;&lt;h3 class=\"jobSectionHeader\"&gt;&lt;b&gt;Description:\\n&lt;/b&gt;&lt;/h3&gt;&lt;p&gt;&lt;/p&gt;&lt;div&gt;As part of a small, passionate and accomplished team of experts, you will w...</td>\n",
              "      <td>Data Scientist</td>\n",
              "      <td>Data Analyst</td>\n",
              "    </tr>\n",
              "    <tr>\n",
              "      <th>freq</th>\n",
              "      <td>3</td>\n",
              "      <td>84</td>\n",
              "      <td>250</td>\n",
              "    </tr>\n",
              "  </tbody>\n",
              "</table>\n",
              "</div>"
            ],
            "text/plain": [
              "                                                                                                                                                            description           title           job\n",
              "count                                                                                                                                                               499             499           500\n",
              "unique                                                                                                                                                              423             232             2\n",
              "top     b'<p></p><div><h3 class=\"jobSectionHeader\"><b>Description:\\n</b></h3><p></p><div>As part of a small, passionate and accomplished team of experts, you will w...  Data Scientist  Data Analyst\n",
              "freq                                                                                                                                                                  3              84           250"
            ]
          },
          "metadata": {
            "tags": []
          },
          "execution_count": 64
        }
      ]
    },
    {
      "metadata": {
        "id": "vea43Uh7cRFU",
        "colab_type": "code",
        "colab": {
          "base_uri": "https://localhost:8080/",
          "height": 85
        },
        "outputId": "b450c313-5765-4aea-8c82-618102ad908c"
      },
      "cell_type": "code",
      "source": [
        "df = df.dropna()\n",
        "df.count()"
      ],
      "execution_count": 65,
      "outputs": [
        {
          "output_type": "execute_result",
          "data": {
            "text/plain": [
              "description    499\n",
              "title          499\n",
              "job            499\n",
              "dtype: int64"
            ]
          },
          "metadata": {
            "tags": []
          },
          "execution_count": 65
        }
      ]
    },
    {
      "metadata": {
        "id": "bceJyD15ZVfv",
        "colab_type": "code",
        "colab": {
          "base_uri": "https://localhost:8080/",
          "height": 68
        },
        "outputId": "3f30b232-772f-4687-f7fe-9ef8b7317840"
      },
      "cell_type": "code",
      "source": [
        "df.job.value_counts(normalize=True)\n"
      ],
      "execution_count": 66,
      "outputs": [
        {
          "output_type": "execute_result",
          "data": {
            "text/plain": [
              "Data Scientist    0.501002\n",
              "Data Analyst      0.498998\n",
              "Name: job, dtype: float64"
            ]
          },
          "metadata": {
            "tags": []
          },
          "execution_count": 66
        }
      ]
    },
    {
      "metadata": {
        "id": "7gvT4oEgaoSH",
        "colab_type": "code",
        "colab": {
          "base_uri": "https://localhost:8080/",
          "height": 577
        },
        "outputId": "56004baa-5a17-4161-d3cd-67ee13bf73b1"
      },
      "cell_type": "code",
      "source": [
        "df['job_num'] = df.job.map({'Data Analyst': 0, 'Data Scientist': 1})\n",
        "\n",
        "df.sample(11)"
      ],
      "execution_count": 67,
      "outputs": [
        {
          "output_type": "execute_result",
          "data": {
            "text/html": [
              "<div>\n",
              "<style scoped>\n",
              "    .dataframe tbody tr th:only-of-type {\n",
              "        vertical-align: middle;\n",
              "    }\n",
              "\n",
              "    .dataframe tbody tr th {\n",
              "        vertical-align: top;\n",
              "    }\n",
              "\n",
              "    .dataframe thead th {\n",
              "        text-align: right;\n",
              "    }\n",
              "</style>\n",
              "<table border=\"1\" class=\"dataframe\">\n",
              "  <thead>\n",
              "    <tr style=\"text-align: right;\">\n",
              "      <th></th>\n",
              "      <th>description</th>\n",
              "      <th>title</th>\n",
              "      <th>job</th>\n",
              "      <th>job_num</th>\n",
              "    </tr>\n",
              "  </thead>\n",
              "  <tbody>\n",
              "    <tr>\n",
              "      <th>300</th>\n",
              "      <td>b'&lt;div class=\"jobsearch-JobMetadataHeader icl-u-xs-mb--md\"&gt;&lt;div class=\"jobsearch-JobMetadataHeader-item \"&gt;&lt;span class=\"icl-u-xs-mr--xs\"&gt;$70,000 - $100,000 a...</td>\n",
              "      <td>Junior Data Analyst</td>\n",
              "      <td>Data Analyst</td>\n",
              "      <td>0</td>\n",
              "    </tr>\n",
              "    <tr>\n",
              "      <th>445</th>\n",
              "      <td>b\"&lt;div&gt;&lt;div&gt;&lt;div&gt;&lt;div&gt;&lt;p&gt;Summary&lt;/p&gt;&lt;div&gt;&lt;div&gt;\\nPosted: &lt;b&gt;Jan 14, 2019&lt;/b&gt;\\n&lt;/div&gt;&lt;div&gt;Weekly Hours: &lt;b&gt;40&lt;/b&gt;\\n&lt;/div&gt;&lt;div&gt;Role Number: &lt;b&gt;114182628&lt;/b&gt;&lt;/d...</td>\n",
              "      <td>Maps Data Analyst - Maps Evaluation</td>\n",
              "      <td>Data Analyst</td>\n",
              "      <td>0</td>\n",
              "    </tr>\n",
              "    <tr>\n",
              "      <th>475</th>\n",
              "      <td>b'&lt;div class=\"jobsearch-JobMetadataHeader icl-u-xs-mb--md\"&gt;&lt;div class=\"jobsearch-JobMetadataHeader-item icl-u-xs-mt--xs\"&gt;Internship&lt;/div&gt;&lt;/div&gt;&lt;div&gt;&lt;h1 clas...</td>\n",
              "      <td>Reporting/Data Analyst Intern</td>\n",
              "      <td>Data Analyst</td>\n",
              "      <td>0</td>\n",
              "    </tr>\n",
              "    <tr>\n",
              "      <th>483</th>\n",
              "      <td>b'&lt;p&gt;&lt;/p&gt;&lt;div&gt;&lt;div&gt;&lt;div&gt;&lt;div&gt;&lt;p&gt;&lt;b&gt;Characteristics of position&lt;/b&gt;&lt;b&gt;: &lt;/b&gt;Provide research activities and the completion of deliverables specified in the r...</td>\n",
              "      <td>Volunteer-Data Analyst</td>\n",
              "      <td>Data Analyst</td>\n",
              "      <td>0</td>\n",
              "    </tr>\n",
              "    <tr>\n",
              "      <th>25</th>\n",
              "      <td>b\"As a Data Scientist for Ads Measurement in the Partners org you will work on projects to demonstrate and create a generalizable value of the Pinterest pla...</td>\n",
              "      <td>Measurement Data Scientist</td>\n",
              "      <td>Data Scientist</td>\n",
              "      <td>1</td>\n",
              "    </tr>\n",
              "    <tr>\n",
              "      <th>38</th>\n",
              "      <td>b'&lt;div class=\"jobsearch-JobMetadataHeader icl-u-xs-mb--md\"&gt;&lt;div class=\"jobsearch-JobMetadataHeader-item icl-u-xs-mt--xs\"&gt;Temporary, Internship&lt;/div&gt;&lt;/div&gt;&lt;d...</td>\n",
              "      <td>Data Scientist Summer Intern</td>\n",
              "      <td>Data Scientist</td>\n",
              "      <td>1</td>\n",
              "    </tr>\n",
              "    <tr>\n",
              "      <th>228</th>\n",
              "      <td>b'&lt;div class=\"jobsearch-JobMetadataHeader icl-u-xs-mb--md\"&gt;&lt;div class=\"jobsearch-JobMetadataHeader-item icl-u-xs-mt--xs\"&gt;Internship&lt;/div&gt;&lt;/div&gt;About the rol...</td>\n",
              "      <td>Associate Data Scientist Internship - Customer Data &amp; Analytics</td>\n",
              "      <td>Data Scientist</td>\n",
              "      <td>1</td>\n",
              "    </tr>\n",
              "    <tr>\n",
              "      <th>45</th>\n",
              "      <td>b\"&lt;div&gt;&lt;div&gt;You will collaborate with the brightest technical minds in building futuristic products, researching groundbreaking concepts, and influencing ne...</td>\n",
              "      <td>Junior Data Scientist</td>\n",
              "      <td>Data Scientist</td>\n",
              "      <td>1</td>\n",
              "    </tr>\n",
              "    <tr>\n",
              "      <th>36</th>\n",
              "      <td>b'&lt;div&gt;&lt;p&gt;&lt;b&gt;Position Summary\\n&lt;/b&gt;&lt;/p&gt;&lt;p&gt;&lt;/p&gt;In today\\xe2\\x80\\x99s fast evolving technology world, one aspect remains common \\xe2\\x80\\x93 reliance on data ...</td>\n",
              "      <td>Data Scientist</td>\n",
              "      <td>Data Scientist</td>\n",
              "      <td>1</td>\n",
              "    </tr>\n",
              "    <tr>\n",
              "      <th>246</th>\n",
              "      <td>b\"&lt;p&gt;&lt;/p&gt;&lt;div&gt;&lt;p&gt;&lt;b&gt;Sourcing Analyst\\n&lt;/b&gt;&lt;/p&gt;&lt;p&gt;&lt;b&gt;J.C. Penney Company, Inc.&lt;/b&gt;&lt;/p&gt;&lt;p&gt;&lt;b&gt;\\nPlano, Texas&lt;/b&gt;&lt;/p&gt;&lt;p&gt;\\nThe Sourcing Analyst will develop, dep...</td>\n",
              "      <td>Data Scientist, Sourcing Analytics</td>\n",
              "      <td>Data Scientist</td>\n",
              "      <td>1</td>\n",
              "    </tr>\n",
              "    <tr>\n",
              "      <th>40</th>\n",
              "      <td>b'&lt;div class=\"jobsearch-JobMetadataHeader icl-u-xs-mb--md\"&gt;&lt;div class=\"jobsearch-JobMetadataHeader-item icl-u-xs-mt--xs\"&gt;Temporary, Internship&lt;/div&gt;&lt;/div&gt;&lt;d...</td>\n",
              "      <td>Data Scientist Internship - Summer 2019</td>\n",
              "      <td>Data Scientist</td>\n",
              "      <td>1</td>\n",
              "    </tr>\n",
              "  </tbody>\n",
              "</table>\n",
              "</div>"
            ],
            "text/plain": [
              "                                                                                                                                                         description                                                            title             job  job_num\n",
              "300  b'<div class=\"jobsearch-JobMetadataHeader icl-u-xs-mb--md\"><div class=\"jobsearch-JobMetadataHeader-item \"><span class=\"icl-u-xs-mr--xs\">$70,000 - $100,000 a...                                              Junior Data Analyst    Data Analyst        0\n",
              "445  b\"<div><div><div><div><p>Summary</p><div><div>\\nPosted: <b>Jan 14, 2019</b>\\n</div><div>Weekly Hours: <b>40</b>\\n</div><div>Role Number: <b>114182628</b></d...                              Maps Data Analyst - Maps Evaluation    Data Analyst        0\n",
              "475  b'<div class=\"jobsearch-JobMetadataHeader icl-u-xs-mb--md\"><div class=\"jobsearch-JobMetadataHeader-item icl-u-xs-mt--xs\">Internship</div></div><div><h1 clas...                                    Reporting/Data Analyst Intern    Data Analyst        0\n",
              "483  b'<p></p><div><div><div><div><p><b>Characteristics of position</b><b>: </b>Provide research activities and the completion of deliverables specified in the r...                                           Volunteer-Data Analyst    Data Analyst        0\n",
              "25   b\"As a Data Scientist for Ads Measurement in the Partners org you will work on projects to demonstrate and create a generalizable value of the Pinterest pla...                                       Measurement Data Scientist  Data Scientist        1\n",
              "38   b'<div class=\"jobsearch-JobMetadataHeader icl-u-xs-mb--md\"><div class=\"jobsearch-JobMetadataHeader-item icl-u-xs-mt--xs\">Temporary, Internship</div></div><d...                                     Data Scientist Summer Intern  Data Scientist        1\n",
              "228  b'<div class=\"jobsearch-JobMetadataHeader icl-u-xs-mb--md\"><div class=\"jobsearch-JobMetadataHeader-item icl-u-xs-mt--xs\">Internship</div></div>About the rol...  Associate Data Scientist Internship - Customer Data & Analytics  Data Scientist        1\n",
              "45   b\"<div><div>You will collaborate with the brightest technical minds in building futuristic products, researching groundbreaking concepts, and influencing ne...                                            Junior Data Scientist  Data Scientist        1\n",
              "36   b'<div><p><b>Position Summary\\n</b></p><p></p>In today\\xe2\\x80\\x99s fast evolving technology world, one aspect remains common \\xe2\\x80\\x93 reliance on data ...                                                   Data Scientist  Data Scientist        1\n",
              "246  b\"<p></p><div><p><b>Sourcing Analyst\\n</b></p><p><b>J.C. Penney Company, Inc.</b></p><p><b>\\nPlano, Texas</b></p><p>\\nThe Sourcing Analyst will develop, dep...                               Data Scientist, Sourcing Analytics  Data Scientist        1\n",
              "40   b'<div class=\"jobsearch-JobMetadataHeader icl-u-xs-mb--md\"><div class=\"jobsearch-JobMetadataHeader-item icl-u-xs-mt--xs\">Temporary, Internship</div></div><d...                          Data Scientist Internship - Summer 2019  Data Scientist        1"
            ]
          },
          "metadata": {
            "tags": []
          },
          "execution_count": 67
        }
      ]
    },
    {
      "metadata": {
        "id": "27c52OL9a5El",
        "colab_type": "code",
        "colab": {}
      },
      "cell_type": "code",
      "source": [
        "from sklearn.model_selection import train_test_split\n",
        "\n",
        "X = df.description\n",
        "y = df.job_num\n",
        "\n",
        "X_train, X_test, y_train, y_test = train_test_split(X, y, test_size=0.2, random_state=0)"
      ],
      "execution_count": 0,
      "outputs": []
    },
    {
      "metadata": {
        "id": "ZHYryqw9bXHv",
        "colab_type": "code",
        "colab": {
          "base_uri": "https://localhost:8080/",
          "height": 85
        },
        "outputId": "9dec2b9c-7bf8-4d90-ff38-ed084da1c0ff"
      },
      "cell_type": "code",
      "source": [
        "print(X_train.shape)\n",
        "print(X_test.shape)\n",
        "print(y_train.shape)\n",
        "print(y_test.shape)"
      ],
      "execution_count": 69,
      "outputs": [
        {
          "output_type": "stream",
          "text": [
            "(399,)\n",
            "(100,)\n",
            "(399,)\n",
            "(100,)\n"
          ],
          "name": "stdout"
        }
      ]
    },
    {
      "metadata": {
        "id": "gsGkc5imbico",
        "colab_type": "text"
      },
      "cell_type": "markdown",
      "source": [
        "## Count Vectorizer\n",
        "\n",
        "Today we're just going to let Scikit-Learn do our text cleaning and preprocessing for us.\n",
        "\n",
        "Lets run our vectorizer on job description and take a peek at the tokenization of the vocabulary"
      ]
    },
    {
      "metadata": {
        "id": "2Q7YkxdNbiED",
        "colab_type": "code",
        "colab": {
          "base_uri": "https://localhost:8080/",
          "height": 34
        },
        "outputId": "a68c1238-bc21-4d23-ef78-20daa83bcce6"
      },
      "cell_type": "code",
      "source": [
        "from sklearn.feature_extraction.text import CountVectorizer\n",
        "\n",
        "vectorizer = CountVectorizer(max_features=None, ngram_range=(1,1), stop_words='english')\n",
        "# vectorizer = CountVectorizer(max_features=1000, ngram_range=(1,1), stop_words='english')\n",
        "\n",
        "vectorizer.fit(X_train)\n",
        "\n",
        "print(len(vectorizer.get_feature_names()))"
      ],
      "execution_count": 70,
      "outputs": [
        {
          "output_type": "stream",
          "text": [
            "9366\n"
          ],
          "name": "stdout"
        }
      ]
    },
    {
      "metadata": {
        "id": "nwV6qqlPf8zU",
        "colab_type": "text"
      },
      "cell_type": "markdown",
      "source": [
        "### Transform Train"
      ]
    },
    {
      "metadata": {
        "id": "13ipnnKGcopP",
        "colab_type": "code",
        "colab": {
          "base_uri": "https://localhost:8080/",
          "height": 250
        },
        "outputId": "0b78b493-94e4-4d4c-c890-e3a427d82038"
      },
      "cell_type": "code",
      "source": [
        "train_word_counts = vectorizer.transform(X_train)\n",
        "\n",
        "X_train_vectorized = pd.DataFrame(train_word_counts.toarray(), columns=vectorizer.get_feature_names())\n",
        "\n",
        "print(X_train_vectorized.shape)\n",
        "X_train_vectorized.head()"
      ],
      "execution_count": 71,
      "outputs": [
        {
          "output_type": "stream",
          "text": [
            "(399, 9366)\n"
          ],
          "name": "stdout"
        },
        {
          "output_type": "execute_result",
          "data": {
            "text/html": [
              "<div>\n",
              "<style scoped>\n",
              "    .dataframe tbody tr th:only-of-type {\n",
              "        vertical-align: middle;\n",
              "    }\n",
              "\n",
              "    .dataframe tbody tr th {\n",
              "        vertical-align: top;\n",
              "    }\n",
              "\n",
              "    .dataframe thead th {\n",
              "        text-align: right;\n",
              "    }\n",
              "</style>\n",
              "<table border=\"1\" class=\"dataframe\">\n",
              "  <thead>\n",
              "    <tr style=\"text-align: right;\">\n",
              "      <th></th>\n",
              "      <th>00</th>\n",
              "      <th>000</th>\n",
              "      <th>00079</th>\n",
              "      <th>00805</th>\n",
              "      <th>00pm</th>\n",
              "      <th>02115</th>\n",
              "      <th>03</th>\n",
              "      <th>0356</th>\n",
              "      <th>04</th>\n",
              "      <th>062</th>\n",
              "      <th>...</th>\n",
              "      <th>zeta</th>\n",
              "      <th>zetahub</th>\n",
              "      <th>zeus</th>\n",
              "      <th>zheng</th>\n",
              "      <th>zogsports</th>\n",
              "      <th>zoho</th>\n",
              "      <th>zone</th>\n",
              "      <th>zones</th>\n",
              "      <th>zoom</th>\n",
              "      <th>zywave</th>\n",
              "    </tr>\n",
              "  </thead>\n",
              "  <tbody>\n",
              "    <tr>\n",
              "      <th>0</th>\n",
              "      <td>0</td>\n",
              "      <td>0</td>\n",
              "      <td>0</td>\n",
              "      <td>0</td>\n",
              "      <td>0</td>\n",
              "      <td>0</td>\n",
              "      <td>0</td>\n",
              "      <td>0</td>\n",
              "      <td>0</td>\n",
              "      <td>0</td>\n",
              "      <td>...</td>\n",
              "      <td>0</td>\n",
              "      <td>0</td>\n",
              "      <td>0</td>\n",
              "      <td>0</td>\n",
              "      <td>1</td>\n",
              "      <td>0</td>\n",
              "      <td>0</td>\n",
              "      <td>0</td>\n",
              "      <td>0</td>\n",
              "      <td>0</td>\n",
              "    </tr>\n",
              "    <tr>\n",
              "      <th>1</th>\n",
              "      <td>0</td>\n",
              "      <td>0</td>\n",
              "      <td>0</td>\n",
              "      <td>0</td>\n",
              "      <td>0</td>\n",
              "      <td>0</td>\n",
              "      <td>0</td>\n",
              "      <td>0</td>\n",
              "      <td>0</td>\n",
              "      <td>0</td>\n",
              "      <td>...</td>\n",
              "      <td>0</td>\n",
              "      <td>0</td>\n",
              "      <td>0</td>\n",
              "      <td>0</td>\n",
              "      <td>0</td>\n",
              "      <td>0</td>\n",
              "      <td>0</td>\n",
              "      <td>0</td>\n",
              "      <td>0</td>\n",
              "      <td>0</td>\n",
              "    </tr>\n",
              "    <tr>\n",
              "      <th>2</th>\n",
              "      <td>0</td>\n",
              "      <td>0</td>\n",
              "      <td>0</td>\n",
              "      <td>0</td>\n",
              "      <td>0</td>\n",
              "      <td>0</td>\n",
              "      <td>0</td>\n",
              "      <td>0</td>\n",
              "      <td>0</td>\n",
              "      <td>0</td>\n",
              "      <td>...</td>\n",
              "      <td>0</td>\n",
              "      <td>0</td>\n",
              "      <td>0</td>\n",
              "      <td>0</td>\n",
              "      <td>0</td>\n",
              "      <td>0</td>\n",
              "      <td>0</td>\n",
              "      <td>0</td>\n",
              "      <td>0</td>\n",
              "      <td>0</td>\n",
              "    </tr>\n",
              "    <tr>\n",
              "      <th>3</th>\n",
              "      <td>0</td>\n",
              "      <td>0</td>\n",
              "      <td>0</td>\n",
              "      <td>0</td>\n",
              "      <td>0</td>\n",
              "      <td>0</td>\n",
              "      <td>0</td>\n",
              "      <td>0</td>\n",
              "      <td>0</td>\n",
              "      <td>0</td>\n",
              "      <td>...</td>\n",
              "      <td>0</td>\n",
              "      <td>0</td>\n",
              "      <td>0</td>\n",
              "      <td>0</td>\n",
              "      <td>0</td>\n",
              "      <td>0</td>\n",
              "      <td>0</td>\n",
              "      <td>0</td>\n",
              "      <td>0</td>\n",
              "      <td>0</td>\n",
              "    </tr>\n",
              "    <tr>\n",
              "      <th>4</th>\n",
              "      <td>0</td>\n",
              "      <td>0</td>\n",
              "      <td>0</td>\n",
              "      <td>0</td>\n",
              "      <td>0</td>\n",
              "      <td>0</td>\n",
              "      <td>0</td>\n",
              "      <td>0</td>\n",
              "      <td>0</td>\n",
              "      <td>0</td>\n",
              "      <td>...</td>\n",
              "      <td>0</td>\n",
              "      <td>0</td>\n",
              "      <td>0</td>\n",
              "      <td>0</td>\n",
              "      <td>0</td>\n",
              "      <td>0</td>\n",
              "      <td>0</td>\n",
              "      <td>0</td>\n",
              "      <td>0</td>\n",
              "      <td>0</td>\n",
              "    </tr>\n",
              "  </tbody>\n",
              "</table>\n",
              "<p>5 rows × 9366 columns</p>\n",
              "</div>"
            ],
            "text/plain": [
              "   00  000  00079  00805  00pm  02115  03  0356  04  062  ...  zeta  zetahub  zeus  zheng  zogsports  zoho  zone  zones  zoom  zywave\n",
              "0   0    0      0      0     0      0   0     0   0    0  ...     0        0     0      0          1     0     0      0     0       0\n",
              "1   0    0      0      0     0      0   0     0   0    0  ...     0        0     0      0          0     0     0      0     0       0\n",
              "2   0    0      0      0     0      0   0     0   0    0  ...     0        0     0      0          0     0     0      0     0       0\n",
              "3   0    0      0      0     0      0   0     0   0    0  ...     0        0     0      0          0     0     0      0     0       0\n",
              "4   0    0      0      0     0      0   0     0   0    0  ...     0        0     0      0          0     0     0      0     0       0\n",
              "\n",
              "[5 rows x 9366 columns]"
            ]
          },
          "metadata": {
            "tags": []
          },
          "execution_count": 71
        }
      ]
    },
    {
      "metadata": {
        "id": "-3nX9H8bgEGh",
        "colab_type": "text"
      },
      "cell_type": "markdown",
      "source": [
        "### Transform Test"
      ]
    },
    {
      "metadata": {
        "id": "z8Ld3VpDdMVc",
        "colab_type": "code",
        "colab": {
          "base_uri": "https://localhost:8080/",
          "height": 250
        },
        "outputId": "6990d012-1d48-44b6-8bab-80dacc36be40"
      },
      "cell_type": "code",
      "source": [
        "test_word_counts = vectorizer.transform(X_test)\n",
        "\n",
        "X_test_vectorized = pd.DataFrame(test_word_counts.toarray(), columns=vectorizer.get_feature_names())\n",
        "\n",
        "print(X_test_vectorized.shape)\n",
        "X_test_vectorized.head()"
      ],
      "execution_count": 72,
      "outputs": [
        {
          "output_type": "stream",
          "text": [
            "(100, 9366)\n"
          ],
          "name": "stdout"
        },
        {
          "output_type": "execute_result",
          "data": {
            "text/html": [
              "<div>\n",
              "<style scoped>\n",
              "    .dataframe tbody tr th:only-of-type {\n",
              "        vertical-align: middle;\n",
              "    }\n",
              "\n",
              "    .dataframe tbody tr th {\n",
              "        vertical-align: top;\n",
              "    }\n",
              "\n",
              "    .dataframe thead th {\n",
              "        text-align: right;\n",
              "    }\n",
              "</style>\n",
              "<table border=\"1\" class=\"dataframe\">\n",
              "  <thead>\n",
              "    <tr style=\"text-align: right;\">\n",
              "      <th></th>\n",
              "      <th>00</th>\n",
              "      <th>000</th>\n",
              "      <th>00079</th>\n",
              "      <th>00805</th>\n",
              "      <th>00pm</th>\n",
              "      <th>02115</th>\n",
              "      <th>03</th>\n",
              "      <th>0356</th>\n",
              "      <th>04</th>\n",
              "      <th>062</th>\n",
              "      <th>...</th>\n",
              "      <th>zeta</th>\n",
              "      <th>zetahub</th>\n",
              "      <th>zeus</th>\n",
              "      <th>zheng</th>\n",
              "      <th>zogsports</th>\n",
              "      <th>zoho</th>\n",
              "      <th>zone</th>\n",
              "      <th>zones</th>\n",
              "      <th>zoom</th>\n",
              "      <th>zywave</th>\n",
              "    </tr>\n",
              "  </thead>\n",
              "  <tbody>\n",
              "    <tr>\n",
              "      <th>0</th>\n",
              "      <td>0</td>\n",
              "      <td>0</td>\n",
              "      <td>0</td>\n",
              "      <td>0</td>\n",
              "      <td>0</td>\n",
              "      <td>0</td>\n",
              "      <td>0</td>\n",
              "      <td>0</td>\n",
              "      <td>0</td>\n",
              "      <td>0</td>\n",
              "      <td>...</td>\n",
              "      <td>0</td>\n",
              "      <td>0</td>\n",
              "      <td>0</td>\n",
              "      <td>0</td>\n",
              "      <td>0</td>\n",
              "      <td>0</td>\n",
              "      <td>0</td>\n",
              "      <td>0</td>\n",
              "      <td>0</td>\n",
              "      <td>0</td>\n",
              "    </tr>\n",
              "    <tr>\n",
              "      <th>1</th>\n",
              "      <td>0</td>\n",
              "      <td>0</td>\n",
              "      <td>0</td>\n",
              "      <td>0</td>\n",
              "      <td>0</td>\n",
              "      <td>0</td>\n",
              "      <td>0</td>\n",
              "      <td>0</td>\n",
              "      <td>0</td>\n",
              "      <td>0</td>\n",
              "      <td>...</td>\n",
              "      <td>0</td>\n",
              "      <td>0</td>\n",
              "      <td>0</td>\n",
              "      <td>0</td>\n",
              "      <td>0</td>\n",
              "      <td>0</td>\n",
              "      <td>0</td>\n",
              "      <td>0</td>\n",
              "      <td>0</td>\n",
              "      <td>0</td>\n",
              "    </tr>\n",
              "    <tr>\n",
              "      <th>2</th>\n",
              "      <td>0</td>\n",
              "      <td>1</td>\n",
              "      <td>0</td>\n",
              "      <td>0</td>\n",
              "      <td>0</td>\n",
              "      <td>0</td>\n",
              "      <td>0</td>\n",
              "      <td>0</td>\n",
              "      <td>0</td>\n",
              "      <td>0</td>\n",
              "      <td>...</td>\n",
              "      <td>0</td>\n",
              "      <td>0</td>\n",
              "      <td>0</td>\n",
              "      <td>0</td>\n",
              "      <td>0</td>\n",
              "      <td>0</td>\n",
              "      <td>0</td>\n",
              "      <td>0</td>\n",
              "      <td>0</td>\n",
              "      <td>0</td>\n",
              "    </tr>\n",
              "    <tr>\n",
              "      <th>3</th>\n",
              "      <td>0</td>\n",
              "      <td>0</td>\n",
              "      <td>0</td>\n",
              "      <td>0</td>\n",
              "      <td>0</td>\n",
              "      <td>0</td>\n",
              "      <td>0</td>\n",
              "      <td>0</td>\n",
              "      <td>0</td>\n",
              "      <td>0</td>\n",
              "      <td>...</td>\n",
              "      <td>0</td>\n",
              "      <td>0</td>\n",
              "      <td>0</td>\n",
              "      <td>0</td>\n",
              "      <td>0</td>\n",
              "      <td>0</td>\n",
              "      <td>0</td>\n",
              "      <td>0</td>\n",
              "      <td>0</td>\n",
              "      <td>0</td>\n",
              "    </tr>\n",
              "    <tr>\n",
              "      <th>4</th>\n",
              "      <td>0</td>\n",
              "      <td>1</td>\n",
              "      <td>0</td>\n",
              "      <td>0</td>\n",
              "      <td>0</td>\n",
              "      <td>0</td>\n",
              "      <td>0</td>\n",
              "      <td>0</td>\n",
              "      <td>0</td>\n",
              "      <td>0</td>\n",
              "      <td>...</td>\n",
              "      <td>0</td>\n",
              "      <td>0</td>\n",
              "      <td>0</td>\n",
              "      <td>0</td>\n",
              "      <td>0</td>\n",
              "      <td>0</td>\n",
              "      <td>0</td>\n",
              "      <td>0</td>\n",
              "      <td>0</td>\n",
              "      <td>0</td>\n",
              "    </tr>\n",
              "  </tbody>\n",
              "</table>\n",
              "<p>5 rows × 9366 columns</p>\n",
              "</div>"
            ],
            "text/plain": [
              "   00  000  00079  00805  00pm  02115  03  0356  04  062  ...  zeta  zetahub  zeus  zheng  zogsports  zoho  zone  zones  zoom  zywave\n",
              "0   0    0      0      0     0      0   0     0   0    0  ...     0        0     0      0          0     0     0      0     0       0\n",
              "1   0    0      0      0     0      0   0     0   0    0  ...     0        0     0      0          0     0     0      0     0       0\n",
              "2   0    1      0      0     0      0   0     0   0    0  ...     0        0     0      0          0     0     0      0     0       0\n",
              "3   0    0      0      0     0      0   0     0   0    0  ...     0        0     0      0          0     0     0      0     0       0\n",
              "4   0    1      0      0     0      0   0     0   0    0  ...     0        0     0      0          0     0     0      0     0       0\n",
              "\n",
              "[5 rows x 9366 columns]"
            ]
          },
          "metadata": {
            "tags": []
          },
          "execution_count": 72
        }
      ]
    },
    {
      "metadata": {
        "id": "c53lH0vqdh4P",
        "colab_type": "code",
        "colab": {}
      },
      "cell_type": "code",
      "source": [
        "results = pd.DataFrame(columns = [\"model\", \"acc_train\", \"acc_test\", \"vect_type\"])"
      ],
      "execution_count": 0,
      "outputs": []
    },
    {
      "metadata": {
        "id": "d2SGf6_RdxIE",
        "colab_type": "code",
        "colab": {}
      },
      "cell_type": "code",
      "source": [
        "# results func\n",
        "def format_results(model, y_train, train_predictions, y_test, test_predictions, vect):\n",
        "  results_dict = {}\n",
        "  results_dict[\"model\"] = model\n",
        "  results_dict[\"acc_train\"] = accuracy_score(y_train, train_predictions)\n",
        "  results_dict[\"acc_test\"] = accuracy_score(y_test, test_predictions)\n",
        "  results_dict[\"vect_type\"] = vect\n",
        "  return results_dict"
      ],
      "execution_count": 0,
      "outputs": []
    },
    {
      "metadata": {
        "id": "ukFewD2Ld8WU",
        "colab_type": "text"
      },
      "cell_type": "markdown",
      "source": [
        "## Logistic Regression"
      ]
    },
    {
      "metadata": {
        "id": "a7LahkvJeKs9",
        "colab_type": "code",
        "colab": {
          "base_uri": "https://localhost:8080/",
          "height": 125
        },
        "outputId": "62363f1a-f160-40fd-ec0c-ecba5197f14b"
      },
      "cell_type": "code",
      "source": [
        "from sklearn.linear_model import LogisticRegression\n",
        "from sklearn.metrics import accuracy_score\n",
        "\n",
        "lr = LogisticRegression(random_state=42).fit(X_train_vectorized, y_train)\n",
        "\n",
        "train_predictions = lr.predict(X_train_vectorized)\n",
        "test_predictions = lr.predict(X_test_vectorized)\n",
        "\n",
        "print(f'Train Accuracy: {accuracy_score(y_train, train_predictions)}')\n",
        "print(f'Test Accuracy: {accuracy_score(y_test, test_predictions)}')"
      ],
      "execution_count": 75,
      "outputs": [
        {
          "output_type": "stream",
          "text": [
            "Train Accuracy: 0.9974937343358395\n",
            "Test Accuracy: 0.93\n"
          ],
          "name": "stdout"
        },
        {
          "output_type": "stream",
          "text": [
            "/usr/local/lib/python3.6/dist-packages/sklearn/linear_model/logistic.py:433: FutureWarning: Default solver will be changed to 'lbfgs' in 0.22. Specify a solver to silence this warning.\n",
            "  FutureWarning)\n"
          ],
          "name": "stderr"
        }
      ]
    },
    {
      "metadata": {
        "id": "qItZKNp3d7oh",
        "colab_type": "code",
        "colab": {}
      },
      "cell_type": "code",
      "source": [
        "results = results.append(format_results(\"Logistic Regression\", y_train, train_predictions, y_test, test_predictions, \"Count\"), ignore_index=True)"
      ],
      "execution_count": 0,
      "outputs": []
    },
    {
      "metadata": {
        "id": "St6WNwvsenyT",
        "colab_type": "text"
      },
      "cell_type": "markdown",
      "source": [
        "## Multinomial Naive Bayes"
      ]
    },
    {
      "metadata": {
        "id": "-uYfkxvdenDe",
        "colab_type": "code",
        "colab": {
          "base_uri": "https://localhost:8080/",
          "height": 51
        },
        "outputId": "83988227-4ad3-48ce-d76a-e075ce83584f"
      },
      "cell_type": "code",
      "source": [
        "from sklearn.naive_bayes import MultinomialNB\n",
        "\n",
        "mnb = MultinomialNB().fit(X_train_vectorized, y_train)\n",
        "\n",
        "train_predictions = mnb.predict(X_train_vectorized)\n",
        "test_predictions = mnb.predict(X_test_vectorized)\n",
        "\n",
        "print(f'Train Accuracy: {accuracy_score(y_train, train_predictions)}')\n",
        "print(f'Test Accuracy: {accuracy_score(y_test, test_predictions)}')"
      ],
      "execution_count": 77,
      "outputs": [
        {
          "output_type": "stream",
          "text": [
            "Train Accuracy: 0.9699248120300752\n",
            "Test Accuracy: 0.88\n"
          ],
          "name": "stdout"
        }
      ]
    },
    {
      "metadata": {
        "id": "dZw8SD44em16",
        "colab_type": "code",
        "colab": {}
      },
      "cell_type": "code",
      "source": [
        "results = results.append(format_results(\"Multinomial Naive Bayes\", y_train, train_predictions, y_test, test_predictions, \"Count\"), ignore_index=True)"
      ],
      "execution_count": 0,
      "outputs": []
    },
    {
      "metadata": {
        "id": "jya9YhMPepU1",
        "colab_type": "text"
      },
      "cell_type": "markdown",
      "source": [
        "## Random Forest Classifier"
      ]
    },
    {
      "metadata": {
        "id": "W5so8ONsemkl",
        "colab_type": "code",
        "colab": {
          "base_uri": "https://localhost:8080/",
          "height": 125
        },
        "outputId": "ae3184ec-cb17-4d11-c9ee-28715411c432"
      },
      "cell_type": "code",
      "source": [
        "from sklearn.ensemble import RandomForestClassifier\n",
        "\n",
        "rfc = RandomForestClassifier().fit(X_train_vectorized, y_train)\n",
        "\n",
        "train_predictions = rfc.predict(X_train_vectorized)\n",
        "test_predictions = rfc.predict(X_test_vectorized)\n",
        "\n",
        "print(f'Train Accuracy: {accuracy_score(y_train, train_predictions)}')\n",
        "print(f'Test Accuracy: {accuracy_score(y_test, test_predictions)}')"
      ],
      "execution_count": 79,
      "outputs": [
        {
          "output_type": "stream",
          "text": [
            "Train Accuracy: 0.9874686716791979\n",
            "Test Accuracy: 0.82\n"
          ],
          "name": "stdout"
        },
        {
          "output_type": "stream",
          "text": [
            "/usr/local/lib/python3.6/dist-packages/sklearn/ensemble/forest.py:246: FutureWarning: The default value of n_estimators will change from 10 in version 0.20 to 100 in 0.22.\n",
            "  \"10 in version 0.20 to 100 in 0.22.\", FutureWarning)\n"
          ],
          "name": "stderr"
        }
      ]
    },
    {
      "metadata": {
        "id": "wEoWwLgvemMb",
        "colab_type": "code",
        "colab": {}
      },
      "cell_type": "code",
      "source": [
        "results = results.append(format_results(\"Random Forest Classifier\", y_train, train_predictions, y_test, test_predictions, \"Count\"), ignore_index=True)"
      ],
      "execution_count": 0,
      "outputs": []
    },
    {
      "metadata": {
        "id": "GE2x4bwefVIX",
        "colab_type": "code",
        "colab": {
          "base_uri": "https://localhost:8080/",
          "height": 142
        },
        "outputId": "412d1cf1-0ac3-4f8b-e8e2-7392b32406f0"
      },
      "cell_type": "code",
      "source": [
        "results"
      ],
      "execution_count": 51,
      "outputs": [
        {
          "output_type": "execute_result",
          "data": {
            "text/html": [
              "<div>\n",
              "<style scoped>\n",
              "    .dataframe tbody tr th:only-of-type {\n",
              "        vertical-align: middle;\n",
              "    }\n",
              "\n",
              "    .dataframe tbody tr th {\n",
              "        vertical-align: top;\n",
              "    }\n",
              "\n",
              "    .dataframe thead th {\n",
              "        text-align: right;\n",
              "    }\n",
              "</style>\n",
              "<table border=\"1\" class=\"dataframe\">\n",
              "  <thead>\n",
              "    <tr style=\"text-align: right;\">\n",
              "      <th></th>\n",
              "      <th>model</th>\n",
              "      <th>acc_train</th>\n",
              "      <th>acc_test</th>\n",
              "      <th>vect_type</th>\n",
              "    </tr>\n",
              "  </thead>\n",
              "  <tbody>\n",
              "    <tr>\n",
              "      <th>0</th>\n",
              "      <td>Logistic Regression</td>\n",
              "      <td>0.997494</td>\n",
              "      <td>0.93</td>\n",
              "      <td>Count</td>\n",
              "    </tr>\n",
              "    <tr>\n",
              "      <th>1</th>\n",
              "      <td>Multinomial Naive Bayes</td>\n",
              "      <td>0.969925</td>\n",
              "      <td>0.88</td>\n",
              "      <td>Count</td>\n",
              "    </tr>\n",
              "    <tr>\n",
              "      <th>2</th>\n",
              "      <td>Random Forest Classifier</td>\n",
              "      <td>0.994987</td>\n",
              "      <td>0.89</td>\n",
              "      <td>Count</td>\n",
              "    </tr>\n",
              "  </tbody>\n",
              "</table>\n",
              "</div>"
            ],
            "text/plain": [
              "                      model  acc_train  acc_test vect_type\n",
              "0       Logistic Regression   0.997494      0.93     Count\n",
              "1   Multinomial Naive Bayes   0.969925      0.88     Count\n",
              "2  Random Forest Classifier   0.994987      0.89     Count"
            ]
          },
          "metadata": {
            "tags": []
          },
          "execution_count": 51
        }
      ]
    },
    {
      "metadata": {
        "id": "4Z5Y0sr_ffiS",
        "colab_type": "text"
      },
      "cell_type": "markdown",
      "source": [
        "## TF-IDF Vectorization Method"
      ]
    },
    {
      "metadata": {
        "id": "kdnCDFqefhM5",
        "colab_type": "code",
        "colab": {
          "base_uri": "https://localhost:8080/",
          "height": 74
        },
        "outputId": "415c14bf-0afa-4664-a998-ba1349098a54"
      },
      "cell_type": "code",
      "source": [
        "from sklearn.feature_extraction.text import TfidfVectorizer\n",
        "\n",
        "vectorizer = TfidfVectorizer(max_features=None, ngram_range=(1,1), stop_words='english')\n",
        "\n",
        "vectorizer.fit(X_train)\n",
        "\n",
        "print(vectorizer.vocabulary_)"
      ],
      "execution_count": 81,
      "outputs": [
        {
          "output_type": "stream",
          "text": [
            "{'div': 2464, 'hrs': 3797, 'looking': 4592, 'add': 385, 'data': 2099, 'scientist': 7626, 'rapidly': 7091, 'growing': 3572, 'engineering': 2777, 'team': 8420, 'things': 8506, 'individual': 3977, 'responsible': 7395, 'using': 8878, 'answers': 637, 'questions': 7049, 'healthcare': 3674, 'professionals': 6853, 'managing': 4677, 'patient': 6435, 'care': 1274, 'including': 3936, 'areas': 709, 'risk': 7471, 'analysis': 593, 'statistical': 8122, 'anonymization': 631, 'predictive': 6735, 'analytics': 599, 'role': 7491, 'involve': 4217, 'working': 9184, 'primarily': 6789, 'python': 7004, 'jupiter': 4316, 'labs': 4381, 'framework': 3302, 'small': 7896, 'member': 4810, 'able': 273, 'learn': 4440, 'quickly': 7055, 'self': 7710, 'sufficient': 8264, 'flexible': 3207, 'motivated': 4998, 'work': 9174, 'different': 2333, 'technologies': 8438, 'applications': 666, 'needed': 5405, 'exciting': 2940, 'opportunity': 6259, 'huge': 3809, 'impact': 3889, 'early': 2581, 'stages': 8075, 'department': 2222, 'development': 2293, 'making': 4664, 'meaningful': 4781, 'difference': 2331, 'lives': 4553, 'clinicians': 1518, 'patients': 6436, 'br': 1103, 'minimum': 4899, 'qualifications': 7019, 'ul': 8743, 'li': 4485, 'expert': 2992, 'background': 916, 'bioinformatics': 1028, 'experience': 2981, 'keras': 4337, 'scikitlearn': 7630, 'tensorflow': 8464, 'notebooks': 5777, 'ongoing': 6222, 'keeping': 4332, 'date': 2120, 'latest': 4406, 'additional': 390, 'familiarity': 3085, 'pandas': 6377, 'restful': 7403, 'apis': 652, 'proficiency': 6857, 'linux': 4535, 'mac': 4636, 'command': 1604, 'line': 4524, 'understanding': 8775, 'scrum': 7658, 'agile': 494, 'software': 7936, 'methodologies': 4850, 'benefits': 997, 'amp': 586, 'perks': 6502, 'competitive': 1666, 'salary': 7557, 'commensurate': 1607, 'hours': 3782, 'environment': 2823, 'paid': 6369, 'vacation': 8901, 'medical': 4797, 'dental': 2220, 'vision': 9010, 'disability': 2378, 'life': 4502, 'insurance': 4100, 'packages': 6363, 'fit': 3190, 'needs': 5408, 'spending': 8016, 'account': 323, 'commuter': 1640, '401': 167, 'savings': 7590, 'plan': 6607, 'unlimited': 8820, 'snacks': 7915, 'coffee': 1547, 'drinks': 2542, 'employee': 2725, 'events': 2906, 'catered': 1320, 'lunches': 4630, 'kegerator': 4334, 'zogsports': 9360, 'smartest': 7901, 'driven': 2544, 'people': 6478, 'industry': 3986, 'fun': 3350, 'doing': 2497, 'join': 4282, 'journey': 4295, 'iqvia': 4230, 'xe2': 9330, 'x84': 9224, 'xa2': 9304, 'human': 3810, 'science': 7622, 'company': 1646, 'focused': 3235, 'help': 3690, 'clients': 1512, 'better': 1003, 'solutions': 7948, 'formed': 3274, 'merger': 4833, 'ims': 3919, 'health': 3673, 'quintiles': 7056, 'offers': 6194, 'broad': 1141, 'range': 7082, 'harness': 3641, 'advances': 433, 'information': 4014, 'technology': 8441, 'ingenuity': 4027, 'drive': 2543, 'forward': 3285, 'ndata': 5327, 'analyst': 594, 'ndepartment': 5345, 'management': 4672, 'nreports': 5913, 'manager': 4674, 'operations': 6250, 'nthis': 6030, 'staff': 8071, 'position': 6670, 'group': 3569, 'providing': 6948, 'support': 8307, 'customer': 2070, 'edi': 2624, 'flat': 3200, 'file': 3150, 'processing': 6832, 'functions': 3357, 'involves': 4220, 'monitoring': 4978, 'systems': 8365, 'transaction': 8624, 'flow': 3219, 'error': 2853, 'resolution': 7371, 'maintaining': 4655, 'library': 4490, 'standards': 8090, 'procedure': 6824, 'manuals': 4690, 'nessential': 5445, 'duties': 2568, 'responsibilities': 7393, 'monitor': 4976, 'workflow': 9181, 'responds': 7390, 'inquiries': 4059, 'regarding': 7214, 'status': 8127, 'manages': 4676, 'transmission': 8654, 'processes': 6831, 'collaborate': 1558, 'implementation': 3896, 'teams': 8424, 'issues': 4242, 'relating': 7253, 'trading': 8608, 'partners': 6413, 'resolve': 7373, 'technical': 8429, 'associated': 779, 'sets': 7758, 'layouts': 4428, 'process': 6829, 'requests': 7340, 'customizations': 2073, 'mapping': 4698, 'maintains': 4656, 'documentation': 2488, 'facets': 3055, 'nqualifications': 5882, 'education': 2638, 'ngood': 5551, 'interpersonal': 4158, 'skills': 7877, 'nability': 5080, 'limited': 4520, 'supervision': 8295, 'nstrong': 5999, 'organizational': 6293, 'ability': 272, 'schedule': 7612, 'activities': 363, 'nknowledgeable': 5648, 'proficient': 6858, 'writing': 9207, 'executing': 2948, 'sql': 8049, 'queries': 7043, 'preferably': 6739, 'oracle': 6274, 'nsolid': 5977, 'database': 2100, 'architecture': 702, 'execute': 2944, 'tactically': 8377, 'strategic': 8173, 'implications': 3901, 'nproven': 5875, 'efficiently': 2660, 'manage': 4669, 'implement': 3895, 'quick': 7053, 'turnaround': 8717, 'tactical': 8376, 'nthe': 6027, 'assume': 783, 'responsibility': 7394, 'direct': 2363, 'exercise': 2956, 'initiative': 4038, 'judgment': 4304, 'adapt': 377, 'changes': 1388, 'face': 3050, 'paced': 6360, 'desire': 2269, 'diverse': 2466, 'administrators': 417, 'developers': 2291, 'client': 1511, 'nbs': 5218, 'computer': 1710, 'mis': 4908, 'related': 7250, 'preferred': 6742, 'nexperience': 5490, 'transactions': 8626, 'know': 4360, 'results': 7413, 'require': 7341, 'right': 7464, 'approach': 678, 'regardless': 7215, 'invite': 4213, 'reimagine': 7238, 'play': 6619, 'important': 3905, 'helping': 3693, 'ultimately': 8746, 'improve': 3913, 'outcomes': 6315, 'career': 1275, 'goals': 3492, 'ensure': 2800, 'nqvia': 5888, 'eeo': 2644, 'employer': 2727, 'minorities': 4904, 'females': 3137, 'protected': 6929, 'veterans': 8971, 'disabled': 2380, 'niqvia': 5632, 'provides': 6947, 'reasonable': 7133, 'accommodations': 314, 'applicants': 664, 'disabilities': 2377, 'accommodation': 313, 'submit': 8234, 'application': 665, 'employment': 2730, 'participate': 6402, 'contact': 1828, 'x80': 9214, 'x99s': 9258, 'talent': 8387, 'acquisition': 350, 'workday_recruiting': 9177, 'com': 1585, 'arrange': 719, 'njob': 5638, 'id': 3839, 'r1071407': 7064, 'modeling': 4947, 'complex': 1680, 'problems': 6823, 'discovering': 2407, 'insights': 4070, 'identifying': 3853, 'opportunities': 6258, 'use': 8870, 'machine': 4638, 'learning': 4444, 'algorithmic': 532, 'mining': 4900, 'visualization': 9019, 'techniques': 8435, 'assigned': 766, 'tasks': 8408, 'managed': 4671, 'senior': 7725, 'quality': 7026, 'good': 3500, 'job': 4273, 'xa6': 9311, 'enjoy': 2788, 'organization': 6292, 'changing': 1389, 'high': 3709, 'aptitude': 694, 'statistics': 8125, 'strong': 8205, 'analytical': 597, 'problem': 6821, 'solving': 7954, 'cordell': 1911, 'practice': 6718, 'party': 6417, 'business': 1190, 'supporting': 8309, 'law': 4415, 'firm': 3184, 'dedicated': 2163, 'centered': 1352, 'services': 7753, 'provide': 6943, 'backed': 914, 'succeed': 8257, 'order': 6282, 'service': 7751, 'hire': 3720, 'reward': 7448, 'employees': 2726, 'pride': 6788, 'creating': 1989, 'world': 9193, 'class': 1482, 'workers': 9180, 'liberates': 4488, 'firms': 3186, 'best': 1000, 'varying': 8933, 'degrees': 2187, 'size': 7870, 'complexity': 1682, 'structured': 8211, 'unstructured': 8837, 'transform': 8635, 'actionable': 357, 'recommendations': 7154, 'present': 6763, 'clear': 1499, 'concise': 1730, 'includes': 3935, 'cleansing': 1497, 'verifying': 8958, 'integrity': 4114, 'used': 8872, 'solve': 7950, 'decisions': 2155, 'draw': 2528, 'inferences': 3995, 'conclusions': 1733, 'create': 1986, 'dashboards': 2098, 'visualizations': 9020, 'processed': 6830, 'identify': 3852, 'trends': 8680, 'anomalies': 629, 'partner': 6410, 'sciences': 7624, 'accordance': 320, 'priority': 6808, 'closely': 1523, 'stakeholders': 8078, 'internal': 4149, 'external': 3029, 'formulate': 3278, 'quantitative': 7035, 'measurable': 4786, 'objectives': 6149, 'professional': 6850, 'courteous': 1965, 'attitude': 822, 'peers': 6470, 'colleagues': 1567, 'customers': 2071, 'projects': 6884, 'bachelor': 910, 'degree': 2186, 'discipline': 2389, 'mathematics': 4746, 'operational': 6245, 'research': 7351, 'master': 4729, 'plus': 6637, 'years': 9342, 'methods': 4852, 'supervised': 8294, 'hypothesis': 3829, 'testing': 8483, 'breaking': 1122, 'large': 4396, 'smaller': 7897, 'solvable': 7949, 'components': 1692, 'extraction': 3035, 'transformation': 8636, 'exploration': 3007, 'languages': 4392, 'programming': 6872, 'perl': 6503, 'javascript': 4256, 'scala': 7598, 'bi': 1007, 'tools': 8576, 'like': 4514, 'powerbi': 6701, 'tableau': 8367, 'prior': 6800, 'etl': 2884, 'dba': 2131, 'initiate': 4036, 'completion': 1679, 'excellent': 2930, 'written': 9208, 'verbal': 8951, 'communication': 1632, 'communicate': 1627, 'ways': 9092, 'collaboration': 1561, 'non': 5741, 'groups': 3570, 'levels': 4474, 'highly': 3716, 'organized': 6297, 'prioritize': 6804, 'multiple': 5036, 'simultaneously': 7854, 'goes': 3495, 'simple': 7845, 'southern': 7975, 'new': 5464, 'jersey': 4264, 'perinatal': 6493, 'cooperative': 1898, 'current': 2061, '27': 129, '2019': 107, 'reporting': 7318, 'bu1968': 1162, '116': 32, 'administration': 414, 'division': 2471, 'available': 876, 'pennsauken': 6474, 'nj': 5637, 'time': 8537, 'director': 2370, 'admin': 410, 'coordinating': 1903, 'performing': 6490, 'collection': 1571, 'reports': 7319, 'distribution': 2459, 'formats': 3271, 'need': 5404, 'users': 8875, 'organizationally': 6294, 'developed': 2289, 'supported': 8308, 'college': 1576, 'field': 3141, 'advanced': 430, 'knowledge': 4362, 'microsoft': 4866, 'access': 306, 'spss': 8048, 'intelligence': 4119, 'power': 6700, 'relational': 7255, 'databases': 2101, 'salesforce': 7559, 'minimal': 4897, 'handle': 3620, 'deadlines': 2138, 'details': 2276, 'public': 6958, 'matters': 4754, 'confidential': 1752, 'nature': 5174, 'valid': 8907, 'driver': 2545, 'license': 4492, 'car': 1269, 'policy': 6649, 'querying': 7045, 'analyzing': 605, 'validating': 8910, 'report': 7316, 'preparation': 6751, 'travels': 8665, 'site': 7863, 'locations': 4572, 'training': 8616, 'troubleshooting': 8697, 'indicated': 3971, 'project': 6880, 'coordinates': 1902, 'monthly': 4985, 'quarterly': 7040, 'annual': 627, 'programs': 6873, 'supports': 8311, 'program': 6867, 'participates': 6403, 'updates': 8846, 'performs': 6491, 'successful': 8261, 'candidates': 1250, 'snjpc': 7921, 'undergo': 8765, 'criminal': 2007, 'check': 1415, 'review': 7440, 'nonprofit': 5749, 'maternal': 4740, 'child': 1431, 'agency': 483, 'pediatric': 6468, 'comp': 1643, 'pkg': 6599, 'make': 4661, 'practical': 6716, 'effort': 2662, 'accommodate': 312, 'individuals': 3980, 'crucial': 2025, 'eoe': 2831, 'spotify': 8040, 'premium': 6748, 'swells': 8346, '96m': 260, 'subscribers': 8243, 'globe': 3486, 'continue': 1848, 'grow': 3571, 'subscription': 8244, 'joining': 4284, 'core': 1912, 'strategy': 8179, 'associate': 778, 'unique': 8798, 'essential': 2867, 'shaping': 7775, 'product': 6842, 'offerings': 6193, 'innovative': 4051, 'marketing': 4713, 'efforts': 2663, 'hand': 3618, 'translates': 8648, 'strategies': 8176, 'products': 6847, 'consumer': 1824, 'experiences': 2983, 'enter': 2803, 'phase': 6556, 'nyou': 6136, 'global': 3484, 'analysts': 595, 'scientists': 7627, 'managers': 4675, 'marketers': 4712, 'engineers': 2778, 'passionate': 6424, 'pace': 6359, 'improving': 3918, 'daily': 2088, 'routine': 7512, 'free': 3313, 'develop': 2288, 'fingertips': 3176, 'x99ll': 9256, 'petabytes': 6543, 'creative': 1992, 'way': 9091, 'music': 5046, 'growth': 3575, 'conversion': 1881, 'migration': 4876, 'metrics': 4855, 'ab': 266, 'test': 8480, 'setup': 7761, 'understand': 8773, 'change': 1386, 'driving': 2549, 'discover': 2404, 'open': 6233, 'minded': 4889, 'person': 6518, 'analyses': 591, 'year': 9340, 'comfortable': 1600, 'insight': 4068, 'gaps': 3398, 'designing': 2265, 'running': 7535, 'initiatives': 4039, 'worked': 9178, 'hands': 3623, 'synthesizing': 8362, 'sas': 7578, 'minitab': 4901, 'hadoop': 3612, 'communicative': 1634, 'values': 8917, 'building': 1174, 'relationships': 7258, 'experienced': 2982, 'presenting': 6767, 'jobsearch': 4276, 'jobmetadataheader': 4274, 'icl': 3835, 'xs': 9336, 'mb': 4764, 'md': 4774, 'item': 4244, 'span': 7982, 'mr': 5016, '16': 53, '50': 179, '18': 59, '00': 0, 'hour': 3780, 'link': 4530, 'hydromax': 3825, 'usa': 8863, 'crews': 2002, 'collected': 1569, 'conjunction': 1767, 'geographic': 3448, 'variety': 8930, 'resources': 7378, 'number': 6060, 'qualitative': 7024, 'assessment': 761, 'control': 1869, 'direction': 2366, 'additionally': 391, 'oversee': 6343, 'input': 4055, 'prepare': 6752, 'inspection': 4071, 'billing': 1021, 'accurately': 337, 'assign': 765, 'rates': 7098, 'day': 2125, 'presents': 6769, 'set': 7757, 'challenges': 1379, 'requiring': 7346, 'level': 4472, 'thinking': 8510, 'overcoming': 6339, 'leads': 4436, 'mentally': 4818, 'engaging': 2773, 'rewarding': 7450, 'h5': 3608, 'jobsectionheader': 4277, 'required': 7342, 'decision': 2153, 'attention': 821, 'desired': 2270, 'physics': 6571, 'chemistry': 1419, 'biology': 1030, 'gis': 3470, 'esri': 2864, 'arcmap': 707, 'short': 7807, 'term': 8468, '401k': 168, 'matching': 4736, 'pto': 6957, 'holidays': 3750, 'profit': 6862, 'sharing': 7782, 'nestablished': 5446, '2003': 92, 'husa': 3821, 'specializing': 8002, 'locating': 4570, 'assessing': 760, 'condition': 1737, 'country': 1954, 'aging': 497, 'water': 9083, 'wastewater': 9080, 'natural': 5172, 'gas': 3403, 'conveyance': 1886, 'vast': 8935, 'empowers': 2736, 'contractors': 1859, 'utility': 8885, 'owners': 6352, 'rehabilitation': 7237, 'buried': 1186, 'infrastructure': 4022, 'based': 946, 'record': 7165, 'performance': 6487, 'recognized': 7149, 'brings': 1140, 'meet': 4803, 'coast': 1540, 'covering': 1970, 'entire': 2814, 'united': 8803, 'states': 8115, 'exception': 2931, 'utilizes': 8889, 'largest': 4399, 'array': 722, 'broadest': 1144, 'capability': 1256, 'assess': 758, 'equal': 2839, 'does': 2495, 'discriminate': 2414, 'qualified': 7021, 'basis': 952, 'race': 7065, 'color': 1578, 'creed': 2001, 'ancestry': 606, 'religion': 7278, 'orientation': 6301, 'age': 481, 'sex': 7764, 'marital': 4708, 'national': 5163, 'origin': 6303, 'genetic': 3438, 'handicap': 3619, 'veteran': 8970, 'h3': 3606, 'x9cpeople': 9285, 'personify': 6528, 'exceed': 2926, 'expectations': 2975, 'thrive': 8523, 'diversity': 2468, 'anxious': 645, 'welcome': 9113, 'abounds': 276, 'aimbridge': 511, 'x9d': 9302, 'summary': 8284, 'nmines': 5698, 'analyzes': 604, 'specifically': 8005, 'regard': 7213, 'enhancing': 2787, 'revenue': 7437, 'neducation': 5402, 'typically': 8729, 'requires': 7345, '10': 13, 'informatics': 4013, 'serves': 7750, 'leader': 4432, 'authority': 854, 'pertaining': 6536, 'hospitality': 3772, 'makes': 4663, 'authoritative': 853, 'plans': 6613, 'organizes': 6299, 'guides': 3595, 'subordinate': 8239, 'interpret': 4159, 'assist': 772, 'mgnt': 4860, 'beneficial': 995, 'build': 1171, 'models': 4950, 'various': 8931, 'sources': 7971, 'linear': 4525, 'projection': 6882, 'oral': 6276, 'situation': 7868, 'seek': 7689, 'expertise': 2993, 'mathematical': 4745, 'develops': 2296, 'applies': 668, 'algorithms': 533, 'key': 4340, 'goal': 3491, 'answering': 636, 'findings': 3169, 'description': 2253, 'intended': 4122, 'inclusive': 3938, 'specified': 8008, 'supervisor': 8296, 'perform': 6486, 'signed': 7834, 'nmedical': 5690, 'coverage': 1968, 'n401k': 5070, 'retirement': 7422, 'nshort': 5963, 'long': 4586, 'income': 3939, 'nterm': 6024, 'ad': 375, 'nvacation': 6094, 'holiday': 3749, 'sick': 7822, 'nemployee': 5421, 'assistance': 773, 'specific': 8004, 'positions': 6672, 'conducts': 1745, 'computational': 1707, 'cost': 1942, 'overall': 6338, 'provided': 6944, 'methodology': 4851, 'computation': 1706, 'regular': 7230, 'frequent': 3318, 'independent': 3962, 'sensitive': 7728, 'situations': 7869, 'guidance': 3590, 'deliver': 2194, 'establish': 2869, 'scalable': 7600, 'efficient': 2659, 'automated': 863, 'scale': 7602, 'model': 4944, 'validation': 8911, 'proactively': 6816, 'analyze': 602, 'diagnose': 2313, 'continuously': 1854, 'indicators': 3973, 'definition': 2183, 'translate': 8646, 'write': 9204, 'publications': 6960, 'manipulate': 4683, 'combine': 1591, 'refine': 7204, 'produce': 6837, 'suitable': 8273, 'code': 1541, 'graphics': 3542, 'display': 2435, 'scorecards': 7640, 'leaders': 4433, 'svp': 8341, 'evp': 2917, 'define': 2178, 'leadership': 4434, 'concurrently': 1736, 'interruptions': 4166, 'priorities': 6802, 'influence': 4000, 'action': 356, 'creates': 1988, 'timelines': 8539, 'little': 4548, 'ensures': 2801, 'budget': 1165, 'chs': 1448, 'ethics': 2881, 'audiences': 837, 'conduct': 1741, 'effective': 2651, 'meetings': 4805, 'physical': 6568, 'requirements': 7344, 'nworks': 6124, 'office': 6195, 'sitting': 7867, 'desk': 2271, 'talking': 8393, 'telephone': 8451, 'occasion': 6166, 'standing': 8091, 'walking': 9059, 'traveling': 8663, 'personal': 6520, 'facilities': 3060, 'occasionally': 6168, 'carrying': 1295, '20': 88, 'pounds': 6699, 'materials': 4739, 'files': 3152, 'projectors': 6883, 'laptops': 4395, 'certifications': 1368, 'nrequires': 5919, 'phd': 6558, 'epidemiology': 2835, 'economics': 2613, 'applied': 667, 'equivalent': 2848, 'combination': 1587, 'necessary': 5400, 'certification': 1367, 'enterprise': 2806, 'miner': 4894, 'claims': 1474, 'pharmaceutical': 6553, 'ehr': 2667, 'solid': 7944, 'english': 2781, 'language': 4391, 'demonstrated': 2214, 'concepts': 1719, 'presentation': 6764, 'speaking': 7992, 'nat': 5161, 'atrium': 808, 'carolinas': 1287, 'communities': 1637, 'teammates': 8423, 'center': 1351, 'commitment': 1615, 'inclusion': 3937, 'allows': 550, 'superior': 8292, 'compassion': 1653, 'network': 5451, '900': 248, 'nas': 5148, 'leading': 4435, 'promote': 6890, 'differences': 2332, 'valued': 8916, 'integrated': 4108, 'workforce': 9183, 'culture': 2049, 'cultural': 2047, 'competence': 1659, 'achieve': 339, 'possible': 6680, 'serve': 7745, 'nposting': 5837, 'notes': 5778, 'applicable': 662, 'ncarolinas': 5239, 'aa': 265, 'tree': 8674, 'llc': 4556, 'nation': 5162, 'provider': 6945, 'property': 6909, 'online': 6223, 'recorded': 7166, 'land': 4388, 'records': 7168, 'offer': 6190, 'billions': 1023, 'imaged': 3867, 'documents': 2491, 'comprehensive': 1699, 'post': 6682, 'closing': 1525, 'servicing': 7754, 'document': 2487, 'retrieval': 7426, 'delivery': 2200, 'lien': 4499, 'release': 7262, 'assignment': 768, 'american': 577, 'financial': 3163, 'corporation': 1922, 'family': 3088, 'companies': 1645, 'named': 5114, 'fortune': 3283, '100': 14, 'xc2': 9328, 'xae': 9321, '2016': 104, '2017': 105, 'visit': 9012, 'www': 9211, 'datatree': 2118, 'h1': 3603, 'nfirst': 5513, 'concentrated': 1714, 'delivering': 2198, 'real': 7123, 'estate': 2873, 'legal': 4457, 'markets': 4717, 'energized': 2762, 'rapid': 7090, 'great': 3549, 'entrepreneurial': 2819, 'determine': 2282, 'enhance': 2782, 'assets': 764, 'examining': 2922, 'reported': 7317, 'conducting': 1743, 'detailed': 2275, 'recommend': 7152, 'engagement': 2770, 'heart': 3682, 'ideal': 3841, 'candidate': 1249, 'proven': 6942, 'touch': 8587, 'engagements': 2771, 'passion': 6423, 'achieving': 343, 'superiority': 8293, 'nspecific': 5982, 'nserve': 5954, 'relationship': 7257, 'subscribe': 8241, 'nemploy': 5420, 'root': 7502, 'cause': 1325, 'errors': 2854, 'repairs': 7309, 'nwork': 6122, 'sales': 7558, 'fulfillment': 3347, 'nrepresent': 5914, 'nconduct': 5294, 'boarding': 1067, 'establishing': 2871, 'rules': 7533, 'x9cmaintenance': 9280, 'bs': 1158, 'relevant': 7270, 'cis': 1458, 'x99': 9254, 'ndemonstrated': 5341, 'reviews': 7443, 'bulk': 1179, 'content': 1837, 'deliverable': 2195, 'nexcellent': 5479, 'interfacing': 4143, 'behalf': 975, 'invests': 4211, 'encourages': 2751, 'live': 4549, 'committed': 1617, 'dedication': 2164, 'putting': 6998, 'firstam': 3187, 'careers': 1277, 'h2': 3604, 'wework': 9129, 'sits': 7866, 'effectiveness': 2654, 'digital': 2347, 'features': 3118, 'believe': 982, 'nwe': 6107, 'seeking': 7692, 'wide': 9141, 'breadth': 1117, 'space': 7978, 'utilization': 8886, 'sensor': 7730, 'sentiment': 7734, 'optimizing': 6268, 'construction': 1812, 'developing': 2292, 'recommendation': 7153, 'engines': 2779, 'thinks': 8511, 'generating': 3433, 'hypotheses': 3828, 'nresponsibilities': 5929, 'inform': 4011, 'roadmaps': 7483, 'inferential': 3996, 'deepen': 2167, 'patterns': 6440, 'user': 8874, 'behavior': 976, 'design': 2259, 'experiments': 2991, 'uncover': 8761, 'explore': 3009, 'compelling': 1655, 'stories': 8164, 'awareness': 892, 'experiment': 2985, 'unsupervised': 8838, 'looker': 4591, 'nice': 5588, 'social': 7925, 'experimentation': 2988, 'platform': 6615, 'creators': 1995, 'hundreds': 3816, 'thousands': 8518, 'members': 4811, 'community': 1638, 'enable': 2739, 'love': 4608, 'craft': 1978, 'mission': 4913, 'just': 4319, 'living': 4554, 'central': 1356, 'uses': 8876, 'point': 6643, 'sourcing': 7972, 'designs': 2267, 'faster': 3103, 'smarter': 7900, 'buildings': 1175, 'state': 8111, 'art': 726, 'technological': 8436, 'innovation': 4049, 'reasons': 7136, 'operating': 6243, 'workspace': 9191, 'location': 4571, '210': 116, 'value': 8915, 'gender': 3423, 'sexual': 7766, 'mt': 5025, 'internship': 4155, 'nreporting': 5912, 'intern': 4148, 'summer': 8285, 'ninterviews': 5629, 'october': 6178, '2018': 106, 'march': 4706, 'ninternship': 5625, 'approximately': 688, '11': 28, 'weeks': 9109, 'mid': 4868, 'june': 4312, 'august': 846, 'september': 7739, 'denver': 2221, '17th': 58, 'nbased': 5195, 'interests': 4140, 'interview': 4173, 'interns': 4154, 'considered': 1790, 'potential': 6696, 'nwho': 6115, 'arrow': 725, 'electronics': 2680, 'narrow': 5147, 'industrial': 3982, 'commercial': 1610, 'electronic': 2678, 'computing': 1711, 'supply': 8305, 'channel': 1390, '150': 48, '000': 1, 'original': 6304, 'equipment': 2841, 'manufacturers': 4692, 'added': 386, 'resellers': 7356, 'contract': 1856, '300': 140, '45': 173, 'centers': 1355, 'serving': 7755, '80': 226, 'countries': 1953, 'na': 5079, '113': 30, '800': 227, 'worldwide': 9198, 'telecommunications': 8447, 'transportation': 8658, 'specialized': 8000, 'lifecycle': 4503, 'connecting': 1770, 'place': 6601, 'price': 6785, 'extraordinary': 3039, 'suppliers': 8303, 'connects': 1775, 'nwhy': 6116, 'nhands': 5558, 'applying': 670, 'nchance': 5250, '125': 36, 'nsmall': 5974, 'forums': 3284, 'executives': 2952, 'past': 6428, 'nstretch': 5998, 'vp': 9045, 'directors': 2372, 'nfunctional': 5539, 'area': 708, 'businesses': 1191, 'focusing': 3237, 'drivers': 2546, 'focus': 3234, 'deployment': 2238, 'analytic': 596, 'dynamic': 2572, 'profile': 6859, 'nrequirements': 5918, 'ncurrently': 5321, 'enrolled': 2795, 'pursuing': 6991, 'graduation': 3531, 'earlier': 2579, 'december': 2150, 'navailable': 5180, '40': 166, 'week': 9104, 'n3': 5066, 'gpa': 3517, 'higher': 3711, 'effectively': 2652, 'multitask': 5038, 'ndetail': 5353, 'oriented': 6302, 'mindset': 4892, 'ncompensation': 5283, 'nlocation': 5665, 'ndenver': 5344, 'panorama': 6379, 'ntime': 6034, 'type': 8726, 'nfull': 5537, 'category': 1319, 'nnon': 5727, 'facing': 3062, 'supplier': 8302, 'everytown': 2911, 'gun': 3597, 'safety': 7549, 'violence': 8997, 'prevention': 6781, 'advocacy': 451, 'studies': 8218, 'occurs': 6174, 'america': 576, 'identifies': 3851, 'policies': 6648, 'interventions': 4172, 'prevent': 6778, 'address': 392, 'types': 8727, 'impacts': 3892, 'populations': 6661, 'differently': 2337, 'addressing': 395, 'lead': 4431, 'principal': 6793, 'researcher': 7352, 'll': 4555, 'trust': 8702, 'following': 3241, 'accuracy': 335, 'appropriate': 682, 'calculations': 1223, 'avenues': 879, 'campaigns': 1242, 'datasets': 2115, 'stata': 8110, 'obtain': 6162, 'organize': 6296, 'update': 8844, 'reference': 7197, 'cdc': 1335, 'fatal': 3105, 'nonfatal': 5743, 'injury': 4041, 'fbi': 3108, 'supplementary': 8301, 'homicide': 3758, 'federal': 3121, 'city': 1466, 'optimize': 6266, 'departments': 2224, 'perspective': 6532, 'subject': 8230, 'matter': 4753, 'economic': 2612, 'mentor': 4822, 'contribute': 1862, 'publication': 6959, 'legislative': 4459, 'outreach': 6332, 'clearly': 1503, 'scholars': 7619, 'practitioners': 6721, 'policymakers': 6650, 'laws': 4420, 'enforce': 2765, 'existing': 2963, 'fluency': 3226, 'multivariate': 5041, 'cluster': 1530, 'survey': 8325, 'regression': 7227, 'classification': 1486, 'modelling': 4949, 'composite': 1694, 'index': 3965, 'creation': 1990, 'package': 6362, 'significant': 7836, 'government': 3513, 'generated': 3431, 'census': 1349, 'fast': 3102, 'floor': 3212, 'nreasonable': 5896, 'neverytown': 5463, 'identity': 3854, 'expression': 3017, 'amnesty': 584, 'covered': 1969, 'local': 4565, 'ncandidates': 5233, 'historically': 3729, 'underrepresented': 8772, 'encouraged': 2749, 'apply': 669, 'vital': 9027, 'success': 8260, 'x99re': 9257, 'elliott': 2694, 'davis': 2123, 'cpa': 1972, '700': 214, 'southeast': 7974, 'consistently': 1796, 'places': 6605, 'revolutionizing': 7446, 'means': 4783, 'specialize': 7999, 'accounting': 329, 'starting': 8106, 'powerful': 6705, 'mixture': 4927, 'wisdom': 9159, 'energy': 2764, 'fresh': 3321, 'dig': 2341, 'deep': 2166, 'finding': 3168, 'courage': 1958, 'challenge': 1377, 'assumption': 784, 'built': 1177, 'accountants': 328, 'think': 8507, 'startup': 8108, 'entrepreneurs': 2820, 'gooders': 3502, 'nso': 5975, 'mean': 4779, 'glad': 3476, 'asked': 744, 'alongside': 551, 'experts': 2995, 'consulting': 1821, 'enjoying': 2790, 'freedom': 3314, 'autonomy': 874, 'positive': 6673, 'charlotte': 1404, 'nc': 5225, 'raleigh': 7075, 'greenville': 3558, 'deliverables': 2196, 'newly': 5467, 'base': 945, 'prospective': 6923, 'nidentifying': 5594, 'approaching': 681, 'nprioritizing': 5856, 'handling': 3622, 'researching': 7355, 'pertinent': 6538, 'utilizing': 8890, 'communicating': 1630, 'nunderstanding': 6072, 'roles': 7492, 'contributing': 1864, 'clarification': 1477, 'feedback': 3126, 'articulating': 734, 'manipulation': 4686, 'big': 1014, 'npartnering': 5805, 'audit': 839, 'advisory': 450, 'nminimum': 5700, 'nadvanced': 5101, 'math': 4742, 'combined': 1592, 'track': 8601, 'foundational': 3291, 'java': 4255, 'excel': 2928, 'spreadsheet': 8044, 'interface': 4141, 'finance': 3162, 'personnel': 6529, 'intermediate': 4146, 'gaap': 3380, 'verticals': 8968, 'npreferred': 5845, 'ndemonstrates': 5342, 'extensive': 3027, 'include': 3933, 'ntechniques': 6019, 'nstatistical': 5994, 'sampling': 7566, 'optimization': 6265, 'logistic': 4578, 'summarizing': 8283, 'naptitude': 5142, 'efficiencies': 2657, 'automation': 868, 'qualities': 7025, 'taking': 8385, 'ownership': 6353, 'mentoring': 4823, 'nfor': 5525, 'immediate': 3878, 'consideration': 1788, 'send': 7723, 'resume': 7414, 'anna': 620, 'christofaris': 1445, 'elliottdavis': 2695, 'ms': 5020, 'matlab': 4748, 'acquiring': 349, 'transforming': 8640, 'outstanding': 6337, 'advocate': 452, 'amazon': 564, 'come': 1596, 'lines': 4526, 'poised': 6645, 'quintuple': 7057, 'investing': 4207, 'react': 7113, 'prices': 6786, 'selection': 7707, 'times': 8542, 'nthese': 6029, 'today': 8556, 'topline': 8581, 'forecast': 3253, 'chain': 1375, 'scot': 7642, 'cutting': 2077, 'edge': 2623, 'pipelines': 6591, 'accurate': 336, 'deploy': 2235, 'forecasting': 3254, 'talented': 8389, 'answer': 634, 'generate': 3430, 'multi': 5029, 'billion': 1022, 'dollar': 2500, 'predictions': 6734, 'highest': 3712, 'visibility': 9007, 'importance': 3904, 'planning': 6611, 'solver': 7952, 'enjoys': 2792, 'diving': 2470, 'excited': 2938, 'difficult': 2339, 'possesses': 6678, 'directly': 2369, 'economists': 2615, 'statisticians': 8124, 'end': 2753, 'production': 6843, 'exposure': 3015, 'scientific': 7625, 'nkey': 5645, 'enhancements': 2785, 'fine': 3171, 'tuning': 8715, 'parameters': 6389, 'explain': 2997, 'variance': 8924, 'researchers': 7353, 'namazon': 5113, 'x93': 9227, 'minority': 4905, 'female': 3136, 'environments': 2825, 'object': 6146, 'causal': 1324, 'inference': 3994, 'series': 7743, 'purpose': 6986, 'nmapmg': 5684, 'atlantic': 804, 'permanente': 6505, 'universities': 8810, 'students': 8217, 'mapmg': 4696, 'improvement': 3915, 'developer': 2290, 'teradata': 8467, 'assistant': 774, 'extract': 3032, 'works': 9189, 'clinical': 1516, 'topics': 8580, 'hedis': 3687, 'adjustment': 408, 'committee': 1618, 'assurance': 786, 'ncqa': 5310, 'recognition': 7147, 'relevance': 7268, 'observation': 6152, 'shadowing': 7771, 'identified': 3849, 'discussion': 2422, 'paths': 6434, 'confidentiality': 1753, 'departmental': 2223, 'involving': 4221, 'polices': 6647, 'epic': 2832, 'boston': 1093, 'pgh': 6550, 'mar': 4703, 'charlestown': 1403, 'marc': 4705, 'cogniscient': 1549, 'media': 4796, 'hiring': 3723, 'progressive': 6877, 'pro': 6814, 'measure': 4787, 'measurement': 4789, 'raw': 7103, 'campaign': 1241, 'industries': 3985, 'load': 4560, 'blend': 1046, 'strict': 8197, 'utilize': 8887, 'web': 9097, 'google': 3505, 'dart': 2094, 'maintain': 4652, 'visualize': 9022, 'cross': 2021, 'hoc': 3742, 'domo': 2506, 'vba': 8938, 'channels': 1392, 'search': 7668, 'marcusa': 4707, 'https': 3803, 'cogniscientmedia': 1550, 'req': 7335, 'clickstream': 1510, 'similar': 7842, 'helpful': 3692, 'output': 6330, 'stack': 8067, 'hive': 3736, 'pig': 6580, 'udf': 8737, 'scripting': 7654, 'shell': 7787, 'proactive': 6815, 'inquisitive': 4061, 'learner': 4442, 'seeks': 7693, 'capitalizes': 1263, 'reacting': 7114, 'circumstances': 1457, 'task': 8406, 'prioritization': 6803, 'approaches': 680, 'causes': 1327, 'resolutions': 7372, 'email': 2697, 'info': 4007, '2dreaminc': 135, 'petco': 6544, 'healthier': 3676, 'pets': 6549, 'happier': 3628, 'planet': 6608, 'adoption': 423, 'philosophy': 6565, 'foundation': 3290, 'animals': 619, 'educating': 2637, 'pet': 6541, 'parents': 6393, 'reducing': 7188, 'carbon': 1270, 'footprint': 3246, 'starts': 8107, 'knowledgeable': 4363, 'passionately': 6425, 'engaged': 2769, 'associates': 780, 'proud': 6939, 'retail': 7416, 'stores': 8163, 'corporate': 1921, 'offices': 6198, 'share': 7776, 'animal': 618, 'welfare': 9117, 'advance': 429, 'exceptional': 2932, 'enrichment': 2794, 'supplies': 8304, 'san': 7569, 'diego': 2328, 'ca': 1209, 'pay': 6444, 'calculate': 1219, 'metric': 4854, 'definitions': 2184, 'table': 8366, 'contain': 1831, 'catalog': 1311, 'glossary': 3487, 'enables': 2742, 'lake': 4384, 'crawlers': 1983, 'crawl': 1982, 'dictionary': 2324, 'aws': 897, 's3': 7541, 'buckets': 1164, 'lambda': 4387, 'api': 651, 'gateways': 3405, 'architects': 700, 'cloud': 1527, 'sandbox': 7571, 'expect': 2974, 'beginning': 973, 'expected': 2976, 'monday': 4972, 'friday': 3325, 'travel': 8660, 'store': 8160, 'sites': 7865, 'study': 8221, 'tenure': 8465, 'capstone': 1266, 'conclusion': 1732, 'given': 3473, 'valuable': 8914, 'resource': 7376, 'advantage': 435, 'friendly': 3329, 'campus': 1244, 'fitness': 3191, 'yoga': 9348, 'studio': 8219, 'basketball': 953, 'court': 1964, 'trail': 8612, 'caf': 1215, 'xc3': 9329, 'xa9': 9317, 'starbucks': 8099, 'major': 4658, 'technoloty': 8442, 'currently': 2062, 'bachlor': 912, 'possess': 6677, 'competencies': 1661, 'execution': 2949, 'asks': 746, 'clarify': 1479, 'assignments': 769, 'deals': 2143, 'sure': 8312, 'correctly': 1928, 'surfaces': 8316, 'speed': 8013, 'takes': 8384, 'puts': 6997, 'extra': 3031, 'accomplish': 316, 'finishes': 3179, 'timely': 8541, 'manner': 4687, 'suggests': 8270, 'ideas': 3844, 'carefully': 1281, 'monitors': 4979, 'outputs': 6331, 'suggestions': 8269, 'breakdowns': 1119, 'listens': 4543, 'communicates': 1629, 'concisely': 1731, 'communications': 1633, 'writes': 9206, 'simplicity': 7847, 'completeness': 1676, 'keeps': 4333, 'informed': 4017, 'collaborative': 1563, 'relates': 7252, 'accepting': 304, 'respectful': 7381, 'personality': 6522, 'builds': 1176, 'discussing': 2421, 'common': 1622, 'remains': 7288, 'affect': 463, 'temporary': 8457, 'nare': 5143, 'interested': 4138, 'future': 3377, 'international': 4151, 'ecommerce': 2609, 'want': 9066, 'shop': 7800, 'outside': 6333, 'artificial': 736, 'rebuild': 7137, 'platforms': 6616, 'train': 8614, 'custom': 2068, 'ai': 507, 'image': 3866, 'semantic': 7717, 'groceries': 3564, 'fashion': 3101, 'apparel': 655, 'nin': 5604, 'addition': 389, 'connect': 1768, 'olympics': 6214, 'outings': 6319, 'visionary': 9011, 'technologist': 8439, 'translating': 8649, 'illustrate': 3864, 'scenarios': 7611, 'quantity': 7037, 'capacity': 1258, 'easy': 2592, 'terminology': 8472, 'independently': 3963, 'functional': 3352, 'follow': 3240, 'acute': 374, 'keen': 4331, 'mind': 4888, 'creativity': 1994, 'capabilities': 1255, 'neducational': 5403, 'undergraduate': 8767, 'econometrics': 2611, 'electrical': 2677, 'depending': 2231, 'student': 8216, 'educational': 2639, 'nadditional': 5096, 'spark': 7985, 'nosql': 5773, 'couchbase': 1947, 'cassandra': 1307, 'tensor': 8463, 'frameworks': 3303, 'constituents': 1807, 'ncompany': 5282, 'walmart': 9064, 'innovating': 4048, 'evolve': 2914, 'shopping': 7803, 'retailer': 7417, 'save': 7587, 'money': 4974, 'brightest': 1134, 'minds': 4891, 'merchandising': 4828, 'reimagining': 7239, 'intersection': 4168, 'title': 8550, 'jr': 4297, 'chicago': 1425, 'il': 3860, 'nduration': 5390, 'months': 4986, 'bachelors': 911, 'netezza': 5449, 'mpp': 5014, 'distill': 2450, 'easily': 2589, 'understandable': 8774, 'terms': 8473, 'integration': 4111, 'initio': 4040, 'informatica': 4012, 'datastage': 2116, 'nend': 5425, 'informational': 4015, 'cognos': 1552, 'microstrategy': 4867, 'qlikview': 7013, 'nsuperior': 6008, 'primary': 6790, 'split': 8024, 'portfolio': 6664, 'austin': 847, 'nperforms': 5816, 'clean': 1492, 'chemometric': 1420, 'napplies': 5134, 'detection': 2278, 'nmaintains': 5676, 'nleads': 5652, 'preparing': 6755, 'meeting': 4804, 'nappropriately': 5140, 'annotates': 623, 'comments': 1608, 'npresents': 5851, 'drafting': 2523, 'experimental': 2986, 'recommended': 7155, 'actions': 358, 'nsupports': 6012, 'sections': 7680, 'proposals': 6912, 'proposal': 6911, 'complete': 1673, 'proposed': 6914, 'brainstorming': 1108, 'nother': 5779, 'nrequired': 5917, 'abilities': 271, 'ksa': 4371, 'sequence': 7740, 'complicated': 1685, 'nsoftware': 5976, 'nworking': 6123, 'nteam': 6016, 'player': 6621, 'homeland': 3754, 'security': 7686, 'suitability': 8272, 'defense': 2174, 'secret': 7677, 'clearance': 1500, 'practices': 6719, 'git': 3471, 'version': 8963, 'nsufficient': 6005, 'incumbent': 3958, 'ph': 6551, 'ncertificates': 5246, 'licenses': 4494, 'certificates': 1366, 'nclearance': 5258, 'nsupervisory': 6009, 'junior': 4313, 'conditions': 1739, 'generally': 3429, 'mail': 4647, 'phone': 6566, 'critical': 2014, 'emergencies': 2712, '25': 125, 'list': 4538, 'incumbents': 3959, 'instructions': 4092, '82': 229, 'clearwater': 1506, 'solves': 7953, 'explores': 3010, 'rpa': 7517, 'blockchain': 1051, 'step': 8137, 'fixed': 3194, 'asset': 763, 'custodian': 2067, 'banks': 938, 'rely': 7286, 'seemingly': 7694, 'impossible': 3909, 'nclearwater': 5259, 'compensation': 1657, 'market': 4710, 'casual': 1309, 'workplace': 9186, 'beautiful': 966, 'surroundings': 8323, 'balance': 929, 'solution': 7947, 'hasn': 3649, 'x99t': 9260, 'dramatic': 2526, 'persuasion': 6534, 'force': 3249, 'path': 6431, 'domain': 2502, 'standard': 8085, 'significantly': 7837, 'demonstrating': 2216, 'decompose': 2160, 'engineered': 2776, 'pattern': 6439, 'continuous': 1853, 'masters': 4731, 'nhealth': 5565, 'regence': 7217, 'blue': 1062, 'shield': 7789, 'nemployer': 5422, 'match': 4733, 'hsa': 3799, 'contributions': 1866, 'nflex': 5517, 'ncentral': 5244, 'downtown': 2518, 'cover': 1967, 'letter': 4470, 'attached': 810, 'page': 6366, 'outline': 6323, 'relate': 7249, 'ross': 7505, 'school': 7620, 'evaluation': 2897, 'relative': 7259, 'collect': 1568, 'interprets': 4163, 'customized': 2075, 'according': 321, 'defined': 2179, 'discussions': 2423, 'qualtrics': 7027, 'strata': 8172, 'query': 7044, 'warehouse': 9071, 'repositories': 7320, 'objects': 6150, 'appointment': 672, 'designation': 2261, 'napplication': 5131, 'deadline': 2137, 'openings': 6235, 'posted': 6683, 'seven': 7762, 'days': 2127, 'removed': 7300, 'posting': 6690, 'boards': 1068, 'filled': 3154, 'period': 6494, 'ended': 2755, 'constellis': 1805, 'established': 2870, '2010': 98, 'operators': 6252, 'investors': 4210, 'sought': 7966, 'brands': 1113, 'combines': 1593, 'legacy': 4456, 'academi': 290, 'amk9': 582, 'triple': 8691, 'canopy': 1252, 'olive': 6212, 'omniplex': 6218, 'centerra': 1354, 'edinburgh': 2625, 'affiliates': 469, 'procurement': 6835, 'maintenance': 4657, 'threat': 8519, 'protection': 6931, 'c4i': 1208, 'crisis': 2010, 'response': 7391, 'helps': 3694, 'sustain': 8333, 'operates': 6242, 'regional': 7220, 'africa': 478, 'americas': 579, 'europe': 2889, 'middle': 4869, 'east': 2590, 'headquartered': 3669, 'washington': 9077, 'reston': 7405, 'va': 8898, 'megacenter': 4807, 'validate': 8908, 'gsa': 3577, 'reliable': 7272, 'source': 7969, 'fps': 3298, 'enforcement': 2766, 'emergency': 2713, 'contacts': 1830, 'leso': 4466, 'responders': 7389, 'guard': 3583, 'posts': 6694, 'occupant': 6170, 'agencies': 482, 'elevators': 2686, 'amenities': 574, 'profiles': 6860, 'special': 7994, 'dispatching': 2433, 'verify': 8957, 'removal': 7298, 'weekly': 9108, 'rexus': 7452, 'alarm': 522, 'accounts': 330, 'demographics': 2211, 'zones': 9363, 'panel': 6378, 'procedures': 6825, 'delete': 2189, 'hard': 3632, 'copies': 1907, 'backup': 922, 'comply': 1689, 'receive': 7139, 'respond': 7387, 'tracking': 8603, 'tool': 8569, 'officer': 6196, 'dispatcher': 2432, 'exclude': 2941, 'delayed': 2188, 'calls': 1231, 'emails': 2698, 'dispatch': 2431, 'event': 2904, 'discrepancies': 2409, 'correspondence': 1934, 'spot': 8038, 'flag': 3198, 'notification': 5782, 'blotter': 1061, 'logging': 4575, 'log': 4574, 'stats': 8126, 'disseminate': 2446, 'request': 7337, 'headquarters': 3670, 'edit': 2627, 'webrms': 9098, 'leims': 4460, 'mist': 4916, 'megan': 4808, 'listed': 4539, 'diploma': 2361, 'ged': 3419, 'word': 9171, 'entry': 2821, 'nwith': 6120, 'continent': 1843, 'dollars': 2501, 'moral': 4990, 'ethical': 2879, 'remain': 7287, 'cornerstone': 1918, 'continues': 1850, 'emphasis': 2719, 'compliance': 1683, 'chip': 1436, '21': 115, 'majority': 4660, 'military': 4881, 'leverage': 4476, 'ambition': 568, 'safer': 7548, 'augmented': 844, 'intimate': 4177, 'economies': 2614, 'cultures': 2050, 'result': 7411, 'willingness': 9147, 'demanding': 2205, 'nequal': 5441, 'nrace': 5890, 'vet': 8969, 'story': 8167, 'nulta': 6059, 'beauty': 967, 'specialty': 8003, 'true': 8699, 'enthusiast': 2812, 'gets': 3457, 'butterflies': 1195, 'shops': 7804, 'guests': 3588, 'prestige': 6774, 'mass': 4725, 'salon': 7563, 'roof': 7497, 'committing': 1619, 'unrivaled': 8833, 'thrill': 8522, 'delight': 2190, 'discovery': 2408, 'qm': 7014, 'silicon': 7839, 'valley': 8913, 'harnesses': 3643, 'ulta': 8744, 'joined': 4283, 'accelerate': 294, 'differentiate': 2334, 'elevate': 2684, 'guest': 3587, 'bridge': 1129, 'journeys': 4296, 'thought': 8516, 'differentiated': 2335, 'nposition': 5832, 'push': 6994, 'boundaries': 1096, 'nlp': 5668, 'generation': 3434, 'millions': 4884, 'everyday': 2910, 'rock': 7487, 'star': 8098, 'bring': 1138, 'x9cwow': 9301, 'versatile': 8960, 'enthusiastic': 2813, 'tackle': 8371, 'ground': 3566, 'mark': 4709, 'ncore': 5308, 'novel': 5788, 'personalization': 6523, 'topic': 8579, 'clustering': 1531, 'entity': 2817, 'ontology': 6230, 'nmachine': 5673, 'ml': 4928, 'challenging': 1380, 'nplatform': 5828, 'integrate': 4107, 'nrelation': 5905, 'garner': 3401, 'buy': 1197, 'nmentor': 5693, 'collaborators': 1565, 'lesser': 4467, 'semi': 7720, 'general': 3424, 'emerging': 2714, 'evolving': 2916, 'intellectual': 4116, 'strategically': 8175, 'nsome': 5979, 'stakeholder': 8077, 'conferences': 1748, 'nprefered': 5844, 'n2': 5061, 'gpu': 3519, 'graph': 3540, 'embedded': 2700, 'ingesting': 4029, 'uild': 8740, 'ingest': 4028, 'verification': 8953, 'statements': 8114, 'graduate': 3527, 'technically': 8430, 'savvy': 7591, 'snowflake': 7922, 'airflow': 517, 'communicator': 1635, 'starter': 8104, 'ambiguity': 566, 'moving': 5010, 'ipo': 4227, '2013': 101, 'defining': 2181, 'loyal': 4615, 'efficiency': 2658, 'freakishly': 3312, 'engineer': 2775, 'supplying': 8306, 'fellow': 3133, 'hql': 3790, 'presentations': 6765, 'mobile': 4936, 'games': 3393, 'resporting': 7399, 'brainstorm': 1107, 'mysql': 5051, 'setting': 7759, 'directed': 2364, 'collectively': 1574, 'x9csg': 9292, 'regulated': 7233, 'gaming': 3395, 'lottery': 4604, 'certain': 1363, 'sg': 7770, 'investigations': 4203, 'checks': 1417, 'dictated': 2322, 'regulation': 7234, 'contracts': 1860, 'complies': 1687, 'regulatory': 7236, 'contractual': 1861, 'commitments': 1616, 'continuing': 1851, 'employ': 2723, 'fulfill': 3345, 'prerequisite': 6756, 'extent': 3028, 'permitted': 6508, 'shall': 7773, 'consent': 1780, 'diligence': 2351, 'investigation': 4202, 'interpreted': 4161, 'requested': 7338, 'stated': 8112, 'x99d': 9255, 'rights': 7465, 'applicant': 663, 'depth': 2243, 'lilly': 4517, 'vendors': 8947, 'brand': 1111, 'liaison': 4487, 'consistency': 1794, 'affiliate': 467, 'ensuring': 2802, 'consistent': 1795, 'nmonthly': 5710, 'marts': 4722, 'nstewardship': 5996, '360': 158, 'pulls': 6972, 'alignment': 539, 'nad': 5093, 'ncreating': 5313, 'ndemonstrate': 5340, 'npartner': 5804, 'availability': 875, 'nowner': 5795, 'overview': 6347, 'unite': 8802, 'caring': 1286, 'indianapolis': 3969, 'indiana': 3968, '39': 162, 'medicines': 4799, 'disease': 2424, 'philanthropy': 6563, 'volunteerism': 9041, 'determined': 2283, 'basic': 951, 'nqualified': 5883, 'legally': 4458, 'authorized': 857, 'employed': 2724, 'anticipate': 640, 'sponsorship': 8033, 'visa': 9005, '1b': 84, 'tn': 8553, 'affirmative': 472, 'preferences': 6741, 'nproficiency': 5867, 'unix': 8812, 'warehousing': 9073, 'msword': 5024, 'powerpoint': 6707, 'pl': 6600, 'stored': 8161, 'db': 2129, 'nproject': 5870, 'nsix': 5971, 'sigma': 7829, 'black': 1044, 'green': 3555, 'belt': 988, 'region': 7219, 'north': 5770, 'arrangement': 720, 'expires': 2996, '19': 62, 'jul': 4307, 'mister': 4919, 'wash': 9076, 'formula': 3276, 'feel': 3128, 'dry': 2554, 'shiny': 7793, 'promise': 6888, 'nour': 5786, 'makers': 4662, 'tucson': 8710, 'club': 1529, 'uwc': 8895, 'curious': 2059, 'tell': 8452, 'segment': 7697, 'increased': 3950, 'trial': 8681, 'subscriber': 8242, 'retention': 7421, 'shape': 7774, 'churn': 1449, 'reduction': 7189, 'nmember': 5692, 'lifetime': 4508, 'ltv': 4625, 'nbehavioral': 5200, 'ntrial': 6046, 'nutilize': 6088, 'nintellectual': 5616, 'curiosity': 2058, 'connections': 1772, 'whys': 9139, 'whats': 9132, 'sense': 7727, 'pos': 6668, 'nlike': 5661, 'dirty': 2376, 'nbachelors': 5191, 'nmodern': 5704, 'nfast': 5506, 'truly': 8701, 'generous': 3437, 'ncar': 5237, 'discounts': 2403, 'nmister': 5702, 'genetics': 3439, 'nationwide': 5165, 'nbrand': 5213, 'naddress': 5097, '222': 119, '5th': 199, 'street': 8186, 'az': 900, '85705': 237, 'nproperty': 5874, 'corp': 1920, '157975': 52, 'payment': 6450, 'fraud': 3311, 'protect': 6928, 'profitability': 6863, 'gathering': 3408, 'credit': 1999, 'card': 1271, 'debit': 2146, 'ach': 338, 'eft': 2664, 'paypal': 6453, 'converting': 1883, 'collaborating': 1560, 'investigating': 4201, 'referrals': 7202, 'volume': 9035, 'actuarial': 369, 'casualty': 1310, 'lieu': 4501, 'pre': 6723, 'look': 4590, 'retrieving': 7430, 'manipulating': 4685, 'workload': 9185, 'nmeet': 5691, 'dataflux': 2103, 'auto': 860, 'telematics': 8449, 'encouragement': 2750, 'benefit': 996, 'gainshare': 3387, 'bonus': 1079, '24': 123, 'rewards': 7451, 'ndedication': 5332, 'arrangements': 721, 'lifestyle': 4506, 'ndynamic': 5392, 'embraces': 2708, 'relaxed': 7260, 'atmosphere': 805, 'nonsite': 5751, 'gym': 3601, 'wellness': 9121, 'nhealthcare': 5566, 'onsite': 6228, 'sponsor': 8029, 'foreign': 3257, 'authorization': 855, 'determination': 2281, 'nprimary': 5853, 'ohio': 6205, 'mayfield': 4762, 'village': 8994, 'nschedule': 5946, 'expedia': 2978, 'ndo': 5375, 'wish': 9160, 'volumes': 9036, 'untapped': 8840, 'ocean': 6175, 'dreams': 2536, 'numbers': 6062, 'generates': 3432, 'sleep': 7888, 'hilarious': 3717, 'nif': 5595, 'answered': 635, 'yes': 9346, 'x99ve': 9261, 'wealth': 9095, 'harvest': 3648, 'bringing': 1139, 'cases': 1302, 'carrentals': 1290, 'rigor': 7466, 'nwhat': 6112, 'ndetermine': 5355, 'nown': 5794, 'tests': 8484, 'winners': 9152, 'ndevelop': 5357, 'segments': 7701, 'targeting': 8404, 'improved': 3914, 'nexplore': 5494, 'nbuild': 5219, 'pricing': 6787, 'merge': 4832, 'context': 1840, 'prowess': 6950, 'nnetwork': 5720, 'centric': 1358, 'aspects': 748, 'ndiscover': 5368, 'travelers': 8662, 'ncreate': 5311, 'narratives': 5146, 'transparency': 8655, 'led': 4452, 'surrounded': 8321, 'tons': 8568, 'single': 7857, 'interesting': 4139, 'continually': 1847, 'conference': 1747, 'attendance': 817, 'skillset': 7878, 'expansion': 2973, 'classes': 1483, 'scoring': 7641, 'sem': 7716, 'bidding': 1012, 'rank': 7085, 'history': 3731, 'producing': 6841, 'professionally': 6852, 'personally': 6527, 'nexpedia': 5489, 'recognizes': 7150, 'dependent': 2229, 'recognize': 7148, 'break': 1118, 'barriers': 942, 'inspires': 4078, 'nwhether': 6114, 'lodging': 4573, 'act': 354, 'reach': 7110, 'relentlessly': 7267, 'strive': 8201, 'humility': 3814, 'optimism': 6264, 'respecting': 7383, 'voices': 9034, 'feet': 3131, 'stay': 8128, 'chance': 1385, 'cares': 1284, 'hunger': 3818, 'loved': 4609, 'hotels': 3777, 'egencia': 2665, 'trivago': 8692, 'homeaway': 3753, 'orbitz': 6278, 'travelocity': 8664, 'wotif': 9201, 'lastminute': 4402, 'au': 833, 'ebookers': 2598, 'cheaptickets': 1414, 'hotwire': 3779, 'classic': 1484, 'vacations': 8902, 'cruiseshipcenters': 2027, 'silverrail': 7841, 'alice': 534, 'traveldoo': 8661, 'ms1': 5021, 'ssa': 8058, 'dhs': 2311, 'confirm': 1758, 'wellsky': 9122, 'lookout': 4593, 'grads': 3525, 'ready': 7121, 'gives': 3474, 'accountable': 326, 'equipped': 2842, 'arise': 711, 'exists': 2964, 'sr': 8055, 'completed': 1674, 'semester': 7719, 'gain': 3383, 'saves': 7589, 'nwellsky': 6109, 'napplicants': 5130, 'eligibility': 2688, '19000bn4': 64, 'capture': 1267, 'advertising': 442, '199': 79, '200': 89, 'advertisers': 441, 'audience': 836, 'extend': 3021, 'contextual': 1842, 'viewability': 8987, 'roi': 7490, 'acquisitions': 351, 'addthis': 396, 'bluekai': 1063, 'crosswise': 2023, 'datalogix': 2107, 'grapeshot': 3539, 'moat': 4935, 'plays': 6626, 'x9crivr': 9289, 'restaurants': 7402, 'tech': 8427, 'telco': 8444, 'entertainment': 2810, 'b2b': 904, 'odc': 6181, 'rivr': 7476, 'operate': 6241, 'broomfield': 1151, 'activation': 360, 'communicated': 1628, 'thoughtful': 8517, 'thorough': 8514, 'publishers': 6965, 'optimal': 6263, 'consumers': 1825, 'placements': 6604, 'maximizing': 4760, 'form': 3265, 'hold': 3743, 'measures': 4791, 'sizes': 7873, 'evaluating': 2896, 'viewable': 8988, 'ads': 425, 'offline': 6201, 'eye': 3044, 'persuasively': 6535, 'proposition': 6916, 'suite': 8274, 'defines': 2180, 'usage': 8866, 'participating': 6404, 'broader': 1143, 'grounding': 3568, 'example': 2923, 'random': 7080, 'forest': 3259, 'nuances': 6053, 'interrogate': 4164, 'crm': 2018, 'prospect': 6921, '3rd': 164, 'app': 654, 'visitation': 9013, 'adtech': 426, 'ecosystem': 2617, 'demand': 2204, 'pixel': 6597, 'walled': 9062, 'garden': 3400, 'facebook': 3051, 'pinterest': 6585, 'ba': 906, 'profession': 6849, 'mandatory': 4680, 'gap': 3397, 'complimented': 1688, 'x98big': 9250, 'picture': 6576, 'troubleshoot': 8696, 'underperforming': 8770, 'workflows': 9182, 'streamline': 8182, 'automate': 862, 'qubole': 7041, 'gui': 3589, 'convention': 1874, 'demonstrates': 2215, 'loves': 4610, 'x9cwhy': 9300, 'extending': 3023, 'lack': 4382, 'prescribed': 6759, 'characteristic': 1395, 'ndesigns': 5351, 'consolidate': 1800, 'x9cbig': 9268, 'enhancement': 2784, 'ninteracts': 5618, 'codes': 1544, 'cleanse': 1495, 'evaluate': 2893, 'disparate': 2429, 'metadata': 4843, 'varied': 8928, 'noracle': 5760, 'ncome': 5274, 'sample': 7564, 've': 8940, 'did': 2325, 'lyft': 4633, 'prospects': 6924, 'politically': 6653, 'aftermath': 479, 'uber': 8733, 'press': 6771, 'woes': 9167, 'fourth': 3297, 'quarter': 7039, 'rural': 7537, 'solar': 7939, 'eclipse': 2606, 'hotel': 3776, 'bookings': 1081, 'nascent': 5150, 'function': 3351, 'purchase': 6981, 'dataset': 2114, 'creatively': 1993, 'statistically': 8123, 'sound': 7967, 'itch': 4243, 'obstacles': 6161, 'deeply': 2169, 'ahead': 506, 'toolbelt': 8570, 'implementing': 3899, 'stickler': 8146, 'careful': 1280, 'gifted': 3465, 'juggling': 4306, 'relish': 7281, 'empower': 2732, 'goods': 3504, 'sociology': 7931, 'curve': 2065, 'stock': 8151, 'grants': 3536, 'nedison': 5401, 'intelligent': 4120, 'earth': 2587, '3x': 165, 'larger': 4398, 'million': 4883, 'marketplace': 4715, 'island': 4235, 'lend': 4461, 'stuck': 8215, 'egos': 2666, 'backseat': 921, 'figuring': 3149, 'tackling': 8373, 'tough': 8591, 'textbook': 8488, 'finally': 3161, 'posture': 6695, 'lot': 4603, 'attempt': 815, 'blameless': 1045, 'postmortems': 6693, 'hiringorganization': 3724, 'edison': 2626, 'eis': 2669, 'mm': 4931, 'module': 4965, 'sap': 7575, 'facilitate': 3056, 'material': 4738, 'vendor': 8946, 'purchasing': 6983, 'formatting': 3273, 'modify': 4962, 'pieces': 6579, 'lists': 4546, 'text': 8487, 'convey': 1885, 'specifications': 8007, 'shipping': 7796, 'receiving': 7141, 'reinstate': 7245, 'useable': 8871, 'exhaustive': 2959, 'notice': 5780, 'formal': 3267, 'outlook': 6326, 'verbally': 8952, 'nunder': 6070, 'incorporate': 3947, 'investigate': 4198, 'correct': 1924, 'nreview': 5934, 'inconsistencies': 3945, 'nupdate': 6080, 'nresponsible': 5931, 'acknowledgement': 345, 'gifts': 3467, 'pledges': 6631, 'constituent': 1806, 'wishes': 9161, 'mcw': 4773, 'fund': 3358, 'ncoordinate': 5307, 'filing': 3153, 'gift': 3464, 'nprepare': 5847, 'reconcile': 7160, 'deposits': 2241, 'nanswer': 5126, 'payments': 6451, 'assists': 777, 'nassists': 5159, 'supplemental': 8300, 'structure': 8210, 'nbuilding': 5220, 'park': 6396, 'institutional': 4089, 'advancement': 431, 'ndivision': 5374, 'ndirect': 5364, 'titles': 8551, 'ncollaborates': 5267, 'administrator': 416, 'ii': 3858, 'specialist': 7995, 'donor': 2508, 'relations': 7256, 'coordinator': 1905, 'accountant': 327, 'payroll': 6454, 'representative': 7325, 'nhighly': 5573, 'trouble': 8694, 'shooting': 7798, 'active': 361, 'listening': 4542, 'nprovides': 5877, 'nspecifications': 5983, 'nappropriate': 5139, 'substituted': 8254, 'raisers': 7074, 'nfield': 5508, 'ncertification': 5247, 'nhere': 5570, 'knot': 4359, '15': 47, 'weddingwire': 9101, 'bodas': 1071, 'gigmasters': 3468, 'bump': 1181, 'lasting': 4401, 'inspire': 4076, 'celebrate': 1340, 'milestones': 4880, 'home': 3752, 'couples': 1957, 'depend': 2225, 'tkww': 8552, 'funnels': 3369, 'dashboarding': 2097, 'qlik': 7012, 'birst': 1037, 'sheets': 7786, 'apprised': 677, 'bigquery': 1017, 'dashboard': 2096, 'professionalism': 6851, 'shift': 7790, 'gears': 3418, 'aim': 510, 'isn': 4236, 'say': 7592, 'ask': 743, 'respectfully': 7382, 'assumptions': 785, 'turned': 8718, 'constructive': 1813, 'conflict': 1760, 'ambitious': 570, 'persevere': 6515, 'aren': 710, 'afraid': 477, 'quo': 7060, 'thing': 8505, 'failure': 3075, 'settle': 7760, 'quest': 7046, 'stronger': 8206, 'award': 889, 'winning': 9153, 'parental': 6392, 'leave': 4450, 'promoting': 6893, 'giving': 3475, 'happiness': 3629, 'x94in': 9236, 'governing': 3512, 'nondiscrimination': 5742, 'expressly': 3019, 'prohibits': 6879, 'harassment': 3631, 'eligible': 2689, 'unit': 8801, 'acts': 366, 'pharmacy': 6555, 'amounts': 585, 'ware': 9070, 'house': 3783, 'audits': 842, 'determining': 2285, 'heavy': 3685, 'involvement': 4219, 'centene': 1350, 'ndevelops': 5360, 'nmodels': 5703, 'nparticipates': 5803, 'nbachelor': 5190, 'n4': 5067, 'db2': 2130, 'server': 7748, 'ncertificate': 5245, 'ndoctoral': 5376, 'nmaster': 5686, 'started': 8103, 'discount': 2400, 'idea': 3840, 'selling': 7715, 'grown': 3573, '260': 128, '695': 212, '59': 195, 'banners': 939, '28': 132, 'commerce': 1609, 'websites': 9100, 'fiscal': 3188, '485': 177, 'employs': 2731, 'sustainability': 8334, 'unwavering': 8842, 'appzen': 691, 'disciplinary': 2388, 'measuring': 4792, 'nappzen': 5141, 'greatest': 3551, 'revolutionize': 7445, 'routinely': 7513, 'massive': 4728, 'scalability': 7599, 'storage': 8158, 'entirely': 2815, 'cs': 2035, 'ee': 2642, 'nfamiliar': 5501, 'docker': 2482, 'ds': 2555, 'scikit': 7629, 'nsolve': 5978, 'specification': 8006, 'prototype': 6936, 'iteratively': 4249, 'structures': 8212, 'advocating': 454, 'activity': 364, 'ninteract': 5617, 'functionally': 3355, 'improvements': 3916, 'nchinese': 5254, 'read': 7116, 'speak': 7990, 'adobe': 421, 'leveraging': 4479, 'attribution': 830, 'segmentation': 7698, 'academic': 292, 'cold': 1557, 'start': 8102, 'sparse': 7988, 'noisy': 5740, 'outcome': 6314, 'reinforcement': 7242, 'hmm': 3740, 'fields': 3143, 'familiar': 3084, 'sparkml': 7986, 'mllib': 4929, 'acumen': 373, 'capable': 1257, 'asking': 745, 'mapreduce': 4701, 'impala': 3893, 'anova': 633, 'immersed': 3882, 'flows': 3222, 'freely': 3316, 'saying': 7593, 'blog': 1055, 'encourage': 2748, '62': 204, '844': 234, '908': 251, 'oregon': 6288, 'modernizing': 4958, 'turn': 8716, 'nabout': 5082, 'excellence': 2929, 'consultants': 1818, 'governance': 3510, 'distributed': 2457, 'accomplished': 317, 'nidentify': 5593, 'website': 9099, 'nproduce': 5863, 'pain': 6370, 'points': 6644, 'nensure': 5432, 'nknowledge': 5647, 'nbusiness': 5222, 'warehouses': 9072, 'naccess': 5084, 'ncompile': 5287, 'tabulate': 8369, 'respect': 7379, 'nprioritize': 5855, 'ncontinuous': 5303, 'nfive': 5514, 'ndesired': 5352, 'ndegree': 5337, 'nuse': 6083, 'nunderstand': 6071, 'windows': 9150, 'nproficient': 5868, 'video': 8983, 'sports': 8037, 'casino': 1305, 'geospatial': 3453, 'month': 4984, 'accruals': 333, 'nsick': 5965, 'npersonal': 5820, 'n11': 5057, 'ntelework': 6021, 'schedules': 7614, 'ncomprehensive': 5290, 'prescription': 6760, 'low': 4611, 'premiums': 6749, 'nlife': 5660, 'accidental': 310, 'death': 2145, 'tax': 8410, 'npublic': 5879, 'pers': 6514, 'pension': 6476, 'contribution': 1865, 'noregon': 5761, '457': 175, 'deferred': 2176, 'options': 6272, 'napply': 5135, 'http': 3802, 'oregonlottery': 6289, 'org': 6290, 'jobs': 4275, 'recruitment': 7175, 'vacancies': 8899, 'reserves': 7358, 'withdraw': 9162, 'close': 1521, 'announcements': 626, 'dictate': 2321, 'nors': 5769, '461': 176, 'convicted': 1888, 'felony': 3134, 'gambling': 3390, 'offense': 6189, 'fingerprinting': 3174, 'affiliation': 470, 'checking': 1416, 'references': 7199, 'character': 1394, 'nall': 5110, 'prohibited': 6878, 'playing': 6625, 'naccording': 5085, 'persons': 6530, '503': 181, '540': 186, '1315': 40, 'lotterycareers': 4605, 'nposted': 5836, '114157802': 31, 'nwireless': 6118, 'ecosystems': 2618, 'apple': 660, 'fielding': 3142, 'wireless': 9158, 'numerous': 6067, 'disciplines': 2391, 'viable': 8975, 'invent': 4191, 'customize': 2074, 'n5': 5071, 'nfamiliarity': 5502, 'principles': 6796, 'ncreativity': 5315, 'ndescription': 5348, 'nconceive': 5292, 'nperform': 5813, 'npresent': 5849, 'ntakes': 6015, 'nm': 5672, 'presently': 6768, 'internationally': 4152, 'multidisciplinary': 5032, 'orthopaedic': 6307, 'arthritis': 727, 'treatments': 8673, 'pivot': 6594, 'surgery': 8318, 'brigham': 1132, 'women': 9169, 'hospital': 3771, 'harvard': 3647, 'biostatistics': 1034, 'macros': 4642, 'authorship': 858, 'journal': 4290, 'manuscripts': 4694, 'abstracts': 286, 'posters': 6685, 'oracore': 6275, 'integral': 4106, 'exploratory': 3008, 'tables': 8368, 'listings': 4545, 'run': 7534, 'recurring': 7177, 'progress': 6874, 'importing': 3908, 'forms': 3275, 'cleaning': 1493, 'investigates': 4200, 'resolves': 7374, 'standardized': 8089, 'preliminary': 6744, 'accompanying': 315, 'codebooks': 1542, 'independence': 3961, 'internet': 4153, 'medicine': 4798, 'normal': 5765, 'hectic': 3686, 'cv': 2078, 'neeo': 5409, 'statement': 8113, 'nbrigham': 5215, 'unrelated': 8832, 'ma': 4635, 'bwh': 1204, 'main': 4650, '75': 219, 'francis': 3307, 'st': 8064, '02115': 5, 'norganization': 5763, 'nstandard': 5990, 'nshift': 5962, 'nrecruiting': 5900, 'orthopedics': 6309, '22': 118, 'unsurpassed': 8839, 'fsa': 3337, 'joint': 4286, 'venture': 8948, 'owned': 6350, 'trusted': 8703, 'providers': 6946, 'saic': 7551, 'aecom': 456, 'vacancy': 8900, 'atf': 797, 'executes': 2946, 'case': 1301, 'proper': 6906, 'investigative': 4204, 'notices': 5781, 'advertisements': 440, 'suspense': 8330, 'petitions': 6545, 'declarations': 2158, 'gather': 3406, 'disposition': 2438, 'forfeited': 3262, 'assure': 787, 'computations': 1708, 'inventories': 4193, 'distribute': 2456, 'official': 6199, 'obtaining': 6164, 'collecting': 1570, 'administrative': 415, 'concerning': 1725, 'attorney': 825, 'doj': 2498, 'units': 8806, 'retrieve': 7427, 'bases': 949, 'format': 3268, 'transfer': 8632, 'compute': 1709, 'print': 6797, 'spreadsheets': 8045, 'citizenship': 1465, 'nforfeiture': 5529, 'recruit': 7171, 'compensate': 1656, 'quali': 7017, 'xef': 9331, 'xac': 9320, 'x81ed': 9216, 'hiv': 3735, 'mental': 4816, 'x81ned': 9220, 'francisco': 3308, 'yr': 9352, 'interact': 4130, 'melissa': 4809, 'bell': 984, 'climate': 1513, '201': 97, '1100': 29, '94103': 254, 'dealer': 2140, 'salesperson': 7560, 'coordinate': 1900, 'kpi': 4367, 'dates': 2121, 'delivered': 2197, 'exploring': 3011, 'actively': 362, 'roadmap': 7482, 'ears': 2586, 'coding': 1545, 'teammate': 8422, 'confidence': 1750, 'hustle': 3822, 'accountability': 325, 'logic': 4576, 'calculated': 1220, 'columns': 1584, 'kpis': 4368, 'vector': 8941, 'frontend': 3333, 'ux': 8896, 'designer': 2263, 'deploying': 2237, 'promotion': 6894, 'nanalyze': 5122, 'behaviors': 978, 'items': 4245, 'modified': 4960, 'desktop': 2273, 'ncollect': 5270, 'categorize': 1318, 'optimized': 6267, 'categories': 1317, 'ndesign': 5349, 'device': 2298, 'shopper': 7801, 'sessions': 7756, 'nconsult': 5299, 'configuration': 1754, 'frame': 3300, 'nbabylist': 5189, 'partnering': 6412, 'empowering': 2734, 'scope': 7635, 'uniquely': 8799, 'nearly': 5396, 'babylist': 908, 'internally': 4150, 'externally': 3030, 'dive': 2465, 'align': 536, 'aid': 508, 'backgrounds': 917, 'pr': 6714, 'baby': 907, 'lens': 4464, 'organizations': 6295, 'obsessed': 6157, 'wizard': 9165, 'adept': 397, 'overwhelmed': 6348, 'mockups': 4940, 'navigate': 5182, 'registry': 7226, 'expecting': 2977, 'exactly': 2919, 'worth': 9200, 'purchased': 6982, 'registries': 7225, 'stuff': 8223, 'genuinely': 3445, 'appreciate': 673, 'sustainable': 8335, 'profitable': 6864, 'doers': 2494, 'thinkers': 8509, 'smart': 7899, 'nbenefits': 5203, 'funded': 3362, 'hra': 3793, 'bart': 944, 'don': 2507, 'late': 4403, 'weekends': 9107, 'wfh': 9130, 'wednesday': 9102, 'consider': 1786, 'comes': 1598, 'transferable': 8633, 'adding': 388, 'perspectives': 6533, 'neuroimaging': 5459, 'entered': 2804, 'exporting': 3013, 'editing': 2629, 'assisting': 776, 'incoming': 3940, 'scripts': 7655, 'missing': 4912, 'described': 2250, 'imaging': 3875, 'lab': 4376, 'contingent': 1845, 'funding': 3364, 'psychology': 6956, 'biomedical': 1032, 'psychological': 6955, 'bash': 950, 'useful': 8873, 'facility': 3061, 'meticulous': 4853, 'spm': 8026, 'afni': 476, 'fsl': 3338, 'naffirmative': 5104, 'penn': 6472, 'adheres': 400, 'discrimination': 2417, 'ethnic': 2882, 'paradigm': 6384, 'founding': 3296, '2014': 102, 'featured': 3117, 'wall': 9061, 'york': 9349, 'pbs': 6457, 'newshour': 5471, 'techcrunch': 8428, 'outlets': 6321, 'nparadigm': 5799, 'dsr': 2559, 'pinpoint': 6584, 'exist': 2962, 'tailored': 8382, 'increase': 3949, 'equity': 2846, 'foster': 3287, 'ndefining': 5336, '12': 34, 'attract': 827, 'retain': 7419, 'final': 3158, 'advise': 444, 'debug': 2148, 'scraped': 7644, 'pulled': 6970, 'econometric': 2610, 'intensive': 4124, 'bootcamps': 1087, 'preference': 6740, 'previous': 6783, 'observational': 6153, 'ideally': 3842, 'political': 6652, 'reproducible': 7331, 'github': 3472, 'figure': 3147, 'finder': 3167, 'explaining': 2999, 'double': 2513, 'catch': 1316, 'mistakes': 4918, 'balancing': 931, 'jumping': 4310, 'acknowledge': 344, 'mistake': 4917, 'talk': 8392, 'openly': 6236, 'avoid': 885, 'collaboratively': 1564, 'x8bthis': 9225, 'salaries': 7556, 'x8bwe': 9226, 'equitable': 2845, 'hear': 3679, 'platts': 6618, 'commodity': 1621, 'investment': 4208, 'fundamental': 3359, 'sector': 7681, 'elements': 2683, 'placed': 6602, 'steep': 8134, 'competing': 1663, 'complementary': 1672, 'lng': 4559, 'liquids': 4536, 'petrochemicals': 6546, 'continued': 1849, 'expanding': 2971, 'readers': 7117, 'nyour': 6137, 'crude': 2026, 'oil': 6207, 'says': 7594, 'naturally': 5173, 'conscientious': 1777, 'occur': 6173, 'spotting': 8042, 'ncollects': 5272, 'nleverages': 5656, 'outgoing': 6318, 'nconducts': 5295, 'rate': 7095, 'return': 7431, 'nprepares': 5848, 'engages': 2772, 'demonstrate': 2213, 'nresponds': 5928, 'ntrains': 6041, 'mentors': 4824, 'timeliness': 8540, 'nba': 5188, 'n0': 5052, 'npersistent': 5819, 'fundamentals': 3361, 'grasp': 3547, 'pipeline': 6590, 'grid': 3562, 'dynamics': 2574, 'ndisplays': 5369, 'rounded': 7509, 'personalities': 6521, 'adapting': 381, 'numeracy': 6063, 'conceptualize': 1722, 'proportional': 6910, 'algebra': 530, 'nadept': 5100, 'adhering': 401, 'adjust': 406, 'platt': 6617, 'conviction': 1889, 'benchmark': 990, 'commodities': 1620, 'news': 5469, 'greater': 3550, 'metals': 4844, 'agriculture': 503, 'ns': 5941, 'nyse': 6139, 'spgi': 8019, 'governments': 3515, 'spglobal': 8020, 'nto': 6035, 'accept': 299, 'unsolicited': 8835, 'resumes': 7415, 'fees': 3130, 'seniority': 7726, 'audio': 838, 'listeners': 4541, 'personalize': 6524, 'designers': 2264, 'undertake': 8779, 'wider': 9143, 'coach': 1537, 'ggplot': 3459, 'matplotlib': 4749, 'thinker': 8508, 'autonomously': 873, 'loosely': 4598, 'teaching': 8419, 'technologists': 8440, 'builder': 1173, 'nit': 5634, 'cgi': 1373, 'x94supporting': 9244, 'offering': 6192, 'reinforces': 7243, 'nbe': 5198, 'nlearn': 5653, 'nno': 5726, 'ncgi': 5249, 'ethnicity': 2883, 'perceived': 6481, 'familial': 3083, 'characteristics': 1396, 'mailbox': 4649, 'us_employment_compliance': 8862, 'requisition': 7348, 'message': 4839, 'routed': 7511, 'recruiter': 7172, 'note': 5775, 'reason': 7131, 'returned': 7432, 'click': 1508, 'transitioning': 8645, 'successfully': 8262, 'vary': 8932, 'held': 3688, 'discharge': 2386, 'inquired': 4058, 'discussed': 2420, 'disclosed': 2395, 'disclose': 2394, 'unless': 8819, 'disclosure': 2396, 'complaint': 1670, 'charge': 1398, 'furtherance': 3373, 'proceeding': 6827, 'hearing': 3681, 'conducted': 1742, 'duty': 2569, 'furnish': 3370, 'streams': 8184, 'assimilation': 771, 'road': 7480, 'map': 4695, 'sdlc': 7660, 'requirement': 7343, 'erp': 2852, 'university': 8811, 'nebraska': 5397, 'lincoln': 4522, 'respected': 7380, 'fosters': 3289, 'promotes': 6892, 'eo': 2830, 'pregnancy': 6743, 'unl': 8815, 'edu': 2634, 'd3': 2085, 'cooperatively': 1899, 'accomplishment': 318, 'flexibility': 3206, 'filter': 3155, 'desirable': 2268, 'prefer': 6737, 'npre': 5842, 'placement': 6603, 'cdl': 1336, 'dot': 2512, 'approved': 687, 'alcohol': 525, 'controlled': 1870, 'substances': 8251, 'transwestern': 8659, 'comprise': 1701, 'privately': 6811, 'diversified': 2467, 'underlies': 8768, 'outperform': 6329, 'baltimore': 932, 'collects': 1575, 'inputs': 4056, 'tracks': 8604, 'leases': 4448, 'tenant': 8458, 'movement': 5006, 'recommends': 7158, 'expands': 2972, 'brokers': 1148, 'coursework': 1963, 'indesign': 3964, 'costar': 1944, 'pressure': 6773, 'calendar': 1225, 'budgeted': 1166, 'district': 2463, 'columbia': 1582, 'energetic': 2761, 'guiding': 3596, 'algorithm': 531, 'aims': 513, 'orders': 6284, 'invested': 4197, 'logistics': 4580, 'mile': 4879, 'operation': 6244, 'resourceful': 7377, 'flex': 3205, 'scaling': 7605, 'justify': 4321, 'acquire': 347, 'willing': 9146, 'technique': 8434, 'regularization': 7231, 'elastic': 2671, 'net': 5447, 'weighted': 9110, 'squares': 8053, 'censored': 1348, 'endogeneity': 2757, 'propensity': 6905, 'resulting': 7412, 'loop': 4596, 'proof': 6899, 'concept': 1717, 'conceptualizing': 1723, 'chart': 1405, 'courses': 1962, 'implemented': 3898, 'excitement': 2939, 'iterative': 4248, 'guide': 3591, 'phases': 6557, 'skill': 7875, 'recommending': 7157, 'interpreting': 4162, 'straight': 8170, 'spirit': 8023, 'pioneering': 6588, 'partnership': 6414, 'try': 8706, 'transit': 8643, 'tdm': 8416, 'capital': 1260, 'metro': 4856, 'updating': 8847, 'surveying': 8326, 'efficacy': 2656, 'farebox': 3092, 'inaccuracies': 3920, 'exceptions': 2934, 'rejection': 7248, 'reschedule': 7350, 'collections': 1572, 'corrective': 1927, 'graphs': 3546, 'forecasts': 3255, 'trend': 8678, 'endeavors': 2754, 'validity': 8912, 'confer': 1746, 'originating': 6306, 'entering': 2805, 'advancing': 434, 'interviews': 4175, 'urban': 8859, 'propose': 6913, 'hourly': 3781, 'mclean': 4771, '19050': 69, 'virginia': 8999, 'founder': 3294, 'chairman': 1376, 'chief': 1429, 'executive': 2951, 'richard': 7455, 'fairbank': 3078, 'humanity': 3811, 'banking': 937, 'exhibit': 2960, 'succeeding': 8258, 'nguided': 5557, 'shared': 7777, 'openness': 6237, 'powered': 6704, 'teamwork': 8426, 'obsess': 6156, 'realize': 7126, 'launched': 4411, 'disrupted': 2442, 'individually': 3979, 'personalizing': 6526, '1988': 78, 'skyrocketed': 7882, 'outsized': 6334, 'reusable': 7435, 'libraries': 4489, 'modules': 4966, 'enabling': 2743, '2nd': 136, 'extensible': 3025, 'succinctly': 8263, 'interactions': 4133, 'static': 8117, 'interactive': 4134, 'dependencies': 2227, 'abstracting': 283, 'encoding': 2744, 'visual': 9018, 'representations': 7324, 'carry': 1294, 'richer': 7456, 'bit': 1040, 'simpler': 7846, 'wave': 9090, 'inspirational': 4075, 'examples': 2924, 'demos': 2219, 'onlookers': 6226, 'inside': 4067, 'blurt': 1064, 'crazy': 1984, 'probably': 6820, 'incredible': 3953, 'credentials': 1997, 'impressive': 3911, 'dropped': 2551, 'taught': 8409, 'contributor': 1867, 'wrangler': 9202, 'parsing': 6399, 'render': 7301, 'solved': 7951, 'experimenter': 2989, 'bias': 1008, 'fail': 3074, 'shipped': 7795, 'flopped': 3213, 'fearless': 3113, 'undefined': 8764, 'frighten': 3332, 'tiny': 8545, 'crack': 1977, 'broken': 1146, 'nut': 6086, 'ntwenty': 6050, 'met': 4841, 'nbasic': 5196, 'x9cstem': 9293, 'numerical': 6066, 'textual': 8489, 'ncapital': 5235, 'sponsoring': 8031, 'ignite': 3857, 'motion': 4996, 'riders': 7460, 'eaters': 2595, '600': 201, 'cities': 1462, 'let': 4469, 'productionizing': 6844, 'accelerating': 296, 'grade': 3521, 'nleverage': 5655, 'spend': 8015, 'allocation': 546, 'derive': 2246, 'prospecting': 6922, 'proprietary': 6918, 'ncollaborate': 5266, 'ntranslate': 6043, 'learnings': 4445, 'nexpertise': 5492, 'nprevious': 5852, 'ngreat': 5554, 'nbalance': 5194, 'swift': 8347, 'enthusiasm': 2811, 'dsi': 2557, 'preclinical': 6726, 'physiological': 6572, 'telemetry': 8450, 'pulmonary': 6973, 'allowing': 549, 'trials': 8682, 'gained': 3384, 'inspiration': 4074, 'shunned': 7818, 'extracting': 3034, 'nskills': 5972, 'latitude': 4408, 'nbonus': 5210, 'npassionate': 5807, 'nprofessional': 5866, 'cbap': 1329, 'pba': 6456, 'cma': 1532, 'involved': 4218, 'upstream': 8858, 'subsurface': 8255, 'reservoirs': 7361, 'smes': 7906, 'autonomous': 872, 'empowered': 2733, 'limits': 4521, 'ip': 4224, 'nact': 5090, 'reservoir': 7360, 'agents': 486, 'ncontribute': 5306, 'usually': 8883, 'petrophysicist': 6548, 'nmsc': 5715, 'petroleum': 6547, 'nalgorithmic': 5109, 'simulation': 7852, 'nphd': 5824, 'mathematica': 4744, 'scipy': 7631, 'numpy': 6069, 'nbeyond': 5205, 'spinoff': 8022, 'nasa': 5149, 'jet': 4266, 'propulsion': 6919, 'caltech': 1235, 'far': 3091, 'conventional': 1875, 'cognitive': 1551, 'mimics': 4886, 'reasoning': 7135, 'recruiting': 7174, 'termination': 8471, 'layoff': 4426, 'recall': 7138, 'leaves': 4451, 'absence': 279, 'improper': 3912, 'interference': 4144, 'limit': 4518, 'remote': 7296, 'ago': 498, '52799': 184, 'pra': 6715, '15000': 50, 'cro': 2019, 'maintained': 4654, 'old': 6210, 'permeates': 6506, 'simply': 7851, 'risks': 7472, 'nacting': 5091, 'trending': 8679, 'ndeveloping': 5359, 'specifying': 8009, 'protocols': 6935, 'nproviding': 5878, 'nreviewing': 5935, 'aggregate': 488, 'regularly': 7232, 'identification': 3848, 'collaborates': 1559, 'teamsto': 8425, 'nrecommend': 5898, 'adaptive': 382, 'ndocuments': 5379, 'utilizingapplicable': 8891, 'usingprogramming': 8879, 'nescalates': 5443, 'concerns': 1726, 'outof': 6328, 'analytically': 598, 'constant': 1803, 'considering': 1791, 'programmers': 6871, 'ntechnical': 6018, 'jreview': 4298, 'spotfire': 8039, 'jmp': 4271, 'nanalytical': 5120, 'manageable': 4670, 'nsql': 5986, 'aggregating': 490, 'interpretation': 4160, 'frequently': 3320, 'npra': 5839, 'onlineapply': 6225, 'nshare': 5958, 'sorry': 7962, 'properly': 6907, 'moment': 4970, 'refresh': 7209, 'later': 4405, 'newsfeed': 5470, 'influences': 4002, 'catholic': 1323, 'observations': 6154, 'hidden': 3706, 'nan': 5118, 'behavioral': 977, 'traits': 8620, 'indicate': 3970, 'deal': 2139, 'motivation': 4999, 'ethic': 2878, 'factor': 3067, 'obtained': 6163, 'course': 1960, 'ext': 3020, 'jump': 4309, 'criticism': 2016, '29': 133, 'nfrom': 5535, '64': 205, '143': 46, 'strength': 8188, 'kind': 4348, 'longevity': 4588, 'testimony': 8482, 'loyalty': 4616, 'ncatholic': 5243, 'second': 7674, 'fraternal': 3310, 'consecutive': 1778, 'milwaukee': 4885, 'sentinel': 7735, 'soft': 7933, 'parking': 6397, 'rooftop': 7498, 'pool': 6656, 'faith': 3080, 'membership': 4812, 'god': 3494, 'nxj6': 6131, 'palo': 6376, 'alto': 562, 'institute': 4085, 'pavir': 6443, 'investigator': 4205, 'pi': 6574, 'eugene': 2885, 'butcher': 1193, 'laboratory': 4380, 'butcherlab': 1194, 'stanford': 8094, 'cell': 1344, 'transcriptomics': 8630, 'investigators': 4206, 'vascular': 8934, 'immunology': 3888, 'tumor': 8713, 'translational': 8652, 'genomic': 3441, 'transcriptomic': 8629, 'dimensional': 2353, 'biological': 1029, 'wk': 9166, 'exempt': 2955, 'nvision': 6102, 'ndental': 5343, 'nholidays': 5577, 'nlong': 5666, 'nflexible': 5518, 'n401': 5069, 'ncommuter': 5280, 'npavir': 5809, 'affiliated': 468, 'affairs': 462, 'vapahcs': 8921, 'commence': 1606, 'nduties': 5391, 'jsl': 4300, 'charts': 1408, 'potentially': 6697, 'problematic': 6822, 'corrections': 1926, 'inadequate': 3922, 'edits': 2632, 'suggest': 8266, 'faculty': 3073, 'nprovide': 5876, 'criteria': 2013, 'nlicense': 5658, 'nsubstantial': 6002, 'nenvironmental': 5437, 'demands': 2206, 'nphysical': 5825, 'lifting': 4510, 'lbs': 4429, 'bending': 993, 'repetitive': 7313, 'manual': 4688, 'dexterity': 2308, 'wet': 9127, 'blood': 1057, 'borne': 1091, 'pathogens': 6433, 'toxic': 8597, 'caustic': 1328, 'chemicals': 1418, 'reagents': 7122, 'radiation': 7066, 'occasional': 6167, 'sponsors': 8032, 'administering': 412, 'funds': 3366, 'combat': 1586, 'refer': 7196, 'pleased': 6629, 'el': 2670, 'segundo': 7702, 'california': 1228, 'streaming': 8181, 'objective': 6147, 'nreport': 5911, 'rich': 7454, 'predict': 6729, 'failures': 3076, 'broadcast': 1142, 'reduce': 7187, 'outages': 6313, 'nmake': 5679, 'displays': 2436, 'n1': 5053, 'highcharts': 3710, 'js': 4299, 'matillion': 4747, 'alteryx': 561, 'knime': 4357, 'presto': 6776, 'kafka': 4323, 'isolved': 4239, 'hcm': 3660, 'robust': 7486, 'hr': 3792, 'onboarding': 6220, 'aca': 289, 'enrollment': 2796, 'sized': 7872, 'import': 3903, 'brief': 1130, 'electronically': 2679, 'convert': 1882, 'infinisource': 3997, 'smooth': 7911, 'extremely': 3042, 'hris': 3794, 'construct': 1811, 'pdf2excel': 6462, 'workable': 9175, 'pdf': 6461, 'satisfactory': 7583, 'examine': 2921, 'concentration': 1716, 'moderate': 4951, 'noise': 5739, 'disclaimer': 2393, 'merely': 4831, 'revise': 7444, 'performed': 6489, 'introduction': 4184, 'fleetcor': 3204, 'nmain': 5674, 'average': 880, 'flt': 3224, 'simplify': 7850, 'secure': 7683, 'fuel': 3341, 'toll': 8562, 'payables': 6446, 'acceptance': 302, 'networks': 5454, 'merchants': 4829, 'incremental': 3955, 'latin': 4407, 'australasia': 848, 'nfounded': 5533, '2000': 90, 'peachtree': 6465, 'corners': 1917, 'georgia': 3452, 'fuelman': 3343, 'comdata': 1595, 'nforbes': 5526, 'champion': 1383, '250': 126, 'fastest': 3104, 'forbes': 3248, 'statista': 8120, 'prestigious': 6775, 'row': 7515, '1000': 15, 'movers': 5007, 'rankings': 7088, 'rising': 7470, '92': 252, 'spots': 8041, '896': 244, '500': 180, 'comprised': 1702, 'stocks': 8154, 'cap': 1253, 'nfleetcor': 5516, 'founded': 3293, 'x98thrive': 9253, 'volunteer': 9039, 'xa6allowing': 9312, 'achievement': 340, 'responded': 7388, 'links': 4534, 'npackage': 5797, 'hired': 3721, 'automatic': 865, 'thirty': 8513, '30': 139, 'waiting': 9054, 'projected': 6881, 'trajectory': 8621, 'shows': 7817, 'digit': 2346, 'organic': 6291, 'contests': 1839, 'prizes': 6813, 'appreciation': 676, 'discounted': 2401, 'wholesale': 9136, 'grocery': 3565, 'gyms': 3602, 'philanthropic': 6562, 'intersecting': 4167, 'crime': 2005, 'incidents': 3929, 'messy': 4840, 'governmental': 3514, 'private': 6810, 'inclination': 3932, 'allow': 547, 'notifications': 5783, 'mayors': 4763, 'governors': 3516, 'chiefs': 1430, 'police': 6646, 'figures': 3148, 'citizen': 1463, 'nlead': 5650, 'ndistilling': 5370, 'wrangling': 9203, 'evangelize': 2900, 'nenjoys': 5431, 'option': 6270, 'ncitizen': 5255, 'target': 8402, 'mappings': 4699, 'repository': 7321, 'nasco': 5151, 'box': 1099, 'ezcater': 3046, 'greenhouse': 3556, 'io': 4222, 'embed': 2699, 'catering': 1322, '23': 121, '8m': 246, 'ratings': 7099, '60k': 202, 'caterers': 1321, 'superbly': 8290, 'food': 3243, 'iconiq': 3837, 'wellington': 9120, '2b': 134, '2020': 109, 'surely': 8313, 'instrumental': 4095, 'elevating': 2685, 'supervisors': 8297, 'ezdispatch': 3047, 'nboth': 5211, 'similarly': 7844, 'tie': 8532, 'extractions': 3036, 'clamor': 1475, 'constantly': 1804, 'quantify': 7033, 'ranks': 7089, 'champions': 1384, 'accessible': 308, 'invaluable': 4190, 'impactful': 3890, 'weeds': 9103, 'rigorous': 7468, 'straightforward': 8171, 'nplease': 5829, 'telling': 8453, 'kick': 4344, 'trade': 8606, 'dsa': 2556, 'shortage': 7808, 'hone': 3759, 'eager': 2575, 'nalso': 5112, 'importantly': 3906, 'sane': 7573, 'room': 7499, 'bad': 924, 'happen': 3626, 'oh': 6204, 'usual': 8882, 'eat': 2593, 'subsidized': 8248, 'passes': 6421, 'smack': 7895, 'dab': 2087, 'tremendous': 8677, 'wicked': 9140, 'awesome': 896, 'cupcakes': 2052, 'goodies': 3503, 'knowing': 4361, 'helped': 3691, 'rocket': 7488, 'ship': 7794, 'moon': 4988, 'nezcater': 5500, 'embrace': 2707, 'humans': 3812, 'appearance': 657, 'jerks': 4263, 'brilliant': 1137, 'ones': 6221, 'initiation': 4037, 'closure': 1526, 'da': 2086, 'predictable': 6730, 'hc1': 3658, 'exposed': 3014, 'hl7': 3737, 'strongly': 8208, 'understood': 8778, 'concert': 1727, 'sdm': 7661, 'engage': 2768, 'completing': 1678, 'configurations': 1755, 'export': 3012, 'browsers': 1154, 'nhc1': 5563, 'improves': 3917, 'x94including': 9237, 'laboratories': 4379, 'payors': 6452, 'x94to': 9245, 'harms': 3640, 'eliminating': 2691, 'wasteful': 9079, 'nget': 5549, 'glimpse': 3481, 'visiting': 9014, 'instagram': 4079, 'hc1dotcom': 3659, 'openx': 6239, 'petabyte': 6542, 'won': 9170, 'cut': 2076, 'neural': 5456, 'bagged': 925, 'boosted': 1084, 'trees': 8675, 'literature': 4547, 'incorporating': 3948, 'programmatic': 6869, 'exchange': 2935, 'maximize': 4759, 'buyers': 1199, 'sellers': 7714, 'unlock': 8821, 'architectures': 703, 'consultant': 1817, 'pytorch': 7006, 'theory': 8500, 'signal': 7831, 'gcp': 3413, 'azure': 902, 'glance': 3477, 'nopenx': 5754, 'unleashing': 8818, 'designed': 2262, 'served': 7746, 'screens': 7652, 'marketplaces': 4716, 'executors': 2953, 'fascinated': 3099, 'empathetic': 2717, 'frontiers': 3335, 'bedrock': 969, 'remind': 7293, 'unified': 8788, 'flourishes': 3218, 'dies': 2329, 'stake': 8076, 'reputations': 7334, 'book': 1080, 'teach': 8418, 'confront': 1766, 'repeat': 7310, 'aggressively': 493, 'defensiveness': 2175, 'weaklings': 9093, '43': 172, '101': 20, '202': 108, 'johns': 4279, 'hopkins': 3764, 'children': 1433, 'functionality': 3354, 'moderately': 4952, 'benchmarking': 991, 'physician': 6569, 'divisional': 2472, 'concurrent': 1735, 'educates': 2636, 'coaches': 1538, 'visio': 9009, 'acquired': 348, 'cogito': 1548, 'caboodle': 1212, 'soon': 7959, 'pass': 6418, 'certificate': 1365, 'compile': 1667, 'extended': 3022, 'periods': 6498, 'classified': 1487, 'nrole': 5939, 'atp': 807, '03': 6, 'pb': 6455, 'nstarting': 5993, 'pm': 6638, 'nexempt': 5485, '04': 8, '10003093': 16, 'som': 7955, 'ped': 6467, 'npersonnel': 5821, 'jhurecruitment': 4268, 'jhu': 4267, 'tty': 8709, 'maryland': 4724, 'relay': 7261, 'dial': 2318, '711': 215, 'provisions': 6949, 'accordingly': 322, 'influenza': 4005, 'flu': 3225, 'season': 7670, 'institutions': 4090, 'vaccination': 8903, 'religious': 7280, 'subjects': 8231, 'immune': 3885, 'rubella': 7528, 'german': 3454, 'measles': 4785, 'rubeola': 7529, 'mumps': 5042, 'varicella': 8927, 'chickenpox': 1428, 'hepatitis': 3696, 'having': 3654, 'received': 7140, 'tdap': 8415, 'tetanus': 8485, 'diphtheria': 2360, 'pertussis': 6539, 'mmr': 4932, 'vaccines': 8906, 'antibody': 639, 'diseases': 2425, 'immunities': 3886, 'ordinarily': 6287, 'included': 3934, 'exam': 2920, 'immunization': 3887, 'vaccinations': 8904, 'occupational': 6172, 'nnote': 5729, 'postings': 6691, 'updated': 8845, 'nhttps': 5583, 'www1': 9212, 'eeoc': 2645, 'gov': 3508, 'employers': 2728, 'upload': 8854, 'eeoc_self_print_poster': 2646, 'nimportant': 5602, 'nhttp': 5582, 'hrnt': 3796, 'cfm': 1372, 'udacity': 8736, 'democratize': 2209, 'groundbreaking': 3567, 'robotics': 7485, 'virtual': 9000, 'reality': 7124, 'empowerment': 2735, 'cars': 1296, 'aspiring': 751, 'learners': 4443, 'essentials': 2868, 'nudacity': 6056, 'payback': 6447, 'engine': 2774, 'advantages': 436, 'drawbacks': 2529, 'properties': 6908, 'distributions': 2461, 'feature': 3116, 'lgbtq': 4484, 'enters': 2808, 'aco': 346, 'scheduling': 7615, 'recipients': 7146, 'submits': 8235, 'auditing': 840, 'rosters': 7506, 'beaumont': 965, 'harris': 3645, 'birkhill': 1035, 'physicians': 6570, 'obtains': 6165, 'reconciling': 7164, 'understands': 8776, 'considers': 1792, 'secondary': 7675, 'conceives': 1713, 'delivers': 2199, 'affordable': 474, 'collective': 1573, 'stand': 8083, 'sickness': 7823, 'unleashes': 8817, 'prototyping': 6938, 'standardize': 8088, 'cycle': 2082, 'hcsc': 3661, 'drug': 2552, 'smoke': 7909, 'screening': 7651, 'allowed': 548, 'h4': 3607, 'submitted': 8237, 'view': 8986, 'submissions': 8233, 'tune': 8714, 'stephen': 8139, 'edward': 2641, 'tufte': 8711, 'principals': 6794, 'storytelling': 8169, 'appropriately': 683, 'ssas': 8059, 'cube': 2043, 'sharepoint': 7779, 'substance': 8250, 'abuse': 288, 'alleviate': 543, 'tsql': 8708, 'dax': 2124, 'ssrs': 8063, 'cardinal': 1273, 'innovations': 4050, 'vudu': 9048, 'sunnyvale': 8287, 'sounds': 7968, 'x83': 9223, 'x98': 9248, 'prediction': 6733, 'choices': 1440, 'ambiguous': 567, 'ab1': 267, 'practicing': 6720, 'juggle': 4305, 'staying': 8129, 'architecting': 699, 'images': 3870, 'suit': 8271, 'ncontract': 5305, 'nservice': 5955, 'amendments': 573, 'nmaintenance': 5677, 'paralegal': 6385, 'nfluent': 5521, 'nhigh': 5572, 'numerate': 6064, 'naccustomed': 5087, 'sla': 7885, 'ncustomer': 5322, 'aware': 891, 'nintermediate': 5621, 'lookups': 4595, 'nindependently': 5607, 'nexperienced': 5491, 'astreya': 790, 'biggest': 1016, 'nemployment': 5423, 'nintroduction': 5630, 'ncareer': 5238, 'nonline': 5745, 'cbt': 1331, 'nuggets': 6057, 'upskill': 8857, 'nperformance': 5814, 'ndedicated': 5331, 'ninternal': 5622, 'nnumerous': 5732, 'npeer': 5811, 'nmarket': 5685, 'nastreya': 5160, 'merit': 4836, '42': 171, 'contractor': 1858, 'remotely': 7297, 'alelo': 526, 'opening': 6234, 'employing': 2729, 'counts': 1955, 'saved': 7588, 'enskill': 2799, 'dozens': 2520, 'spoken': 8028, 'dialogue': 2320, 'exercises': 2957, 'upgrades': 8850, 'select': 7704, 'filtering': 3156, 'annotation': 624, 'raters': 7097, 'retrain': 7423, 'prepared': 6753, 'taken': 8383, 'interaction': 4132, 'mongodb': 4975, 'chatbot': 1411, 'suspension': 8331, 'transcription': 8628, 'duplicate': 2564, 'eliminate': 2690, 'mpi': 5013, 'duplicates': 2565, 'merges': 4834, 'unmerges': 8824, 'registration': 7223, 'demographic': 2210, 'belongs': 987, 'identifier': 3850, 'registered': 7222, 'nand': 5123, 'licensure': 4496, 'hpf': 3789, 'portal': 6663, 'greenway': 3559, 'inappropriate': 3923, 'abbreviations': 269, 'backs': 920, 'body': 1074, 'surgical': 8319, 'ambulatory': 571, 'immediately': 3879, 'doctors': 2486, 'deficiencies': 2177, 'sign': 7830, 'decline': 2159, 'signature': 7833, 'unable': 8749, 'doctor': 2484, 'queues': 7051, 'sent': 7733, 'adi': 402, 'correction': 1925, 'queue': 7050, 'stockamp': 8152, 'nassist': 5157, 'migrate': 4873, 'brrh': 1156, 'intra': 4178, 'inter': 4129, 'mrn': 5019, 'elimination': 2692, 'creations': 1991, 'coordination': 1904, 'suggested': 8267, 'cleanup': 1498, 'curriculum': 2063, 'pertains': 6537, 'infraction': 4021, 'beliefs': 981, 'strengths': 8192, 'limitations': 4519, 'adaptability': 378, 'maturity': 4756, 'phi': 6560, 'calm': 1232, 'responsiveness': 7398, 'stressful': 8194, 'delinquent': 2193, 'adult': 427, 'advocates': 453, 'promptness': 6897, 'merging': 4835, 'boca': 1070, 'raton': 7101, 'linking': 4533, 'manually': 4689, 'families': 3087, 'visitors': 9016, 'disaster': 2384, 'man': 4668, 'evacuation': 2892, 'adhere': 398, 'smoking': 7910, 'restrictions': 7409, 'instituted': 4086, 'hires': 3722, 'documented': 2489, 'vaccine': 8905, '561': 190, '955': 257, '4075': 169, 'zendesk': 9354, 'amer': 575, 'fact': 3063, 'sharer': 7780, 'needing': 5406, 'sole': 7941, 'wins': 9154, 'selflessly': 7711, 'digger': 2344, 'actually': 368, 'sees': 7696, 'unafraid': 8750, 'admit': 418, 'inventive': 4192, 'njoin': 5639, 'prove': 6941, 'nsift': 5967, 'nassess': 5154, 'mentorship': 4825, 'initial': 4033, 'brainstorms': 1109, 'launch': 4410, 'clarity': 1480, 'hesitate': 3699, 'knack': 4354, 'bime': 1025, 'gooddata': 3501, 'funnel': 3368, 'mqls': 5015, 'arr': 718, 'scales': 7604, 'startups': 8109, 'enterprises': 2807, 'multitude': 5039, 'asia': 742, 'australia': 849, 'south': 7973, 'ninterested': 5620, 'neighbor': 5416, 'nzendesk': 6140, 'nby': 5224, 'submitting': 8238, 'agree': 499, 'purposes': 6987, 'privacy': 6809, 'explains': 3000, 'gateway': 3404, 'louis': 4606, 'publisher': 6964, 'clayton': 1491, 'missouri': 4915, 'issue': 4241, 'acting': 355, 'jira': 4269, 'trello': 8676, 'uniqueness': 8800, 'forth': 3282, 'privileges': 6812, 'metropolitan': 4857, 'logistical': 4579, 'fabric': 3049, 'ride': 7458, 'sandwich': 7572, 'represents': 7329, 'earn': 2582, 'strengthen': 8189, 'streets': 8187, 'trucking': 8698, 'haul': 3652, 'rider': 7459, 'deriving': 2248, 'catalyze': 1313, 'ocr': 6176, 'cohorts': 1555, 'nmasters': 5687, 'anticipated': 641, 'demonstrable': 2212, 'nself': 5953, 'guided': 3592, 'nsuperb': 6007, 'safe': 7544, 'accuity': 334, '1999': 83, 'mineola': 4893, 'fiu': 3193, 'ny': 6133, 'anti': 638, 'laundering': 4413, 'sbs': 7596, 'holistic': 3751, 'reaches': 7111, 'silos': 7840, 'guys': 3600, 'miss': 4910, 'patented': 6429, 'ranking': 7087, 'probability': 6819, 'kyc': 4375, 'enhanced': 2783, 'supportive': 8310, 'door': 2509, 'furthering': 3374, 'coaching': 1539, 'names': 5115, 'entities': 2816, 'suspected': 8329, 'terrorism': 8476, 'crimes': 2006, 'suspicious': 8332, 'terrorist': 8477, 'alternate': 558, 'min': 4887, 'bsa': 1159, 'patriot': 6438, 'drew': 2538, 'saint': 7553, 'baman1': 933, 'boeing': 1075, 'renton': 7304, 'wa': 9050, 'mo': 4934, 'bscs': 1161, 'nresponding': 5927, 'nfinding': 5512, 'continuity': 1852, 'ndocumenting': 5378, 'quicker': 7054, 'nboeing': 5209, 'aerospace': 460, 'manufacturer': 4691, 'airplanes': 518, 'technicians': 8432, 'skilled': 7876, 'bold': 1076, 'innovators': 4053, 'dreamers': 2535, 'x9cus': 9297, 'xa7': 9315, '120': 35, 'lawful': 4416, 'permanent': 6504, 'resident': 7364, 'refugee': 7210, 'asylee': 793, 'traditional': 8609, 'devops': 2303, 'nprior': 5854, 'geographically': 3450, 'dispersed': 2434, 'partnerships': 6415, 'nexcitement': 5481, 'ntypical': 6052, 'mathematic': 4743, 'nyes': 6135, 'cio': 1453, 'nresearches': 5922, 'implements': 3900, 'devises': 2301, 'compare': 1649, 'clarivate': 1481, 'modernization': 4956, 'obsolete': 6159, 'redundant': 7190, 'migrating': 4875, 'routines': 7514, 'migratiion': 4874, 'nseven': 5956, 'nthree': 6032, 'hp': 3787, 'uft': 8738, 'selenium': 7709, 'dealing': 2142, 'powerbuilder': 6702, 'npossess': 5834, 'diagrams': 2317, 'typos': 8730, 'grammatical': 3533, 'migrations': 4877, 'bdd': 962, 'cucumber': 2044, 'postman': 6692, 'soapui': 7924, 'junit': 4314, 'nunit': 6075, 'agilecraft': 495, 'nformal': 5530, 'nsalient': 5943, 'crgt': 2004, 'mobility': 4938, 'cyber': 2080, 'pivotal': 6595, 'missions': 4914, 'civilian': 1470, 'express': 3016, 'clicking': 1509, 'button': 1196, 'viewing': 8990, 'salient': 7561, 'salientcrgt': 7562, 'gcc': 3412, '1997': 82, 'oakland': 6143, 'hubzone': 3805, 'recently': 7143, 'iso': 4237, 'certified': 1369, '9001': 249, '2015': 103, 'proposing': 6915, 'bpa': 1101, 'releasing': 7265, 'released': 7263, 'cleared': 1502, 'promising': 6889, 'ree': 7191, 'deputy': 2244, 'derived': 2247, 'reeta': 7195, 'evaluates': 2895, 'effects': 2655, 'intranet': 4179, 'bureau': 1184, 'modifying': 4963, 'inactivating': 3921, 'templates': 8455, 'prepares': 6754, 'satisfaction': 7581, 'ngcc': 5543, 'belief': 980, 'factors': 3070, 'discriminatory': 2418, 'vets': 8972, 'abbott': 268, 'fully': 3349, 'spans': 7984, 'spectrum': 8011, 'diagnostics': 2316, 'devices': 2299, 'nutritionals': 6092, 'branded': 1112, 'generic': 3436, '103': 21, '160': 54, 'ngathers': 5542, 'summarizes': 8282, 'pqe': 6713, 'pqa': 6712, 'assessments': 762, 'capa': 1254, 'surveillance': 8324, 'nassisting': 5158, 'ndrafting': 5385, 'facilitating': 3058, 'nescalating': 5444, 'describes': 2251, 'wholly': 9137, 'representation': 7323, 'manufacturing': 4693, 'voice': 9033, 'emerge': 2711, 'dropbox': 2550, 'mentions': 4821, 'backlog': 919, 'leveling': 4473, 'super': 8289, 'saas': 7542, 'finish': 3177, 'sit': 7862, 'augment': 843, 'mix': 4923, 'equivalents': 2849, 'facts': 3072, 'seamlessly': 7666, 'digestible': 2343, 'satisfactorily': 7582, 'finger': 3173, 'arms': 717, 'walk': 9058, 'climb': 1514, 'stoop': 8156, 'kneel': 4355, 'crouch': 2024, 'lift': 4509, 'punctuality': 6979, 'air': 514, 'complying': 1690, 'alienage': 535, 'accessibility': 307, '317': 148, '613': 203, '6890': 211, 'talentacquisition': 8388, 'finishline': 3180, 'reasonably': 7134, '1901744': 68, 'drives': 2547, 'frames': 3301, 'sell': 7712, 'generations': 3435, 'xgboost': 9332, 'sophisticated': 7960, 'nsupport': 6010, 'agenda': 484, 'wallet': 9063, 'ndrives': 5388, 'nenhance': 5429, 'alternative': 559, 'establishment': 2872, 'qc': 7010, 'earning': 2584, 'formulation': 3280, 'massachusetts': 4726, '06366': 10, '1001': 17, 'fiat': 3140, 'chrysler': 1447, 'automobiles': 870, 'fca': 3110, 'pipe': 6589, 'lining': 4529, 'ict': 3838, 'constraints': 1810, 'corresponding': 1935, 'hierarchical': 3707, 'stochastic': 8150, 'embedding': 2701, 'sne': 7919, 'pca': 6459, 'underlying': 8769, 'mechanics': 4794, 'repeatability': 7311, 'fairness': 3079, 'operationalization': 6246, 'mlops': 4930, 'challenger': 1378, 'coe': 1546, 'launching': 4412, 'premises': 6747, 'hybrid': 3823, 'containerization': 1834, 'kubernetes': 4372, 'container': 1833, 'postgres': 6687, 'greenplum': 3557, 'confident': 1751, 'starters': 8105, 'moderation': 4954, 'especially': 2861, 'domains': 2503, 'automotive': 871, 'rstudio': 7523, 'rapidminer': 7092, 'dataiku': 2105, 'h2o': 3605, 'em': 2696, 'azureml': 903, 'ibm': 3833, 'watson': 9089, 'modeler': 4945, 'sagemaker': 7550, 'generalized': 3428, 'glm': 3482, 'boosting': 1085, 'convolutional': 1892, 'cnn': 1534, 'recurrent': 7176, 'rnn': 7478, 'specialization': 7997, 'versed': 8962, 'reflects': 7207, 'healthy': 3678, 'customary': 2069, 'norms': 5768, 'weka': 9112, 'baselines': 948, 'effect': 2649, 'intervals': 4170, 'significance': 7835, 'measurements': 4790, 'alexa': 528, 'instantly': 4082, 'interacting': 4131, 'echo': 2605, 'tap': 8400, 'seconds': 7676, 'nlu': 5671, 'hardest': 3635, 'conversational': 1879, 'exceeds': 2927, 'tagging': 8380, 'syntactic': 8357, 'disambiguation': 2383, 'ecd': 2603, 'pa': 6357, 'particular': 6406, 'protocol': 6934, 'pilots': 6582, 'medidata': 4800, 'rave': 7102, 'clinicaltrials': 1517, 'detect': 2277, 'ecdi': 2604, 'apache': 649, 'probabilistic': 6817, 'pymc3': 7001, 'figaro': 3145, 'yrs': 9353, 'wix': 9164, '90': 247, '130': 39, '1tb': 87, 'interfaces': 4142, 'bsc': 1160, 'nsee': 5951, 'x93churn': 9229, 'administers': 413, 'advising': 447, 'essc': 2866, 'largely': 4397, 'sister': 7861, 'tv': 8721, 'lendio': 4463, 'plenty': 6632, 'nmaintain': 5675, 'introduced': 4183, 'ninterpret': 5628, 'scheduled': 7613, 'ncontinuously': 5304, 'innovate': 4046, 'talents': 8391, 'internships': 4156, 'ndomo': 5383, 'neffective': 5410, 'ncompetitive': 5286, '50k': 182, 'npeople': 5812, 'nbright': 5216, 'npaid': 5798, 'birthday': 1038, 'relocation': 7284, 'greatplacetowork': 3553, 'slack': 7886, 'scrappy': 7647, 'integrations': 4112, 'nslack': 5973, 'x94we': 9247, 'humble': 3813, 'hardworking': 3638, 'hello': 3689, 'scaled': 7603, 'probabilities': 6818, 'layer': 4423, 'corner': 1916, 'kinds': 4350, 'connected': 1769, 'nensuring': 5434, 'pleasant': 6628, 'meditech': 4801, 'luke': 4628, 'cornwall': 1919, 'slch': 7887, 'campuses': 1245, 'newburgh': 5466, 'montefiore': 4982, 'hudson': 3807, 'aspires': 750, 'compassionate': 1654, 'cardiac': 1272, 'stroke': 8204, 'cancer': 1247, 'orthopedic': 6308, 'mitigation': 4922, 'readiness': 7118, 'satisfied': 7584, 'waterfall': 9084, 'budgeting': 1167, 'bank': 936, 'n1st': 5059, 'nhours': 5579, 'n40': 5068, 'nhi': 5571, 'chewse': 1424, 'meal': 4777, 'style': 8225, 'meals': 4778, 'burden': 1183, 'amazing': 563, 'competition': 1664, 'propositions': 6917, 'curated': 2055, 'menus': 4826, 'experimenting': 2990, 'fulfilling': 3346, 'productive': 6845, 'paving': 6442, 'caas': 1210, 'hairy': 3613, 'authentic': 850, 'connection': 1771, 'intellectually': 4117, 'insatiable': 4063, 'sweat': 8344, 'flip': 3209, 'switch': 8348, 'zoom': 9364, 'motivate': 4997, 'really': 7129, 'head': 3666, 'tooling': 8572, 'welding': 9116, 'truth': 8705, 'decentralized': 2151, 'fluent': 3227, 'facto': 3066, 'stays': 8130, 'periscope': 6500, 'statistic': 8121, 'bonding': 1078, 'attend': 816, 'workshops': 9190, 'night': 5596, 'budgets': 1168, 'strengthening': 8190, 'weekday': 9105, 'tribe': 8683, 'usstratcom': 8881, 'commander': 1605, 'designated': 2260, 'nuclear': 6055, 'nc3': 5227, 'se': 7662, 'ec': 2600, 'cohesive': 1553, 'prescriptive': 6761, '093': 12, '118': 33, '670': 210, 'distinction': 2453, 'premiere': 6746, 'residents': 7365, 'consists': 1798, '850': 236, 'sworn': 8349, '650': 208, 'trained': 8615, 'honor': 3762, 'safeguarding': 7546, 'protecting': 6930, 'located': 4569, 'mpd': 5011, 'civic': 1468, 'propel': 6904, 'advisor': 448, 'advice': 443, 'visualizes': 9023, 'concern': 1724, 'going': 3496, 'targets': 8405, 'capstat': 1265, 'abreast': 277, 'descriptive': 2256, 'arcgis': 697, 'regulations': 7235, 'tight': 8535, 'officials': 6200, 'nlicensures': 5659, 'nn': 5717, 'accredited': 331, 'hrm': 3795, 'exhibits': 2961, 'nincumbent': 5606, 'weekend': 9106, 'dc': 2133, 'courts': 1966, 'trainings': 8617, 'town': 8596, 'motor': 5001, 'vehicle': 8943, 'operator': 6251, 'permit': 6507, 'npositions': 5833, 'traffic': 8611, 'typical': 8728, 'sacramento': 7543, 'networking': 5453, 'intuitive': 4187, 'gdit': 3414, 'ndeveloper': 5358, 'ngoal': 5550, 'script': 7653, 'imported': 3907, 'choose': 1441, 'nmust': 5716, 'noverview': 5792, 'bug': 1170, 'fixing': 3196, 'automates': 864, 'skype': 7881, 'nfar': 5503, 'immerses': 3883, 'socials': 7927, 'periodcross': 6495, 'hackday': 3611, 'giants': 3463, 'game': 3391, 'bay': 957, 'playground': 6624, 'endless': 2756, 'undergradinternships': 8766, 'gradinternships': 3524, 'graduating': 3530, 'nnone': 5728, 'mentioned': 4820, 'walmartlabs': 9065, 'fueled': 3342, 'predicting': 6732, 'hbase': 3657, 'lapack': 4393, 'gurobi': 3598, 'ndigital': 5363, 'cryptoasset': 2031, 'insightful': 4069, '5m': 197, 'seed': 7687, 'rolled': 7494, 'crypto': 2029, 'disruption': 2444, 'indices': 3974, 'cryptoanalysis': 2030, 'consisting': 1797, 'exchanges': 2936, 'blockchains': 1052, 'nperks': 5818, 'sectors': 7682, 'x94cryptocurrencies': 9235, 'ledger': 4453, 'x94a': 9232, 'previously': 6784, 'sold': 7940, 'fintech': 3183, 'cryptocurrency': 2033, 'jupyter': 4317, 'showcase': 7812, 'lowering': 4613, 'variables': 8923, 'combinatorics': 1590, 'dimensionality': 2354, 'mastery': 4732, 'postgresql': 6688, 'cryptoassets': 2032, 'notebook': 5776, 'altair': 556, 'immigration': 3884, 'dow': 2514, 'jones': 4287, 'produced': 6838, 'globally': 3485, 'produces': 6840, 'flagship': 3199, 'newspaper': 5472, 'circulation': 1455, 'factiva': 3064, 'barron': 943, 'marketwatch': 4718, 'djx': 2476, 'newswires': 5474, 'venturesource': 8950, 'recent': 7142, 'expanded': 2970, 'arts': 738, 'heritage': 3697, 'published': 6963, 'journalists': 4293, 'bureaus': 1185, 'editions': 2630, 'newspapers': 5473, 'magazines': 4644, 'holds': 3747, '35': 155, 'pulitzer': 6968, 'journalism': 4291, 'comprises': 1703, 'specialists': 7996, 'princeton': 6792, 'london': 4584, 'accountabilities': 324, 'overseeing': 6344, 'learnt': 4446, 'newsworthy': 5475, 'talentresourceteam': 8390, 'dowjones': 2515, 'x9creasonable': 9288, 'nasdaq': 5152, 'nws': 6128, 'nwsa': 6129, 'asx': 792, 'nwslv': 6130, 'section': 7678, 'workday': 9176, 'homepage': 3756, 'thank': 8493, '15454': 51, 'perspecta': 6531, 'bound': 1095, 'stop': 8157, 'integrators': 4113, 'tirelessly': 8547, 'landscape': 4389, 'caliber': 1227, 'rewarded': 7449, 'x94not': 9241, 'x9414': 9231, 'x94stands': 9243, 'nperspecta': 5822, 'op': 6232, 'represent': 7322, 'trying': 8707, 'pursing': 6988, 'stem': 8136, 'arthur': 728, 'lawrence': 4418, 'urgently': 8861, 'earliest': 2580, 'proceed': 6826, 'cosmos': 1941, 'dms': 2478, 'kindly': 4349, 'anum': 644, '832': 231, '941': 253, '0356': 7, 'arthurlawrence': 729, 'crunching': 2028, 'terabytes': 8466, 'papers': 6382, 'talks': 8394, 'showing': 7814, 'forefront': 3256, 'attacking': 812, 'browses': 1155, 'ipad': 4225, 'tens': 8462, 'fascinating': 3100, 'intent': 4125, 'implicitly': 3902, 'explicitly': 3003, 'modalities': 4941, 'learned': 4441, 'converse': 1880, 'visible': 9008, 'ambassador': 565, 'cfdss': 1371, 'cfds': 1370, 'evangelizing': 2901, 'representing': 7328, 'datarobot': 2113, 'standpoint': 8092, 'demonstrations': 2218, 'informing': 4018, 'framing': 3304, 'consumption': 1827, 'rest': 7400, 'empathizing': 2718, 'qualifying': 7023, 'consultative': 1820, 'telecommunication': 8446, 'westlake': 9125, '1996': 81, 'vs': 9047, 'chat': 1410, 'spanning': 7983, 'stretches': 8196, 'presence': 6762, 'gamification': 3394, 'buying': 1200, 'referred': 7203, 'x9cppc': 9286, 'buyer': 1198, 'adwords': 455, 'succeeds': 8259, 'decisive': 2156, 'thrives': 8524, 'buys': 1201, 'caps': 1264, 'impression': 3910, 'score': 7637, 'composure': 1696, 'critically': 2015, 'articulate': 732, 'summaries': 8277, 'appreciated': 674, 'explicit': 3002, 'likely': 4515, 'colleague': 1566, 'screen': 7650, 'representatives': 7326, 'imperative': 3894, 'aspect': 747, 'flirt4free': 3210, 'respects': 7386, 'incentive': 3925, 'attractive': 828, 'rally': 7077, 'diet': 2330, 'selecting': 7706, 'choosing': 1442, 'president': 6770, 'coo': 1893, 'david': 2122, 'ko': 4366, 'innovates': 4047, 'okay': 6208, 'burn': 1187, 'follows': 3242, 'functioning': 3356, 'schemas': 7617, 'adaptable': 379, 'nrally': 5892, 'population': 6660, 'knows': 4365, 'enrich': 2793, 'believes': 983, 'administer': 411, 'childbirth': 1432, 'matriculation': 4750, 'union': 8795, 'nindividuals': 5608, 'notify': 5784, 'rallyhealth': 7078, 'npursuant': 5880, 'fair': 3077, 'ordinance': 6285, 'arrest': 723, 'ncivis': 5256, 'nonprofits': 5750, 'citizens': 1464, 'interdisciplinary': 4137, 'civis': 1471, 'guessing': 3586, 'atwww': 832, 'civisanalytics': 1472, 'individuality': 3978, 'brought': 1153, 'arm': 714, 'toughest': 8592, 'commonly': 1623, 'utilities': 8884, 'unifying': 8792, '1st': 85, 'lt': 4624, 'affinity': 471, 'pragmatically': 6722, 'ppt': 6711, 'penney': 6473, 'nplano': 5827, 'texas': 8486, 'upgrade': 8849, 'deploys': 2240, 'nacquires': 5089, 'nuses': 6084, 'nensures': 5433, 'accomplishments': 319, 'datameer': 2108, 'css': 2038, 'quantities': 7036, 'west': 9123, 'plano': 6612, 'jcpenney': 4259, 'merchandise': 4827, 'clinic': 1515, 'daycare': 2126, 'preschool': 6758, 'cafeteria': 1217, 'garage': 3399, 'golden': 3498, 'rule': 7531, 'rooted': 7503, 'treat': 8669, 'treated': 8670, 'touchpoint': 8590, 'stylish': 8227, 'exclusive': 2942, 'reinforcing': 7244, 'warrior': 9075, '98': 261, 'welcoming': 9115, 'prosper': 6925, 'celebrated': 1341, 'meant': 4784, 'nfollow': 5523, 'twitter': 8724, 'linkedin': 4532, 'jcp': 4258, 'nreq': 5915, '1082692': 24, '57': 191, '85': 235, 'gpl': 3518, 'evidence': 2912, 'housed': 3784, 'andrew': 612, 'young': 9350, 'pressing': 6772, 'decide': 2152, 'ultimate': 8745, 'scarce': 7606, 'atlanta': 803, 'focuses': 3236, 'micro': 4865, 'toolkit': 8573, 'wants': 9069, 'nclean': 5257, 'uniformity': 8790, 'nwrite': 6126, 'ndisclaimer': 5366, 'discretion': 2411, 'ncollege': 5273, 'nsalary': 5942, 'npay': 5810, 'nflsa': 5519, '17': 55, '33': 152, 'nclosing': 5262, 'paper': 6381, 'lay': 4422, 'nspecial': 5981, 'samples': 7565, 'rolling': 7495, 'reviewed': 7441, 'april': 692, 'board': 1066, 'requisitions': 7349, 'xpo': 9335, 'invest': 4196, '450': 174, 'methodical': 4847, 'producers': 6839, 'reliability': 7271, 'ntroubleshoot': 6048, 'solicit': 7943, 'artifacts': 735, 'rollout': 7496, 'ngeneralize': 5546, 'nhelp': 5569, 'graduates': 3529, 'geo': 3447, 'spatial': 7989, 'plotly': 6633, 'nsignificant': 5969, 'mixed': 4924, 'principle': 6795, 'bayesian': 959, 'ndeep': 5333, 'fluently': 3228, 'inefficient': 3988, 'prone': 6898, 'navailability': 5179, 'periodic': 6496, 'rotation': 7508, 'coursera': 1961, 'camp': 1240, 'n10': 5054, 'ed1': 2621, 'nxpo': 6132, 'disney': 2427, 'pepsi': 6479, 'xa9al': 9318, 'toyota': 8598, 'getting': 3458, 'construed': 1814, 'staples': 8097, 'assortment': 782, 'lowest': 4614, 'total': 8585, 'embodied': 2704, 'x9cwe': 9298, 'incentives': 3926, 'resides': 7366, 'sba': 7595, 'visualizing': 9024, 'pulling': 6971, 'breakroom': 1123, 'furniture': 3371, 'promotional': 6895, 'solopreneurs': 7945, 'sycamore': 8351, 'composed': 1693, 'standalone': 8084, 'totaling': 8586, '17b': 57, 'canada': 1246, 'sharp': 7783, 'squarespace': 8054, 'ndepending': 5346, 'reframe': 7208, 'quantifiable': 7030, 'reveal': 7436, 'instrument': 4094, 'transformations': 8638, 'devise': 2300, 'competency': 1662, 'nsquarespace': 5987, 'blending': 1048, 'elegant': 2681, 'x94': 9230, 'artists': 737, 'iconic': 3836, 'dublin': 2563, 'portland': 6667, 'lunch': 4629, 'dog': 2496, 'ntoday': 6036, 'grad': 3520, 'lindquist': 4523, 'llp': 4557, 'personable': 6519, 'obligations': 6151, 'auditors': 841, 'infrequent': 4024, 'stockton': 8155, 'nibi': 5586, 'passengers': 6420, 'gtfs': 3581, 'procure': 6834, 'passenger': 6419, 'everett': 2909, 'vancouver': 8919, 'translink': 8653, 'rtd': 7524, 'mbta': 4768, 'los': 4599, 'angeles': 614, 'nmost': 5713, 'nplan': 5826, 'alerts': 527, 'feeds': 3127, 'archival': 704, 'memos': 4814, 'formatted': 3272, 'civil': 1469, 'nproblem': 5859, 'yearly': 9341, 'nbagels': 5193, 'happy': 3630, 'mini': 4896, 'thursday': 8526, 'birthdays': 1039, 'seasonal': 7671, 'pumpkin': 6975, 'carving': 1299, 'contest': 1838, 'transcripts': 8631, 'submission': 8232, 'ibi': 3832, 'credential': 1996, 'confirmation': 1759, 'offence': 6188, 'cooper': 1896, 'alley': 544, 'dream': 2534, 'alive': 541, 'lending': 4462, 'candor': 1251, 'punch': 6977, 'clock': 1520, 'hole': 3748, 'instead': 4083, 'manger': 4681, 'x9cbusy': 9269, 'gaining': 3385, 'ton': 8566, 'sttm': 8214, 'reverse': 7439, 'comprising': 1704, 'coming': 1602, 'upcoming': 8843, 'geared': 3417, 'xa2gather': 9305, 'xa2work': 9310, 'xa2showcase': 9309, 'incredibly': 3954, 'technologically': 8437, 'xa2knowledge': 9307, 'understating': 8777, 'xa2hands': 9306, 'rdbms': 7108, 'xa2preferred': 9308, 'accepted': 303, 'equivalency': 2847, '2021': 110, 'demonstration': 2217, 'waitr': 9055, 'redefining': 7180, 'dining': 2358, 'ordering': 6283, 'sided': 7824, 'concierge': 1729, 'convenience': 1872, 'humor': 3815, 'came': 1239, 'waitrapp': 9056, 'iterate': 4246, 'levers': 4480, 'backwards': 923, 'sizing': 7874, 'ideating': 3846, 'ngenerate': 5547, 'nperforming': 5815, 'dives': 2469, 'ncollecting': 5271, 'nmanaging': 5682, 'nmonitor': 5707, 'win': 9148, 'nis': 5633, 'owner': 6351, 'resilient': 7369, 'expand': 2969, 'carve': 1298, 'hyper': 3827, 'nhas': 5561, 'nhave': 5562, 'perk': 6501, 'rare': 7093, 'reinventing': 7247, 'continual': 1846, 'subscriptions': 8245, 'nsharp': 5960, 'nnine': 5724, 'nunlimited': 6078, 'macbook': 4637, 'substitute': 8253, 'choice': 1439, 'brass': 1114, 'negotiable': 5413, 'drivetime': 2548, 'periodically': 6497, 'nquantifying': 5885, 'nassessing': 5155, 'financing': 3166, 'underwriting': 8781, 'nforecasting': 5528, 'cash': 1303, 'noptimizing': 5758, 'loan': 4563, 'nvaluing': 6096, 'unseen': 8834, 'vehicles': 8944, 'placing': 6606, 'bids': 1013, 'auctions': 834, 'ins': 4062, 'nutilizing': 6089, 'stream': 8180, 'calculates': 1221, 'similarity': 7843, 'ndesigning': 5350, 'seeing': 7688, 'logical': 4577, 'calculus': 1224, 'ncuriosity': 5320, 'nwhen': 6113, 'nhiring': 5574, 'tobacco': 8555, 'remarkable': 7289, 'nhow': 5580, 'healthequity': 3675, '13': 38, 'classroom': 1490, 'directs': 2374, 'preventing': 6780, 'enrollments': 2797, 'surrounding': 8322, 'kri': 4370, 'cei': 1338, 'risky': 7473, 'abnormal': 274, 'remediate': 7290, 'assimilate': 770, 'consequential': 1781, 'ncomfortable': 5276, 'nhealthequity': 5567, '2030': 111, 'hsas': 3800, 'spread': 8043, 'popular': 6659, 'firmly': 3185, 'contributors': 1868, 'purple': 6985, 'fiercely': 3144, 'genuine': 3444, 'promoter': 6891, 'grubhub': 3576, 'diners': 2357, 'convenient': 1873, 'favorite': 3106, 'chalupa': 1381, 'taco': 8374, 'salad': 7554, 'restaurant': 7401, 'enjoyed': 2789, 'said': 7552, 'memorable': 4813, 'diner': 2356, 'flawlessly': 3202, 'partnered': 6411, '105': 22, 'apps': 690, 'levelup': 4475, 'seamless': 7665, 'tapingo': 8401, 'eat24': 2594, 'nwant': 6106, 'eating': 2596, 'question': 7047, 'nrelentlessly': 5906, 'ncomfort': 5275, 'ngot': 5552, 'strings': 8200, 'recharge': 7144, 'nfree': 5534, 'kitchens': 4352, 'stocked': 8153, 'granted': 3535, 'restricted': 7408, 'rays': 7104, 'comfy': 1601, 'couch': 1946, 'coworkers': 1971, 'ngrubhub': 5555, 'poster': 6684, 'dol': 2499, 'offered': 6191, 'ford': 3252, 'dearborn': 2144, 'mi': 4861, 'formation': 3269, 'embeddings': 2702, 'cosine': 1940, 'distance': 2448, 'ontologies': 6229, 'gradient': 3522, 'descent': 2249, 'tomorrow': 8564, 'striving': 8203, 'nford': 5527, 'culturally': 2048, 'nvisa': 6101, 'turning': 8719, 'spent': 8017, 'prioritizing': 6807, 'paas': 6358, 'iaas': 3830, 'ncan': 5232, 'correctness': 1929, 'nfind': 5511, 'ndon': 5384, 'fluid': 3230, 'proficiencies': 6856, 'ncasual': 5241, 'nconnectwise': 5296, 'inovalon': 4054, 'intervention': 4171, 'progression': 6876, 'tea': 8417, 'cycles': 2083, 'executions': 2950, 'called': 1229, 'suites': 8276, 'channeling': 1391, 'noversees': 5791, 'nmanage': 5680, 'mba': 4765, 'natleast': 5168, 'trustmark': 8704, 'personalized': 6525, 'circumstance': 1456, 'revolves': 7447, 'peace': 6464, 'profiling': 6861, 'digest': 2342, 'voluntary': 9038, 'aggregated': 489, 'morgan': 4991, 'stanley': 8095, 'anomaly': 630, 'occupation': 6171, 'morganstanley': 4992, 'careersearch': 1278, 'html': 3801, 'scroll': 7656, '3127828': 147, 'x9cjob': 9277, 'x9csearch': 9291, 'nmorgan': 5712, 'dni': 2479, 'northwest': 5772, 'governed': 3511, '1500': 49, 'surgeons': 8317, 'southwest': 7976, 'kaiser': 4327, 'eminent': 2715, 'iii': 3859, 'nmajor': 5678, 'kpit': 4369, 'ndefines': 5335, 'meta': 4842, 'conventions': 1876, 'npopulates': 5830, 'conflicting': 1761, 'convergence': 1877, 'timly': 8543, 'ninformation': 5609, 'attributes': 829, 'candid': 1248, 'workplans': 9188, 'nproactive': 5857, 'avoidance': 886, 'mutual': 5047, 'lactation': 4383, 'interacts': 4135, 'dexcom': 2307, 'glucose': 3489, 'diabetes': 2312, 'inception': 3927, 'caregivers': 1283, 'scoping': 7636, 'timeline': 8538, 'particularly': 6407, 'sklearn': 7879, 'seaborn': 7663, 'dataproc': 2112, 'datalab': 2106, 'aways': 894, 'matrix': 4751, 'decomposition': 2161, 'factorization': 3069, 'discriminated': 2415, 'staffing': 8072, 'costa': 1943, 'mesa': 4838, 'executed': 2945, 'redshift': 7185, 'ingestion': 4030, 'urgency': 8860, 'layers': 4425, 'labor': 4378, 'wfs': 9131, 'constrained': 1808, 'dw': 2570, 'waste': 9078, 'incrementally': 3956, 'integrating': 4110, 'ec2': 2601, 'augmenting': 845, 'ranging': 7084, 'undertaken': 8780, 'implementations': 3897, 'linguistics': 4528, 'distributional': 2460, 'semantics': 7718, 'napplied': 5133, 'libsvm': 4491, 'shogun': 7797, 'nnatural': 5718, 'cleartk': 1505, 'scalanlp': 7601, 'breeze': 1127, 'clearnlp': 1504, 'opennlp': 6238, 'nltk': 5670, 'ipython': 4229, 'solr': 7946, 'lucene': 4626, 'ndistributed': 5372, 'graphlab': 3544, 'ndatabases': 5328, 'foremost': 3258, 'benchmarks': 992, 'divisions': 2473, 'equips': 2844, 'seize': 7703, 'stimulating': 8148, 'domestic': 2504, 'unions': 8796, 'unemployment': 8783, 'forwarded': 3286, 'ofccp': 6187, 'regs': 7229, 'eeopost': 2647, 'pdfdescribes': 6463, 'protections': 6932, 'shaw': 7785, 'reflect': 7206, 'richness': 7457, 'dan': 2090, 'lavender': 4414, 'nshaw': 5961, 'missed': 4911, 'roll': 7493, 'cable': 1211, 'b2c': 905, 'maximization': 4758, 'glms': 3483, 'forests': 3261, 'colorado': 1579, 'reimbursement': 7240, 'expenses': 2980, '350': 156, 'die': 2327, 'collisions': 1577, 'zero': 9355, 'insurtech': 4102, 'hiroad': 3725, 'native': 5166, 'trillion': 8687, 'longer': 4587, 'mindful': 4890, 'societal': 7928, 'backend': 915, 'ngeneral': 5545, 'sourced': 7970, 'consumed': 1823, 'modern': 4955, 'nactuarial': 5092, 'factoring': 3068, 'shower': 7813, 'panoramic': 6380, 'views': 8991, 'near': 5395, 'montgomery': 4983, 'station': 8118, 'locals': 4567, 'owl': 6349, 'looks': 4594, 'multicultural': 5031, 'pursuant': 6989, 'discoveries': 2406, 'hospitals': 3773, 'minimize': 4898, 'pharmaceuticals': 6554, 'cures': 2057, 'meaning': 4780, 'matched': 4734, 'deployed': 2236, 'nsan': 5944, 'jose': 4288, 'nraleigh': 5891, 'durham': 2567, 'nnew': 5721, 'nlittleton': 5662, 'ndallas': 5325, 'tx': 8725, 'ncleveland': 5260, 'naustin': 5176, 'nann': 5124, 'arbor': 695, 'debugging': 2149, 'prof': 6848, 'nibm': 5587, '190007ji': 63, 'centerpiece': 1353, 'fundamentally': 3360, 'unlocks': 8822, 'reviewing': 7442, 'needle': 5407, 'haystack': 3655, 'ninja': 5611, 'transforms': 8641, 'dimensions': 2355, 'v1': 8897, 'positioned': 6671, 'piece': 6578, 'puzzle': 6999, 'matrixed': 4752, 'ndetailed': 5354, 'variation': 8925, 'completes': 1677, 'capgemini': 1259, 'xa6rapidly': 9314, 'created': 1987, 'harnessed': 3642, 'influx': 4006, 'iot': 4223, 'realm': 7130, 'telecom': 8445, 'publicly': 6961, 'eda': 2622, 'tier': 8533, 'chaid': 1374, 'cart': 1297, 'association': 781, 'frequentist': 3319, 'pearl': 6466, 'caffe': 1218, 'kxen': 4373, 'ect': 2619, 'hana': 3616, 'svms': 8340, 'kmeans': 4353, 'nmf': 5694, 'rnns': 7479, 'cnns': 1535, 'scrapping': 7646, 'napplications': 5132, 'realization': 7125, 'methodological': 4849, 'versatility': 8961, 'progressing': 6875, 'qualification': 7018, 'baseline': 947, 'ncapgemini': 5234, 'encouraging': 2752, 'sensory': 7732, 'environmental': 2824, 'referenced': 7198, 'traditionally': 8610, 'pose': 6669, 'undue': 8782, 'hardship': 3636, 'nclick': 5261, 'ambitions': 569, 'revenues': 7438, 'eur': 2886, '14': 44, 'usd': 8868, 'count': 1951, 'tolling': 8563, 'optimum': 6269, 'port': 6662, 'nonly': 5747, 'contacted': 1829, '1921': 70, 'aviation': 882, 'rail': 7070, 'seaport': 7667, 'busiest': 1189, '550': 188, 'wages': 9052, 'owns': 6355, 'acre': 352, '776': 223, 'foot': 3245, 'tall': 8395, 'tallest': 8396, 'skyscraper': 7883, 'western': 9124, 'hemisphere': 3695, 'trans': 8622, 'raise': 7072, 'mfc': 4859, 'estimation': 2876, 'socialize': 7926, 'onshore': 6227, 'offshore': 6202, 'mckesson': 4770, 'disqualified': 2440, 'seekers': 7691, 'sending': 7724, 'disability_accommodation': 2379, 'cvs': 2079, 'nyc': 6134, 'vibrant': 8978, 'galvanize': 3388, 'soho': 7937, 'manhattan': 4682, 'flowers': 3220, 'alike': 540, 'intention': 4126, 'stage': 8073, 'celebratory': 1343, 'occasions': 6169, 'smiles': 7908, 'smile': 7907, 'guarantee': 3582, 'backing': 918, 'gifting': 3466, 'entertaining': 2809, 'harry': 3646, 'popcorn': 6658, 'factory': 3071, 'cheryl': 1422, 'cookies': 1894, 'baskets': 954, 'wolferman': 9168, 'moose': 4989, 'munch': 5043, 'universe': 8808, 'chocolatesm': 1438, 'fruitbouquets': 3336, 'sm': 7894, 'steaks': 8133, 'chops': 1443, 'yards': 9339, 'towers': 8595, 'designpac': 2266, 'celebrations': 1342, 'passport': 6426, 'reminders': 7295, 'bloomnet': 1060, 'floral': 3214, 'wire': 9157, 'napco': 5128, 'xa9cor': 9319, 'florists': 3216, 'profitably': 6865, 'hot': 3775, 'retailers': 7418, 'federation': 3123, 'gold': 3497, 'awards': 890, 'shares': 7781, 'traded': 8607, 'ticker': 8527, 'symbol': 8352, 'flws': 3232, 'summarize': 8280, 'dinners': 2359, 'broadway': 1145, 'sightseeing': 7828, 'speaker': 7991, 'fitting': 3192, 'unitedhealthcare': 8805, 'rise': 7469, 'directions': 2367, 'borders': 1088, 'gadget': 3382, 'distinguish': 2454, 'normalization': 5766, 'assuring': 788, 'aids': 509, 'nproducing': 5864, 'predominately': 6736, 'tend': 8459, 'theoretical': 8498, 'presented': 6766, 'couldn': 1948, 'imagine': 3874, 'elite': 2693, 'chapter': 1393, 'doors': 2510, 'unitedhealth': 8804, 'nunitedhealth': 6077, 'nsierra': 5966, 'nevada': 5461, 'ncontext': 5301, 'herndon': 3698, 'scrub': 7657, 'horizontal': 3766, 'agent': 485, 'pushing': 6996, 'copious': 1908, 'informs': 4019, 'nsuccessful': 6004, 'snc': 7918, 'ipdp': 4226, 'layout': 4427, 'evaluations': 2898, 'originate': 6305, 'estimates': 2875, 'adherence': 399, 'descriptions': 2255, 'summarizations': 8279, 'necessarily': 5399, 'pursuit': 6992, 'disco': 2398, 'handles': 3621, 'adjudicates': 405, 'allegiance': 542, 'violations': 8996, 'conform': 1763, '1324b': 41, 'authorizations': 856, 'sierra': 7826, 'eb': 2597, 'containing': 1835, 'redesigning': 7181, 'energizing': 2763, 'losses': 4601, 'aggregation': 491, 'rated': 7096, 'midwestern': 4872, 'alaska': 523, 'ranked': 7086, '57th': 193, 'minnesota': 4903, 'minneapolis': 4902, 'paul': 6441, 'earned': 2583, 'accolades': 311, 'tribune': 8684, '2011': 99, 'recipient': 7145, 'magazine': 4643, 'x9c10': 9263, 'finalist': 3159, 'alfred': 529, 'sloan': 7892, 'x9cwhen': 9299, 'nwestern': 6110, 'known': 4364, 'x9cthe': 9295, 'wellbeing': 9118, 'half': 3614, 'thanks': 8494, 'subsidy': 8249, 'ppo': 6710, 'deductible': 2165, 'hdhp': 3665, 'massage': 4727, 'snack': 7914, 'workstations': 9192, 'nutrition': 6090, 'seminars': 7722, 'tuition': 8712, 'ndiscounts': 5367, 'automobile': 869, 'homeowner': 3755, 'actual': 367, 'quotes': 7061, 'glassdoor': 3478, 'x9cexcellent': 9273, 'prioritizes': 6806, 'x9cjust': 9278, 'ceo': 1360, 'x9cabove': 9264, 'x9ci': 9275, 'felt': 3135, 'welcomed': 9114, 'ly': 4632, '2qxtl4a': 137, 'nguardian': 5556, 'debt': 2147, 'relief': 7277, 'steady': 8132, 'guardian': 3584, 'visuals': 9026, 'analyzed': 603, 'bing': 1027, 'adcenter': 384, 'pareto': 6394, 'formulas': 3277, 'vlookups': 9030, 'guardiandebtrelief': 3585, 'nrocky': 5938, 'hill': 3718, 'ct': 2040, 'naxians': 5186, 'redtoo': 7186, 'axians': 898, 'advisors': 449, 'assemble': 755, 'automating': 867, 'visually': 9025, 'publish': 6962, 'authoring': 852, 'attained': 814, 'emr': 2737, 'rds': 7109, 'comparable': 1648, 'dependency': 2228, 'disconnected': 2399, 'intacct': 4103, 'ends': 2760, 'lost': 4602, 'uninformed': 8793, 'eventually': 2907, 'paying': 6449, 'nthat': 6026, 'vim': 8995, 'npatients': 5808, 'afford': 473, 'costs': 1945, 'nvim': 6100, 'sftp': 7769, 'documenting': 2490, 'cmo': 1533, 'unfortunately': 8786, 'crafting': 1980, 'distilling': 2451, 'resiliency': 7368, 'incomplete': 3941, 'insufficient': 4099, 'certainly': 1364, 'tel': 8443, 'aviv': 884, 'greatpoint': 3554, 'ventures': 8949, 'optum': 6273, 'sequoia': 7742, 'israel': 4240, 'bcbs': 960, 'payers': 6448, 'usdc': 8869, 'pioneer': 6586, 'sleeves': 7889, 'tank': 8398, 'mold': 4968, 'horizon': 3765, 'vertica': 8965, 'ramp': 7079, 'extrapolate': 3040, 'curation': 2056, 'derivation': 2245, 'cron': 2020, 'pyspark': 7003, 'sparksql': 7987, 'deloitte': 2202, 'sharpen': 7784, 'recognizing': 7151, 'extends': 3024, 'tips': 8546, 'inscape': 4065, 'vizio': 9028, 'tvs': 8722, 'deeper': 2168, 'ninscape': 5612, 'unavailable': 8754, 'granularity': 3538, 'dash': 2095, 'nresearch': 5921, 'x9cmake': 9281, 'polished': 6651, 'nextremely': 5499, 'nresourceful': 5925, 'nenthusiastic': 5435, 'extreme': 3041, 'demeanor': 2207, 'subsidiary': 8247, 'johnson': 4280, 'controls': 1871, 'invites': 4215, 'outlined': 6324, 'jci': 4257, 'duration': 2566, 'npursuing': 5881, 'nrising': 5936, 'developmental': 2294, 'roundtable': 7510, 'johnsoncontrols': 4281, 'tomorrowneedsyou': 8565, 'executiion': 2947, 'stewards': 8144, 'consuming': 1826, 'spaceflight': 7979, 'enforcing': 2767, 'usages': 8867, 'interrogating': 4165, 'directing': 2365, 'holder': 3744, 'lawfully': 4417, 'admitted': 419, 'asylum': 794, 'aerorspace': 459, 'phenomenal': 6559, 'hdfs': 3664, 'nnull': 5731, 'kept': 4336, 'guidelines': 3594, 'tasked': 8407, 'pursue': 6990, 'harnessing': 3644, 'influencing': 4003, 'nlive': 5663, 'relocate': 7283, 'nquantitative': 5886, 'vlookup': 9029, 'neo': 5438, 'wild': 9144, 'achievers': 342, 'systemic': 8364, 'toolkits': 8574, 'extracts': 3037, 'ayima': 899, 'n25': 5065, 'nsummer': 6006, 'fridays': 3326, 'sun': 8286, 'nopportunities': 5756, 'njunior': 5642, 'immerse': 3881, 'omniture': 6219, 'sitecatalyst': 7864, 'utm': 8892, 'seo': 7736, 'breakfasts': 1121, 'noffice': 5736, 'sonos': 7958, 'nickelback': 5590, 'ndog': 5380, 'nbeer': 5199, 'fridge': 3327, 'bar': 940, 'nnintendo': 5725, 'drawing': 2530, 'combining': 1594, 'worlds': 9197, 'ppc': 6709, 'forge': 3263, 'lauded': 4409, 'sponsorships': 8034, 'victorious': 8981, 'digging': 2345, 'x9ctranslate': 9296, 'simplified': 7848, 'leveraged': 4477, 'historical': 3728, 'qa': 7007, 'tag': 8379, 'console': 1799, 'relentless': 7266, 'upholds': 8853, 'inherent': 4031, 'trait': 8619, 'radical': 7067, 'horizontally': 3767, 'vertically': 8967, 'x9cit': 9276, 'perfecting': 6484, 'devours': 2306, 'daring': 2093, 'discernment': 2385, 'strongest': 8207, 'escape': 2858, 'rat': 7094, 'sponsored': 8030, 'nvictorious': 6099, 'selected': 7705, 'historic': 3727, 'showplace': 7816, 'square': 8051, 'capitalists': 1262, 'increasing': 3951, 'x9crunway': 9290, 'x9cmvp': 9282, 'hungry': 3820, 'exit': 2965, 'worrying': 9199, 'shutting': 7819, 'myriad': 5050, 'caltrain': 1236, 'muni': 5045, 'michelin': 4864, 'starred': 8100, 'nightlife': 5597, 'soma': 7956, 'commute': 1639, 'victoriousseo': 8982, 'evaluated': 2894, 'recruiters': 7173, 'depict': 2233, 'compartmented': 1652, 'sci': 7621, 'nc2': 5226, 'esi': 2860, 'nato': 5169, 'sar': 7577, 'securities': 7685, 'corporations': 1923, 'balances': 930, 'lifestyles': 4507, 'ntechnology': 6020, 'redefine': 7179, 'sizeable': 7871, 'backbone': 913, 'nms': 5714, 'imit': 3877, 'exclusively': 2943, 'msim': 5022, 'absolutely': 280, 'xb7identify': 9325, 'nopportunity': 5757, 'nstructured': 6000, 'xb7': 9323, 'variable': 8922, 'applicability': 661, 'xb7experience': 9324, 'xb7knowledge': 9326, 'nof': 5735, 'nquerying': 5887, 'nboca': 5208, 'fl': 3197, 'alpharetta': 554, 'ga': 3379, 'dayton': 2128, 'demo': 2208, 'prod': 6836, 'tickets': 8529, 'thresholds': 8521, 'dictionaries': 2323, 'geographical': 3449, 'xml': 9334, 'hpcc': 3788, 'delimited': 2192, 'proofreading': 6903, 'linked': 4531, 'nattention': 5171, 'naccountabilities': 5086, 'nmodify': 5705, 'nrun': 5940, 'ncomplete': 5288, 'ninvestigate': 5631, 'clarifications': 1478, 'intimacy': 4176, 'nundertake': 6074, 'nresolve': 5924, 'resolving': 7375, 'lexisnexis': 4482, 'upholding': 8852, 'relx': 7285, 'plc': 6627, 'lexisnexisrisk': 4483, '877': 241, '734': 218, '1938': 71, 'qxbranch': 7063, 'invited': 4214, 'norganize': 5764, 'curate': 2054, 'ndeliver': 5338, 'ncontinue': 5302, 'theano': 8495, 'ncompetence': 5284, 'portions': 6666, 'maintainable': 4653, 'specializations': 7998, 'nanalytics': 5121, 'cuda': 2045, 'collaborations': 1562, 'smoothly': 7912, 'speaks': 7993, 'contexts': 1841, 'oversight': 6346, 'synthesize': 8360, 'chen': 1421, 'et': 2877, 'al': 521, 'angrist': 616, 'castillo': 1308, 'x9csurge': 9294, 'goose': 3506, 'chase': 1409, 'earnings': 2585, 'carries': 1292, 'opposing': 6261, 'virtues': 9004, 'gny': 3490, 'financially': 3164, 'stable': 8066, 'northeast': 5771, 'actuary': 371, 'loss': 4600, 'imageright': 3868, 'institution': 4088, 'nauvera': 5178, 'intricately': 4181, 'sw': 8342, 'postgress': 6689, 'titan': 8549, 'casandra': 1300, 'ruby': 7530, 'rails': 7071, 'angular': 617, 'storm': 8166, 'contributed': 1863, 'velocity': 8945, 'oems': 6184, 'dealerships': 2141, 'camaraderie': 1237, 'coordinated': 1901, 'eastern': 2591, 'zone': 9362, 'targeted': 8403, 'invoices': 4216, 'hygiene': 3826, 'usps': 8880, 'sort': 7963, 'cass': 1306, 'ncoa': 5264, 'conquest': 1776, 'mailable': 4648, 'uphold': 8851, 'evolves': 2915, 'grows': 3574, 'punctual': 6978, 'participation': 6405, 'salaried': 7555, 'steps': 8140, 'perfect': 6483, 'criteo': 2011, 'shoppers': 7802, 'tb': 8412, '10ms': 26, 'buzzwords': 1203, 'excite': 2937, 'precision': 6725, 'ctr': 2042, 'cr': 1976, 'whilst': 9134, 'dislike': 2426, 'passing': 6422, 'buck': 1163, 'fixer': 3195, 'dare': 2092, 'fuels': 3344, 'seen': 7695, 'criteos': 2012, 'heard': 3680, 'belonging': 986, 'dignity': 2350, 'ncriteo': 5316, 'consequently': 1782, 'relation': 7254, 'encompass': 2745, 'feasibility': 3114, 'emphasizing': 2720, 'newwave': 5476, 'modernize': 4957, 'began': 970, '2004': 93, 'americans': 578, 'nassemble': 5153, 'loading': 4561, 'nkeep': 5644, 'separated': 7737, 'regions': 7221, 'queuing': 7052, 'azkaban': 901, 'luigi': 4627, 'nresidency': 5923, 'lived': 4550, 'ninterpersonal': 5627, 'nshould': 5964, 'facilitation': 3059, 'nnewwave': 5722, 'retaining': 7420, 'nuber': 6054, 'obsession': 6158, 'owning': 6354, 'nexample': 5478, 'nenabling': 5424, 'delightful': 2191, 'friction': 3323, 'npredicting': 5843, 'signals': 7832, 'ndemonstrable': 5339, 'nknow': 5646, 'retraining': 7424, 'lda': 4430, 'tf': 8490, 'idf': 3855, 'word2vec': 9172, 'doc2vec': 2481, 'glove': 3488, 'variational': 8926, 'bayes': 958, 'theorem': 8497, 'explained': 2998, 'trilogy': 8688, 'npowered': 5838, 'instructors': 4093, 'boot': 1086, 'camps': 1243, 'graduated': 3528, 'ndriven': 5387, 'mentality': 4817, 'ntrilogy': 6047, 'mode': 4943, 'deserve': 2258, 'depends': 2232, 'ear': 2578, 'fans': 3089, 'critics': 2017, 'nteamwork': 6017, 'envision': 2826, 'credibly': 1998, 'rows': 7516, 'nviagogo': 6098, 'impacting': 3891, 'x81table': 9221, 'carried': 1291, 'viagogo': 8977, 'geographies': 3451, 'currencies': 2060, 'x81nd': 9218, 'underpinnings': 8771, 'ef': 2648, 'x81ciency': 9215, 'inventory': 4194, 'x81eld': 9217, 'parallel': 6386, 'stretch': 8195, 'pretty': 6777, 'x81ndings': 9219, 'spin': 8021, 'nspin': 5984, 'electric': 2676, 'scooters': 7634, 'cooperation': 1897, 'planners': 6610, 'elected': 2674, 'stationless': 8119, 'orchestrated': 6280, 'lawyers': 4421, 'combinator': 1589, 'seattle': 7673, 'scooter': 7633, 'coral': 1910, 'gables': 3381, 'florida': 3215, 'lexington': 4481, 'kentucky': 4335, 'detroit': 2286, 'embeds': 2703, 'neighborhoods': 5417, 'locally': 4566, 'infoemd': 4008, 'finely': 3172, 'overhead': 6340, 'ndaily': 5324, 'credits': 2000, 'cellphone': 1345, 'stipend': 8149, 'ngenerous': 5548, 'expense': 2979, 'boss': 1092, 'fight': 3146, 'tightly': 8536, 'players': 6623, 'motivations': 5000, 'commops': 1625, 'ndrive': 5386, 'faced': 3052, 'poc': 6641, 'weaknesses': 9094, 'goby': 3493, 'ap': 647, 'esg': 2859, 'reshape': 7363, 'boost': 1083, '140': 45, '51': 183, 'configuring': 1757, 'refining': 7205, 'worker': 9179, 'dress': 2537, 'foosball': 3244, 'ping': 6583, 'pong': 6655, 'outdoor': 6316, 'patio': 6437, 'golf': 3499, 'simulator': 7853, 'illinois': 3862, 'ods': 6183, 'edw': 2640, 'akraya': 520, 'swapnil': 8343, '408': 170, '907': 250, '3201': 151, 'quite': 7058, 'copy': 1909, 'extension': 3026, 'w2': 9049, 'slq': 7893, 'digitalocean': 2349, 'scenario': 7610, 'catalyst': 1312, 'coremetrics': 1913, 'crimson': 2009, 'hexagon': 3703, 'nakraya': 5108, 'x9c': 9262, 'temp': 8454, 'byl': 1205, 'unior': 8797, 'retrieved': 7428, 'distributing': 2458, 'outliers': 6322, 'vice': 8979, 'reconciliations': 7163, 'reconcilable': 7159, 'outfront': 6317, 'profits': 6866, 'peer': 6469, 'obiee': 6145, 'bics': 1010, 'oac': 6142, 'toad': 8554, 'samsara': 7567, 'hardware': 3637, 'plug': 6635, 'mechanical': 4793, 'bolster': 1077, 'jdms': 4261, 'toolmakers': 8575, 'shifting': 7791, 'releases': 7264, 'aggressive': 492, 'cohort': 1554, 'returns': 7434, 'proliferate': 6885, 'studying': 8222, 'gleaning': 3480, 'graphql': 3545, 'colors': 1580, 'sexes': 7765, 'religions': 7279, 'ages': 487, '65': 207, 'gi': 3462, 'publishes': 6966, 'genre': 3442, 'andpartnerships': 610, 'supercharge': 8291, 'nourcurrent': 5787, 'jo': 4272, 'stars': 8101, 'hgtv': 3705, 'hit': 3732, 'x98fixerupper': 9251, 'at4': 795, 'scienceexperience': 7623, 'caresabout': 1285, 'responsiblefor': 7396, 'restructuring': 7410, 'wanteffective': 9068, 'communicators': 1636, 'technicalusers': 8431, 'geta': 3456, 'aself': 741, 'andimprovement': 609, 'closelywith': 1524, 'playerbehavior': 6622, 'translatingbusiness': 8650, 'adirect': 403, 'heuristic': 3701, 'datamining': 2110, 'glean': 3479, 'andprovide': 611, 'andrun': 613, 'indirectly': 3976, 'builddashboards': 1172, 'effectivelyvia': 2653, 'withgame': 9163, 'ui': 8739, 'illustrators': 3865, 'nminimumqualifications': 5701, 'x99sdegree': 9259, 'relateddisciplines': 7251, 'yearsrelated': 9344, 'yearsexperience': 9343, 'asr': 753, 'yearsservicing': 9345, 'ops': 6262, 'ofprocess': 6203, 'sqlfor': 8050, 'assembling': 756, 'andformatting': 608, 'ofat': 6186, 'parse': 6398, 'npreferredqualifications': 5846, 'familiaritywith': 3086, 'datastore': 2117, 'descriptiveand': 2257, 'visualizationtechniques': 9021, 'aplus': 653, 'communicatingresearch': 1631, 'feed': 3125, 'devoted': 2304, 'stunting': 8224, 'mothers': 4994, 'empirical': 2722, 'bangladesh': 935, 'friedman': 3328, 'instruments': 4098, 'ngraduate': 5553, 'mph': 5012, 'mbbs': 4766, 'john': 4278, 'hancock': 3617, '08': 11, 'pushed': 6995, 'tournaments': 8594, 'bowling': 1098, 'nights': 5598, 'volunteering': 9040, 'pools': 6657, 'left': 4455, 'combinations': 1588, 'abstractly': 285, 'guru': 3599, 'ncommunicate': 5278, 'npromote': 5872, 'nexecution': 5484, 'dataminer': 2109, 'intermedia': 4145, 'prime': 6791, 'innovator': 4052, 'blended': 1047, 'reliably': 7273, 'investments': 4209, 'x94combined': 9234, 'nprojectmanager': 5871, 'nations': 5164, 'architect': 698, 'configure': 1756, 'cac': 1213, 'ratios': 7100, 'instance': 4081, 'tactic': 8375, 'caused': 1326, 'adjusted': 407, 'tactics': 8378, 'traversing': 8667, 'transactional': 8625, 'capitalist': 1261, 'munging': 5044, 'honest': 3760, 'upfront': 8848, 'warner': 9074, 'robins': 7484, 'pmo': 6639, 'nwould': 6125, 'briefings': 1131, 'branch': 1110, 'compiling': 1669, 'organizing': 6300, 'prompt': 6896, 'consultation': 1819, 'productivity': 6846, 'regards': 7216, 'ncse': 5319, 'kids': 4346, 'namikids': 5116, '136': 42, '1969': 74, 'amikids': 581, 'youth': 9351, 'positively': 6674, 'separating': 7738, 'troubled': 8695, 'bright': 1133, 'honesty': 3761, 'nnow': 5730, 'institutes': 4087, 'comparison': 1651, 'sis': 7859, 'reoccurring': 7305, 'kid': 4345, 'indicator': 3972, 'conduction': 1744, 'comparing': 1650, 'introductory': 4185, 'juvenile': 4322, 'justice': 4320, 'criminology': 2008, 'listen': 4540, 'meets': 4806, 'std': 8131, 'eap': 2577, 'xj6': 9333, 'invitae': 4212, 'envisions': 2829, 'sequencing': 7741, 'lifelong': 4505, 'meritocracy': 4837, 'intently': 4128, 'iteration': 4247, 'founders': 3295, 'counselors': 1950, 'haves': 3653, 'perfectly': 6485, 'histories': 3730, '36': 157, '60': 200, 'cia': 1450, 'noffices': 5737, 'directorate': 2371, 'ddi': 2135, 'officers': 6197, 'safeguard': 7545, 'altering': 557, 'dual': 2562, 'thesis': 8504, 'tour': 8593, 'attending': 819, 'polygraph': 6654, 'illegal': 3861, 'drugs': 2553, 'armour': 716, 'chosen': 1444, 'athletes': 800, 'blistering': 1050, 'heat': 3683, 'bitter': 1042, 'sport': 8035, 'commonplace': 1624, 'hungriest': 3819, 'pledge': 6630, 'xa6protect': 9313, 'athlete': 799, 'mapmyfitness': 4697, 'endomondo': 2758, 'myfitnesspal': 5049, 'teamed': 8421, 'aimed': 512, 'unmatched': 8823, 'utilized': 8888, 'npassion': 5806, 'nimplement': 5601, 'neventbrite': 5462, 'bustling': 1192, 'minutes': 4907, 'ticket': 8528, 'organizers': 6298, 'attendees': 818, 'happens': 3627, 'threats': 8520, 'chargeback': 1399, 'eventbrite': 2905, 'vigilant': 8993, 'spam': 7981, 'nitty': 5636, 'gritty': 3563, 'decisioning': 2154, 'envisioned': 2827, 'gt': 3578, 'comfort': 1599, 'powering': 6706, 'festivals': 3138, 'marathons': 4704, 'hackathons': 3610, 'rallies': 7076, 'fundraisers': 3365, 'competitions': 1665, 'exact': 2918, 'nsign': 5968, 'caregiver': 1282, 'transgender': 8642, 'stereotypes': 8141, 'victim': 8980, 'assault': 754, 'stalking': 8079, 'plugged': 6636, 'reading': 7119, 'narrative': 5145, 'huffington': 3808, 'buzzfeed': 1202, 'yahoo': 9337, 'lifehacker': 4504, 'floss': 3217, 'foundations': 3292, 'imaginable': 3871, 'freelance': 3315, 'journalist': 4292, 'ncommitment': 5277, 'edited': 2628, 'outlines': 6325, 'possibility': 6679, 'viability': 8974, 'conceptual': 1720, 'grammar': 3532, 'chicagoland': 1427, 'virtually': 9002, 'affected': 464, 'x9clive': 9279, 'nr': 5889, 'reconciliation': 7162, 'hampshire': 3615, 'frontier': 3334, 'livereach': 4551, 'disrupt': 2441, 'lrm': 4617, 'nfunctions': 5540, 'splunk': 8025, 'elasticsearch': 2672, 'logstash': 4583, 'kibana': 4343, 'julia': 4308, 'usable': 8865, 'livereachmedia': 4552, 'envisioning': 2828, 'sky': 7880, 'enabled': 2740, 'harmonizing': 3639, 'ideals': 3843, 'insatiably': 4064, 'lean': 4439, 'uncertainty': 8756, 'awe': 895, 'ncheck': 5251, 'en': 2738, 'nmicrosoft': 5695, 'adopt': 422, 'architectural': 701, 'cpg': 1973, 'nwell': 6108, 'deployments': 2239, 'infusing': 4025, 'lerning': 4465, 'bot': 1094, 'databricks': 2102, 'nincrease': 5605, 'hd': 3663, 'miachine': 4862, 'streeam': 8185, 'hubs': 3804, 'sl': 7884, 'dtabase': 2561, 'bus': 1188, 'orcle': 6281, 'vms': 9031, 'biztalk': 1043, 'remove': 7299, 'blockers': 1053, 'evangelist': 2899, 'nemphasis': 5419, 'adjacent': 404, 'nbreadth': 5214, 'consensus': 1779, 'conflicts': 1762, 'npresentation': 5850, 'vmware': 9032, 'avanade': 877, 'wipro': 9156, 'csc': 2036, 'infosys': 4020, 'servicenow': 7752, 'dell': 2201, 'tcs': 8414, 'ntravel': 6045, 'ordinances': 6286, 'imbalances': 3876, 'monetization': 4973, 'elicit': 2687, 'gameplay': 3392, 'accessing': 309, 'publishing': 6967, 'windowing': 9149, 'n_____________________________________________________________________': 5078, 'conceived': 1712, 'intricacies': 4180, 'connectors': 1774, 'lightly': 4513, 'workplaces': 9187, 'studios': 8220, 'consultancy': 1816, 'prominent': 6887, 'intuition': 4186, 'russian': 7538, 'rfps': 7453, 'cqi': 1975, 'cleans': 1494, 'manipulates': 4684, 'hrsa': 3798, 'spns': 8027, 'surveys': 8327, 'announcement': 625, 'santa': 7574, 'clara': 1476, 'mateo': 4737, 'counties': 1952, 'nfood': 5524, 'nharvest': 5560, '1974': 77, 'despite': 2274, 'immense': 3880, 'nsilicon': 5970, 'partly': 6409, 'malnutrition': 4667, 'pervasive': 6540, 'ndistributes': 5373, 'nutritious': 6093, 'nthrough': 6033, '309': 142, '985': 262, 'nadvocates': 5103, 'nresources': 5926, 'shfb': 7788, 'nsecond': 5949, 'nusing': 6085, 'nreach': 5895, 'ndifferent': 5362, 'nup': 6079, 'nwill': 6117, 'orally': 6277, 'eagerness': 2576, '750': 220, 'curtner': 2064, 'ave': 878, '95125': 256, 'evenings': 2903, 'fto': 3340, 'represented': 7327, 'tinton': 8544, 'falls': 3082, 'nlocate': 5664, 'suited': 8275, 'characterize': 1397, 'classifier': 1488, 'marketo': 4714, 'technics': 8433, 'ndocument': 5377, 'pwerpoint': 7000, 'gartner': 3402, 'magic': 4645, 'quadrant': 7016, 'recovery': 7169, 'definitive': 2185, 'seventh': 7763, 'commvault': 1642, 'furthest': 3376, 'ncommvault': 5281, 'cisco': 1459, 'nutanix': 6087, 'pure': 6984, 'hitachi': 3733, 'netapp': 5448, 'emea': 2710, 'apac': 648, 'cst': 2039, 'unnecessary': 8825, 'visits': 9017, 'chronic': 1446, 'turnkey': 8720, 'homes': 3757, 'abroad': 278, 'older': 6211, 'adults': 428, 'battling': 956, 'illness': 3863, 'sybase': 8350, 'crystal': 2034, 'conveying': 1887, 'novi': 5793, 'triggers': 8686, 'contracted': 1857, '70': 213, 'charleston': 1402, 'sc': 7597, '100k': 18, 'sisense': 7860, 'disruptive': 2445, 'healing': 3672, 'oversees': 6345, 'analyzable': 601, 'nmay': 5689, 'difficulties': 2340, 'perpetuate': 6513, 'nexceptional': 5480, 'conceptualization': 1721, 'mount': 5003, 'sinai': 7855, 'devotion': 2305, 'ethically': 2880, 'nurturing': 6082, '38': 161, 'icahn': 3834, 'premier': 6745, 'beth': 1002, 'brooklyn': 1149, 'queens': 7042, 'roosevelt': 7501, 'infirmary': 3998, 'brainjolt': 1104, 'brainjoltmedia': 1105, 'quantcast': 7029, 'cleverness': 1507, 'inducing': 3981, 'viral': 8998, 'quizzes': 7059, 'highlights': 3715, 'words': 9173, '20m': 114, 'magiquiz': 4646, 'mobiles': 4937, 'boasting': 1069, 'visitor': 9015, 'whopping': 9138, '26': 127, 'monster': 4980, 'possibly': 6681, 'fin': 3157, 'biased': 1009, 'draft': 2522, 'evenue': 2908, 'yield': 9347, 'bid': 1011, 'gds': 3415, 'gam': 3389, 'drama': 2525, 'dsps': 2558, 'ssps': 8062, 'dfp': 2310, 'header': 3667, 'desks': 2272, 'mitigate': 4920, 'negatively': 5412, 'educate': 2635, 'nbrainjolt': 5212, 'greatly': 3552, 'boredom': 1090, 'netflix': 5450, 'audible': 835, 'redmond': 7184, 'nnature': 5719, 'nsupporting': 6011, 'nimprove': 5603, 'discrete': 2410, 'nextensive': 5498, 'quantitate': 7034, 'arrive': 724, 'x9cclean': 9270, 'printouts': 6799, 'locate': 4568, 'philips': 6564, 'layered': 4424, 'precondition': 6728, 'calling': 1230, 'society': 7930, 'continuum': 1855, 'unexpected': 8784, 'moments': 4971, 'watching': 9082, '1973': 76, 'vietnam': 8985, 'readjustment': 7120, '1990': 80, '888': 242, '367': 159, '7223': 217, 'ph1': 6552, 'ncontact': 5300, 'forgot': 3264, 'password': 6427, 'reset': 7362, 'careersite': 1279, 'monitored': 4977, 'inbox': 3924, '969': 259, '756': 222, 'professors': 6855, 'dana': 2091, 'mukamel': 5028, 'kai': 4326, 'zheng': 9359, 'calmhsa': 1233, 'inn': 4043, 'statewide': 8116, 'chatting': 1413, 'describing': 2252, 'irvine': 4233, 'uc': 8734, '968': 258, '58': 194, '755': 221, '83': 230, 'ntotal': 6039, 'nfinal': 5510, 'substantial': 8252, 'subcontracts': 8229, 'attach': 809, 'element': 2682, 'bellevue': 985, 'smarts': 7903, 'pick': 6575, 'light': 4512, 'agility': 496, 'bmw': 1065, 'breakthrough': 1124, 'contained': 1832, 'ntransform': 6042, 'repeatable': 7312, 'rmarkdown': 7477, 'ndistribute': 5371, 'napprise': 5138, 'nanalysis': 5119, 'parts': 6416, 'videos': 8984, 'analyse': 590, 'indictors': 3975, 'analysing': 592, 'incites': 3930, 'viacom': 8976, 'touches': 8588, 'hottest': 3778, 'translation': 8651, 'viewers': 8989, 'mtv': 5026, 'comedy': 1597, 'paramount': 6390, 'vh1': 8973, 'bet': 1001, 'heterogeneous': 3700, 'metered': 4845, 'syndicated': 8356, 'foresting': 3260, 'attitudinal': 823, 'redis': 7182, 'ncreative': 5314, 'x98think': 9252, 'ish': 4234, 'upper': 8855, 'avvo': 888, 'likes': 4516, 'envelope': 2822, 'approximations': 689, 'uncovering': 8762, 'maximum': 4761, 'precise': 6724, 'nsuccess': 6003, 'breathe': 1125, 'ib': 3831, 'applauds': 659, 'embracing': 2709, 'intensely': 4123, 'luxury': 4631, 'jeans': 4262, 'sneakers': 7920, 'stability': 8065, 'ninternet': 5623, 'bored': 1089, 'bodies': 1072, 'scraping': 7645, 'ndashboard': 5326, 'ggplot2': 3460, 'dplyr': 2521, 'tidyverse': 8531, 'node': 5734, 'definite': 2182, 'c4ads': 1207, 'ninterns': 5624, 'prorated': 6920, 'equality': 2840, 'ndue': 5389, 'corva': 1938, 'ups': 8856, 'houston': 3786, 'minute': 4906, 'drilling': 2540, 'laser': 4400, 'qcs': 7011, 'qaqc': 7008, 'prioritized': 6805, 'staged': 8074, 'drill': 2539, 'string': 8199, 'bha': 1006, 'bits': 1041, 'mud': 5027, 'motors': 5002, 'casing': 1304, 'navigating': 5183, 'rig': 7463, 'rto': 7527, 'vance': 8918, 'rotate': 7507, 'closed': 1522, 'inqa': 4057, 'stamp': 8080, 'boxes': 1100, 'stamped': 8081, 'paperwork': 6383, 'yard': 9338, 'sorters': 7964, 'repair': 7308, 'assembly': 757, 'nregularly': 5904, 'stands': 8093, 'bends': 994, 'lifts': 4511, 'moves': 5008, 'intermittently': 4147, 'shifts': 7792, 'inclement': 3931, 'weather': 9096, 'bloom': 1058, 'oxide': 6356, 'newark': 5465, 'x98always': 9249, 'bloomenergy': 1059, 'scoop': 7632, 'nscoop': 5948, 'neighbors': 5418, 'carpooling': 1289, 'x94unlocking': 9246, 'friendships': 3331, 'miguelhelft': 4878, 'mainstream': 4651, 'nengineering': 5428, 'nfew': 5507, 'pixels': 6598, 'beings': 979, 'touching': 8589, 'academics': 293, 'nbut': 5223, 'lone': 4585, 'vc': 8939, 'academia': 291, 'sf': 7767, 'mixes': 4925, 'elbow': 2673, 'grease': 3548, 'crosshairs': 2022, 'commuters': 1641, 'embody': 2706, 'nwalk': 6105, 'furry': 3372, 'tail': 8381, 'wagging': 9053, 'fluffy': 3229, 'faces': 3053, 'exemplify': 2954, 'reminder': 7294, 'shouldn': 7811, 'seriously': 7744, 'carpool': 1288, 'influenced': 4001, 'crafted': 1979, 'feels': 3129, 'focuskpi': 3238, 'nfocuskpi': 5522, 'customization': 2072, 'batch': 955, 'connectivity': 1773, 'instincts': 4084, 'nreq6826': 5916, 'nregular': 5903, 'nperiodic': 5817, 'ntempe': 6022, 'storing': 8165, 'standardization': 8086, 'ntranslates': 6044, 'toolset': 8577, 'ntests': 6025, 'replication': 7314, 'synchronization': 8354, 'nunderstands': 6073, 'nproactively': 5858, 'nexhibits': 5487, 'sunset': 8288, 'irregular': 4231, 'aligned': 537, 'red': 7178, 'columnar': 1583, 'indexing': 3966, 'inverted': 4195, 'opportunistic': 6257, 'prep': 6750, 'scorecarding': 7639, 'ncompetencies': 5285, 'nsfarm': 5957, 'njt18': 5641, 'descriptionalphawise': 2254, 'alphawise': 555, 'enabler': 2741, 'x9coffense': 9284, 'x9cdefense': 9271, 'quants': 7038, 'rulebooks': 7532, 'shore': 7805, 'suggesting': 8268, 'reliance': 7274, 'samsung': 7568, 'nstrategic': 5997, 'innate': 4044, 'uncharted': 8757, 'activate': 359, 'operationalized': 6248, 'addressed': 393, 'logit': 4581, 'multinomial': 5035, 'component': 1691, 'priori': 6801, 'schema': 7616, 'convince': 1890, 'adversarial': 437, 'vps': 9046, 'approve': 686, 'alternatives': 560, 'subordinates': 8240, 'negotiate': 5414, 'agreement': 501, 'compromise': 1705, 'medium': 4802, 'keyboard': 4341, 'terminal': 8470, '95': 255, 'prolonged': 6886, 'considerable': 1787, 'acuity': 372, 'numeric': 6065, 'stress': 8193, 'normally': 5767, 'cyclical': 2084, 'machines': 4639, 'printers': 6798, 'copiers': 1906, 'faxes': 3107, 'varies': 8929, 'defaults': 2171, 'european': 2890, 'assesses': 759, 'selects': 7708, 'adapts': 383, 'anticipates': 642, 'exceptionally': 2933, 'measured': 4788, 'rifiniti': 7462, 'sofia': 7932, 'bulgaria': 1178, 'ukraine': 8742, 'leased': 4447, 'portfolios': 6665, 'infrastructures': 4023, 'disprove': 2439, 'bench': 989, 'marking': 4719, 'ease': 2588, 'consolidation': 1802, 'corridor': 1936, '19000c1k': 65, 'nwithin': 6121, 'unusually': 8841, 'encounter': 2746, 'discounting': 2402, 'nmore': 5711, 'unpredictable': 8829, 'unknowns': 8814, 'styles': 8226, 'transparent': 8656, 'journals': 4294, 'uncommon': 8759, 'enjoyment': 2791, 'postgraduate': 6686, 'nconsistency': 5297, 'npractical': 5840, 'nrobust': 5937, 'parameter': 6388, 'predicted': 6731, 'ndomain': 5382, 'adaptations': 380, 'fantastic': 3090, 'npost': 5835, 'doctoral': 2485, 'dataops': 2111, 'graphical': 3541, 'gaussian': 3410, 'mcmc': 4772, 'markov': 4720, 'summarization': 8278, 'mxnet': 5048, 'torch': 8582, 'ranges': 7083, 'modelled': 4948, 'nleading': 5651, 'stanza': 8096, 'nhundreds': 5585, 'pageviews': 6368, 'sync': 8353, 'concerts': 1728, 'sporting': 8036, 'movie': 5009, 'esports': 2863, 'brothers': 1152, 'nbc': 5197, 'cbs': 1330, 'nfl': 5515, 'nhl': 5576, 'ncaa': 5228, 'default': 2170, 'calendars': 1226, 'automatically': 866, 'remember': 7292, 'articles': 731, 'pages': 6367, 'aligning': 538, 'nstanza': 5991, 'theories': 8499, 'verifies': 8956, 'delve': 2203, 'reimbursements': 7241, 'advertisement': 439, 'dorahitsolutions': 2511, 'nutritional': 6091, 'federally': 3122, 'disparities': 2430, 'snap': 7917, 'ed': 2620, 'intake': 4104, 'archive': 705, 'docs': 2483, 'fte': 3339, 'ua': 8731, 'asu': 791, 'nau': 5175, 'recreation': 7170, 'arizona': 712, 'worldatwork': 9194, 'recording': 7167, 'responses': 7392, 'compiles': 1668, 'sorts': 7965, 'corrects': 1930, 'reconciles': 7161, 'trackers': 8602, 'disseminates': 2447, 'logs': 4582, 'archives': 706, 'hardcopy': 3633, 'affecting': 465, 'accepts': 305, 'attends': 820, 'absorb': 281, 'regents': 7218, 'narizona': 5144, 'alphanumeric': 553, 'proofing': 6900, 'nvivo': 6104, 'composition': 1695, 'spelling': 8014, 'punctuation': 6980, 'flsa': 3223, 'doe': 2493, 'motiion': 4995, 'fostering': 3288, 'scattered': 7608, 'inconsistently': 3946, 'freshness': 3322, 'aspire': 749, 'signs': 7838, 'ntoolbox': 6037, 'intuitively': 4188, 'shortlist': 7809, 'termimpact': 8469, 'x9cbang': 9266, 'nstarter': 5992, 'finisher': 3178, 'hope': 3763, 'unquestioned': 8831, 'ndisciplined': 5365, 'snag': 7916, 'ncollaborative': 5269, 'nappreciation': 5137, 'acceptable': 301, 'outlast': 6320, 'scratch': 7648, 'painful': 6371, 'eyes': 3045, 'nremote': 5910, 'vastly': 8936, 'outnumber': 6327, 'disadvantages': 2381, 'shown': 7815, 'obstacle': 6160, 'devolve': 2302, 'empire': 2721, 'notch': 5774, 'n1strategy': 5060, 'nimble': 5600, '1strategy': 86, 'roadblocks': 7481, 'parties': 6408, 'uncleansed': 8758, 'versioning': 8964, 'cultivating': 2046, 'shareholders': 7778, 'amex': 580, 'orchestra': 6279, 'rigorious': 7467, 'reolve': 7306, 'performances': 6488, 'dialog': 2319, 'prototypes': 6937, 'django': 2474, 'reqid': 7336, '19004162': 67, 'ndate': 5329, 'payable': 6445, 'ghg': 3461, 'emissions': 2716, 'gresb': 3560, 'cdp': 1337, 'gri': 3561, 'djsi': 2475, 'sasb': 7579, 'disclosures': 2397, 'leed': 4454, 'submittal': 8236, 'tcfd': 8413, 'kernels': 4339, 'bear': 964, 'quantifind': 7032, 'nquantifind': 5884, 'explanatory': 3001, 'vertical': 8966, 'aml': 583, 'dimension': 2352, 'latent': 4404, 'dirichlet': 2375, 'lsa': 4618, 'menlo': 4815, 'strives': 8202, 'nblackthorn': 5206, 'therapeutics': 8502, 'neurobehavioral': 5457, 'disorders': 2428, 'depression': 2242, 'schizophrenia': 7618, 'autism': 859, 'pioneered': 6587, 'psychiatry': 6954, 'gen': 3422, 'multimodal': 5034, 'treatment': 8672, 'neuroscience': 5460, 'resting': 7404, 'fmri': 3233, 'structural': 8209, 'mri': 5018, 'dwi': 2571, 'ample': 588, 'freesurfer': 3317, 'toolboxes': 8571, 'eeg': 2643, 'speech': 8012, 'strategical': 8174, 'pda': 6460, 'introduce': 4182, 'nfully': 5538, 'segmented': 7700, 'cleansed': 1496, 'shoots': 7799, 'nexecutes': 5483, 'ssdt': 8060, 'nrdbms': 5894, 'ssis': 8061, 'nftp': 5536, 'nexposure': 5495, 'dmexpress': 2477, 'talend': 8386, 'mc1': 4769, 'nzeta': 6141, 'steinberg': 8135, 'sculley': 7659, 'cola': 1556, '2007': 95, 'zetahub': 9357, 'february': 3120, 'multichannel': 5030, 'noperating': 5755, 'continents': 1844, 'hyderabad': 3824, 'india': 3967, 'zeta': 9356, 'nrecent': 5897, 'relevancy': 7269, 'th': 8492, 'nconceptual': 5293, 'nai': 5106, 'xa8ve': 9316, 'svm': 8339, 'apriori': 693, 'tidyr': 8530, 'holders': 3745, 'kaggle': 4324, 'article': 730, 'quant': 7028, 'nportland': 5831, 'begin': 971, 'cambia': 1238, 'frictionless': 3324, 'fragmented': 3299, 'disposal': 2437, 'chatbots': 1412, 'admitting': 420, 'diagnosis': 2314, 'ncluster': 5263, 'nintegrate': 5615, 'tokenization': 8558, 'expressions': 3018, 'corenlp': 1914, 'gensim': 3443, 'mallet': 4666, 'lingpipe': 4527, 'ctakes': 2041, 'crf': 2003, 'maxent': 4757, 'lsi': 4621, 'neager': 5394, 'nfluency': 5520, 'cumulative': 2051, 'convex': 1884, 'tackles': 8372, 'tries': 8685, 'storages': 8159, 'napplying': 5136, 'nadapt': 5094, 'exploit': 3004, 'eighteen': 2668, 'cntk': 1536, 'nprogramming': 5869, 'nable': 5081, 'ninterest': 5619, 'nproduct': 5865, 'conception': 1718, 'draws': 2532, 'ideation': 3847, 'nsynthesize': 6013, 'ndefine': 5334, 'longitudinal': 4589, 'kernel': 4338, 'ensemble': 2798, 'methodically': 4848, 'spring': 8046, 'companywide': 1647, 'investigated': 4199, 'maps': 4702, 'scatter': 7607, 'plots': 6634, 'histograms': 3726, 'influential': 4004, 'sectional': 7679, 'ncoursework': 5309, 'ncambia': 5229, 'century': 1359, 'beginnings': 974, 'pacific': 6361, 'cupertino': 2053, 'seagate': 7664, 'hqs': 3791, 'bigdata': 1015, '8am': 245, '5pm': 198, 'returning': 7433, 'fall': 3081, 'lsg': 4619, 'ninsurance': 5614, 'nhealthy': 5568, 'compliant': 1684, 'drawn': 2531, 'planned': 6609, 'translated': 8647, 'multivariable': 5040, 'norfolk': 5762, 'nbuilds': 5221, 'cerner': 1362, 'modality': 4942, 'palm': 6375, 'beach': 963, 'mary': 4723, 'tenet': 8460, 'rsg': 7520, 'modelers': 4946, 'white': 9135, 'river': 7474, 'junction': 4311, 'vermont': 8959, 'landscapes': 4390, 'rsginc': 7521, 'torchlight': 8583, 'approval': 684, 'proofread': 6902, 'tabulation': 8370, 'granular': 3537, 'syntax': 8358, 'ntorchlight': 6038, 'voted': 9043, 'torchlighthire': 8584, 'ncarrot': 5240, 'cigarette': 1452, 'preventable': 6779, 'fda': 3111, 'therapy': 8503, 'smartphone': 7902, 'njoining': 5640, 'formative': 3270, 'carrot': 1293, 'instrumented': 4097, 'mixpanel': 4926, 'keynote': 4342, 'featuring': 3119, 'trails': 8613, 'waterway': 9088, 'cafe': 1216, 'shuttle': 7820, 'proximity': 6951, 'nvisit': 6103, 'westrock': 9126, 'nwestrock': 6111, 'wrk': 9209, 'packaging': 6364, '320': 150, 'n1000': 5056, 'abernathy': 270, 'rd': 7107, 'ne': 5393, 'natlanta': 5167, '30328': 141, 'nunited': 6076, 'nrequisition': 5920, '8954': 243, 'unanticipated': 8752, 'researches': 7354, 'telecommuting': 8448, 'cplex': 1974, 'ampl': 587, 'opl': 6256, 'attn': 824, 'stephanie': 8138, 'nday': 5330, 'newyork': 5477, 'presbyterian': 6757, 'weill': 9111, 'cornell': 1915, 'ao1': 646, 'n__________________': 5077, 'n2018': 5063, 'ceos': 1361, 'x9camerica': 9265, 'becker': 968, 'nyp': 6138, 'nnewyork': 5723, 'method': 4846, 'sophistication': 7961, 'participant': 6401, 'inner': 4045, 'hosted': 3774, 'breed': 1126, 'reputation': 7333, 'centralized': 1357, 'finscan': 3182, 'bunch': 1182, 'friends': 3330, 'hang': 3624, 'uncommongoods': 8760, 'jsp': 4302, 'utm_medium': 8893, 'utm_source': 8894, 'cool': 1895, 'bios': 1033, 'optional': 6271, '1079302': 23, 'nkbrwyle': 5643, 'kbr': 4329, 'navair': 5181, 'dod': 2492, 'nongoing': 5744, 'kbrwyle': 4330, 'nmonpost': 5709, 'effecting': 2650, 'exploitation': 3005, 'loopholes': 4597, 'nwish': 6119, 'brooks': 1150, 'itw': 4251, 'hatfield': 3651, 'suburban': 8256, 'philadelphia': 6561, 'hungary': 3817, 'france': 3305, 'japan': 4254, 'semiconductor': 7721, 'cells': 1346, 'slides': 7891, 'trackwise': 8605, 'preventive': 6782, 'cc': 1332, 'fa': 3048, 'traintrack': 8618, 'conformances': 1765, 'dynamically': 2573, 'satisfying': 7586, 'compete': 1658, 'prospered': 6926, 'changed': 1387, 'nchesapeake': 5252, 'conservancy': 1783, 'annapolis': 621, 'chesapeake': 1423, 'watershed': 9087, 'fish': 3189, 'wildlife': 9145, 'waters': 9086, 'abundant': 287, 'wetlands': 9128, 'shorelines': 7806, 'spaces': 7980, 'acres': 353, 'vanishing': 8920, 'conserve': 1785, 'rivers': 7475, 'restore': 7407, 'conservation': 1784, 'cic': 1451, 'restoration': 7406, 'dramatically': 2527, 'pilot': 6581, 'habitat': 3609, 'scientistwill': 7628, 'satellite': 7580, 'aerial': 457, 'imagery': 3869, 'lidar': 4497, 'ecological': 2607, 'encountered': 2747, 'grant': 3534, 'slide': 7890, 'decks': 2157, 'funders': 3363, 'dependable': 2226, 'stewardship': 8145, 'finite': 3181, 'nonlinear': 5746, '56': 189, '784': 225, 'nschool': 5947, 'rc': 7106, 'pennsylvania': 6475, '19002353': 66, 'pittsburgh': 6593, 'radiology': 7068, 'psychiatric': 6953, 'molecular': 4969, 'pmod': 6640, 'neurochemical': 5458, 'abnormalities': 275, 'addictive': 387, 'nassignment': 5156, 'fulltime': 3348, 'programmer': 6870, 'ncampus': 5231, 'baccalaureate': 909, '30am': 143, '00pm': 4, 'nrelocation': 5909, 'nbackground': 5192, 'finalists': 3160, 'nchild': 5253, 'clearances': 1501, 'noptional': 5759, 'omd': 6215, 'omg': 6216, 'nagency': 5105, 'nredjack': 5902, 'resilience': 7367, 'complied': 1686, 'rust': 7539, 'pc': 6458, 'osx': 6311, 'redjack': 7183, 'reserve': 7357, 'ericsson': 2851, 'nericsson': 5442, 'networked': 5452, '180': 60, 'achievements': 341, 'practically': 6717, 'brains': 1106, '5g': 196, 'accelerator': 298, 'sweden': 8345, 'advancements': 432, 'digitalization': 2348, 'acceleration': 297, 'nthen': 6028, '4g': 178, 'validated': 8909, 'exogenous': 2968, 'industrialize': 3984, 'nengage': 5426, 'nstatistics': 5995, 'discriminant': 2413, 'bagging': 926, 'functionalities': 3353, 'industrialization': 3983, 'ncertifying': 5248, 'moocs': 4987, 'nurture': 6081, 'persistence': 6516, 'blogs': 1056, 'sensitivity': 7729, 'bf1': 1005, 'ntag': 6014, 'manahj': 4678, 'opinion': 6254, 'compact': 1644, 'requesting': 7339, 'lie': 4498, 'detector': 2280, 'discharging': 2387, 'disciplining': 2392, 'discriminating': 2416, 'refusing': 7212, 'exercising': 2958, 'whd': 9133, 'eppac': 2837, 'modifications': 4959, 'adjustments': 409, 'dallas': 2089, '866': 239, '374': 160, '2272': 120, '338': 154, '9966': 263, 'serveng': 7747, 'joseph': 4289, 'ryerson': 7540, 'son': 7957, 'distributors': 2462, '176th': 56, 'anniversary': 622, 'china': 1434, 'lisle': 4537, 'nexpected': 5488, 'treasury': 8668, 'author': 851, 'playbooks': 6620, 'doxo': 2519, 'disrupting': 2443, 'bills': 1024, 'mature': 4755, 'biller': 1020, 'directory': 2373, 'charting': 1407, 'graphing': 3543, 'zywave': 9365, 'consult': 1815, 'broker': 1147, '2005': 94, '2008': 96, 'kaplan': 4328, 'meaningfully': 4782, 'feasible': 3115, 'nminimal': 5699, 'courageous': 1959, 'toolsets': 8578, 'srrs': 8056, 'gemba': 3421, 'a3': 264, 'mdi': 4775, '00079': 2, 'highlight': 3713, 'eq': 2838, 'hcss': 3662, 'nbeing': 5201, 'programing': 6868, 'sugar': 8265, 'arcade': 696, 'ndid': 5361, 'mention': 4819, 'loans': 4564, 'trip': 8690, 'npart': 5801, 'junk': 4315, 'folder': 3239, 'housing': 3785, 'visas': 9006, 'nittany': 5635, 'alliance': 545, 'psu': 6952, 'enhances': 2786, 'marketable': 4711, 'unsolved': 8836, 'concrete': 1734, 'nontechnical': 5752, 'infer': 3993, 'asap': 739, 'milliman': 4882, 'actuaries': 370, 'licensing': 4495, 'quantification': 7031, 'lapse': 4394, 'mortality': 4993, 'nmilliman': 5696, '1947': 72, 'x94senior': 9242, 'era': 2850, 'ncyber': 5323, 'breach': 1115, 'cybersecurity': 2081, 'namplion': 5117, 'synthesizes': 8361, 'diagnostic': 2315, 'leverages': 4478, 'amplion': 589, 'biomarker': 1031, 'extracted': 3033, 'nrelevant': 5907, 'neo4j': 5439, '200046821': 91, 'itunes': 4250, 'uml': 8748, 'factless': 3065, 'temporal': 8456, 'noverall': 5790, 'tiered': 8534, 'inherently': 4032, 'capturing': 1268, 'ncapture': 5236, 'downstream': 2517, 'epms': 2836, 'verified': 8955, 'uat': 8732, 'satisfy': 7585, 'atos': 806, 'societas': 7929, 'europaea': 2888, 'forma': 3266, 'circa': 1454, 'x82': 9222, '72': 216, 'bpo': 1102, 'worldline': 9196, 'natos': 5170, 'powers': 6708, 'olympic': 6213, 'paralympic': 6387, 'euronext': 2887, 'paris': 6395, 'worldgrid': 9195, 'bull': 1180, 'unify': 8791, 'competences': 1660, 'nselecting': 5952, 'classifiers': 1489, 'nextending': 5496, 'nenhancing': 5430, 'nprocessing': 5861, 'ndoing': 5381, 'dataviz': 2119, 'naive': 5107, 'cloudera': 1528, 'hortonworks': 3769, 'mapr': 4700, 'oozie': 6231, 'rtf': 7525, 'colour': 1581, 'solely': 7942, 'realized': 7127, '30bn': 144, 'paired': 6374, 'x94and': 9233, 'x94is': 9239, 'extraordinarily': 3038, 'generalist': 3425, 'nhonor': 5578, 'wwe': 9210, 'evolution': 2913, 'operationalize': 6247, 'systematic': 8363, 'servers': 7749, 'highlighting': 3714, 'correlations': 1933, '31': 145, 'verifications': 8954, 'ofac': 6185, 'ss': 8057, 'vb': 8937, 'dea': 2136, '67': 209, '126': 37, '062': 9, 'sub': 8228, 'truemotion': 8700, 'acceptability': 300, 'interdependencies': 4136, 'incongruences': 3943, 'notifying': 5785, 'infogram': 4009, 'incongruencies': 3944, 'comprehend': 1697, 'distracted': 2455, 'toes': 8557, 'calories': 1234, 'waterfront': 9085, 'drink': 2541, 'afternoon': 480, 'sox': 7977, 'esplanade': 2862, 'lower': 4612, 'pun': 6976, 'band': 934, 'fort': 3281, 'ntruemotion': 6049, 'bain': 927, 'lakestar': 4385, 'calculating': 1222, 'hud': 3806, 'ntwo': 6051, 'hmis': 3739, 'exym': 3043, 'champ': 1382, 'zoho': 9361, 'supervisory': 8298, 'ncomputer': 5291, 'widely': 9142, 'registrations': 7224, 'nvalid': 6095, 'liability': 4486, 'nst': 5989, 'endorses': 2759, 'ada': 376, 'feha': 3132, 'experiencing': 2984, '310': 146, '396': 163, '6468': 206, 'voluntarily': 9037, 'refusal': 7211, 'adverse': 438, 'idlewild': 3856, 'tampa': 8397, '33634': 153, 'determines': 2284, 'drafts': 2524, 'escalate': 2855, 'runs': 7536, 'formulates': 3279, 'concentrates': 1715, 'negative': 5411, 'angles': 615, 'unknown': 8813, 'multifunctional': 5033, 'perot': 6509, 'peradigm': 6480, 'wellcare': 9119, 'intelliclaim': 4118, 'nalpharetta': 5111, 'mn': 4933, 'n50': 5072, 'nresponsibility': 5930, 'nexercise': 5486, 'judgement': 4303, 'nopen': 5753, 'nverbal': 6097, 'abstract': 282, 'inefficiencies': 3987, 'defects': 2173, 'lessons': 4468, 'nexecute': 5482, 'ninsert': 5613, 'alpha': 552, 'faceted': 3054, 'neuberger': 5455, 'berman': 999, 'onlineaccommodations': 6224, 'nb': 5187, 'c3': 1206, 'abstraction': 284, '10x': 27, '100x': 19, 'tweak': 8723, 'kitchen': 4351, 'breakfast': 1120, 'tennis': 8461, 'evening': 2902, 'fdr': 3112, 'airworthiness': 519, 'reasonability': 7132, 'avionica': 883, 'flight': 3208, 'incident': 3928, 'aircraft': 515, 'downloads': 2516, 'assisted': 775, 'guideline': 3593, 'quoting': 7062, 'aeronautical': 458, 'foqa': 3247, 'binary': 1026, 'octal': 6177, 'hex': 3702, 'numbering': 6061, 'ge': 3416, 'imagination': 3872, 'genx': 3446, 'imaginative': 3873, 'ecomagination': 2608, 'got': 3507, 'reengineering': 7194, 'nge': 5544, 'miami': 4863, 'tonnes': 8567, 'approachable': 679, 'pockets': 6642, 'correlation': 1932, 'invalid': 4189, 'defect': 2172, 'nreliably': 5908, 'flowing': 3221, 'traceable': 8600, 'insertion': 4066, 'interoperability': 4157, 'flaws': 3203, 'ncomply': 5289, 'nmine': 5697, 'operationalizing': 6249, 'mechanisms': 4795, 'mbr': 4767, 'qbr': 7009, 'nlearns': 5654, 'sme': 7905, 'nconsistently': 5298, 'nmonitoring': 5708, 'n9': 5076, 'editors': 2631, 'powercenteridq': 6703, 'mercury': 4830, 'qtp': 7015, '10g': 25, 'modular': 4964, 'sprint': 8047, 'nfosys': 5532, 'pythoninfosys': 7005, 'unprecedented': 8828, 'transferring': 8634, 'wanted': 9067, 'navigators': 5185, 'transformationsas': 8639, 'anchor': 607, 'developments': 2295, 'pursuits': 6993, 'travelu': 8666, 'qualificationsbasic': 7020, 'preferable': 6738, 'nlstm': 5669, 'knn': 4358, 'integer': 4105, 'constraint': 1809, 'analyticso': 600, 'managemento': 4673, 'segmentationo': 7699, 'sticks': 8147, 'differentiators': 2336, 'usinfosys': 8877, 'outsourcing': 6336, '80bn': 228, 'msn': 5023, 'surface': 8315, 'xbox': 9327, 'surprised': 8320, 'inspired': 4077, 'appreciates': 675, 'chipp': 1437, 'reactively': 7115, 'piracy': 6592, 'exploits': 3006, 'remediation': 7291, 'theft': 8496, 'distances': 2449, 'attacks': 813, 'ninforms': 5610, 'nidentification': 5591, 'perpetration': 6510, 'perpetrators': 6512, 'nproper': 5873, 'leakage': 4438, 'referral': 7201, 'cela': 1339, 'attorneys': 826, 'naddt': 5099, 'modus': 4967, 'operandi': 6240, 'attack': 811, 'vectors': 8942, 'perpetrator': 6511, 'nformulates': 5531, 'unasked': 8753, 'nextends': 5497, 'mitigating': 4921, 'nidentifies': 5592, 'ncoaches': 5265, 'nengages': 5427, 'objectively': 6148, 'inquiry': 4060, 'nmanages': 5681, 'nshares': 5959, 'thoroughly': 8515, 'conversant': 1878, 'nsecondary': 5950, 'chinese': 1435, 'cseo': 2037, 'cdas': 1334, 'inspector': 4073, 'oig': 6206, 'watchdog': 9081, 'taxpayers': 8411, 'jurisdiction': 4318, 'economy': 2616, 'rooting': 7504, 'corruption': 1937, 'mismanagement': 4909, 'x94investigations': 9238, 'x94legal': 9240, 'noig': 5738, 'unpaid': 8827, 'cita': 1460, 'citywide': 1467, 'pentaho': 6477, 'usability': 8864, 'nonpartisan': 5748, 'nannual': 5125, 'nacademic': 5083, 'majoring': 4659, 'grading': 3523, 'penatho': 6471, 'summarized': 8281, 'chicagoinspectorgeneral': 1426, 'transcript': 8627, 'instruction': 4091, 'nmanipulate': 5683, 'comma': 1603, 'json': 4301, 'informative': 4016, 'commercially': 1612, 'nderive': 5347, 'rshiny': 7522, 'dss': 2560, 'specializes': 8001, 'reproducibility': 7330, 'nexplain': 5493, 'nprocess': 5860, 'gauge': 3409, 'zeus': 9358, 'flawless': 3201, 'november': 5789, 'shaking': 7772, '18b': 61, 'leasing': 4449, 'unfurnished': 8787, 'expertly': 2994, 'appointed': 671, 'realizing': 7128, 'raised': 7073, '24m': 124, 'initialized': 4034, 'bowery': 1097, 'floodgate': 3211, 'exits': 2967, 'rentals': 7303, 'npragmatic': 5841, 'n100': 5055, 'dependents': 2230, 'nparking': 5800, 'n20': 5062, 'n16': 5058, 'ncatered': 5242, 'mexico': 4858, 'montana': 4981, 'oklahoma': 6209, 'insurer': 4101, 'nsponsorship': 5985, 'arlington': 713, 'j0319': 4252, '2145': 117, 'nmomentum': 5706, 'financials': 3165, 'null': 6058, 'nten': 6023, 'cre': 1985, 'multiplier': 5037, 'matches': 4735, 'accelerates': 295, 'streamlines': 8183, '55': 187, 'safely': 7547, 'virtue': 9003, 'seller': 7713, 'transacting': 8623, 'nthorough': 6031, 'regressions': 7228, 'kagr': 4325, 'nkraft': 5649, 'leagues': 4437, 'athletics': 802, 'jessica': 4265, 'gelman': 3420, 'overlooks': 6342, 'gillette': 3469, 'stadium': 8070, 'scrape': 7643, 'synthesis': 8359, 'fingers': 3175, 'mouse': 5005, 'peripheral': 6499, 'perception': 6482, 'listing': 4544, 'lakewood': 4386, 'um': 8747, 'terumo': 8478, 'bct': 961, '23245': 122, 'ecc': 2602, 'escalated': 2856, 'winshuttle': 9155, 'lsmw': 4622, 'loads': 4562, 'completely': 1675, 'discretionary': 2412, 'inconclusive': 3942, 'afforded': 475, 'unfavorable': 8785, 'conditional': 1738, 'january': 4253, 'terumobct': 8479, 'cellular': 1347, 'apheresis': 650, 'pathogen': 6432, 'coupled': 1956, 'therapeutic': 8501, 'strengthens': 8191, 'territories': 8474, 'brussels': 1157, 'buenos': 1169, 'aires': 516, 'singapore': 7856, 'tokyo': 8560, 'rocky': 7489, 'mountain': 5004, 'leukemia': 4471, 'lymphoma': 4634, 'lls': 4558, 'winner': 9151, 'atd': 796, '2012': 100, 'healthiest': 3677, 'council': 1949, 'drcog': 2533, 'intentional': 4127, 'integrates': 4109, 'facilitates': 3057, 'ncreates': 5312, 'ineligible': 3989, 'nike': 5599, 'sustaining': 8338, 'transition': 8644, 'athletic': 801, 'smallest': 7898, 'macro': 4640, 'nsrl': 5988, 'seeker': 7690, 'vortex': 9042, 'simplifies': 7849, 'articulates': 733, 'advises': 446, 'louisville': 4607, 'ky': 4374, 'referencing': 7200, 'hits': 3734, 'consistencies': 1793, 'standardizations': 8087, 'asc': 740, 'x12': 9213, '270': 130, '271': 131, '837': 233, '835': 232, 'joins': 4285, 'fhir': 3139, 'hipaa': 3719, 'responsive': 7397, 'nblue': 5207, 'proudly': 6940, '1970': 75, 'thirteen': 8512, 'stacks': 8069, 'gbm': 3411, 'n6': 5073, 'n7': 5074, 'n8': 5075, 'ebsco': 2599, 'books': 1082, 'ipswich': 4228, 'birmingham': 1036, 'nebsco': 5398, 'strictly': 8198, 'tolerate': 8561, 'amended': 572, 'tantus': 8399, 'isolate': 4238, 'traceability': 8599, 'rtm': 7526, 'conformance': 1764, 'walkthroughs': 9060, 'inspections': 4072, 'navigator': 5184, 'universes': 8809, 'clm': 1519, 'rqm': 7518, '3188439': 149, 'afc': 461, 'protects': 6933, 'deutsche': 2287, 'avert': 881, 'unintentional': 8794, 'breaches': 1116, 'perimeter': 6492, 'germany': 3455, 'franchise': 3306, 'heavily': 3684, 'gains': 3386, 'packed': 6365, 'x9cbank': 9267, 'x9cgtb': 9274, 'respectively': 7385, 'gtb': 3579, 'x9cnca': 9283, 'x9cpr': 9287, 'rr': 7519, 'exited': 2966, 'subsidiaries': 8246, 'domiciled': 2505, 'avp': 887, 'gtb_tfccm_us': 3580, 'adoptions': 424, 'x9cedr': 9272, 'distinct': 2452, 'tfccm_us': 8491, 'licensed': 4493, 'heads': 3671, 'charged': 1400, 'proces': 6828, 'depiction': 2234, 'eus': 2891, 'directives': 2368, 'escalations': 2857, 'govern': 3509, 'pivots': 6596, 'overlapping': 6341, 'ndeutsche': 5356, 'trinity': 8689, 'searching': 7669, 'nsources': 5980, 'sift': 7827, 'irrelevant': 4232, 'ncommunication': 5279, 'ncritical': 5317, 'nmath': 5688, 'estimate': 2874, 'kimball': 4347, 'inmon': 4042, 'nacquire': 5088, 'nfilter': 5509, 'reonomy': 7307, 'structuring': 8213, 'nheadquartered': 5564, 'sapphire': 7576, 'softbank': 7934, 'newmark': 5468, 'knight': 4356, 'frank': 3309, 'cushman': 2066, 'wakefield': 9057, 'tishman': 8548, 'speyer': 8018, 'intelligently': 4121, 'complexities': 1681, 'ncollaborating': 5268, 'nwriting': 6127, 'trivial': 8693, 'nhistory': 5575, '2x': 138, 'citi': 1461, 'bike': 1018, 'rooms': 7500, 'obama': 6144, 'reliantly': 7275, 'transparently': 8657, 'nbelow': 5202, 'discuss': 2419, 'strategists': 8177, 'election': 2675, 'incubate': 3957, 'stan': 8082, 'catasys': 1315, 'od': 6180, 'storytellers': 8168, 'instrumentation': 4096, 'moderating': 4953, 'detective': 2279, 'initially': 4035, 'vigilance': 8992, 'proofpoint': 6901, 'intel': 4115, 'singularly': 7858, 'gans': 3396, 'resnets': 7370, 'mastered': 4730, 'classics': 1485, 'malicious': 4665, 'actors': 365, 'craftsmanship': 1981, 'tested': 8481, 'repo': 7315, 'xafve': 9322, 'convnet': 1891, 'lstm': 4623, 'siamese': 7821, 'dbscan': 2132, 'spectral': 8010, 'lsh': 4620, 'genism': 3440, 'vowpal': 9044, 'wabbit': 9051, 'treating': 8671, 'jl3': 4270, 'barbara': 941, 'hg': 3704, 'mandate': 4679, 'install': 4080, 'blocks': 1054, 'away': 893, 'riding': 7461, 'bikes': 1019, 'funk': 3367, 'hanging': 3625, 'surf': 8314, 'comprehensively': 1700, 'tokens': 8559, 'mrf': 5017, 'outsource': 6335, 'append': 658, 'athena': 798, 'betterment': 1004, 'comprehension': 1698, 'rafael': 7069, 'edm': 2633, 'complement': 1671, 'hierarchies': 3708, 'nstructuring': 6001, 'pull': 6969, 'potentials': 6698, 'syncing': 8355, 'siebel': 7825, 'mdm': 4776, 'reps': 7332, 'ntraining': 6040, 'differing': 2338, 'opinions': 6255, 'naddresses': 5098, 'autodesk': 861, 'hobbyists': 3741, 'dnp': 2480, 'headhunter': 3668, 'nlooking': 5667, 'nsavviness': 5945, 'nretail': 5932, 'consolidated': 1801, 'consumable': 1822, 'scorecard': 7638, 'cadence': 1214, 'effieciency': 2661, 'enginnering': 2780, 'opposed': 6260, 'negotiation': 5415, 'unquestionable': 8830, 'unity': 8807, 'generalizable': 3426, 'experimentally': 2987, 'farming': 3096, 'farmer': 3094, 'fbn': 3109, 'farmers': 3095, 'xa0': 9303, 'unbiased': 8755, 'farms': 3098, 'anonymously': 632, 'securely': 7684, 'sustainably': 8336, '2050': 112, 'farmland': 3097, 'decreasing': 2162, 'odds': 6182, 'stacked': 8068, 'squarely': 8052, 'shoulders': 7810, 'increasingly': 3952, 'harder': 3634, 'nfarmers': 5505, 'forced': 3250, 'agronomic': 504, 'gathered': 3407, 'sensors': 7731, 'farm': 3093, 'agricultural': 502, 'furthers': 3375, 'affects': 466, 'uncovers': 8763, 'soil': 7938, 'plant': 6614, 'physiology': 6573, 'entomology': 2818, 'agronomy': 505, 'nfarmer': 5504, 'requisite': 7347, 'considerations': 1789, 'deviations': 2297, 'nparticipate': 5802, 'omission': 6217, 'preclude': 6727, 'assigning': 767, '138': 43, '579': 192, 'strategizes': 8178, 'mines': 4895, 'finds': 3170, 'modifies': 4961, 'qualify': 7022, 'respective': 7384, 'nany': 5127, 'nautodesk': 5177, 'sfdc': 7768, 'dataframes': 2104, 'nbroad': 5217, 'ninternships': 5626, 'x93august': 9228, 'interviewing': 4174, 'didn': 2326, 'snr': 7923, 'agreed': 500, 'labeled': 4377, 'sustained': 8337, 'seated': 7672, 'positon': 6676, 'reed': 7192, 'rbi': 7105, 'reedbusiness': 7193, 'uk': 8741, 'supplement': 8299, 'nrbi': 5893, 'charity': 1401, 'ote': 6312, 'infancy': 3990, 'nph': 5823, 'observer': 6155, 'relishes': 7282, 'sn1': 7913, 'brightstart': 1136, 'lawrenceville': 4419, 'brightree': 1135, 'hme': 3738, 'hospice': 3770, 'pulse': 6974, 'equipping': 2843, 'orthotic': 6310, 'prosthetic': 6927, 'infusion': 4026, 'persistent': 6517, 'df1': 2309, 'transformational': 8637, 'marry': 4721, 'thriving': 8525, 'npack': 5796, 'softvision': 7935, 'partakes': 6400, 'nenvironment': 5436, 'epidemiological': 2833, 'antonio': 643, 'confers': 1749, 'infection': 3991, 'communicable': 1626, 'asthma': 789, 'napplicant': 5129, 'diplomas': 2362, 'unofficial': 8826, 'advised': 445, 'claiming': 1473, 'dd214': 2134, 'reaching': 7112, 'hazardous': 3656, 'bodily': 1073, 'fluids': 3231, 'infectious': 3992, 'interval': 4169, 'filed': 3151, 'sanantonio': 7570, 'careercenter': 1276, 'aspx': 752, 'nhuman': 5584, '78205': 224, 'n210': 5064, '207': 113, '8705': 240, 'nhrcustomerservice': 5581, '00805': 3, 'nepidemiologist': 5440, 'nlh': 5657, 'epidemiologist': 2834, 'questionnaire': 7048, '539': 185, '86': 238, 'annually': 628, 'disagree': 2382, 'cosa': 1939, 'armed': 715, 'forces': 3251, 'accrediting': 332, 'jd': 4260, 'beginner': 972, 'nhanes': 5559, 'brfss': 1128, 'infographics': 4010, 'pie': 6577, 'scatterplots': 7609, 'appealing': 656, 'pymetrics': 7002, 'unleash': 8816, 'embodiment': 2705, 'positivity': 6675, 'maternity': 4741, 'paternity': 6430, 'midtown': 4871, 'retreats': 7425, 'commission': 1613, 'hat': 3650, 'middleware': 4870, 'virtualization': 9001, 'cd': 1333, 'nadvocate': 5102, 'nred': 5901, 'uniformed': 8789, 'commissions': 1614, 'fee': 3124, 'proctor': 6833, 'randomized': 7081, 'ocular': 6179, 'blindness': 1049, 'relied': 7276, 'approvals': 685, 'correlates': 1931, 'gradually': 3526, 'nproctor': 5862, 'ophthalmology': 6253, 'ucsf': 8735, 'inflammatory': 3999, 'professions': 6854, 'chartered': 1406, 'scratched': 7649, 'discovered': 2405, 'photo': 6567, 'album': 524, 'nretention': 5933, 'attrition': 831, 'nnurture': 5733, 'ncampaign': 5230, 'nrecommender': 5899, 'ncross': 5318, 'recommender': 7156, 'survival': 8328, 'disciplined': 2390, 'storehouses': 8162, 'ngather': 5541, 'mock': 4939, '1967': 73, 'berkley': 998, 'holding': 3746, 'writers': 9205, 'reinsurance': 7246, 'niche': 5589, 'territory': 8475, 'lies': 4500, 'nberkley': 5204, 'condo': 1740, 'rental': 7302, 'indemnification': 3960, 'contamination': 1836, 'reserving': 7359, 'unaided': 8751, 'generalize': 3427, 'retrieves': 7429, 'essbase': 2865, 'smartview': 7904, 'macroeconomic': 4641, 'nadapts': 5095, 'catastrophe': 1314, 'exams': 2925, 'steward': 8142, 'numo': 6068, 'fuzzy': 3378, 'commercializable': 1611, 'horsepower': 3768, 'stewarding': 8143, 'ideate': 3845, 'coder': 1543, 'pair': 6373, 'parent': 6391, 'pains': 6372, 'bakery': 928, 'addresses': 394}\n"
          ],
          "name": "stdout"
        }
      ]
    },
    {
      "metadata": {
        "id": "w1Bkq2f7gL-X",
        "colab_type": "text"
      },
      "cell_type": "markdown",
      "source": [
        "### Vectorize training data"
      ]
    },
    {
      "metadata": {
        "id": "qvK0w2o9gZgn",
        "colab_type": "code",
        "colab": {
          "base_uri": "https://localhost:8080/",
          "height": 250
        },
        "outputId": "279b3d14-08d2-4c8f-9e24-e0944c0fc2b8"
      },
      "cell_type": "code",
      "source": [
        "train_word_counts = vectorizer.transform(X_train)\n",
        "\n",
        "X_train_vectorized = pd.DataFrame(train_word_counts.toarray(), columns=vectorizer.get_feature_names())\n",
        "\n",
        "print(X_train_vectorized.shape)\n",
        "X_train_vectorized.head()"
      ],
      "execution_count": 82,
      "outputs": [
        {
          "output_type": "stream",
          "text": [
            "(399, 9366)\n"
          ],
          "name": "stdout"
        },
        {
          "output_type": "execute_result",
          "data": {
            "text/html": [
              "<div>\n",
              "<style scoped>\n",
              "    .dataframe tbody tr th:only-of-type {\n",
              "        vertical-align: middle;\n",
              "    }\n",
              "\n",
              "    .dataframe tbody tr th {\n",
              "        vertical-align: top;\n",
              "    }\n",
              "\n",
              "    .dataframe thead th {\n",
              "        text-align: right;\n",
              "    }\n",
              "</style>\n",
              "<table border=\"1\" class=\"dataframe\">\n",
              "  <thead>\n",
              "    <tr style=\"text-align: right;\">\n",
              "      <th></th>\n",
              "      <th>00</th>\n",
              "      <th>000</th>\n",
              "      <th>00079</th>\n",
              "      <th>00805</th>\n",
              "      <th>00pm</th>\n",
              "      <th>02115</th>\n",
              "      <th>03</th>\n",
              "      <th>0356</th>\n",
              "      <th>04</th>\n",
              "      <th>062</th>\n",
              "      <th>...</th>\n",
              "      <th>zeta</th>\n",
              "      <th>zetahub</th>\n",
              "      <th>zeus</th>\n",
              "      <th>zheng</th>\n",
              "      <th>zogsports</th>\n",
              "      <th>zoho</th>\n",
              "      <th>zone</th>\n",
              "      <th>zones</th>\n",
              "      <th>zoom</th>\n",
              "      <th>zywave</th>\n",
              "    </tr>\n",
              "  </thead>\n",
              "  <tbody>\n",
              "    <tr>\n",
              "      <th>0</th>\n",
              "      <td>0.0</td>\n",
              "      <td>0.0</td>\n",
              "      <td>0.0</td>\n",
              "      <td>0.0</td>\n",
              "      <td>0.0</td>\n",
              "      <td>0.0</td>\n",
              "      <td>0.0</td>\n",
              "      <td>0.0</td>\n",
              "      <td>0.0</td>\n",
              "      <td>0.0</td>\n",
              "      <td>...</td>\n",
              "      <td>0.0</td>\n",
              "      <td>0.0</td>\n",
              "      <td>0.0</td>\n",
              "      <td>0.0</td>\n",
              "      <td>0.09339</td>\n",
              "      <td>0.0</td>\n",
              "      <td>0.0</td>\n",
              "      <td>0.0</td>\n",
              "      <td>0.0</td>\n",
              "      <td>0.0</td>\n",
              "    </tr>\n",
              "    <tr>\n",
              "      <th>1</th>\n",
              "      <td>0.0</td>\n",
              "      <td>0.0</td>\n",
              "      <td>0.0</td>\n",
              "      <td>0.0</td>\n",
              "      <td>0.0</td>\n",
              "      <td>0.0</td>\n",
              "      <td>0.0</td>\n",
              "      <td>0.0</td>\n",
              "      <td>0.0</td>\n",
              "      <td>0.0</td>\n",
              "      <td>...</td>\n",
              "      <td>0.0</td>\n",
              "      <td>0.0</td>\n",
              "      <td>0.0</td>\n",
              "      <td>0.0</td>\n",
              "      <td>0.00000</td>\n",
              "      <td>0.0</td>\n",
              "      <td>0.0</td>\n",
              "      <td>0.0</td>\n",
              "      <td>0.0</td>\n",
              "      <td>0.0</td>\n",
              "    </tr>\n",
              "    <tr>\n",
              "      <th>2</th>\n",
              "      <td>0.0</td>\n",
              "      <td>0.0</td>\n",
              "      <td>0.0</td>\n",
              "      <td>0.0</td>\n",
              "      <td>0.0</td>\n",
              "      <td>0.0</td>\n",
              "      <td>0.0</td>\n",
              "      <td>0.0</td>\n",
              "      <td>0.0</td>\n",
              "      <td>0.0</td>\n",
              "      <td>...</td>\n",
              "      <td>0.0</td>\n",
              "      <td>0.0</td>\n",
              "      <td>0.0</td>\n",
              "      <td>0.0</td>\n",
              "      <td>0.00000</td>\n",
              "      <td>0.0</td>\n",
              "      <td>0.0</td>\n",
              "      <td>0.0</td>\n",
              "      <td>0.0</td>\n",
              "      <td>0.0</td>\n",
              "    </tr>\n",
              "    <tr>\n",
              "      <th>3</th>\n",
              "      <td>0.0</td>\n",
              "      <td>0.0</td>\n",
              "      <td>0.0</td>\n",
              "      <td>0.0</td>\n",
              "      <td>0.0</td>\n",
              "      <td>0.0</td>\n",
              "      <td>0.0</td>\n",
              "      <td>0.0</td>\n",
              "      <td>0.0</td>\n",
              "      <td>0.0</td>\n",
              "      <td>...</td>\n",
              "      <td>0.0</td>\n",
              "      <td>0.0</td>\n",
              "      <td>0.0</td>\n",
              "      <td>0.0</td>\n",
              "      <td>0.00000</td>\n",
              "      <td>0.0</td>\n",
              "      <td>0.0</td>\n",
              "      <td>0.0</td>\n",
              "      <td>0.0</td>\n",
              "      <td>0.0</td>\n",
              "    </tr>\n",
              "    <tr>\n",
              "      <th>4</th>\n",
              "      <td>0.0</td>\n",
              "      <td>0.0</td>\n",
              "      <td>0.0</td>\n",
              "      <td>0.0</td>\n",
              "      <td>0.0</td>\n",
              "      <td>0.0</td>\n",
              "      <td>0.0</td>\n",
              "      <td>0.0</td>\n",
              "      <td>0.0</td>\n",
              "      <td>0.0</td>\n",
              "      <td>...</td>\n",
              "      <td>0.0</td>\n",
              "      <td>0.0</td>\n",
              "      <td>0.0</td>\n",
              "      <td>0.0</td>\n",
              "      <td>0.00000</td>\n",
              "      <td>0.0</td>\n",
              "      <td>0.0</td>\n",
              "      <td>0.0</td>\n",
              "      <td>0.0</td>\n",
              "      <td>0.0</td>\n",
              "    </tr>\n",
              "  </tbody>\n",
              "</table>\n",
              "<p>5 rows × 9366 columns</p>\n",
              "</div>"
            ],
            "text/plain": [
              "    00  000  00079  00805  00pm  02115   03  0356   04  062  ...  zeta  zetahub  zeus  zheng  zogsports  zoho  zone  zones  zoom  zywave\n",
              "0  0.0  0.0    0.0    0.0   0.0    0.0  0.0   0.0  0.0  0.0  ...   0.0      0.0   0.0    0.0    0.09339   0.0   0.0    0.0   0.0     0.0\n",
              "1  0.0  0.0    0.0    0.0   0.0    0.0  0.0   0.0  0.0  0.0  ...   0.0      0.0   0.0    0.0    0.00000   0.0   0.0    0.0   0.0     0.0\n",
              "2  0.0  0.0    0.0    0.0   0.0    0.0  0.0   0.0  0.0  0.0  ...   0.0      0.0   0.0    0.0    0.00000   0.0   0.0    0.0   0.0     0.0\n",
              "3  0.0  0.0    0.0    0.0   0.0    0.0  0.0   0.0  0.0  0.0  ...   0.0      0.0   0.0    0.0    0.00000   0.0   0.0    0.0   0.0     0.0\n",
              "4  0.0  0.0    0.0    0.0   0.0    0.0  0.0   0.0  0.0  0.0  ...   0.0      0.0   0.0    0.0    0.00000   0.0   0.0    0.0   0.0     0.0\n",
              "\n",
              "[5 rows x 9366 columns]"
            ]
          },
          "metadata": {
            "tags": []
          },
          "execution_count": 82
        }
      ]
    },
    {
      "metadata": {
        "id": "jmqDtiMxgbwN",
        "colab_type": "text"
      },
      "cell_type": "markdown",
      "source": [
        "### Vectorize test data"
      ]
    },
    {
      "metadata": {
        "id": "2LwYWsJpgauu",
        "colab_type": "code",
        "colab": {
          "base_uri": "https://localhost:8080/",
          "height": 250
        },
        "outputId": "25d0dbec-d020-4e27-e069-de1023836d13"
      },
      "cell_type": "code",
      "source": [
        "test_word_counts = vectorizer.transform(X_test)\n",
        "\n",
        "X_test_vectorized = pd.DataFrame(test_word_counts.toarray(), columns=vectorizer.get_feature_names())\n",
        "\n",
        "print(X_test_vectorized.shape)\n",
        "X_test_vectorized.head()"
      ],
      "execution_count": 83,
      "outputs": [
        {
          "output_type": "stream",
          "text": [
            "(100, 9366)\n"
          ],
          "name": "stdout"
        },
        {
          "output_type": "execute_result",
          "data": {
            "text/html": [
              "<div>\n",
              "<style scoped>\n",
              "    .dataframe tbody tr th:only-of-type {\n",
              "        vertical-align: middle;\n",
              "    }\n",
              "\n",
              "    .dataframe tbody tr th {\n",
              "        vertical-align: top;\n",
              "    }\n",
              "\n",
              "    .dataframe thead th {\n",
              "        text-align: right;\n",
              "    }\n",
              "</style>\n",
              "<table border=\"1\" class=\"dataframe\">\n",
              "  <thead>\n",
              "    <tr style=\"text-align: right;\">\n",
              "      <th></th>\n",
              "      <th>00</th>\n",
              "      <th>000</th>\n",
              "      <th>00079</th>\n",
              "      <th>00805</th>\n",
              "      <th>00pm</th>\n",
              "      <th>02115</th>\n",
              "      <th>03</th>\n",
              "      <th>0356</th>\n",
              "      <th>04</th>\n",
              "      <th>062</th>\n",
              "      <th>...</th>\n",
              "      <th>zeta</th>\n",
              "      <th>zetahub</th>\n",
              "      <th>zeus</th>\n",
              "      <th>zheng</th>\n",
              "      <th>zogsports</th>\n",
              "      <th>zoho</th>\n",
              "      <th>zone</th>\n",
              "      <th>zones</th>\n",
              "      <th>zoom</th>\n",
              "      <th>zywave</th>\n",
              "    </tr>\n",
              "  </thead>\n",
              "  <tbody>\n",
              "    <tr>\n",
              "      <th>0</th>\n",
              "      <td>0.0</td>\n",
              "      <td>0.000000</td>\n",
              "      <td>0.0</td>\n",
              "      <td>0.0</td>\n",
              "      <td>0.0</td>\n",
              "      <td>0.0</td>\n",
              "      <td>0.0</td>\n",
              "      <td>0.0</td>\n",
              "      <td>0.0</td>\n",
              "      <td>0.0</td>\n",
              "      <td>...</td>\n",
              "      <td>0.0</td>\n",
              "      <td>0.0</td>\n",
              "      <td>0.0</td>\n",
              "      <td>0.0</td>\n",
              "      <td>0.0</td>\n",
              "      <td>0.0</td>\n",
              "      <td>0.0</td>\n",
              "      <td>0.0</td>\n",
              "      <td>0.0</td>\n",
              "      <td>0.0</td>\n",
              "    </tr>\n",
              "    <tr>\n",
              "      <th>1</th>\n",
              "      <td>0.0</td>\n",
              "      <td>0.000000</td>\n",
              "      <td>0.0</td>\n",
              "      <td>0.0</td>\n",
              "      <td>0.0</td>\n",
              "      <td>0.0</td>\n",
              "      <td>0.0</td>\n",
              "      <td>0.0</td>\n",
              "      <td>0.0</td>\n",
              "      <td>0.0</td>\n",
              "      <td>...</td>\n",
              "      <td>0.0</td>\n",
              "      <td>0.0</td>\n",
              "      <td>0.0</td>\n",
              "      <td>0.0</td>\n",
              "      <td>0.0</td>\n",
              "      <td>0.0</td>\n",
              "      <td>0.0</td>\n",
              "      <td>0.0</td>\n",
              "      <td>0.0</td>\n",
              "      <td>0.0</td>\n",
              "    </tr>\n",
              "    <tr>\n",
              "      <th>2</th>\n",
              "      <td>0.0</td>\n",
              "      <td>0.033325</td>\n",
              "      <td>0.0</td>\n",
              "      <td>0.0</td>\n",
              "      <td>0.0</td>\n",
              "      <td>0.0</td>\n",
              "      <td>0.0</td>\n",
              "      <td>0.0</td>\n",
              "      <td>0.0</td>\n",
              "      <td>0.0</td>\n",
              "      <td>...</td>\n",
              "      <td>0.0</td>\n",
              "      <td>0.0</td>\n",
              "      <td>0.0</td>\n",
              "      <td>0.0</td>\n",
              "      <td>0.0</td>\n",
              "      <td>0.0</td>\n",
              "      <td>0.0</td>\n",
              "      <td>0.0</td>\n",
              "      <td>0.0</td>\n",
              "      <td>0.0</td>\n",
              "    </tr>\n",
              "    <tr>\n",
              "      <th>3</th>\n",
              "      <td>0.0</td>\n",
              "      <td>0.000000</td>\n",
              "      <td>0.0</td>\n",
              "      <td>0.0</td>\n",
              "      <td>0.0</td>\n",
              "      <td>0.0</td>\n",
              "      <td>0.0</td>\n",
              "      <td>0.0</td>\n",
              "      <td>0.0</td>\n",
              "      <td>0.0</td>\n",
              "      <td>...</td>\n",
              "      <td>0.0</td>\n",
              "      <td>0.0</td>\n",
              "      <td>0.0</td>\n",
              "      <td>0.0</td>\n",
              "      <td>0.0</td>\n",
              "      <td>0.0</td>\n",
              "      <td>0.0</td>\n",
              "      <td>0.0</td>\n",
              "      <td>0.0</td>\n",
              "      <td>0.0</td>\n",
              "    </tr>\n",
              "    <tr>\n",
              "      <th>4</th>\n",
              "      <td>0.0</td>\n",
              "      <td>0.030632</td>\n",
              "      <td>0.0</td>\n",
              "      <td>0.0</td>\n",
              "      <td>0.0</td>\n",
              "      <td>0.0</td>\n",
              "      <td>0.0</td>\n",
              "      <td>0.0</td>\n",
              "      <td>0.0</td>\n",
              "      <td>0.0</td>\n",
              "      <td>...</td>\n",
              "      <td>0.0</td>\n",
              "      <td>0.0</td>\n",
              "      <td>0.0</td>\n",
              "      <td>0.0</td>\n",
              "      <td>0.0</td>\n",
              "      <td>0.0</td>\n",
              "      <td>0.0</td>\n",
              "      <td>0.0</td>\n",
              "      <td>0.0</td>\n",
              "      <td>0.0</td>\n",
              "    </tr>\n",
              "  </tbody>\n",
              "</table>\n",
              "<p>5 rows × 9366 columns</p>\n",
              "</div>"
            ],
            "text/plain": [
              "    00       000  00079  00805  00pm  02115   03  0356   04  062  ...  zeta  zetahub  zeus  zheng  zogsports  zoho  zone  zones  zoom  zywave\n",
              "0  0.0  0.000000    0.0    0.0   0.0    0.0  0.0   0.0  0.0  0.0  ...   0.0      0.0   0.0    0.0        0.0   0.0   0.0    0.0   0.0     0.0\n",
              "1  0.0  0.000000    0.0    0.0   0.0    0.0  0.0   0.0  0.0  0.0  ...   0.0      0.0   0.0    0.0        0.0   0.0   0.0    0.0   0.0     0.0\n",
              "2  0.0  0.033325    0.0    0.0   0.0    0.0  0.0   0.0  0.0  0.0  ...   0.0      0.0   0.0    0.0        0.0   0.0   0.0    0.0   0.0     0.0\n",
              "3  0.0  0.000000    0.0    0.0   0.0    0.0  0.0   0.0  0.0  0.0  ...   0.0      0.0   0.0    0.0        0.0   0.0   0.0    0.0   0.0     0.0\n",
              "4  0.0  0.030632    0.0    0.0   0.0    0.0  0.0   0.0  0.0  0.0  ...   0.0      0.0   0.0    0.0        0.0   0.0   0.0    0.0   0.0     0.0\n",
              "\n",
              "[5 rows x 9366 columns]"
            ]
          },
          "metadata": {
            "tags": []
          },
          "execution_count": 83
        }
      ]
    },
    {
      "metadata": {
        "id": "s8dAeSwqhFja",
        "colab_type": "text"
      },
      "cell_type": "markdown",
      "source": [
        "## Logistic Regression"
      ]
    },
    {
      "metadata": {
        "id": "_QD0x2kMhKrP",
        "colab_type": "code",
        "colab": {
          "base_uri": "https://localhost:8080/",
          "height": 125
        },
        "outputId": "1d6babc7-f9f5-47ff-f48f-984581f73d0e"
      },
      "cell_type": "code",
      "source": [
        "LR = LogisticRegression(random_state=42).fit(X_train_vectorized, y_train)\n",
        "\n",
        "train_predictions = LR.predict(X_train_vectorized)\n",
        "test_predictions = LR.predict(X_test_vectorized)\n",
        "\n",
        "print(f'Train Accuracy: {accuracy_score(y_train, train_predictions)}')\n",
        "print(f'Test Accuracy: {accuracy_score(y_test, test_predictions)}')"
      ],
      "execution_count": 84,
      "outputs": [
        {
          "output_type": "stream",
          "text": [
            "Train Accuracy: 0.9674185463659147\n",
            "Test Accuracy: 0.91\n"
          ],
          "name": "stdout"
        },
        {
          "output_type": "stream",
          "text": [
            "/usr/local/lib/python3.6/dist-packages/sklearn/linear_model/logistic.py:433: FutureWarning: Default solver will be changed to 'lbfgs' in 0.22. Specify a solver to silence this warning.\n",
            "  FutureWarning)\n"
          ],
          "name": "stderr"
        }
      ]
    },
    {
      "metadata": {
        "id": "FyC0cUhOhLuC",
        "colab_type": "code",
        "colab": {}
      },
      "cell_type": "code",
      "source": [
        "results = results.append(format_results(\"Logistic Regression\", y_train, train_predictions, y_test, test_predictions, \"TF-IDF\"), ignore_index=True)"
      ],
      "execution_count": 0,
      "outputs": []
    },
    {
      "metadata": {
        "id": "8eZIT80JhMeF",
        "colab_type": "text"
      },
      "cell_type": "markdown",
      "source": [
        "## Multinomial Naive Bayes"
      ]
    },
    {
      "metadata": {
        "id": "8tFoUWpjhNgJ",
        "colab_type": "code",
        "colab": {
          "base_uri": "https://localhost:8080/",
          "height": 51
        },
        "outputId": "57e423bc-3fb2-45e9-a3ef-b55f37b2e3d7"
      },
      "cell_type": "code",
      "source": [
        "MNB = MultinomialNB().fit(X_train_vectorized, y_train)\n",
        "\n",
        "train_predictions = MNB.predict(X_train_vectorized)\n",
        "test_predictions = MNB.predict(X_test_vectorized)\n",
        "\n",
        "print(f'Train Accuracy: {accuracy_score(y_train, train_predictions)}')\n",
        "print(f'Test Accuracy: {accuracy_score(y_test, test_predictions)}')"
      ],
      "execution_count": 86,
      "outputs": [
        {
          "output_type": "stream",
          "text": [
            "Train Accuracy: 0.9674185463659147\n",
            "Test Accuracy: 0.87\n"
          ],
          "name": "stdout"
        }
      ]
    },
    {
      "metadata": {
        "id": "jke0sqrXhONN",
        "colab_type": "code",
        "colab": {}
      },
      "cell_type": "code",
      "source": [
        "results = results.append(format_results(\"Multinomial Naive Bayes\", y_train, train_predictions, y_test, test_predictions, \"TF-IDF\"), ignore_index=True)"
      ],
      "execution_count": 0,
      "outputs": []
    },
    {
      "metadata": {
        "id": "v1TyjExnhOxY",
        "colab_type": "text"
      },
      "cell_type": "markdown",
      "source": [
        "## Random Forest Classifier"
      ]
    },
    {
      "metadata": {
        "id": "ZBa4u85fhPzb",
        "colab_type": "code",
        "colab": {
          "base_uri": "https://localhost:8080/",
          "height": 125
        },
        "outputId": "cb713f82-65fe-45ae-d94f-263721f7a2e7"
      },
      "cell_type": "code",
      "source": [
        "RFC = RandomForestClassifier().fit(X_train_vectorized, y_train)\n",
        "\n",
        "train_predictions = RFC.predict(X_train_vectorized)\n",
        "test_predictions = RFC.predict(X_test_vectorized)\n",
        "\n",
        "print(f'Train Accuracy: {accuracy_score(y_train, train_predictions)}')\n",
        "print(f'Test Accuracy: {accuracy_score(y_test, test_predictions)}')"
      ],
      "execution_count": 88,
      "outputs": [
        {
          "output_type": "stream",
          "text": [
            "Train Accuracy: 0.9874686716791979\n",
            "Test Accuracy: 0.86\n"
          ],
          "name": "stdout"
        },
        {
          "output_type": "stream",
          "text": [
            "/usr/local/lib/python3.6/dist-packages/sklearn/ensemble/forest.py:246: FutureWarning: The default value of n_estimators will change from 10 in version 0.20 to 100 in 0.22.\n",
            "  \"10 in version 0.20 to 100 in 0.22.\", FutureWarning)\n"
          ],
          "name": "stderr"
        }
      ]
    },
    {
      "metadata": {
        "id": "MjT5dfjxhQkp",
        "colab_type": "code",
        "colab": {}
      },
      "cell_type": "code",
      "source": [
        "results = results.append(format_results(\"Random Forest Classifier\", y_train, train_predictions, y_test, test_predictions, \"TF-IDF\"), ignore_index=True)"
      ],
      "execution_count": 0,
      "outputs": []
    },
    {
      "metadata": {
        "id": "YSqg-5jqiNWd",
        "colab_type": "code",
        "colab": {
          "base_uri": "https://localhost:8080/",
          "height": 235
        },
        "outputId": "db3201cb-b703-415c-b751-5fdc0e95fd97"
      },
      "cell_type": "code",
      "source": [
        "results"
      ],
      "execution_count": 61,
      "outputs": [
        {
          "output_type": "execute_result",
          "data": {
            "text/html": [
              "<div>\n",
              "<style scoped>\n",
              "    .dataframe tbody tr th:only-of-type {\n",
              "        vertical-align: middle;\n",
              "    }\n",
              "\n",
              "    .dataframe tbody tr th {\n",
              "        vertical-align: top;\n",
              "    }\n",
              "\n",
              "    .dataframe thead th {\n",
              "        text-align: right;\n",
              "    }\n",
              "</style>\n",
              "<table border=\"1\" class=\"dataframe\">\n",
              "  <thead>\n",
              "    <tr style=\"text-align: right;\">\n",
              "      <th></th>\n",
              "      <th>model</th>\n",
              "      <th>acc_train</th>\n",
              "      <th>acc_test</th>\n",
              "      <th>vect_type</th>\n",
              "    </tr>\n",
              "  </thead>\n",
              "  <tbody>\n",
              "    <tr>\n",
              "      <th>0</th>\n",
              "      <td>Logistic Regression</td>\n",
              "      <td>0.997494</td>\n",
              "      <td>0.93</td>\n",
              "      <td>Count</td>\n",
              "    </tr>\n",
              "    <tr>\n",
              "      <th>1</th>\n",
              "      <td>Multinomial Naive Bayes</td>\n",
              "      <td>0.969925</td>\n",
              "      <td>0.88</td>\n",
              "      <td>Count</td>\n",
              "    </tr>\n",
              "    <tr>\n",
              "      <th>2</th>\n",
              "      <td>Random Forest Classifier</td>\n",
              "      <td>0.994987</td>\n",
              "      <td>0.89</td>\n",
              "      <td>Count</td>\n",
              "    </tr>\n",
              "    <tr>\n",
              "      <th>3</th>\n",
              "      <td>Logistic Regression</td>\n",
              "      <td>0.967419</td>\n",
              "      <td>0.91</td>\n",
              "      <td>TF-IDF</td>\n",
              "    </tr>\n",
              "    <tr>\n",
              "      <th>4</th>\n",
              "      <td>Multinomial Naive Bayes</td>\n",
              "      <td>0.967419</td>\n",
              "      <td>0.87</td>\n",
              "      <td>TF-IDF</td>\n",
              "    </tr>\n",
              "    <tr>\n",
              "      <th>5</th>\n",
              "      <td>Random Forest Classifier</td>\n",
              "      <td>0.992481</td>\n",
              "      <td>0.86</td>\n",
              "      <td>TF-IDF</td>\n",
              "    </tr>\n",
              "  </tbody>\n",
              "</table>\n",
              "</div>"
            ],
            "text/plain": [
              "                      model  acc_train  acc_test vect_type\n",
              "0       Logistic Regression   0.997494      0.93     Count\n",
              "1   Multinomial Naive Bayes   0.969925      0.88     Count\n",
              "2  Random Forest Classifier   0.994987      0.89     Count\n",
              "3       Logistic Regression   0.967419      0.91    TF-IDF\n",
              "4   Multinomial Naive Bayes   0.967419      0.87    TF-IDF\n",
              "5  Random Forest Classifier   0.992481      0.86    TF-IDF"
            ]
          },
          "metadata": {
            "tags": []
          },
          "execution_count": 61
        }
      ]
    },
    {
      "metadata": {
        "id": "ikICfnaujLy-",
        "colab_type": "code",
        "colab": {
          "base_uri": "https://localhost:8080/",
          "height": 235
        },
        "outputId": "c4bb6c48-b3e1-4b3f-c22e-ed8b125262e8"
      },
      "cell_type": "code",
      "source": [
        "results"
      ],
      "execution_count": 90,
      "outputs": [
        {
          "output_type": "execute_result",
          "data": {
            "text/html": [
              "<div>\n",
              "<style scoped>\n",
              "    .dataframe tbody tr th:only-of-type {\n",
              "        vertical-align: middle;\n",
              "    }\n",
              "\n",
              "    .dataframe tbody tr th {\n",
              "        vertical-align: top;\n",
              "    }\n",
              "\n",
              "    .dataframe thead th {\n",
              "        text-align: right;\n",
              "    }\n",
              "</style>\n",
              "<table border=\"1\" class=\"dataframe\">\n",
              "  <thead>\n",
              "    <tr style=\"text-align: right;\">\n",
              "      <th></th>\n",
              "      <th>model</th>\n",
              "      <th>acc_train</th>\n",
              "      <th>acc_test</th>\n",
              "      <th>vect_type</th>\n",
              "    </tr>\n",
              "  </thead>\n",
              "  <tbody>\n",
              "    <tr>\n",
              "      <th>0</th>\n",
              "      <td>Logistic Regression</td>\n",
              "      <td>0.997494</td>\n",
              "      <td>0.93</td>\n",
              "      <td>Count</td>\n",
              "    </tr>\n",
              "    <tr>\n",
              "      <th>1</th>\n",
              "      <td>Multinomial Naive Bayes</td>\n",
              "      <td>0.969925</td>\n",
              "      <td>0.88</td>\n",
              "      <td>Count</td>\n",
              "    </tr>\n",
              "    <tr>\n",
              "      <th>2</th>\n",
              "      <td>Random Forest Classifier</td>\n",
              "      <td>0.987469</td>\n",
              "      <td>0.82</td>\n",
              "      <td>Count</td>\n",
              "    </tr>\n",
              "    <tr>\n",
              "      <th>3</th>\n",
              "      <td>Logistic Regression</td>\n",
              "      <td>0.967419</td>\n",
              "      <td>0.91</td>\n",
              "      <td>TF-IDF</td>\n",
              "    </tr>\n",
              "    <tr>\n",
              "      <th>4</th>\n",
              "      <td>Multinomial Naive Bayes</td>\n",
              "      <td>0.967419</td>\n",
              "      <td>0.87</td>\n",
              "      <td>TF-IDF</td>\n",
              "    </tr>\n",
              "    <tr>\n",
              "      <th>5</th>\n",
              "      <td>Random Forest Classifier</td>\n",
              "      <td>0.987469</td>\n",
              "      <td>0.86</td>\n",
              "      <td>TF-IDF</td>\n",
              "    </tr>\n",
              "  </tbody>\n",
              "</table>\n",
              "</div>"
            ],
            "text/plain": [
              "                      model  acc_train  acc_test vect_type\n",
              "0       Logistic Regression   0.997494      0.93     Count\n",
              "1   Multinomial Naive Bayes   0.969925      0.88     Count\n",
              "2  Random Forest Classifier   0.987469      0.82     Count\n",
              "3       Logistic Regression   0.967419      0.91    TF-IDF\n",
              "4   Multinomial Naive Bayes   0.967419      0.87    TF-IDF\n",
              "5  Random Forest Classifier   0.987469      0.86    TF-IDF"
            ]
          },
          "metadata": {
            "tags": []
          },
          "execution_count": 90
        }
      ]
    },
    {
      "metadata": {
        "colab_type": "text",
        "id": "vlclSdSSveq-"
      },
      "cell_type": "markdown",
      "source": [
        "# Stretch Goals\n",
        "\n",
        "- Try some agglomerative clustering using cosine-similarity-distance! (works better with high dimensional spaces) robust clustering - Agglomerative clustering like Ward would be cool. Try and create an awesome Dendrogram of the most important terms from the dataset.\n",
        "\n",
        "- Awesome resource for clustering stretch goals: \n",
        " - Agglomerative Clustering with Scipy: <https://joernhees.de/blog/2015/08/26/scipy-hierarchical-clustering-and-dendrogram-tutorial/>\n",
        " - Agglomerative Clustering for NLP: <http://brandonrose.org/clustering>\n",
        " \n",
        "- Use Latent Dirichlet Allocation (LDA) to perform topic modeling on the dataset: \n",
        " - Topic Modeling and LDA in Python: <https://towardsdatascience.com/topic-modeling-and-latent-dirichlet-allocation-in-python-9bf156893c24>\n",
        " - Topic Modeling and LDA using Gensim: <https://www.machinelearningplus.com/nlp/topic-modeling-gensim-python/>\n"
      ]
    }
  ]
}