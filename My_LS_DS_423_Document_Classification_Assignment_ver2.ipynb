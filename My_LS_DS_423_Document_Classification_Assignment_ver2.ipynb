{
  "nbformat": 4,
  "nbformat_minor": 0,
  "metadata": {
    "colab": {
      "name": "My LS_DS_423_Document_Classification_Assignment_ver2.ipynb",
      "version": "0.3.2",
      "provenance": [],
      "collapsed_sections": [],
      "include_colab_link": true
    },
    "language_info": {
      "codemirror_mode": {
        "name": "ipython",
        "version": 3
      },
      "file_extension": ".py",
      "mimetype": "text/x-python",
      "name": "python",
      "nbconvert_exporter": "python",
      "pygments_lexer": "ipython3",
      "version": "3.7.3"
    },
    "kernelspec": {
      "display_name": "Python 3",
      "language": "python",
      "name": "python3"
    }
  },
  "cells": [
    {
      "cell_type": "markdown",
      "metadata": {
        "id": "view-in-github",
        "colab_type": "text"
      },
      "source": [
        "<a href=\"https://colab.research.google.com/github/wel51x/DS-Unit-4-Sprint-2-NLP/blob/master/My_LS_DS_423_Document_Classification_Assignment_ver2.ipynb\" target=\"_parent\"><img src=\"https://colab.research.google.com/assets/colab-badge.svg\" alt=\"Open In Colab\"/></a>"
      ]
    },
    {
      "metadata": {
        "colab_type": "text",
        "id": "-OJHr-tbuSuI"
      },
      "cell_type": "markdown",
      "source": [
        "<img align=\"left\" src=\"https://lever-client-logos.s3.amazonaws.com/864372b1-534c-480e-acd5-9711f850815c-1524247202159.png\" width=200>\n",
        "<br></br>\n",
        "<br></br>\n",
        "\n",
        "## *Data Science Unit 4 Sprint 2 Assignment 3*\n",
        "\n",
        "# Document Classification\n",
        "\n",
        "Use the following dataset of scraped \"Data Scientist\" and \"Data Analyst\" job listings to create your own Document Classification Models.\n",
        "\n",
        "<https://raw.githubusercontent.com/LambdaSchool/DS-Unit-4-Sprint-2-NLP/master/module3-Document-Classification/job_listings.csv>\n",
        "\n",
        "Requirements:\n",
        "\n",
        "- Apply both CountVectorizer and TfidfVectorizer methods to this data and compare results\n",
        "- Use at least two different classification models to compare differences in model accuracy\n",
        "- Try to \"Hyperparameter Tune\" your model by using different n_gram ranges, max_results, and data cleaning methods\n",
        "- Try and get the highest accuracy possible!"
      ]
    },
    {
      "metadata": {
        "id": "EVrFJA1gVYHN",
        "colab_type": "code",
        "colab": {}
      },
      "cell_type": "code",
      "source": [
        "import pandas as pd\n",
        "import numpy as np\n",
        "pd.set_option('display.width', 1000)\n",
        "pd.set_option('max_colwidth', 500)\n"
      ],
      "execution_count": 0,
      "outputs": []
    },
    {
      "metadata": {
        "id": "kZQYj-yEVX1U",
        "colab_type": "code",
        "colab": {}
      },
      "cell_type": "code",
      "source": [
        "url = \"https://raw.githubusercontent.com/LambdaSchool/DS-Unit-4-Sprint-2-NLP/master/module3-Document-Classification/job_listings.csv\"\n",
        "\n",
        "df = pd.read_csv(url)"
      ],
      "execution_count": 0,
      "outputs": []
    },
    {
      "metadata": {
        "id": "5b_g3ZBUVt_t",
        "colab_type": "code",
        "outputId": "94c02ebb-c7e9-4d95-dbbd-e92cdcb04c09",
        "colab": {
          "base_uri": "https://localhost:8080/",
          "height": 207
        }
      },
      "cell_type": "code",
      "source": [
        "df.describe()"
      ],
      "execution_count": 3,
      "outputs": [
        {
          "output_type": "execute_result",
          "data": {
            "text/html": [
              "<div>\n",
              "<style scoped>\n",
              "    .dataframe tbody tr th:only-of-type {\n",
              "        vertical-align: middle;\n",
              "    }\n",
              "\n",
              "    .dataframe tbody tr th {\n",
              "        vertical-align: top;\n",
              "    }\n",
              "\n",
              "    .dataframe thead th {\n",
              "        text-align: right;\n",
              "    }\n",
              "</style>\n",
              "<table border=\"1\" class=\"dataframe\">\n",
              "  <thead>\n",
              "    <tr style=\"text-align: right;\">\n",
              "      <th></th>\n",
              "      <th>description</th>\n",
              "      <th>title</th>\n",
              "      <th>job</th>\n",
              "    </tr>\n",
              "  </thead>\n",
              "  <tbody>\n",
              "    <tr>\n",
              "      <th>count</th>\n",
              "      <td>499</td>\n",
              "      <td>499</td>\n",
              "      <td>500</td>\n",
              "    </tr>\n",
              "    <tr>\n",
              "      <th>unique</th>\n",
              "      <td>423</td>\n",
              "      <td>232</td>\n",
              "      <td>2</td>\n",
              "    </tr>\n",
              "    <tr>\n",
              "      <th>top</th>\n",
              "      <td>b'&lt;div&gt;&lt;p&gt;&lt;b&gt;THE COMPANY: BRAINJOLT (brainjoltmedia.com)&lt;/b&gt;&lt;/p&gt;\\n&lt;p&gt;Brainjolt is a leading digital media company with two sites in Quantcast\\xe2\\x80\\x99s top 75 mobile sites in the U.S. We are a team of constant learners who value scrappy cleverness as much as best practices.\\n&lt;/p&gt;&lt;p&gt;And it\\xe2\\x80\\x99s working. Despite a lean team, we reach 36 million users a month across our properties and social media channels with engaging, smile-inducing viral stories, quizzes, and more.&lt;/p&gt;\\n&lt;p&gt;&lt;i&gt;Hig...</td>\n",
              "      <td>Data Scientist</td>\n",
              "      <td>Data Analyst</td>\n",
              "    </tr>\n",
              "    <tr>\n",
              "      <th>freq</th>\n",
              "      <td>3</td>\n",
              "      <td>84</td>\n",
              "      <td>250</td>\n",
              "    </tr>\n",
              "  </tbody>\n",
              "</table>\n",
              "</div>"
            ],
            "text/plain": [
              "                                                                                                                                                                                                                                                                                                                                                                                                                                                                                                                description           title           job\n",
              "count                                                                                                                                                                                                                                                                                                                                                                                                                                                                                                                   499             499           500\n",
              "unique                                                                                                                                                                                                                                                                                                                                                                                                                                                                                                                  423             232             2\n",
              "top     b'<div><p><b>THE COMPANY: BRAINJOLT (brainjoltmedia.com)</b></p>\\n<p>Brainjolt is a leading digital media company with two sites in Quantcast\\xe2\\x80\\x99s top 75 mobile sites in the U.S. We are a team of constant learners who value scrappy cleverness as much as best practices.\\n</p><p>And it\\xe2\\x80\\x99s working. Despite a lean team, we reach 36 million users a month across our properties and social media channels with engaging, smile-inducing viral stories, quizzes, and more.</p>\\n<p><i>Hig...  Data Scientist  Data Analyst\n",
              "freq                                                                                                                                                                                                                                                                                                                                                                                                                                                                                                                      3              84           250"
            ]
          },
          "metadata": {
            "tags": []
          },
          "execution_count": 3
        }
      ]
    },
    {
      "metadata": {
        "id": "vea43Uh7cRFU",
        "colab_type": "code",
        "outputId": "40564b29-9ca0-4cc7-ddf1-8378b2d7692a",
        "colab": {
          "base_uri": "https://localhost:8080/",
          "height": 85
        }
      },
      "cell_type": "code",
      "source": [
        "df = df.dropna()\n",
        "df.count()"
      ],
      "execution_count": 4,
      "outputs": [
        {
          "output_type": "execute_result",
          "data": {
            "text/plain": [
              "description    499\n",
              "title          499\n",
              "job            499\n",
              "dtype: int64"
            ]
          },
          "metadata": {
            "tags": []
          },
          "execution_count": 4
        }
      ]
    },
    {
      "metadata": {
        "id": "_mc0o7WbvQIU",
        "colab_type": "code",
        "colab": {
          "base_uri": "https://localhost:8080/",
          "height": 951
        },
        "outputId": "05f843cd-83b2-4aa8-cea1-73710466194b"
      },
      "cell_type": "code",
      "source": [
        "df.sample(11)"
      ],
      "execution_count": 5,
      "outputs": [
        {
          "output_type": "execute_result",
          "data": {
            "text/html": [
              "<div>\n",
              "<style scoped>\n",
              "    .dataframe tbody tr th:only-of-type {\n",
              "        vertical-align: middle;\n",
              "    }\n",
              "\n",
              "    .dataframe tbody tr th {\n",
              "        vertical-align: top;\n",
              "    }\n",
              "\n",
              "    .dataframe thead th {\n",
              "        text-align: right;\n",
              "    }\n",
              "</style>\n",
              "<table border=\"1\" class=\"dataframe\">\n",
              "  <thead>\n",
              "    <tr style=\"text-align: right;\">\n",
              "      <th></th>\n",
              "      <th>description</th>\n",
              "      <th>title</th>\n",
              "      <th>job</th>\n",
              "    </tr>\n",
              "  </thead>\n",
              "  <tbody>\n",
              "    <tr>\n",
              "      <th>405</th>\n",
              "      <td>b\"&lt;div&gt;&lt;p&gt;&lt;b&gt;About Us:&lt;/b&gt;&lt;/p&gt;\\n&lt;p&gt;Located in beautiful Santa Barbara, HG Insights is a growing data services company, delivering key insights to sales and marketing departments. We're powered by a group of highly intelligent developers and data scientists with a mandate of having the largest technology install database in the world.&lt;/p&gt;\\n&lt;p&gt;We offer a competitive salary, 401K, growth potential, great benefits and a casual yet professional environment. Get your sweat on at one of our fitness...</td>\n",
              "      <td>Data Analyst</td>\n",
              "      <td>Data Analyst</td>\n",
              "    </tr>\n",
              "    <tr>\n",
              "      <th>483</th>\n",
              "      <td>b'&lt;p&gt;&lt;/p&gt;&lt;div&gt;&lt;div&gt;&lt;div&gt;&lt;div&gt;&lt;p&gt;&lt;b&gt;Characteristics of position&lt;/b&gt;&lt;b&gt;: &lt;/b&gt;Provide research activities and the completion of deliverables specified in the research designs.&lt;/p&gt;\\n&lt;p&gt;&lt;b&gt;Pre-requisite Requirements:\\n&lt;/b&gt;&lt;/p&gt;&lt;ul&gt;&lt;li&gt;&lt;p&gt;High school diploma or GED and one year of experience in the operation of a computer and peripheral equipment.\\n&lt;/p&gt;&lt;/li&gt;&lt;/ul&gt;&lt;p&gt;&lt;b&gt;Physical /Safety/Health Considerations&lt;/b&gt;&lt;b&gt;:&lt;/b&gt; Standard office environment&lt;/p&gt;\\n&lt;p&gt;&lt;b&gt;Quality of Work Expected&lt;/b&gt;&lt;b&gt;:&lt;/b&gt; Level...</td>\n",
              "      <td>Volunteer-Data Analyst</td>\n",
              "      <td>Data Analyst</td>\n",
              "    </tr>\n",
              "    <tr>\n",
              "      <th>207</th>\n",
              "      <td>b'&lt;div class=\"jobsearch-JobMetadataHeader icl-u-xs-mb--md\"&gt;&lt;div class=\"jobsearch-JobMetadataHeader-item \"&gt;&lt;span class=\"icl-u-xs-mr--xs\"&gt;$100,000 - $125,000 a year&lt;/span&gt;&lt;/div&gt;&lt;/div&gt;&lt;b&gt;Description:&lt;/b&gt;&lt;br/&gt;\\nChesapeake Conservancy, a nonprofit organization based in Annapolis, Maryland is seeking a Geospatial Data Scientist with experience leveraging machine learning and large and complex data sets in the environmental world.\\n&lt;br/&gt;&lt;br/&gt;\\nABOUT THE CONSERVANCY\\n&lt;br/&gt;Chesapeake Conservancy is a...</td>\n",
              "      <td>Geospatial Data Scientist</td>\n",
              "      <td>Data Scientist</td>\n",
              "    </tr>\n",
              "    <tr>\n",
              "      <th>363</th>\n",
              "      <td>b\"ezCater ( https://boards.greenhouse.io/embed/ezcater.com ) is the #1 online - and the only nationwide - marketplace for business catering in the United States \\xe2\\x80\\x93 a $23.9 billion market. Our 3.8M+ on-time ratings and reviews, our 60K+ caterers and restaurants, and our 5-star customer service make it superbly easy for business people to find and order great food for their meetings. We're backed by Insight Venture Partners, Iconiq Capital, and Wellington Management, we're on a path ...</td>\n",
              "      <td>Junior Data Analyst</td>\n",
              "      <td>Data Analyst</td>\n",
              "    </tr>\n",
              "    <tr>\n",
              "      <th>147</th>\n",
              "      <td>b'&lt;div&gt;&lt;h2 class=\"jobSectionHeader\"&gt;&lt;b&gt;Overview and Responsibilities\\n&lt;/b&gt;&lt;/h2&gt;&lt;div&gt;&lt;div&gt;&lt;div&gt;&lt;div&gt;In this role, you will join an exciting new department at Viacom (Content Innovation Analytics ) that touches all of the hottest topics in the TV research industry today\\xe2\\x80\\xa6 big data, data visualization, predictive content/show analytics, total cross-platform consumption and forecasting, and most importantly, translation of data into new products, visuals, tools, and insights.&lt;/div&gt;&lt;div...</td>\n",
              "      <td>Associate Data Scientist</td>\n",
              "      <td>Data Scientist</td>\n",
              "    </tr>\n",
              "    <tr>\n",
              "      <th>203</th>\n",
              "      <td>b'&lt;div&gt;&lt;ul&gt;&lt;li&gt;Proficiency in synthesizing and interpreting data.&lt;/li&gt;\\n&lt;li&gt;Participate in proposal development, special projects.&lt;/li&gt;\\n&lt;li&gt;Design and develop reports and analyze data to measure outcomes and performance.&lt;/li&gt;\\n&lt;li&gt;Interpret and analyze data from various sources and recommend best approaches.&lt;/li&gt;\\n&lt;li&gt;Analyze data for both reporting development as well as trend identification.&lt;/li&gt;\\n&lt;li&gt;Accountable for reports.&lt;/li&gt;\\n&lt;li&gt;Mentor junior members of team.&lt;/li&gt;\\n&lt;li&gt;Self-develop...</td>\n",
              "      <td>Sr Data Scientist</td>\n",
              "      <td>Data Scientist</td>\n",
              "    </tr>\n",
              "    <tr>\n",
              "      <th>436</th>\n",
              "      <td>b'&lt;div class=\"jobsearch-JobMetadataHeader icl-u-xs-mb--md\"&gt;&lt;div class=\"jobsearch-JobMetadataHeader-item icl-u-xs-mt--xs\"&gt;Internship&lt;/div&gt;&lt;/div&gt;&lt;div&gt;&lt;p&gt;Data Analyst - Intern&lt;/p&gt;&lt;br/&gt;\\n&lt;p&gt;&lt;/p&gt;\\n&lt;p&gt;Bloom Energy, a solid oxide fuel cell company, is looking for a &lt;b&gt;Data Analyst-Intern &lt;/b&gt;to join its world class team. This individual should be a dynamic professional who is looking for a rewarding future in one of today\\xe2\\x80\\x99s most exciting technologies.&lt;/p&gt;&lt;br/&gt;\\n&lt;p&gt;&lt;/p&gt;\\n&lt;p&gt;&lt;b&gt;Location:&lt;/...</td>\n",
              "      <td>Data Analyst - Intern</td>\n",
              "      <td>Data Analyst</td>\n",
              "    </tr>\n",
              "    <tr>\n",
              "      <th>100</th>\n",
              "      <td>b\"&lt;p&gt;&lt;/p&gt;&lt;div&gt;&lt;p&gt;&lt;b&gt;Description&lt;/b&gt;&lt;/p&gt;\\n&lt;p&gt;A rare opportunity to join the development division within Information Systems at Steward Health Care, the top leader in the competitive for-profit hospital industry. We are seeking a motivated and experienced Data Scientist to contribute to the software development initiatives that improve the quality of health care across the country. This individual will be working with programmers, analysts and senior level management to optimize the developmen...</td>\n",
              "      <td>Data Scientist</td>\n",
              "      <td>Data Scientist</td>\n",
              "    </tr>\n",
              "    <tr>\n",
              "      <th>144</th>\n",
              "      <td>b'&lt;div&gt;&lt;p&gt;&lt;b&gt;Position Description&lt;/b&gt;&lt;/p&gt;&lt;br/&gt;\\nWe, Smart Pricing, are Big Data Engineers, Data Analysts, Data Scientists and Applications Engineers, working in small groups to solve sophisticated and impactful problems. We are building systems that ingest, model and analyze massive flow of data from online and offline commerce/user activity to set pricing for millions of products. We use advanced statistical modeling, optimization techniques, machine learning, and data mining underneath it ...</td>\n",
              "      <td>Staff Data Scientist</td>\n",
              "      <td>Data Scientist</td>\n",
              "    </tr>\n",
              "    <tr>\n",
              "      <th>19</th>\n",
              "      <td>b'&lt;div class=\"jobsearch-JobMetadataHeader icl-u-xs-mb--md\"&gt;&lt;div class=\"jobsearch-JobMetadataHeader-item \"&gt;&lt;span class=\"icl-u-xs-mr--xs\"&gt;$70,000 - $100,000 a year&lt;/span&gt;&lt;/div&gt;&lt;/div&gt;&lt;div&gt;&lt;p&gt;&lt;b&gt;Title&lt;/b&gt;: Data Analyst/Jr. Data Scientist&lt;br/&gt;\\n&lt;b&gt;Locations&lt;/b&gt;: Charleston, SC&lt;br/&gt;\\n&lt;b&gt;Salary&lt;/b&gt;: $70-100k (dependent upon experience&lt;/p&gt;\\n&lt;p&gt;&lt;b&gt;\\nQualifications&lt;/b&gt;:&lt;/p&gt;\\n&lt;ul&gt;\\n&lt;li&gt;2+ years of Database Development/Architecture experience (SQL)&lt;/li&gt;\\n&lt;li&gt;Experience with Data visualization tools such...</td>\n",
              "      <td>Data Analyst/Jr. Data Scientist</td>\n",
              "      <td>Data Scientist</td>\n",
              "    </tr>\n",
              "    <tr>\n",
              "      <th>128</th>\n",
              "      <td>b\"&lt;div&gt;&lt;div&gt;At Uber, we ignite opportunity by setting the world in motion. We take on big problems to help drivers, riders, delivery partners, and eaters get moving in more than 600 cities around the world.&lt;/div&gt;&lt;div&gt;&lt;/div&gt;&lt;br/&gt;\\n&lt;div&gt;\\nWe welcome people from all backgrounds who seek the opportunity to help build a future where everyone and everything can move independently. If you have the curiosity, passion, and collaborative spirit, work with us, and let\\xe2\\x80\\x99s move the world forwar...</td>\n",
              "      <td>2019 PhD University Graduate - Data Scientist I/II - Intelligent Insights</td>\n",
              "      <td>Data Scientist</td>\n",
              "    </tr>\n",
              "  </tbody>\n",
              "</table>\n",
              "</div>"
            ],
            "text/plain": [
              "                                                                                                                                                                                                                                                                                                                                                                                                                                                                                                             description                                                                      title             job\n",
              "405  b\"<div><p><b>About Us:</b></p>\\n<p>Located in beautiful Santa Barbara, HG Insights is a growing data services company, delivering key insights to sales and marketing departments. We're powered by a group of highly intelligent developers and data scientists with a mandate of having the largest technology install database in the world.</p>\\n<p>We offer a competitive salary, 401K, growth potential, great benefits and a casual yet professional environment. Get your sweat on at one of our fitness...                                                               Data Analyst    Data Analyst\n",
              "483  b'<p></p><div><div><div><div><p><b>Characteristics of position</b><b>: </b>Provide research activities and the completion of deliverables specified in the research designs.</p>\\n<p><b>Pre-requisite Requirements:\\n</b></p><ul><li><p>High school diploma or GED and one year of experience in the operation of a computer and peripheral equipment.\\n</p></li></ul><p><b>Physical /Safety/Health Considerations</b><b>:</b> Standard office environment</p>\\n<p><b>Quality of Work Expected</b><b>:</b> Level...                                                     Volunteer-Data Analyst    Data Analyst\n",
              "207  b'<div class=\"jobsearch-JobMetadataHeader icl-u-xs-mb--md\"><div class=\"jobsearch-JobMetadataHeader-item \"><span class=\"icl-u-xs-mr--xs\">$100,000 - $125,000 a year</span></div></div><b>Description:</b><br/>\\nChesapeake Conservancy, a nonprofit organization based in Annapolis, Maryland is seeking a Geospatial Data Scientist with experience leveraging machine learning and large and complex data sets in the environmental world.\\n<br/><br/>\\nABOUT THE CONSERVANCY\\n<br/>Chesapeake Conservancy is a...                                                  Geospatial Data Scientist  Data Scientist\n",
              "363  b\"ezCater ( https://boards.greenhouse.io/embed/ezcater.com ) is the #1 online - and the only nationwide - marketplace for business catering in the United States \\xe2\\x80\\x93 a $23.9 billion market. Our 3.8M+ on-time ratings and reviews, our 60K+ caterers and restaurants, and our 5-star customer service make it superbly easy for business people to find and order great food for their meetings. We're backed by Insight Venture Partners, Iconiq Capital, and Wellington Management, we're on a path ...                                                        Junior Data Analyst    Data Analyst\n",
              "147  b'<div><h2 class=\"jobSectionHeader\"><b>Overview and Responsibilities\\n</b></h2><div><div><div><div>In this role, you will join an exciting new department at Viacom (Content Innovation Analytics ) that touches all of the hottest topics in the TV research industry today\\xe2\\x80\\xa6 big data, data visualization, predictive content/show analytics, total cross-platform consumption and forecasting, and most importantly, translation of data into new products, visuals, tools, and insights.</div><div...                                                   Associate Data Scientist  Data Scientist\n",
              "203  b'<div><ul><li>Proficiency in synthesizing and interpreting data.</li>\\n<li>Participate in proposal development, special projects.</li>\\n<li>Design and develop reports and analyze data to measure outcomes and performance.</li>\\n<li>Interpret and analyze data from various sources and recommend best approaches.</li>\\n<li>Analyze data for both reporting development as well as trend identification.</li>\\n<li>Accountable for reports.</li>\\n<li>Mentor junior members of team.</li>\\n<li>Self-develop...                                                          Sr Data Scientist  Data Scientist\n",
              "436  b'<div class=\"jobsearch-JobMetadataHeader icl-u-xs-mb--md\"><div class=\"jobsearch-JobMetadataHeader-item icl-u-xs-mt--xs\">Internship</div></div><div><p>Data Analyst - Intern</p><br/>\\n<p></p>\\n<p>Bloom Energy, a solid oxide fuel cell company, is looking for a <b>Data Analyst-Intern </b>to join its world class team. This individual should be a dynamic professional who is looking for a rewarding future in one of today\\xe2\\x80\\x99s most exciting technologies.</p><br/>\\n<p></p>\\n<p><b>Location:</...                                                      Data Analyst - Intern    Data Analyst\n",
              "100  b\"<p></p><div><p><b>Description</b></p>\\n<p>A rare opportunity to join the development division within Information Systems at Steward Health Care, the top leader in the competitive for-profit hospital industry. We are seeking a motivated and experienced Data Scientist to contribute to the software development initiatives that improve the quality of health care across the country. This individual will be working with programmers, analysts and senior level management to optimize the developmen...                                                             Data Scientist  Data Scientist\n",
              "144  b'<div><p><b>Position Description</b></p><br/>\\nWe, Smart Pricing, are Big Data Engineers, Data Analysts, Data Scientists and Applications Engineers, working in small groups to solve sophisticated and impactful problems. We are building systems that ingest, model and analyze massive flow of data from online and offline commerce/user activity to set pricing for millions of products. We use advanced statistical modeling, optimization techniques, machine learning, and data mining underneath it ...                                                       Staff Data Scientist  Data Scientist\n",
              "19   b'<div class=\"jobsearch-JobMetadataHeader icl-u-xs-mb--md\"><div class=\"jobsearch-JobMetadataHeader-item \"><span class=\"icl-u-xs-mr--xs\">$70,000 - $100,000 a year</span></div></div><div><p><b>Title</b>: Data Analyst/Jr. Data Scientist<br/>\\n<b>Locations</b>: Charleston, SC<br/>\\n<b>Salary</b>: $70-100k (dependent upon experience</p>\\n<p><b>\\nQualifications</b>:</p>\\n<ul>\\n<li>2+ years of Database Development/Architecture experience (SQL)</li>\\n<li>Experience with Data visualization tools such...                                            Data Analyst/Jr. Data Scientist  Data Scientist\n",
              "128  b\"<div><div>At Uber, we ignite opportunity by setting the world in motion. We take on big problems to help drivers, riders, delivery partners, and eaters get moving in more than 600 cities around the world.</div><div></div><br/>\\n<div>\\nWe welcome people from all backgrounds who seek the opportunity to help build a future where everyone and everything can move independently. If you have the curiosity, passion, and collaborative spirit, work with us, and let\\xe2\\x80\\x99s move the world forwar...  2019 PhD University Graduate - Data Scientist I/II - Intelligent Insights  Data Scientist"
            ]
          },
          "metadata": {
            "tags": []
          },
          "execution_count": 5
        }
      ]
    },
    {
      "metadata": {
        "id": "Bs8R2XrrsX6V",
        "colab_type": "code",
        "colab": {}
      },
      "cell_type": "code",
      "source": [
        "# from Derek\n",
        "import re\n",
        "def remove_tag(s):\n",
        "  return re.sub(\"<.*?>\",'',s)\n",
        "\n",
        "text =[]\n",
        "for i in df['description']:\n",
        "  s=remove_tag(str(i))\n",
        "  text.append(s)\n",
        "  \n",
        "\n",
        "df['description']=text"
      ],
      "execution_count": 0,
      "outputs": []
    },
    {
      "metadata": {
        "id": "8ZtiR7C5tkH7",
        "colab_type": "code",
        "outputId": "9e3fd851-ffb7-467d-c33f-2905690a9397",
        "colab": {
          "base_uri": "https://localhost:8080/",
          "height": 261
        }
      },
      "cell_type": "code",
      "source": [
        "df.description.sample(11)"
      ],
      "execution_count": 9,
      "outputs": [
        {
          "output_type": "execute_result",
          "data": {
            "text/plain": [
              "62     b'Business Unit Introduction:\\n\\nThis position is in the Enterprise Digital and Analytics \\xe2\\x80\\x93 Global Customer Data Science team and is responsible for driving positive value for the consumer base, our internal partners and shareholders through best-in-class data and decision science.\\n\\nThe Team:\\nOur team is the decision science team with emphasis on optimization, simulation, reinforcement learning, and Natural Language Processing (NLP). We are responsible for the innovation of the...\n",
              "435    b'Responsible for data acquisition and ongoing data integrity in University Advancement systems. Works independently to analyze, compare, manipulate, and transform data sets in preparation for upload into an SQL environment using appropriate technical functionality. Assesses software and resource needs based on project; selects and adapts software to meet specific needs. Identifies problems, anticipates needs, and resolves data issues. Creates and maintains documentation for processes, excep...\n",
              "487    b'Summary\\nBuilds and maintains the SCI test procedures and resource units as needed. Tests SCI, Cerner and other communication system upgrades. Utilizes clinical knowledge to schedule all procedures within Imaging Services utilizing the SCI scheduling system. Coordinates the scheduling needs of the patient with the utilization of resources within each modality.\\n\\nQualifications:\\nEducation\\nRequired: High School Diploma or GED Certificate\\nPreferred: Associate Degree or above\\n\\nRequired: ...\n",
              "232    b'Functional Description:\\nDesigns, develops and programs methods, processes, and systems to consolidate and analyze unstructured, diverse \\xe2\\x80\\x9cbig data\\xe2\\x80\\x9d sources to generate actionable insights and solutions for client services and product enhancement. Interacts with product and service teams to identify questions and issues for data analysis and experiments. Develops and codes software programs, algorithms and automated processes to cleanse, integrate and evaluate large da...\n",
              "466    b'InternshipSamsara hardware products are plug and play, and core to the product portfolio. The hardware team is responsible for industrial design, electrical engineering, mechanical engineering and supply chain. Everyone on the team has a large impact in bringing products to market. We focus on the key creative/design/problem-solving and bolster our development resources with top JDMs, toolmakers, and suppliers.\\n\\nThe Data Analytics Engineering Intern is will own and lead projects from end...\n",
              "340    b'Overview\\nWestern National is seeking a Junior Data Analyst to join our growing organization. This position will work closely with multiple business units throughout the organization helping to support data extraction and analytics needs.\\n\\nThe ideal candidate will have 0-2+ years of Data Analysis experience preferably within the Insurance Industry or a degree with a focus in Data Analytics. This role will use SQL to extract data but will also have a strong focus on analyzing the data to ...\n",
              "303    b\"UnitedHealthcare is a company that's on the rise. We're expanding in multiple directions, across borders and, most of all, in the way we think. Here, innovation isn't about another gadget, it's about transforming the health care industry. Ready to make a difference? Make yourself at home with us and start doing your life's best work.(sm)\\n\\nPrimary Responsibilities:\\nResponsible for the management and manipulation of mostly structured data, with a focus on building business intelligence to...\n",
              "461    b'Part-time, ContractAre you interested in everything, always plugged into news and social trends, incredibly resourceful, and obsessed with getting details right? Great, stop reading and contact us.\\n\\nWe\\xe2\\x80\\x99re Digital Third Coast. We create exciting visual narrative content for our clients and get that content placed on the most popular sites in the world, including Huffington Post, Forbes, Buzzfeed, Inc, Yahoo, Lifehacker, Mental Floss, the list goes on.\\n\\nWe have all kinds of cl...\n",
              "169    b\"ABOUT THE ROLE\\nAnalytics works with numerous departments across UncommonGoods to turn data into insights, including Marketing, Merchandising, Operations, Product Management, and Purchasing. This includes everything from generating ad hoc reports to designing tests to building predictive models. As a data scientist, you'll play a key role in ensuring that business decisions are made with the best information possible.\\n\\nABOUT YOU\\nYou know that the best, most thorough analysis is only val...\n",
              "320    b'Gateway Blend is a St. Louis based online publisher that maintains a portfolio of sites with millions of readers each month. We are looking for a Data Analyst to maintain data integrity within our MySQL databases, conduct analyses on web analytics data, and fulfill requests for report creation and ad hoc analysis. The ideal candidate needs to be extremely detail-oriented, organized, and has proven experience or knowledge of analytics.\\n\\nThis position is based out of our Clayton, Missouri ...\n",
              "306    b'ESSENTIAL DUTIES\\nEnters, tracks, and updates ACO physician information in ACO-specific database(s). Does not enter scheduling information into EPIC.\\nProactively seeks information from departments, organizations, and websites in order to provide the most accurate information possible to department users and recipients of data.\\nSubmits data to health plans and organizations for physician enrollment, compliance, quality, pay for performance or other programs.\\nWork with health plans in aud...\n",
              "Name: description, dtype: object"
            ]
          },
          "metadata": {
            "tags": []
          },
          "execution_count": 9
        }
      ]
    },
    {
      "metadata": {
        "id": "bceJyD15ZVfv",
        "colab_type": "code",
        "outputId": "f5e6a6e3-63d0-4413-86a9-be9722e32978",
        "colab": {
          "base_uri": "https://localhost:8080/",
          "height": 68
        }
      },
      "cell_type": "code",
      "source": [
        "df.job.value_counts(normalize=True)\n"
      ],
      "execution_count": 10,
      "outputs": [
        {
          "output_type": "execute_result",
          "data": {
            "text/plain": [
              "Data Scientist    0.501002\n",
              "Data Analyst      0.498998\n",
              "Name: job, dtype: float64"
            ]
          },
          "metadata": {
            "tags": []
          },
          "execution_count": 10
        }
      ]
    },
    {
      "metadata": {
        "id": "7gvT4oEgaoSH",
        "colab_type": "code",
        "outputId": "657f0ad9-9022-4bcb-d2c1-92fb5de443a8",
        "colab": {
          "base_uri": "https://localhost:8080/",
          "height": 951
        }
      },
      "cell_type": "code",
      "source": [
        "df['job_num'] = df.job.map({'Data Analyst': 0, 'Data Scientist': 1})\n",
        "\n",
        "df.sample(11)"
      ],
      "execution_count": 11,
      "outputs": [
        {
          "output_type": "execute_result",
          "data": {
            "text/html": [
              "<div>\n",
              "<style scoped>\n",
              "    .dataframe tbody tr th:only-of-type {\n",
              "        vertical-align: middle;\n",
              "    }\n",
              "\n",
              "    .dataframe tbody tr th {\n",
              "        vertical-align: top;\n",
              "    }\n",
              "\n",
              "    .dataframe thead th {\n",
              "        text-align: right;\n",
              "    }\n",
              "</style>\n",
              "<table border=\"1\" class=\"dataframe\">\n",
              "  <thead>\n",
              "    <tr style=\"text-align: right;\">\n",
              "      <th></th>\n",
              "      <th>description</th>\n",
              "      <th>title</th>\n",
              "      <th>job</th>\n",
              "      <th>job_num</th>\n",
              "    </tr>\n",
              "  </thead>\n",
              "  <tbody>\n",
              "    <tr>\n",
              "      <th>331</th>\n",
              "      <td>b'Essential Functions:\\nThe Data Visualization Analyst is responsible for (though not limited to):\\n\\nContributing to the execution of the Business Intelligence Roadmap to establish disciplines and procedures for adoption of Power BI dashboards across all business areas.\\nProviding technical leadership and subject matter expertise to the team and organization.\\nConducting Power BI education and training programs for all staff levels.\\nDeveloping custom dashboards and reports for business own...</td>\n",
              "      <td>BI Data Visualization Analyst</td>\n",
              "      <td>Data Analyst</td>\n",
              "      <td>0</td>\n",
              "    </tr>\n",
              "    <tr>\n",
              "      <th>52</th>\n",
              "      <td>b\"The challenge\\nAdobe is looking for a Senior Data Scientist who will be building the next generation of marketing cloud products by leveraging machine learning, predictive modeling and optimization techniques. These products would help businesses understand, manage, and optimize the experience throughout the customer journey. Example applications include real-time online media optimization, media attribution, predictive sales analytics, product recommendation, mobile analytics, predictive ...</td>\n",
              "      <td>Senior Data Scientist</td>\n",
              "      <td>Data Scientist</td>\n",
              "      <td>1</td>\n",
              "    </tr>\n",
              "    <tr>\n",
              "      <th>15</th>\n",
              "      <td>b'The Atlantic is seeking a Data Scientist to help lead research and analysis initiatives and support ongoing delivery of key insights to drive business growth and overall impact. The role will work closely with partners in Consumer Revenue, Advertising, Editorial, and Product to understand performance, identify and predict opportunities for improvement, and develop plans of action to maximize revenue, audience growth, and editorial engagement.\\nThis is a great opportunity to be part of a gr...</td>\n",
              "      <td>Data Scientist</td>\n",
              "      <td>Data Scientist</td>\n",
              "      <td>1</td>\n",
              "    </tr>\n",
              "    <tr>\n",
              "      <th>132</th>\n",
              "      <td>b\"Invitae envisions a world in which genomic sequencing routinely informs lifelong health care decisions. We are committed to enabling the utilization of genomic data in order to improve health, catalyze scientific and medical research, and contribute to improved outcomes for everyone. Invitae is an open, title-free company that operates as a meritocracy. We focus intently on our ability to deliver reliable solutions that contribute to improving people's lives. We have excellent benefits.\\n\\...</td>\n",
              "      <td>Data Scientist</td>\n",
              "      <td>Data Scientist</td>\n",
              "      <td>1</td>\n",
              "    </tr>\n",
              "    <tr>\n",
              "      <th>63</th>\n",
              "      <td>b'$40 - $42 an hourPart-timeContractor Position - part time, can work remotely $40.- $42./hour depending on experience\\nAlelo has an opening for a Junior Data Scientist, working with data from our learners and with machine learning tools to evaluate and improve the performance of our AI-driven learning products. This is an opportunity to gain experience in working with intelligent systems employing language technology, while helping make a difference in the way people learn.\\nAbout Alelo\\nAl...</td>\n",
              "      <td>Junior Data Scientist</td>\n",
              "      <td>Data Scientist</td>\n",
              "      <td>1</td>\n",
              "    </tr>\n",
              "    <tr>\n",
              "      <th>41</th>\n",
              "      <td>b'Inscape (an Affiliate of VIZIO Inc.) is an industry leader in advertising solutions through automatic content recognition. We capture live viewing data from content sources across millions of Smart TVs and devices. Our comprehensive metrics deliver highly accurate, cross-platform viewing behavior. We enable advertisers and content producers with important insights that help them develop a deeper understanding of audiences, make more intelligent ad-buying decisions and be better prepared fo...</td>\n",
              "      <td>Data Scientist</td>\n",
              "      <td>Data Scientist</td>\n",
              "      <td>1</td>\n",
              "    </tr>\n",
              "    <tr>\n",
              "      <th>317</th>\n",
              "      <td>b'A prominent financial affiliate network is seeking a Senior Data Analyst to monitor and support its data processes. The ideal candidate would be able to develop new reports, frameworks, dashboards, and other tools for the company.\\nResponsibilities\\nTrack ROI\\nClose interaction with IT Team to design/improve data architecture\\nIdentify optimization opportunities using predictive modeling\\nDevelop and implement advanced custom models and algorithms\\nDevelop tools to monitor and analyze mode...</td>\n",
              "      <td>Data Analyst</td>\n",
              "      <td>Data Analyst</td>\n",
              "      <td>0</td>\n",
              "    </tr>\n",
              "    <tr>\n",
              "      <th>120</th>\n",
              "      <td>b'Description\\nPosition Background:\\nYou already know Staples for our stores. What you might not know is that we are the world\\xe2\\x80\\x99s largest business products delivery company as well, serving everything from the 10-person office up to and including the Fortune 500 companies. As the B2B division of Staples, Staples Business Advantage works with companies to develop customized programs with specialized pricing, dedicated account management and a complete assortment of products and serv...</td>\n",
              "      <td>Associate Data Scientist</td>\n",
              "      <td>Data Scientist</td>\n",
              "      <td>1</td>\n",
              "    </tr>\n",
              "    <tr>\n",
              "      <th>7</th>\n",
              "      <td>b\"Everytown for Gun Safety, the nation's largest gun violence prevention advocacy group, is seeking a Data Scientist. The Research Department studies how gun violence occurs in America and identifies the best policies and interventions to prevent and address it. In this role, the Data Scientist will need to understand and communicate about the various types of gun violence, who it impacts, and how it impacts different communities and populations differently. You must be committed to addressi...</td>\n",
              "      <td>Data Scientist</td>\n",
              "      <td>Data Scientist</td>\n",
              "      <td>1</td>\n",
              "    </tr>\n",
              "    <tr>\n",
              "      <th>346</th>\n",
              "      <td>b'InternshipOverview\\nWe are CONNECTING HEALTH AND WEALTH. Come be part of remarkable.\\n\\nHow you can make a difference\\nThe HealthEquity Intern program aims to provide accomplished students the opportunity to develop their skills while supporting the Company\\xe2\\x80\\x99s strategic objectives. Candidates are assigned to a department for the entire 13-week program and gain real-world experience applying their classroom learnings in a dynamic business environment. They receive coaching and men...</td>\n",
              "      <td>Fraud Data Analyst Intern</td>\n",
              "      <td>Data Analyst</td>\n",
              "      <td>0</td>\n",
              "    </tr>\n",
              "    <tr>\n",
              "      <th>11</th>\n",
              "      <td>b'Part-timeAbout The Opportunity\\nHere at Grubhub we\\xe2\\x80\\x99ve been dedicated to giving diners the most convenient way to order food from their favorite restaurants (whether that\\xe2\\x80\\x99s a late night Chalupa from Taco Bell or a salad for lunch from a local restaurant the day after they enjoyed said late night Chalupa).\\nWhile we are food-obsessed, we are also customer-obsessed. We look to constantly innovate our technology so our diners\\xe2\\x80\\x99 food experience is memorable, rest...</td>\n",
              "      <td>Data Scientist II</td>\n",
              "      <td>Data Scientist</td>\n",
              "      <td>1</td>\n",
              "    </tr>\n",
              "  </tbody>\n",
              "</table>\n",
              "</div>"
            ],
            "text/plain": [
              "                                                                                                                                                                                                                                                                                                                                                                                                                                                                                                             description                          title             job  job_num\n",
              "331  b'Essential Functions:\\nThe Data Visualization Analyst is responsible for (though not limited to):\\n\\nContributing to the execution of the Business Intelligence Roadmap to establish disciplines and procedures for adoption of Power BI dashboards across all business areas.\\nProviding technical leadership and subject matter expertise to the team and organization.\\nConducting Power BI education and training programs for all staff levels.\\nDeveloping custom dashboards and reports for business own...  BI Data Visualization Analyst    Data Analyst        0\n",
              "52   b\"The challenge\\nAdobe is looking for a Senior Data Scientist who will be building the next generation of marketing cloud products by leveraging machine learning, predictive modeling and optimization techniques. These products would help businesses understand, manage, and optimize the experience throughout the customer journey. Example applications include real-time online media optimization, media attribution, predictive sales analytics, product recommendation, mobile analytics, predictive ...          Senior Data Scientist  Data Scientist        1\n",
              "15   b'The Atlantic is seeking a Data Scientist to help lead research and analysis initiatives and support ongoing delivery of key insights to drive business growth and overall impact. The role will work closely with partners in Consumer Revenue, Advertising, Editorial, and Product to understand performance, identify and predict opportunities for improvement, and develop plans of action to maximize revenue, audience growth, and editorial engagement.\\nThis is a great opportunity to be part of a gr...                 Data Scientist  Data Scientist        1\n",
              "132  b\"Invitae envisions a world in which genomic sequencing routinely informs lifelong health care decisions. We are committed to enabling the utilization of genomic data in order to improve health, catalyze scientific and medical research, and contribute to improved outcomes for everyone. Invitae is an open, title-free company that operates as a meritocracy. We focus intently on our ability to deliver reliable solutions that contribute to improving people's lives. We have excellent benefits.\\n\\...                 Data Scientist  Data Scientist        1\n",
              "63   b'$40 - $42 an hourPart-timeContractor Position - part time, can work remotely $40.- $42./hour depending on experience\\nAlelo has an opening for a Junior Data Scientist, working with data from our learners and with machine learning tools to evaluate and improve the performance of our AI-driven learning products. This is an opportunity to gain experience in working with intelligent systems employing language technology, while helping make a difference in the way people learn.\\nAbout Alelo\\nAl...          Junior Data Scientist  Data Scientist        1\n",
              "41   b'Inscape (an Affiliate of VIZIO Inc.) is an industry leader in advertising solutions through automatic content recognition. We capture live viewing data from content sources across millions of Smart TVs and devices. Our comprehensive metrics deliver highly accurate, cross-platform viewing behavior. We enable advertisers and content producers with important insights that help them develop a deeper understanding of audiences, make more intelligent ad-buying decisions and be better prepared fo...                 Data Scientist  Data Scientist        1\n",
              "317  b'A prominent financial affiliate network is seeking a Senior Data Analyst to monitor and support its data processes. The ideal candidate would be able to develop new reports, frameworks, dashboards, and other tools for the company.\\nResponsibilities\\nTrack ROI\\nClose interaction with IT Team to design/improve data architecture\\nIdentify optimization opportunities using predictive modeling\\nDevelop and implement advanced custom models and algorithms\\nDevelop tools to monitor and analyze mode...                   Data Analyst    Data Analyst        0\n",
              "120  b'Description\\nPosition Background:\\nYou already know Staples for our stores. What you might not know is that we are the world\\xe2\\x80\\x99s largest business products delivery company as well, serving everything from the 10-person office up to and including the Fortune 500 companies. As the B2B division of Staples, Staples Business Advantage works with companies to develop customized programs with specialized pricing, dedicated account management and a complete assortment of products and serv...       Associate Data Scientist  Data Scientist        1\n",
              "7    b\"Everytown for Gun Safety, the nation's largest gun violence prevention advocacy group, is seeking a Data Scientist. The Research Department studies how gun violence occurs in America and identifies the best policies and interventions to prevent and address it. In this role, the Data Scientist will need to understand and communicate about the various types of gun violence, who it impacts, and how it impacts different communities and populations differently. You must be committed to addressi...                 Data Scientist  Data Scientist        1\n",
              "346  b'InternshipOverview\\nWe are CONNECTING HEALTH AND WEALTH. Come be part of remarkable.\\n\\nHow you can make a difference\\nThe HealthEquity Intern program aims to provide accomplished students the opportunity to develop their skills while supporting the Company\\xe2\\x80\\x99s strategic objectives. Candidates are assigned to a department for the entire 13-week program and gain real-world experience applying their classroom learnings in a dynamic business environment. They receive coaching and men...      Fraud Data Analyst Intern    Data Analyst        0\n",
              "11   b'Part-timeAbout The Opportunity\\nHere at Grubhub we\\xe2\\x80\\x99ve been dedicated to giving diners the most convenient way to order food from their favorite restaurants (whether that\\xe2\\x80\\x99s a late night Chalupa from Taco Bell or a salad for lunch from a local restaurant the day after they enjoyed said late night Chalupa).\\nWhile we are food-obsessed, we are also customer-obsessed. We look to constantly innovate our technology so our diners\\xe2\\x80\\x99 food experience is memorable, rest...              Data Scientist II  Data Scientist        1"
            ]
          },
          "metadata": {
            "tags": []
          },
          "execution_count": 11
        }
      ]
    },
    {
      "metadata": {
        "id": "27c52OL9a5El",
        "colab_type": "code",
        "colab": {}
      },
      "cell_type": "code",
      "source": [
        "from sklearn.model_selection import train_test_split\n",
        "\n",
        "X = df.description\n",
        "y = df.job_num\n",
        "\n",
        "X_train, X_test, y_train, y_test = train_test_split(X, y, test_size=0.2, random_state=0)"
      ],
      "execution_count": 0,
      "outputs": []
    },
    {
      "metadata": {
        "id": "ZHYryqw9bXHv",
        "colab_type": "code",
        "outputId": "9e1f3cbf-c89a-4708-a173-01e8e02cb5ba",
        "colab": {
          "base_uri": "https://localhost:8080/",
          "height": 85
        }
      },
      "cell_type": "code",
      "source": [
        "print(X_train.shape)\n",
        "print(X_test.shape)\n",
        "print(y_train.shape)\n",
        "print(y_test.shape)"
      ],
      "execution_count": 13,
      "outputs": [
        {
          "output_type": "stream",
          "text": [
            "(399,)\n",
            "(100,)\n",
            "(399,)\n",
            "(100,)\n"
          ],
          "name": "stdout"
        }
      ]
    },
    {
      "metadata": {
        "id": "gsGkc5imbico",
        "colab_type": "text"
      },
      "cell_type": "markdown",
      "source": [
        "## Count Vectorizer\n",
        "\n",
        "Today we're just going to let Scikit-Learn do our text cleaning and preprocessing for us.\n",
        "\n",
        "Lets run our vectorizer on job description and take a peek at the tokenization of the vocabulary"
      ]
    },
    {
      "metadata": {
        "id": "2Q7YkxdNbiED",
        "colab_type": "code",
        "outputId": "11c6c364-5b21-42d8-ec1e-a133d3af83d6",
        "colab": {
          "base_uri": "https://localhost:8080/",
          "height": 34
        }
      },
      "cell_type": "code",
      "source": [
        "from sklearn.feature_extraction.text import CountVectorizer\n",
        "\n",
        "vectorizer = CountVectorizer(max_features=None, ngram_range=(1,1), stop_words='english')\n",
        "# vectorizer = CountVectorizer(max_features=1000, ngram_range=(1,1), stop_words='english')\n",
        "\n",
        "vectorizer.fit(X_train)\n",
        "\n",
        "print(len(vectorizer.get_feature_names()))"
      ],
      "execution_count": 14,
      "outputs": [
        {
          "output_type": "stream",
          "text": [
            "10117\n"
          ],
          "name": "stdout"
        }
      ]
    },
    {
      "metadata": {
        "id": "nwV6qqlPf8zU",
        "colab_type": "text"
      },
      "cell_type": "markdown",
      "source": [
        "### Transform Train"
      ]
    },
    {
      "metadata": {
        "id": "13ipnnKGcopP",
        "colab_type": "code",
        "outputId": "5115c6a5-be43-4541-8b37-2fd2f20e7476",
        "colab": {
          "base_uri": "https://localhost:8080/",
          "height": 250
        }
      },
      "cell_type": "code",
      "source": [
        "train_word_counts = vectorizer.transform(X_train)\n",
        "\n",
        "X_train_vectorized = pd.DataFrame(train_word_counts.toarray(), columns=vectorizer.get_feature_names())\n",
        "\n",
        "print(X_train_vectorized.shape)\n",
        "X_train_vectorized.head()"
      ],
      "execution_count": 15,
      "outputs": [
        {
          "output_type": "stream",
          "text": [
            "(399, 10117)\n"
          ],
          "name": "stdout"
        },
        {
          "output_type": "execute_result",
          "data": {
            "text/html": [
              "<div>\n",
              "<style scoped>\n",
              "    .dataframe tbody tr th:only-of-type {\n",
              "        vertical-align: middle;\n",
              "    }\n",
              "\n",
              "    .dataframe tbody tr th {\n",
              "        vertical-align: top;\n",
              "    }\n",
              "\n",
              "    .dataframe thead th {\n",
              "        text-align: right;\n",
              "    }\n",
              "</style>\n",
              "<table border=\"1\" class=\"dataframe\">\n",
              "  <thead>\n",
              "    <tr style=\"text-align: right;\">\n",
              "      <th></th>\n",
              "      <th>00</th>\n",
              "      <th>000</th>\n",
              "      <th>00805</th>\n",
              "      <th>00pm</th>\n",
              "      <th>02115</th>\n",
              "      <th>03</th>\n",
              "      <th>0356</th>\n",
              "      <th>04</th>\n",
              "      <th>062</th>\n",
              "      <th>06366</th>\n",
              "      <th>...</th>\n",
              "      <th>zendesk</th>\n",
              "      <th>zero</th>\n",
              "      <th>zetahub</th>\n",
              "      <th>zeus</th>\n",
              "      <th>zheng</th>\n",
              "      <th>zoho</th>\n",
              "      <th>zone</th>\n",
              "      <th>zones</th>\n",
              "      <th>zoom</th>\n",
              "      <th>zywave</th>\n",
              "    </tr>\n",
              "  </thead>\n",
              "  <tbody>\n",
              "    <tr>\n",
              "      <th>0</th>\n",
              "      <td>0</td>\n",
              "      <td>0</td>\n",
              "      <td>0</td>\n",
              "      <td>0</td>\n",
              "      <td>0</td>\n",
              "      <td>0</td>\n",
              "      <td>0</td>\n",
              "      <td>0</td>\n",
              "      <td>0</td>\n",
              "      <td>0</td>\n",
              "      <td>...</td>\n",
              "      <td>0</td>\n",
              "      <td>0</td>\n",
              "      <td>0</td>\n",
              "      <td>0</td>\n",
              "      <td>0</td>\n",
              "      <td>0</td>\n",
              "      <td>0</td>\n",
              "      <td>0</td>\n",
              "      <td>0</td>\n",
              "      <td>0</td>\n",
              "    </tr>\n",
              "    <tr>\n",
              "      <th>1</th>\n",
              "      <td>0</td>\n",
              "      <td>0</td>\n",
              "      <td>0</td>\n",
              "      <td>0</td>\n",
              "      <td>0</td>\n",
              "      <td>0</td>\n",
              "      <td>0</td>\n",
              "      <td>0</td>\n",
              "      <td>0</td>\n",
              "      <td>0</td>\n",
              "      <td>...</td>\n",
              "      <td>0</td>\n",
              "      <td>0</td>\n",
              "      <td>0</td>\n",
              "      <td>0</td>\n",
              "      <td>0</td>\n",
              "      <td>0</td>\n",
              "      <td>0</td>\n",
              "      <td>0</td>\n",
              "      <td>0</td>\n",
              "      <td>0</td>\n",
              "    </tr>\n",
              "    <tr>\n",
              "      <th>2</th>\n",
              "      <td>0</td>\n",
              "      <td>0</td>\n",
              "      <td>0</td>\n",
              "      <td>0</td>\n",
              "      <td>0</td>\n",
              "      <td>0</td>\n",
              "      <td>0</td>\n",
              "      <td>0</td>\n",
              "      <td>0</td>\n",
              "      <td>0</td>\n",
              "      <td>...</td>\n",
              "      <td>0</td>\n",
              "      <td>0</td>\n",
              "      <td>0</td>\n",
              "      <td>0</td>\n",
              "      <td>0</td>\n",
              "      <td>0</td>\n",
              "      <td>0</td>\n",
              "      <td>0</td>\n",
              "      <td>0</td>\n",
              "      <td>0</td>\n",
              "    </tr>\n",
              "    <tr>\n",
              "      <th>3</th>\n",
              "      <td>0</td>\n",
              "      <td>0</td>\n",
              "      <td>0</td>\n",
              "      <td>0</td>\n",
              "      <td>0</td>\n",
              "      <td>0</td>\n",
              "      <td>0</td>\n",
              "      <td>0</td>\n",
              "      <td>0</td>\n",
              "      <td>0</td>\n",
              "      <td>...</td>\n",
              "      <td>0</td>\n",
              "      <td>0</td>\n",
              "      <td>0</td>\n",
              "      <td>0</td>\n",
              "      <td>0</td>\n",
              "      <td>0</td>\n",
              "      <td>0</td>\n",
              "      <td>0</td>\n",
              "      <td>0</td>\n",
              "      <td>0</td>\n",
              "    </tr>\n",
              "    <tr>\n",
              "      <th>4</th>\n",
              "      <td>0</td>\n",
              "      <td>0</td>\n",
              "      <td>0</td>\n",
              "      <td>0</td>\n",
              "      <td>0</td>\n",
              "      <td>0</td>\n",
              "      <td>0</td>\n",
              "      <td>0</td>\n",
              "      <td>0</td>\n",
              "      <td>0</td>\n",
              "      <td>...</td>\n",
              "      <td>0</td>\n",
              "      <td>0</td>\n",
              "      <td>0</td>\n",
              "      <td>0</td>\n",
              "      <td>0</td>\n",
              "      <td>0</td>\n",
              "      <td>0</td>\n",
              "      <td>0</td>\n",
              "      <td>0</td>\n",
              "      <td>0</td>\n",
              "    </tr>\n",
              "  </tbody>\n",
              "</table>\n",
              "<p>5 rows × 10117 columns</p>\n",
              "</div>"
            ],
            "text/plain": [
              "   00  000  00805  00pm  02115  03  0356  04  062  06366  ...  zendesk  zero  zetahub  zeus  zheng  zoho  zone  zones  zoom  zywave\n",
              "0   0    0      0     0      0   0     0   0    0      0  ...        0     0        0     0      0     0     0      0     0       0\n",
              "1   0    0      0     0      0   0     0   0    0      0  ...        0     0        0     0      0     0     0      0     0       0\n",
              "2   0    0      0     0      0   0     0   0    0      0  ...        0     0        0     0      0     0     0      0     0       0\n",
              "3   0    0      0     0      0   0     0   0    0      0  ...        0     0        0     0      0     0     0      0     0       0\n",
              "4   0    0      0     0      0   0     0   0    0      0  ...        0     0        0     0      0     0     0      0     0       0\n",
              "\n",
              "[5 rows x 10117 columns]"
            ]
          },
          "metadata": {
            "tags": []
          },
          "execution_count": 15
        }
      ]
    },
    {
      "metadata": {
        "id": "-3nX9H8bgEGh",
        "colab_type": "text"
      },
      "cell_type": "markdown",
      "source": [
        "### Transform Test"
      ]
    },
    {
      "metadata": {
        "id": "z8Ld3VpDdMVc",
        "colab_type": "code",
        "outputId": "f9f06646-cd09-48df-f4b1-c487d52417f5",
        "colab": {
          "base_uri": "https://localhost:8080/",
          "height": 250
        }
      },
      "cell_type": "code",
      "source": [
        "test_word_counts = vectorizer.transform(X_test)\n",
        "\n",
        "X_test_vectorized = pd.DataFrame(test_word_counts.toarray(), columns=vectorizer.get_feature_names())\n",
        "\n",
        "print(X_test_vectorized.shape)\n",
        "X_test_vectorized.head()"
      ],
      "execution_count": 16,
      "outputs": [
        {
          "output_type": "stream",
          "text": [
            "(100, 10117)\n"
          ],
          "name": "stdout"
        },
        {
          "output_type": "execute_result",
          "data": {
            "text/html": [
              "<div>\n",
              "<style scoped>\n",
              "    .dataframe tbody tr th:only-of-type {\n",
              "        vertical-align: middle;\n",
              "    }\n",
              "\n",
              "    .dataframe tbody tr th {\n",
              "        vertical-align: top;\n",
              "    }\n",
              "\n",
              "    .dataframe thead th {\n",
              "        text-align: right;\n",
              "    }\n",
              "</style>\n",
              "<table border=\"1\" class=\"dataframe\">\n",
              "  <thead>\n",
              "    <tr style=\"text-align: right;\">\n",
              "      <th></th>\n",
              "      <th>00</th>\n",
              "      <th>000</th>\n",
              "      <th>00805</th>\n",
              "      <th>00pm</th>\n",
              "      <th>02115</th>\n",
              "      <th>03</th>\n",
              "      <th>0356</th>\n",
              "      <th>04</th>\n",
              "      <th>062</th>\n",
              "      <th>06366</th>\n",
              "      <th>...</th>\n",
              "      <th>zendesk</th>\n",
              "      <th>zero</th>\n",
              "      <th>zetahub</th>\n",
              "      <th>zeus</th>\n",
              "      <th>zheng</th>\n",
              "      <th>zoho</th>\n",
              "      <th>zone</th>\n",
              "      <th>zones</th>\n",
              "      <th>zoom</th>\n",
              "      <th>zywave</th>\n",
              "    </tr>\n",
              "  </thead>\n",
              "  <tbody>\n",
              "    <tr>\n",
              "      <th>0</th>\n",
              "      <td>0</td>\n",
              "      <td>0</td>\n",
              "      <td>0</td>\n",
              "      <td>0</td>\n",
              "      <td>0</td>\n",
              "      <td>0</td>\n",
              "      <td>0</td>\n",
              "      <td>0</td>\n",
              "      <td>0</td>\n",
              "      <td>0</td>\n",
              "      <td>...</td>\n",
              "      <td>0</td>\n",
              "      <td>0</td>\n",
              "      <td>0</td>\n",
              "      <td>0</td>\n",
              "      <td>0</td>\n",
              "      <td>0</td>\n",
              "      <td>0</td>\n",
              "      <td>0</td>\n",
              "      <td>0</td>\n",
              "      <td>0</td>\n",
              "    </tr>\n",
              "    <tr>\n",
              "      <th>1</th>\n",
              "      <td>0</td>\n",
              "      <td>0</td>\n",
              "      <td>0</td>\n",
              "      <td>0</td>\n",
              "      <td>0</td>\n",
              "      <td>0</td>\n",
              "      <td>0</td>\n",
              "      <td>0</td>\n",
              "      <td>0</td>\n",
              "      <td>0</td>\n",
              "      <td>...</td>\n",
              "      <td>0</td>\n",
              "      <td>0</td>\n",
              "      <td>0</td>\n",
              "      <td>0</td>\n",
              "      <td>0</td>\n",
              "      <td>0</td>\n",
              "      <td>0</td>\n",
              "      <td>0</td>\n",
              "      <td>0</td>\n",
              "      <td>0</td>\n",
              "    </tr>\n",
              "    <tr>\n",
              "      <th>2</th>\n",
              "      <td>0</td>\n",
              "      <td>1</td>\n",
              "      <td>0</td>\n",
              "      <td>0</td>\n",
              "      <td>0</td>\n",
              "      <td>0</td>\n",
              "      <td>0</td>\n",
              "      <td>0</td>\n",
              "      <td>0</td>\n",
              "      <td>0</td>\n",
              "      <td>...</td>\n",
              "      <td>0</td>\n",
              "      <td>0</td>\n",
              "      <td>0</td>\n",
              "      <td>0</td>\n",
              "      <td>0</td>\n",
              "      <td>0</td>\n",
              "      <td>0</td>\n",
              "      <td>0</td>\n",
              "      <td>0</td>\n",
              "      <td>0</td>\n",
              "    </tr>\n",
              "    <tr>\n",
              "      <th>3</th>\n",
              "      <td>0</td>\n",
              "      <td>0</td>\n",
              "      <td>0</td>\n",
              "      <td>0</td>\n",
              "      <td>0</td>\n",
              "      <td>0</td>\n",
              "      <td>0</td>\n",
              "      <td>0</td>\n",
              "      <td>0</td>\n",
              "      <td>0</td>\n",
              "      <td>...</td>\n",
              "      <td>0</td>\n",
              "      <td>0</td>\n",
              "      <td>0</td>\n",
              "      <td>0</td>\n",
              "      <td>0</td>\n",
              "      <td>0</td>\n",
              "      <td>0</td>\n",
              "      <td>0</td>\n",
              "      <td>0</td>\n",
              "      <td>0</td>\n",
              "    </tr>\n",
              "    <tr>\n",
              "      <th>4</th>\n",
              "      <td>0</td>\n",
              "      <td>1</td>\n",
              "      <td>0</td>\n",
              "      <td>0</td>\n",
              "      <td>0</td>\n",
              "      <td>0</td>\n",
              "      <td>0</td>\n",
              "      <td>0</td>\n",
              "      <td>0</td>\n",
              "      <td>0</td>\n",
              "      <td>...</td>\n",
              "      <td>0</td>\n",
              "      <td>0</td>\n",
              "      <td>0</td>\n",
              "      <td>0</td>\n",
              "      <td>0</td>\n",
              "      <td>0</td>\n",
              "      <td>0</td>\n",
              "      <td>0</td>\n",
              "      <td>0</td>\n",
              "      <td>0</td>\n",
              "    </tr>\n",
              "  </tbody>\n",
              "</table>\n",
              "<p>5 rows × 10117 columns</p>\n",
              "</div>"
            ],
            "text/plain": [
              "   00  000  00805  00pm  02115  03  0356  04  062  06366  ...  zendesk  zero  zetahub  zeus  zheng  zoho  zone  zones  zoom  zywave\n",
              "0   0    0      0     0      0   0     0   0    0      0  ...        0     0        0     0      0     0     0      0     0       0\n",
              "1   0    0      0     0      0   0     0   0    0      0  ...        0     0        0     0      0     0     0      0     0       0\n",
              "2   0    1      0     0      0   0     0   0    0      0  ...        0     0        0     0      0     0     0      0     0       0\n",
              "3   0    0      0     0      0   0     0   0    0      0  ...        0     0        0     0      0     0     0      0     0       0\n",
              "4   0    1      0     0      0   0     0   0    0      0  ...        0     0        0     0      0     0     0      0     0       0\n",
              "\n",
              "[5 rows x 10117 columns]"
            ]
          },
          "metadata": {
            "tags": []
          },
          "execution_count": 16
        }
      ]
    },
    {
      "metadata": {
        "id": "c53lH0vqdh4P",
        "colab_type": "code",
        "colab": {}
      },
      "cell_type": "code",
      "source": [
        "results = pd.DataFrame(columns = [\"model\", \"acc_train\", \"acc_test\", \"vect_type\"])"
      ],
      "execution_count": 0,
      "outputs": []
    },
    {
      "metadata": {
        "id": "d2SGf6_RdxIE",
        "colab_type": "code",
        "colab": {}
      },
      "cell_type": "code",
      "source": [
        "# results func\n",
        "def format_results(model, y_train, train_predictions, y_test, test_predictions, vect):\n",
        "  results_dict = {}\n",
        "  results_dict[\"model\"] = model\n",
        "  results_dict[\"acc_train\"] = accuracy_score(y_train, train_predictions)\n",
        "  results_dict[\"acc_test\"] = accuracy_score(y_test, test_predictions)\n",
        "  results_dict[\"vect_type\"] = vect\n",
        "  return results_dict"
      ],
      "execution_count": 0,
      "outputs": []
    },
    {
      "metadata": {
        "id": "ukFewD2Ld8WU",
        "colab_type": "text"
      },
      "cell_type": "markdown",
      "source": [
        "## Logistic Regression"
      ]
    },
    {
      "metadata": {
        "id": "a7LahkvJeKs9",
        "colab_type": "code",
        "outputId": "9b0db5ea-c3f0-4179-9c16-321c3ac3be54",
        "colab": {
          "base_uri": "https://localhost:8080/",
          "height": 125
        }
      },
      "cell_type": "code",
      "source": [
        "from sklearn.linear_model import LogisticRegression\n",
        "from sklearn.metrics import accuracy_score\n",
        "\n",
        "lr = LogisticRegression(random_state=42).fit(X_train_vectorized, y_train)\n",
        "\n",
        "train_predictions = lr.predict(X_train_vectorized)\n",
        "test_predictions = lr.predict(X_test_vectorized)\n",
        "\n",
        "print(f'Train Accuracy: {accuracy_score(y_train, train_predictions)}')\n",
        "print(f'Test Accuracy: {accuracy_score(y_test, test_predictions)}')"
      ],
      "execution_count": 19,
      "outputs": [
        {
          "output_type": "stream",
          "text": [
            "Train Accuracy: 0.9974937343358395\n",
            "Test Accuracy: 0.93\n"
          ],
          "name": "stdout"
        },
        {
          "output_type": "stream",
          "text": [
            "/usr/local/lib/python3.6/dist-packages/sklearn/linear_model/logistic.py:433: FutureWarning: Default solver will be changed to 'lbfgs' in 0.22. Specify a solver to silence this warning.\n",
            "  FutureWarning)\n"
          ],
          "name": "stderr"
        }
      ]
    },
    {
      "metadata": {
        "id": "qItZKNp3d7oh",
        "colab_type": "code",
        "colab": {}
      },
      "cell_type": "code",
      "source": [
        "results = results.append(format_results(\"Logistic Regression\", y_train, train_predictions, y_test, test_predictions, \"Count\"), ignore_index=True)"
      ],
      "execution_count": 0,
      "outputs": []
    },
    {
      "metadata": {
        "id": "St6WNwvsenyT",
        "colab_type": "text"
      },
      "cell_type": "markdown",
      "source": [
        "## Multinomial Naive Bayes"
      ]
    },
    {
      "metadata": {
        "id": "-uYfkxvdenDe",
        "colab_type": "code",
        "outputId": "50628f8b-8705-4df3-d838-60143d8bf515",
        "colab": {
          "base_uri": "https://localhost:8080/",
          "height": 51
        }
      },
      "cell_type": "code",
      "source": [
        "from sklearn.naive_bayes import MultinomialNB\n",
        "\n",
        "mnb = MultinomialNB().fit(X_train_vectorized, y_train)\n",
        "\n",
        "train_predictions = mnb.predict(X_train_vectorized)\n",
        "test_predictions = mnb.predict(X_test_vectorized)\n",
        "\n",
        "print(f'Train Accuracy: {accuracy_score(y_train, train_predictions)}')\n",
        "print(f'Test Accuracy: {accuracy_score(y_test, test_predictions)}')"
      ],
      "execution_count": 21,
      "outputs": [
        {
          "output_type": "stream",
          "text": [
            "Train Accuracy: 0.974937343358396\n",
            "Test Accuracy: 0.88\n"
          ],
          "name": "stdout"
        }
      ]
    },
    {
      "metadata": {
        "id": "dZw8SD44em16",
        "colab_type": "code",
        "colab": {}
      },
      "cell_type": "code",
      "source": [
        "results = results.append(format_results(\"Multinomial Naive Bayes\", y_train, train_predictions, y_test, test_predictions, \"Count\"), ignore_index=True)"
      ],
      "execution_count": 0,
      "outputs": []
    },
    {
      "metadata": {
        "id": "jya9YhMPepU1",
        "colab_type": "text"
      },
      "cell_type": "markdown",
      "source": [
        "## Random Forest Classifier"
      ]
    },
    {
      "metadata": {
        "id": "W5so8ONsemkl",
        "colab_type": "code",
        "outputId": "f10efd99-dafa-4cca-9612-8bf523ab78fc",
        "colab": {
          "base_uri": "https://localhost:8080/",
          "height": 125
        }
      },
      "cell_type": "code",
      "source": [
        "from sklearn.ensemble import RandomForestClassifier\n",
        "\n",
        "rfc = RandomForestClassifier().fit(X_train_vectorized, y_train)\n",
        "\n",
        "train_predictions = rfc.predict(X_train_vectorized)\n",
        "test_predictions = rfc.predict(X_test_vectorized)\n",
        "\n",
        "print(f'Train Accuracy: {accuracy_score(y_train, train_predictions)}')\n",
        "print(f'Test Accuracy: {accuracy_score(y_test, test_predictions)}')"
      ],
      "execution_count": 23,
      "outputs": [
        {
          "output_type": "stream",
          "text": [
            "Train Accuracy: 0.9949874686716792\n",
            "Test Accuracy: 0.88\n"
          ],
          "name": "stdout"
        },
        {
          "output_type": "stream",
          "text": [
            "/usr/local/lib/python3.6/dist-packages/sklearn/ensemble/forest.py:246: FutureWarning: The default value of n_estimators will change from 10 in version 0.20 to 100 in 0.22.\n",
            "  \"10 in version 0.20 to 100 in 0.22.\", FutureWarning)\n"
          ],
          "name": "stderr"
        }
      ]
    },
    {
      "metadata": {
        "id": "wEoWwLgvemMb",
        "colab_type": "code",
        "colab": {}
      },
      "cell_type": "code",
      "source": [
        "results = results.append(format_results(\"Random Forest Classifier\", y_train, train_predictions, y_test, test_predictions, \"Count\"), ignore_index=True)"
      ],
      "execution_count": 0,
      "outputs": []
    },
    {
      "metadata": {
        "id": "GE2x4bwefVIX",
        "colab_type": "code",
        "outputId": "412d1cf1-0ac3-4f8b-e8e2-7392b32406f0",
        "colab": {
          "base_uri": "https://localhost:8080/",
          "height": 142
        }
      },
      "cell_type": "code",
      "source": [
        "results"
      ],
      "execution_count": 0,
      "outputs": [
        {
          "output_type": "execute_result",
          "data": {
            "text/html": [
              "<div>\n",
              "<style scoped>\n",
              "    .dataframe tbody tr th:only-of-type {\n",
              "        vertical-align: middle;\n",
              "    }\n",
              "\n",
              "    .dataframe tbody tr th {\n",
              "        vertical-align: top;\n",
              "    }\n",
              "\n",
              "    .dataframe thead th {\n",
              "        text-align: right;\n",
              "    }\n",
              "</style>\n",
              "<table border=\"1\" class=\"dataframe\">\n",
              "  <thead>\n",
              "    <tr style=\"text-align: right;\">\n",
              "      <th></th>\n",
              "      <th>model</th>\n",
              "      <th>acc_train</th>\n",
              "      <th>acc_test</th>\n",
              "      <th>vect_type</th>\n",
              "    </tr>\n",
              "  </thead>\n",
              "  <tbody>\n",
              "    <tr>\n",
              "      <th>0</th>\n",
              "      <td>Logistic Regression</td>\n",
              "      <td>0.997494</td>\n",
              "      <td>0.93</td>\n",
              "      <td>Count</td>\n",
              "    </tr>\n",
              "    <tr>\n",
              "      <th>1</th>\n",
              "      <td>Multinomial Naive Bayes</td>\n",
              "      <td>0.969925</td>\n",
              "      <td>0.88</td>\n",
              "      <td>Count</td>\n",
              "    </tr>\n",
              "    <tr>\n",
              "      <th>2</th>\n",
              "      <td>Random Forest Classifier</td>\n",
              "      <td>0.994987</td>\n",
              "      <td>0.89</td>\n",
              "      <td>Count</td>\n",
              "    </tr>\n",
              "  </tbody>\n",
              "</table>\n",
              "</div>"
            ],
            "text/plain": [
              "                      model  acc_train  acc_test vect_type\n",
              "0       Logistic Regression   0.997494      0.93     Count\n",
              "1   Multinomial Naive Bayes   0.969925      0.88     Count\n",
              "2  Random Forest Classifier   0.994987      0.89     Count"
            ]
          },
          "metadata": {
            "tags": []
          },
          "execution_count": 51
        }
      ]
    },
    {
      "metadata": {
        "id": "4Z5Y0sr_ffiS",
        "colab_type": "text"
      },
      "cell_type": "markdown",
      "source": [
        "## TF-IDF Vectorization Method"
      ]
    },
    {
      "metadata": {
        "id": "kdnCDFqefhM5",
        "colab_type": "code",
        "outputId": "c30b2eaa-ceab-4622-df60-5742ac290a1c",
        "colab": {
          "base_uri": "https://localhost:8080/",
          "height": 74
        }
      },
      "cell_type": "code",
      "source": [
        "from sklearn.feature_extraction.text import TfidfVectorizer\n",
        "\n",
        "vectorizer = TfidfVectorizer(max_features=None, ngram_range=(1,1), stop_words='english')\n",
        "\n",
        "vectorizer.fit(X_train)\n",
        "\n",
        "print(vectorizer.vocabulary_)"
      ],
      "execution_count": 25,
      "outputs": [
        {
          "output_type": "stream",
          "text": [
            "{'hrs': 3863, 'looking': 4703, 'add': 386, 'data': 2132, 'scientist': 8315, 'rapidly': 7780, 'growing': 3636, 'engineering': 2829, 'team': 9130, 'things': 9233, 'individual': 4043, 'responsible': 8082, 'using': 9612, 'answers': 646, 'questions': 7738, 'healthcare': 3734, 'professionals': 7540, 'managing': 4791, 'patient': 7108, 'care': 1288, 'including': 4003, 'areas': 722, 'risk': 8158, 'analysis': 597, 'statistical': 8827, 'anonymization': 640, 'predictive': 7413, 'analytics': 606, 'role': 8178, 'involve': 4317, 'working': 9922, 'primarily': 7471, 'python': 7692, 'jupiter': 4415, 'labs': 4482, 'framework': 3365, 'small': 8596, 'member': 4926, 'able': 273, 'learn': 4545, 'quickly': 7744, 'self': 8400, 'sufficient': 8971, 'flexible': 3268, 'motivated': 5121, 'work': 9911, 'different': 2385, 'technologies': 9156, 'applications': 675, 'needed': 5676, 'exciting': 2993, 'opportunity': 6925, 'huge': 3875, 'impact': 3954, 'early': 2631, 'stages': 8779, 'department': 2268, 'development': 2344, 'making': 4775, 'meaningful': 4896, 'difference': 2383, 'lives': 4662, 'clinicians': 1534, 'patients': 7109, 'nminimum': 6134, 'qualifications': 7708, 'nexpert': 5794, 'nbackground': 5364, 'bioinformatics': 1041, 'nexperience': 5791, 'keras': 4435, 'scikitlearn': 8319, 'tensorflow': 9188, 'notebooks': 6241, 'nongoing': 6201, 'keeping': 4431, 'date': 2164, 'latest': 4510, 'nadditional': 5235, 'nfamiliarity': 5816, 'pandas': 7047, 'restful': 8090, 'apis': 661, 'nproficiency': 6356, 'linux': 4644, 'mac': 4747, 'command': 1621, 'line': 4632, 'nunderstanding': 6709, 'scrum': 8347, 'agile': 497, 'software': 8635, 'methodologies': 4968, 'nbenefits': 5377, 'amp': 590, 'perks': 7175, 'ncompetitive': 5500, 'salary': 8244, 'commensurate': 1624, 'experience': 3033, 'nflexible': 5841, 'hours': 3847, 'environment': 2874, 'npaid': 6268, 'vacation': 9635, 'nmedical': 6118, 'dental': 2265, 'vision': 9746, 'disability': 2431, 'life': 4610, 'insurance': 4170, 'packages': 7033, 'fit': 3251, 'needs': 5679, 'spending': 8718, 'account': 323, 'medical': 4912, 'commuter': 1658, 'benefits': 1010, 'n401': 5197, 'savings': 8277, 'plan': 7280, 'nunlimited': 6717, 'snacks': 8614, 'coffee': 1564, 'drinks': 2593, 'nemployee': 5698, 'events': 2958, 'catered': 1335, 'lunches': 4741, 'nkegerator': 6042, 'nzogsports': 6807, 'nthe': 6639, 'smartest': 8601, 'driven': 2595, 'people': 7151, 'industry': 4052, 'fun': 3415, 'doing': 2547, 'join': 4380, 'journey': 4393, 'iqvia': 4330, 'xe2': 10069, 'x84': 9963, 'xa2': 10043, 'human': 3876, 'science': 8311, 'company': 1664, 'focused': 3296, 'help': 3750, 'clients': 1528, 'better': 1016, 'solutions': 8648, 'formed': 3337, 'merger': 4950, 'ims': 3986, 'health': 3733, 'quintiles': 7745, 'offers': 6861, 'broad': 1152, 'range': 7771, 'harness': 3701, 'advances': 437, 'information': 4080, 'technology': 9161, 'ingenuity': 4094, 'drive': 2594, 'forward': 3348, 'ndata': 5574, 'analyst': 602, 'ndepartment': 5597, 'management': 4783, 'nreports': 6450, 'manager': 4788, 'operations': 6917, 'nthis': 6643, 'staff': 8775, 'position': 7348, 'group': 3633, 'providing': 7637, 'support': 9016, 'customer': 2102, 'edi': 2675, 'flat': 3261, 'file': 3211, 'processing': 7518, 'functions': 3422, 'involves': 4320, 'monitoring': 5100, 'systems': 9075, 'transaction': 9360, 'flow': 3280, 'error': 2906, 'resolution': 8057, 'maintaining': 4765, 'library': 4599, 'standards': 8795, 'procedure': 7508, 'manuals': 4804, 'nessential': 5734, 'duties': 2618, 'responsibilities': 8080, 'nmonitor': 6148, 'workflow': 9919, 'responds': 8077, 'inquiries': 4129, 'regarding': 7903, 'status': 8832, 'manages': 4790, 'transmission': 9390, 'processes': 7515, 'collaborate': 1575, 'implementation': 3961, 'teams': 9136, 'issues': 4342, 'relating': 7941, 'trading': 9344, 'partners': 7085, 'resolve': 8059, 'technical': 9144, 'associated': 793, 'sets': 8448, 'layouts': 4532, 'process': 7513, 'requests': 8026, 'customizations': 2106, 'mapping': 4812, 'maintains': 4766, 'documentation': 2539, 'facets': 3115, 'nqualifications': 6386, 'education': 2689, 'ngood': 5895, 'interpersonal': 4259, 'skills': 8572, 'nability': 5209, 'limited': 4628, 'supervision': 9002, 'nstrong': 6592, 'organizational': 6959, 'ability': 272, 'schedule': 8301, 'activities': 363, 'nknowledgeable': 6046, 'proficient': 7545, 'writing': 9945, 'executing': 3000, 'sql': 8751, 'queries': 7731, 'preferably': 7417, 'oracle': 6940, 'nsolid': 6551, 'understanding': 9511, 'database': 2135, 'architecture': 714, 'execute': 2996, 'tactically': 9088, 'strategic': 8879, 'implications': 3966, 'nproven': 6372, 'efficiently': 2713, 'manage': 4780, 'implement': 3960, 'quick': 7742, 'turnaround': 9454, 'tactical': 9087, 'assume': 797, 'responsibility': 8081, 'direct': 2415, 'exercise': 3008, 'initiative': 4105, 'judgment': 4402, 'adapt': 378, 'changes': 1402, 'face': 3110, 'paced': 7030, 'desire': 2317, 'diverse': 2517, 'administrators': 418, 'developers': 2342, 'client': 1527, 'nbs': 5400, 'computer': 1728, 'mis': 5028, 'related': 7938, 'preferred': 7420, 'transactions': 9362, 'nwe': 6759, 'know': 4458, 'results': 8100, 'require': 8027, 'right': 8151, 'approach': 689, 'regardless': 7904, 'invite': 4313, 'reimagine': 7927, 'play': 7292, 'important': 3970, 'helping': 3753, 'ultimately': 9483, 'improve': 3978, 'outcomes': 6985, 'career': 1289, 'goals': 3556, 'ensure': 2852, 'nqvia': 6400, 'eeo': 2695, 'employer': 2779, 'minorities': 5024, 'females': 3197, 'protected': 7617, 'veterans': 9707, 'disabled': 2433, 'niqvia': 6023, 'provides': 7636, 'reasonable': 7822, 'accommodations': 314, 'applicants': 673, 'disabilities': 2430, 'accommodation': 313, 'submit': 8942, 'application': 674, 'employment': 2782, 'participate': 7074, 'contact': 1846, 'x80': 9953, 'x99s': 9997, 'talent': 9098, 'acquisition': 350, 'workday_recruiting': 9914, 'com': 1602, 'arrange': 732, 'njob': 6030, 'id': 3904, 'r1071407': 7753, 'modeling': 5067, 'complex': 1698, 'problems': 7505, 'discovering': 2459, 'insights': 4140, 'identifying': 3918, 'opportunities': 6924, 'use': 9603, 'machine': 4749, 'learning': 4549, 'algorithmic': 535, 'mining': 5019, 'visualization': 9756, 'techniques': 9150, 'assigned': 779, 'tasks': 9118, 'managed': 4782, 'senior': 8415, 'quality': 7714, 'nyou': 6801, 'good': 3564, 'job': 4375, 'xa6': 10050, 'enjoy': 2840, 'organization': 6958, 'changing': 1403, 'high': 3769, 'aptitude': 706, 'statistics': 8830, 'strong': 8912, 'analytical': 605, 'problem': 7503, 'solving': 8656, 'nabout': 5211, 'cordell': 1942, 'practice': 7396, 'ncordell': 5545, 'party': 7090, 'business': 1203, 'supporting': 9018, 'law': 4519, 'firm': 3244, 'dedicated': 2208, 'centered': 1366, 'services': 8443, 'provide': 7632, 'backed': 928, 'succeed': 8964, 'order': 6948, 'service': 8441, 'hire': 3779, 'reward': 8137, 'employees': 2778, 'pride': 7470, 'creating': 2020, 'world': 9931, 'class': 1498, 'workers': 9917, 'liberates': 4596, 'firms': 3247, 'best': 1013, 'nresponsibilities': 6473, 'nwork': 6783, 'varying': 9668, 'degrees': 2233, 'size': 8565, 'complexity': 1700, 'structured': 8918, 'unstructured': 9570, 'ntransform': 6668, 'actionable': 357, 'recommendations': 7843, 'present': 7445, 'clear': 1515, 'concise': 1749, 'includes': 4002, 'cleansing': 1513, 'verifying': 9694, 'integrity': 4185, 'used': 9605, 'nuse': 6726, 'solve': 8652, 'decisions': 2200, 'ndraw': 5650, 'inferences': 4061, 'conclusions': 1752, 'create': 2016, 'dashboards': 2131, 'visualizations': 9757, 'processed': 7514, 'identify': 3917, 'trends': 9416, 'anomalies': 638, 'npartner': 6275, 'sciences': 8313, 'accordance': 320, 'priority': 7490, 'closely': 1539, 'stakeholders': 8782, 'internal': 4220, 'external': 3089, 'formulate': 3342, 'quantitative': 7723, 'measurable': 4901, 'objectives': 6816, 'nprofessional': 6355, 'courteous': 1995, 'attitude': 835, 'peers': 7144, 'colleagues': 1584, 'customers': 2103, 'projects': 7572, 'nbachelor': 5361, 'degree': 2231, 'discipline': 2442, 'mathematics': 4861, 'operational': 6912, 'research': 8038, 'master': 4843, 'plus': 7310, 'n3': 5194, 'years': 10088, 'methods': 4970, 'supervised': 9001, 'hypothesis': 3895, 'testing': 9210, 'breaking': 1134, 'large': 4500, 'smaller': 8597, 'solvable': 8651, 'components': 1710, 'extraction': 3095, 'transformation': 9372, 'exploration': 3067, 'languages': 4494, 'additional': 391, 'programming': 7559, 'perl': 7176, 'javascript': 4358, 'scala': 8285, 'bi': 1020, 'tools': 9310, 'like': 4622, 'powerbi': 7379, 'tableau': 9078, 'nprior': 6340, 'etl': 2937, 'dba': 2176, 'initiate': 4103, 'completion': 1697, 'nexcellent': 5773, 'written': 9946, 'verbal': 9686, 'communication': 1649, 'communicate': 1644, 'ways': 9830, 'collaboration': 1578, 'non': 6197, 'groups': 3634, 'levels': 4581, 'nself': 6512, 'highly': 3775, 'organized': 6965, 'prioritize': 7486, 'multiple': 5158, 'simultaneously': 8548, 'ngoes': 5894, 'simple': 8539, 'southern': 8677, 'new': 5757, 'jersey': 4366, 'perinatal': 7166, 'cooperative': 1929, 'ncurrent': 5567, '27': 128, '2019': 106, 'reporting': 8005, 'bu1968': 1173, '116': 31, 'administration': 415, 'division': 2522, 'available': 890, 'npennsauken': 6285, 'nj': 6029, 'time': 9266, 'director': 2423, 'admin': 411, 'coordinating': 1934, 'performing': 7163, 'collection': 1588, 'reports': 8007, 'distribution': 2511, 'formats': 3333, 'need': 5675, 'users': 9609, 'organizationally': 6960, 'developed': 2340, 'supported': 9017, 'ncollege': 5481, 'field': 3201, 'nadvanced': 5242, 'knowledge': 4460, 'microsoft': 4985, 'access': 306, 'spss': 8750, 'intelligence': 4190, 'power': 7378, 'relational': 7943, 'databases': 2136, 'salesforce': 8246, 'minimal': 5016, 'handle': 3680, 'deadlines': 2183, 'details': 2326, 'nknowledge': 6045, 'public': 7647, 'nmust': 6158, 'matters': 4870, 'confidential': 1770, 'nature': 5342, 'nvalid': 6738, 'driver': 2596, 'license': 4601, 'car': 1283, 'current': 2093, 'policy': 7326, 'nresponsible': 6475, 'querying': 7734, 'analyzing': 613, 'validating': 9644, 'report': 8003, 'preparation': 7432, 'ntravels': 6675, 'site': 8558, 'locations': 4682, 'training': 9352, 'troubleshooting': 9433, 'indicated': 4037, 'nmanages': 6102, 'project': 7568, 'ncoordinates': 5544, 'monthly': 5108, 'quarterly': 7728, 'annual': 636, 'programs': 7560, 'nsupports': 6612, 'program': 7554, 'nparticipates': 6274, 'nmaintains': 6096, 'updates': 9579, 'nperforms': 6290, 'nsuccessful': 6602, 'candidates': 1264, 'snjpc': 8620, 'undergo': 9501, 'criminal': 2038, 'background': 930, 'check': 1429, 'review': 8129, 'nsouthern': 6558, 'nonprofit': 6206, 'maternal': 4855, 'child': 1445, 'agency': 486, 'pediatric': 7142, 'comp': 1661, 'pkg': 7272, 'make': 4772, 'practical': 7394, 'effort': 2715, 'accommodate': 312, 'individuals': 4046, 'crucial': 2056, 'eoe': 2884, 'spotify': 8742, 'premium': 7429, 'swells': 9056, '96m': 260, 'subscribers': 8950, 'globe': 3550, 'continue': 1866, 'grow': 3635, 'subscription': 8951, 'joining': 4382, 'core': 1943, 'strategy': 8886, 'associate': 792, 'unique': 9532, 'essential': 2920, 'shaping': 8470, 'product': 7528, 'offerings': 6860, 'innovative': 4121, 'marketing': 4827, 'efforts': 2716, 'hand': 3678, 'translates': 9384, 'strategies': 8882, 'products': 7533, 'consumer': 1842, 'experiences': 3040, 'enter': 2855, 'phase': 7229, 'global': 3548, 'analysts': 603, 'scientists': 8316, 'managers': 4789, 'marketers': 4826, 'engineers': 2830, 'passionate': 7097, 'pace': 7029, 'improving': 3985, 'daily': 2121, 'routine': 8199, 'free': 3378, 'develop': 2339, 'fingertips': 3237, 'x99ll': 9995, 'petabytes': 7216, 'creative': 2023, 'way': 9829, 'music': 5168, 'nwhat': 6769, 'ndevelop': 5614, 'growth': 3639, 'ncreate': 5554, 'conversion': 1912, 'migration': 4994, 'metrics': 4974, 'advanced': 433, 'ab': 266, 'test': 9207, 'setup': 8456, 'understand': 9509, 'change': 1400, 'driving': 2600, 'discover': 2456, 'nwho': 6774, 'open': 6900, 'minded': 5007, 'person': 7190, 'analyses': 595, 'professional': 7537, 'year': 10077, 'comfortable': 1617, 'insight': 4138, 'gaps': 3462, 'designing': 2313, 'running': 8222, 'initiatives': 4106, 'worked': 9915, 'hands': 3683, 'synthesizing': 9071, 'sas': 8265, 'minitab': 5021, 'hadoop': 3672, 'communicative': 1651, 'values': 9651, 'building': 1186, 'relationships': 7946, 'experienced': 3035, 'presenting': 7449, '16': 52, '50': 179, '18': 58, '00': 0, 'hourdata': 3842, 'link': 4639, 'hydromax': 3891, 'usa': 9596, 'crews': 2033, 'collected': 1586, 'conjunction': 1785, 'geographic': 3512, 'variety': 9665, 'resources': 8064, 'number': 6694, 'qualitative': 7712, 'assessment': 774, 'control': 1900, 'direction': 2419, 'additionally': 392, 'oversee': 7013, 'input': 4125, 'prepare': 7433, 'inspection': 4141, 'billing': 1034, 'accurately': 337, 'assign': 778, 'rates': 7787, 'day': 2170, 'presents': 7451, 'set': 8447, 'challenges': 1393, 'requiring': 8033, 'level': 4579, 'thinking': 9238, 'overcoming': 7009, 'leads': 4541, 'mentally': 4935, 'engaging': 2825, 'rewarding': 8139, 'nrequired': 6457, 'nhigh': 5928, 'decision': 2198, 'nattention': 5339, 'ndesired': 5606, 'ntechnical': 6626, 'physics': 7244, 'chemistry': 1433, 'biology': 1043, 'nmicrosoft': 6127, 'ngis': 5891, 'esri': 2917, 'arcmap': 720, 'short': 8502, 'term': 9193, '401k': 167, 'matching': 4850, 'paid': 7039, 'pto': 7646, 'holidays': 3810, 'profit': 7549, 'sharing': 8477, 'nestablished': 5736, '2003': 91, 'husa': 3887, 'specializing': 8704, 'locating': 4680, 'assessing': 773, 'condition': 1756, 'country': 1985, 'aging': 500, 'water': 9821, 'wastewater': 9818, 'natural': 5340, 'gas': 3467, 'conveyance': 1917, 'vast': 9670, 'empowers': 2788, 'contractors': 1886, 'utility': 9619, 'owners': 7022, 'rehabilitation': 7926, 'buried': 1199, 'infrastructure': 4089, 'nbased': 5368, 'record': 7854, 'performance': 7160, 'recognized': 7838, 'brings': 1151, 'meet': 4919, 'coast': 1557, 'covering': 2000, 'entire': 2865, 'united': 9537, 'states': 8820, 'exception': 2984, 'utilizes': 9623, 'largest': 4503, 'array': 735, 'broadest': 1155, 'capability': 1270, 'assess': 771, 'nhydromax': 5948, 'equal': 2892, 'does': 2546, 'discriminate': 2466, 'qualified': 7710, 'basis': 965, 'race': 7754, 'color': 1595, 'creed': 2032, 'ancestry': 614, 'religion': 7965, 'orientation': 6969, 'age': 484, 'sex': 8459, 'marital': 4822, 'national': 5329, 'origin': 6972, 'genetic': 3502, 'handicap': 3679, 'veteran': 9706, 'nan': 5270, 'x9cpeople': 10024, 'personify': 7200, 'exceed': 2978, 'expectations': 3027, 'thrive': 9252, 'diversity': 2519, 'anxious': 654, 'welcome': 9851, 'abounds': 276, 'aimbridge': 514, 'x9d': 10041, 'summary': 8991, 'nmines': 6132, 'analyzes': 612, 'specifically': 8707, 'regard': 7902, 'enhancing': 2839, 'revenue': 8126, 'neducation': 5673, 'experiencetypically': 3042, 'requires': 8032, 'bachelor': 924, '10': 12, 'informatics': 4079, 'nserves': 6516, 'leader': 4537, 'authority': 868, 'expert': 3051, 'pertaining': 7209, 'hospitality': 3832, 'nmakes': 6100, 'authoritative': 867, 'nplans': 6306, 'organizes': 6967, 'guides': 3659, 'subordinate': 8946, 'interpret': 4260, 'assist': 785, 'nunderstand': 6708, 'mgnt': 4979, 'beneficial': 1008, 'required': 8028, 'build': 1182, 'models': 5071, 'various': 9666, 'sources': 8672, 'linear': 4633, 'projection': 7570, 'noral': 6223, 'situation': 8563, 'seek': 8378, 'nstatistical': 6581, 'expertise': 3052, 'mathematical': 4860, 'ndevelops': 5618, 'applies': 679, 'algorithms': 536, 'key': 4438, 'goal': 3555, 'answering': 645, 'nprovides': 6375, 'findings': 3230, 'description': 2300, 'intended': 4193, 'inclusive': 4005, 'specified': 8710, 'supervisor': 9005, 'perform': 7159, 'signed': 8528, 'coverage': 1998, 'n401k': 5198, 'retirement': 8110, 'nshort': 6528, 'long': 4697, 'income': 4006, 'nterm': 6633, 'ad': 376, 'nvacation': 6737, 'holiday': 3808, 'sick': 8517, 'assistance': 786, 'programspecific': 7561, 'plans': 7286, 'specific': 8706, 'positions': 7350, 'conducts': 1764, 'computational': 1725, 'cost': 1973, 'overall': 7008, 'provided': 7633, 'methodology': 4969, 'computation': 1724, 'regular': 7919, 'frequent': 3383, 'independent': 4029, 'sensitive': 8418, 'situations': 8564, 'nwith': 6781, 'guidance': 3654, 'deliver': 2240, 'nestablish': 5735, 'scalable': 8287, 'efficient': 2712, 'automated': 877, 'scale': 8289, 'model': 5064, 'validation': 9645, 'nproactively': 6344, 'monitor': 5098, 'analyze': 610, 'diagnose': 2365, 'continuously': 1872, 'indicators': 4039, 'nexpertise': 5795, 'definition': 2228, 'translate': 9382, 'nwrite': 6790, 'publications': 7649, 'nmanipulate': 6105, 'combine': 1608, 'refine': 7894, 'produce': 7523, 'suitable': 8980, 'write': 9942, 'code': 1558, 'graphics': 3606, 'display': 2487, 'scorecards': 8329, 'leaders': 4538, 'svp': 9051, 'evp': 2968, 'define': 2223, 'nable': 5210, 'leadership': 4539, 'concurrently': 1755, 'interruptions': 4267, 'priorities': 7484, 'influence': 4066, 'action': 356, 'based': 959, 'ncreates': 5555, 'timelines': 9270, 'little': 4657, 'ensures': 2853, 'successful': 8968, 'budget': 1176, 'chs': 1462, 'ethics': 2934, 'audiences': 851, 'nconduct': 5513, 'effective': 2702, 'meetings': 4921, 'nphysical': 6302, 'requirements': 8031, 'nworks': 6787, 'office': 6862, 'sitting': 8562, 'desk': 2319, 'talking': 9104, 'telephone': 9172, 'occasion': 6833, 'standing': 8796, 'walking': 9796, 'traveling': 9399, 'personal': 7192, 'facilities': 3120, 'occasionally': 6835, 'carrying': 1309, '20': 87, 'pounds': 7377, 'materials': 4853, 'files': 3213, 'projectors': 7571, 'laptops': 4499, 'certifications': 1382, 'nrequires': 6460, 'phd': 7231, 'epidemiology': 2888, 'economics': 2663, 'applied': 678, 'minimum': 5018, 'equivalent': 2901, 'combination': 1604, 'necessary': 5670, 'certification': 1381, 'enterprise': 2858, 'miner': 5013, 'claims': 1490, 'pharmaceutical': 7226, 'ehr': 2720, 'excellent': 2983, 'oral': 6942, 'solid': 8644, 'english': 2833, 'language': 4492, 'demonstrated': 2260, 'concepts': 1737, 'presentation': 7446, 'speaking': 8694, 'nat': 5327, 'atrium': 822, 'carolinas': 1301, 'communities': 1654, 'teammates': 9135, 'center': 1365, 'commitment': 1632, 'inclusion': 4004, 'allows': 553, 'superior': 8999, 'compassion': 1671, 'network': 5742, '900': 248, 'nas': 5311, 'leading': 4540, 'promote': 7578, 'differences': 2384, 'valued': 9650, 'integrated': 4179, 'workforce': 9921, 'culture': 2080, 'cultural': 2078, 'competence': 1677, 'achieve': 339, 'possible': 7358, 'serve': 8435, 'nposting': 6319, 'notes': 6242, 'applicable': 671, 'ncarolinas': 5429, 'aa': 265, 'tree': 9410, 'llc': 4666, 'nation': 5328, 'provider': 7634, 'property': 7597, 'online': 6890, 'recorded': 7855, 'land': 4489, 'records': 7857, 'offer': 6857, 'billions': 1036, 'imaged': 3932, 'documents': 2542, 'comprehensive': 1717, 'post': 7360, 'closing': 1541, 'servicing': 8444, 'document': 2538, 'retrieval': 8114, 'delivery': 2246, 'lien': 4607, 'release': 7950, 'assignment': 781, 'american': 581, 'financial': 3224, 'corporation': 1953, 'family': 3148, 'companies': 1663, 'named': 5265, 'fortune': 3346, '100': 13, 'xc2': 10067, 'xae': 10060, '2016': 103, '2017': 104, 'visit': 9749, 'www': 9950, 'datatree': 2162, 'nfirst': 5835, 'concentrated': 1732, 'delivering': 2244, 'real': 7812, 'estate': 2926, 'legal': 4564, 'markets': 4831, 'energized': 2814, 'rapid': 7779, 'great': 3613, 'entrepreneurial': 2870, 'determine': 2333, 'enhance': 2834, 'assets': 777, 'examining': 2973, 'reported': 8004, 'conducting': 1762, 'detailed': 2324, 'recommend': 7841, 'engagement': 2822, 'heart': 3742, 'ideal': 3906, 'candidate': 1263, 'proven': 7631, 'touch': 9323, 'engagements': 2823, 'passion': 7096, 'achieving': 343, 'superiority': 9000, 'nspecific': 6561, 'nserve': 6515, 'relationship': 7945, 'subscribe': 8948, 'nemploy': 5697, 'conduct': 1760, 'root': 8189, 'cause': 1340, 'errors': 2907, 'repairs': 7996, 'sales': 8245, 'fulfillment': 3412, 'nrepresent': 6451, 'boarding': 1080, 'establishing': 2924, 'rules': 8220, 'x9cmaintenance': 10019, 'relevant': 7957, 'cis': 1474, 'x99': 9993, 'ndemonstrated': 5591, 'reviews': 8132, 'bulk': 1192, 'content': 1855, 'deliverable': 2241, 'interfacing': 4214, 'behalf': 988, 'invests': 4311, 'employee': 2777, 'encourages': 2803, 'live': 4658, 'committed': 1634, 'dedication': 2209, 'putting': 7686, 'firstam': 3248, 'careers': 1291, 'wework': 9867, 'sits': 8561, 'effectiveness': 2706, 'physical': 7241, 'digital': 2399, 'features': 3178, 'believe': 995, 'seeking': 8381, 'performs': 7164, 'wide': 9879, 'breadth': 1129, 'space': 8680, 'utilization': 9620, 'sensor': 8420, 'sentiment': 8424, 'optimizing': 6934, 'construction': 1830, 'developing': 2343, 'recommendation': 7842, 'engines': 2831, 'thinks': 9240, 'generating': 3497, 'hypotheses': 3894, 'inform': 4077, 'roadmaps': 8170, 'inferential': 4062, 'deepen': 2212, 'patterns': 7113, 'user': 9608, 'behavior': 989, 'design': 2306, 'experiments': 3050, 'uncover': 9498, 'nformulate': 5855, 'explore': 3069, 'ndeliver': 5587, 'compelling': 1673, 'stories': 8869, 'awareness': 906, 'experiment': 3044, 'nrequirements': 6459, 'unsupervised': 9571, 'looker': 4702, 'nnice': 6171, 'social': 8624, 'experimentation': 3047, 'nwework': 6768, 'platform': 7288, 'creators': 2026, 'hundreds': 3882, 'thousands': 9247, 'members': 4927, 'community': 1655, 'enable': 2791, 'love': 4719, 'craft': 2008, 'mission': 5033, 'just': 4418, 'living': 4664, 'central': 1370, 'uses': 9610, 'point': 7320, 'sourcing': 8674, 'designs': 2315, 'faster': 3163, 'smarter': 8600, 'buildings': 1187, 'state': 8816, 'art': 739, 'technological': 9154, 'innovation': 4119, 'reasons': 7825, 'operating': 6910, 'workspace': 9929, 'location': 4681, '210': 115, 'value': 9649, 'gender': 3487, 'sexual': 8461, 'internshipposition': 4244, 'nreporting': 6449, 'intern': 4219, 'summer': 8992, 'ninterviews': 6016, 'october': 6845, '2018': 105, 'march': 4820, 'ninternship': 6011, 'approximately': 700, '11': 27, 'weeks': 9847, 'mid': 4987, 'june': 4411, 'august': 860, 'september': 8429, 'denver': 2267, '17th': 57, 'interests': 4211, 'interview': 4274, 'interns': 4225, 'considered': 1808, 'potential': 7374, 'internship': 4226, 'arrow': 738, 'electronics': 2733, 'narrow': 5308, 'industrial': 4048, 'commercial': 1627, 'electronic': 2731, 'computing': 1729, 'serves': 8440, 'supply': 9014, 'channel': 1404, 'partner': 7082, '150': 47, '000': 1, 'original': 6973, 'equipment': 2894, 'manufacturers': 4806, 'added': 387, 'resellers': 8043, 'contract': 1874, '300': 139, '45': 172, 'centers': 1369, 'serving': 8445, '80': 226, 'countries': 1984, 'na': 5208, '113': 29, '800': 227, 'worldwide': 9936, 'telecommunications': 9168, 'transportation': 9394, 'specialized': 8702, 'lifecycle': 4611, 'connecting': 1788, 'place': 7274, 'price': 7467, 'extraordinary': 3099, 'suppliers': 9012, 'connects': 1793, 'nwhy': 6775, 'nhands': 5910, 'applying': 681, 'nchance': 5443, '125': 35, 'nsmall': 6543, 'forums': 3347, 'executives': 3004, 'past': 7101, 'nstretch': 6591, 'vp': 9783, 'directors': 2425, 'nfunctional': 5872, 'area': 721, 'businesses': 1205, 'focusing': 3299, 'drivers': 2597, 'focus': 3295, 'deployment': 2285, 'analytic': 604, 'dynamic': 2622, 'profile': 7546, 'ncurrently': 5568, 'enrolled': 2847, 'pursuing': 7679, 'graduation': 3595, 'earlier': 2629, 'december': 2195, 'navailable': 5350, '40': 165, 'week': 9842, 'gpa': 3581, 'higher': 3771, 'effectively': 2703, 'multitask': 5160, 'ndetail': 5607, 'oriented': 6970, 'mindset': 5010, 'ncompensation': 5496, 'nlocation': 6080, 'ndenver': 5596, 'panorama': 7049, 'ntime': 6650, 'type': 9463, 'nfull': 5869, 'category': 1334, 'nnon': 6175, 'facing': 3122, 'supplier': 9011, 'everytown': 2962, 'gun': 3661, 'safety': 8236, 'violence': 9733, 'prevention': 7463, 'advocacy': 454, 'studies': 8926, 'occurs': 6841, 'america': 580, 'identifies': 3916, 'policies': 7325, 'interventions': 4273, 'prevent': 7460, 'address': 393, 'types': 9464, 'impacts': 3957, 'populations': 7339, 'differently': 2389, 'addressing': 396, 'lead': 4535, 'principal': 7475, 'researcher': 8039, 'll': 4665, 'trust': 9438, 'following': 3303, 'accuracy': 335, 'appropriate': 694, 'calculations': 1237, 'avenues': 893, 'campaigns': 1256, 'nanalyze': 5277, 'datasets': 2157, 'stata': 8815, 'noversee': 6259, 'obtain': 6830, 'organize': 6964, 'update': 9577, 'reference': 7887, 'cdc': 1350, 'fatal': 3165, 'nonfatal': 6200, 'injury': 4111, 'fbi': 3168, 'supplementary': 9010, 'homicide': 3818, 'federal': 3181, 'city': 1482, 'noptimize': 6218, 'nlead': 6050, 'departments': 2270, 'ndirect': 5624, 'perspective': 7204, 'subject': 8938, 'matter': 4869, 'economic': 2662, 'mentor': 4939, 'ncontribute': 5537, 'publication': 7648, 'legislative': 4566, 'outreach': 7002, 'nclearly': 5459, 'scholars': 8308, 'practitioners': 7399, 'policymakers': 7328, 'laws': 4524, 'enforce': 2817, 'existing': 3015, 'n5': 5199, 'nfluency': 5843, 'multivariate': 5163, 'cluster': 1546, 'survey': 9034, 'regression': 7916, 'classification': 1502, 'modelling': 5070, 'composite': 1712, 'index': 4032, 'creation': 2021, 'package': 7032, 'nsignificant': 6534, 'government': 3577, 'generated': 3495, 'census': 1364, 'fast': 3162, 'floor': 3273, 'nreasonable': 6414, 'neverytown': 5756, 'identity': 3919, 'expression': 3077, 'amnesty': 588, 'covered': 1999, 'local': 4675, 'ncandidates': 5421, 'historically': 3788, 'underrepresented': 9508, 'encouraged': 2801, 'apply': 680, 'vital': 9765, 'success': 8967, 'x99re': 9996, 'elliott': 2747, 'davis': 2168, 'cpa': 2002, '700': 214, 'southeast': 8676, 'consistently': 1814, 'places': 7278, 'revolutionizing': 8135, 'means': 4898, 'specialize': 8701, 'accounting': 329, 'starting': 8811, 'powerful': 7383, 'mixture': 5047, 'wisdom': 9896, 'energy': 2816, 'fresh': 3386, 'dig': 2393, 'deep': 2211, 'finding': 3229, 'courage': 1989, 'challenge': 1391, 'assumption': 798, 'built': 1190, 'accountants': 328, 'think': 9234, 'startup': 8813, 'entrepreneurs': 2871, 'gooders': 3566, 'nso': 6547, 'mean': 4894, 'glad': 3540, 'asked': 757, 'alongside': 554, 'experts': 3055, 'consulting': 1839, 'enjoying': 2842, 'freedom': 3379, 'autonomy': 888, 'positive': 7351, 'charlotte': 1418, 'nc': 5410, 'raleigh': 7764, 'greenville': 3622, 'deliverables': 2242, 'newly': 5760, 'base': 958, 'prospective': 7611, 'nidentifying': 5960, 'approaching': 693, 'nprioritizing': 6342, 'handling': 3682, 'researching': 8042, 'pertinent': 7211, 'utilizing': 9624, 'communicating': 1647, 'roles': 8179, 'contributing': 1895, 'proactively': 7498, 'clarification': 1493, 'feedback': 3186, 'articulating': 747, 'manipulation': 4800, 'big': 1027, 'npartnering': 6276, 'audit': 853, 'advisory': 453, 'optimize': 6932, 'math': 4857, 'combined': 1609, 'track': 9337, 'foundational': 3354, 'java': 4356, 'proficiency': 7544, 'excel': 2980, 'spreadsheet': 8746, 'interface': 4212, 'finance': 3223, 'personnel': 7201, 'intermediate': 4217, 'gaap': 3444, 'verticals': 9704, 'npreferred': 6329, 'ndemonstrates': 5592, 'extensive': 3087, 'include': 4000, 'ntechniques': 6628, 'sampling': 8253, 'optimization': 6931, 'logistic': 4689, 'summarizing': 8990, 'naptitude': 5301, 'efficiencies': 2709, 'automation': 882, 'qualities': 7713, 'taking': 9096, 'ownership': 7023, 'mentoring': 4940, 'nfor': 5848, 'immediate': 3943, 'consideration': 1806, 'send': 8413, 'resume': 8102, 'anna': 629, 'christofaris': 1459, 'elliottdavis': 2748, 'ms': 5143, 'economics5': 2664, 'experienceproficiency': 3039, 'matlabexpertise': 4864, 'acquiring': 349, 'transforming': 9376, 'dataoutstanding': 2152, 'skillsexcellent': 8574, 'advocate': 455, 'nwhere': 6771, 'amazon': 568, 'come': 1613, 'lines': 4635, 'poised': 7322, 'quintuple': 7746, 'investing': 4307, 'react': 7802, 'prices': 7468, 'selection': 8397, 'times': 9275, 'nthese': 6642, 'today': 9290, 'topline': 9317, 'forecast': 3315, 'chain': 1389, 'scot': 8331, 'cutting': 2110, 'edge': 2674, 'pipelines': 7264, 'accurate': 336, 'deploy': 2282, 'forecasting': 3316, 'talented': 9100, 'answer': 643, 'generate': 3494, 'multi': 5151, 'billion': 1035, 'dollar': 2550, 'predictions': 7412, 'highest': 3772, 'visibility': 9743, 'importance': 3969, 'planning': 7284, 'solver': 8654, 'enjoys': 2844, 'diving': 2521, 'excited': 2991, 'difficult': 2391, 'possesses': 7356, 'directly': 2422, 'economists': 2666, 'statisticians': 8829, 'end': 2805, 'production': 7529, 'exposure': 3075, 'scientific': 8314, 'nkey': 6043, 'nimplement': 5967, 'problemsimprove': 7506, 'enhancements': 2837, 'fine': 3232, 'tuning': 9451, 'parametersdirectly': 7061, 'contribute': 1893, 'systemsbuild': 9076, 'explain': 3057, 'variancecollaborate': 9659, 'researchers': 8040, 'namazon': 5264, 'x93': 9966, 'minority': 5025, 'female': 3196, 'visualizationsexperience': 9758, 'environmentsexperience': 2877, 'object': 6813, 'languagesexperience': 4496, 'causal': 1339, 'inference': 4060, 'series': 8433, 'applicationsstrong': 676, 'internshippurpose': 4245, 'nmapmg': 6107, 'atlantic': 818, 'permanente': 7178, 'universities': 9544, 'students': 8925, 'mapmg': 4810, 'improvement': 3980, 'developer': 2341, 'teradata': 9191, 'assistant': 788, 'extract': 3092, 'nmay': 6115, 'clinical': 1532, 'topics': 9316, 'hedis': 3747, 'adjustment': 409, 'committee': 1635, 'assurance': 800, 'ncqa': 5552, 'recognition': 7836, 'relevance': 7955, 'nother': 6243, 'observation': 6820, 'shadowing': 8466, 'identified': 3914, 'discussion': 2474, 'paths': 7107, 'confidentiality': 1771, 'departmental': 2269, 'involving': 4321, 'polices': 7324, 'nenrolled': 5712, 'epic': 2885, 'boston': 1106, 'pgh': 7223, 'mar': 4817, 'charlestown': 1417, 'marc': 4819, 'cogniscient': 1566, 'media': 4911, 'hiring': 3782, 'progressive': 7565, 'pro': 7496, 'measure': 4902, 'measurement': 4904, 'raw': 7792, 'attention': 834, 'nyour': 6802, 'nhelp': 5923, 'campaign': 1255, 'industries': 4051, 'nextract': 5806, 'transform': 9371, 'load': 4670, 'blend': 1059, 'strict': 8904, 'nutilize': 6731, 'web': 9835, 'google': 3569, 'dart': 2127, 'ndesign': 5602, 'maintain': 4762, 'visualize': 9760, 'ncollaborate': 5473, 'cross': 2052, 'hoc': 3801, 'nto': 6652, 'n1': 5178, 'familiarity': 3145, 'domo': 2556, 'vba': 9673, 'channels': 1406, 'search': 8357, 'nplease': 6310, 'marcusa': 4821, 'https': 3869, 'cogniscientmedia': 1567, 'req': 8022, 'ndeep': 5581, 'clickstream': 1526, 'similar': 8536, 'helpful': 3752, 'noutput': 6253, 'stack': 8771, 'hive': 3795, 'pig': 7253, 'udf': 9474, 'scripting': 8343, 'shell': 8482, 'nproactive': 6343, 'inquisitive': 4131, 'learner': 4547, 'seeks': 8382, 'capitalizes': 1277, 'reacting': 7803, 'circumstances': 1471, 'task': 9116, 'prioritization': 7485, 'approaches': 691, 'causes': 1342, 'resolutions': 8058, 'nemail': 5694, 'info': 4073, '2dreaminc': 134, 'hourinternshipour': 3843, 'petco': 7217, 'healthier': 3736, 'pets': 7222, 'happier': 3688, 'planet': 7281, 'adoption': 424, 'philosophy': 7238, 'foundation': 3353, 'animals': 628, 'educating': 2688, 'pet': 7214, 'parents': 7065, 'reducing': 7878, 'carbon': 1284, 'footprint': 3308, 'starts': 8812, 'knowledgeable': 4461, 'passionately': 7098, 'engaged': 2821, 'associates': 794, 'proud': 7628, 'nfrom': 5866, 'retail': 8104, 'stores': 8867, 'corporate': 1952, 'offices': 6865, 'share': 8471, 'animal': 627, 'welfare': 9855, 'advance': 432, 'ongoing': 6889, 'exceptional': 2985, 'enrichment': 2846, 'npetco': 6298, 'supplies': 9013, 'san': 8256, 'diego': 2380, 'ca': 1223, 'pay': 7117, 'hour': 3840, 'nassigned': 5319, 'calculate': 1233, 'metric': 4973, 'definitions': 2229, 'table': 9077, 'contain': 1849, 'nbuild': 5401, 'catalog': 1326, 'glossary': 3551, 'enables': 2794, 'nenable': 5702, 'lake': 4485, 'crawlers': 2013, 'crawl': 2012, 'dictionary': 2376, 'aws': 911, 's3': 8228, 'buckets': 1175, 'lambda': 4488, 'api': 660, 'gateways': 3469, 'architects': 712, 'cloud': 1543, 'sandbox': 8258, 'expect': 3026, 'beginning': 986, 'expected': 3028, 'monday': 5094, 'friday': 3390, 'travel': 9396, 'store': 8864, 'sites': 8560, 'study': 8929, 'tenure': 9189, 'capstone': 1280, 'conclusion': 1751, 'given': 3537, 'valuable': 9648, 'resource': 8062, 'nwhile': 6773, 'advantage': 439, 'friendly': 3394, 'campus': 1258, 'fitness': 3252, 'yoga': 10101, 'studio': 8927, 'basketball': 966, 'court': 1994, 'trail': 9348, 'caf': 1229, 'xc3': 10068, 'xa9': 10056, 'starbucks': 8804, 'major': 4768, 'technoloty': 9163, 'bachlor': 926, 'possess': 7355, 'competencies': 1679, 'execution': 3001, 'asks': 759, 'clarify': 1495, 'assignments': 782, 'deals': 2188, 'makes': 4774, 'sure': 9021, 'correctly': 1959, 'surfaces': 9025, 'speed': 8715, 'takes': 9095, 'puts': 7685, 'extra': 3091, 'accomplish': 316, 'finishes': 3240, 'timely': 9272, 'manner': 4801, 'suggests': 8977, 'ideas': 3909, 'carefully': 1295, 'monitors': 5101, 'outputs': 7001, 'suggestions': 8976, 'breakdowns': 1131, 'listens': 4652, 'communicates': 1646, 'clearly': 1519, 'concisely': 1750, 'communications': 1650, 'writes': 9944, 'simplicity': 8541, 'completeness': 1694, 'keeps': 4432, 'informed': 4084, 'collaborative': 1580, 'relates': 7940, 'accepting': 304, 'respectful': 8068, 'personality': 7194, 'builds': 1188, 'discussing': 2473, 'common': 1639, 'remains': 7975, 'affect': 466, 'temporary': 9178, 'nare': 5303, 'interested': 4209, 'future': 3441, 'international': 4222, 'ecommerce': 2659, 'want': 9803, 'shop': 8495, 'outside': 7003, 'artificial': 749, 'rebuild': 7826, 'platforms': 7289, 'train': 9350, 'custom': 2100, 'ai': 510, 'image': 3931, 'semantic': 8407, 'groceries': 3628, 'fashion': 3161, 'apparel': 664, 'nin': 5973, 'addition': 390, 'nconnect': 5520, 'olympics': 6881, 'outings': 6989, 'visionary': 9747, 'technologist': 9159, 'translating': 9385, 'solutionsdemonstrated': 8650, 'illustrate': 3929, 'scenariosexperience': 8300, 'quantity': 7725, 'modelingmachine': 5068, 'capacity': 1272, 'easy': 2642, 'terminologyability': 9198, 'independently': 4030, 'functional': 3417, 'teamstrong': 9140, 'follow': 3302, 'acute': 375, 'detaila': 2323, 'keen': 4430, 'mind': 5006, 'creativity': 2025, 'capabilities': 1269, 'neducational': 5674, 'undergraduate': 9503, 'econometrics': 2661, 'electrical': 2730, 'fieldprojects': 3203, 'depending': 2278, 'student': 8924, 'educational': 2690, 'nbig': 5381, 'spark': 8687, 'nosql': 6237, 'couchbase': 1978, 'cassandraknowledge': 1322, 'tensor': 9187, 'frameworksability': 3367, 'constituents': 1825, 'ncompany': 5495, 'walmart': 9801, 'innovating': 4118, 'evolve': 2965, 'shopping': 8498, 'retailer': 8105, 'save': 8274, 'money': 5096, 'brightest': 1146, 'minds': 5009, 'merchandising': 4945, 'reimagining': 7928, 'intersection': 4269, 'nposition': 6314, 'contracttitle': 1889, 'jr': 4395, 'chicago': 1439, 'il': 3925, 'nduration': 5656, 'months': 5109, 'bachelors': 925, 'netezza': 5740, 'mpp': 5137, 'distill': 2502, 'easily': 2639, 'understandable': 9510, 'terms': 9200, 'integration': 4182, 'initio': 4110, 'informatica': 4078, 'datastage': 2159, 'nend': 5704, 'informational': 4081, 'cognos': 1569, 'microstrategy': 4986, 'qlikview': 7702, 'nsuperior': 6606, 'purpose': 7674, 'primary': 7472, 'split': 8726, 'portfolio': 7342, 'austin': 861, 'clean': 1508, 'chemometric': 1434, 'napplies': 5293, 'detection': 2329, 'nleads': 6053, 'preparing': 7436, 'meeting': 4920, 'nappropriately': 5299, 'annotates': 632, 'comments': 1625, 'npresents': 6336, 'drafting': 2574, 'experimental': 3045, 'recommended': 7844, 'actions': 358, 'sections': 8369, 'proposals': 7600, 'proposal': 7599, 'complete': 1691, 'proposed': 7602, 'brainstorming': 1120, 'abilities': 271, 'ksa': 4472, 'sequence': 8430, 'complicated': 1703, 'nsoftware': 6550, 'matlab': 4863, 'nworking': 6785, 'nteam': 6623, 'player': 7294, 'homeland': 3814, 'security': 8375, 'suitability': 8979, 'defense': 2219, 'secret': 8366, 'clearance': 1516, 'practices': 7397, 'git': 3535, 'version': 9699, 'nsufficient': 6603, 'incumbent': 4025, 'ph': 7224, 'significant': 8530, 'ncertificates': 5439, 'licenses': 4603, 'certificates': 1380, 'nclearance': 5458, 'nsupervisory': 6609, 'junior': 4412, 'conditions': 1758, 'generally': 3493, 'mail': 4757, 'phone': 7239, 'critical': 2045, 'emergencies': 2764, '25': 124, 'list': 4647, 'incumbents': 4026, 'instructions': 4162, '82': 229, 'yearthe': 10093, 'clearwater': 1522, 'solves': 8655, 'explores': 3070, 'rpa': 8204, 'blockchain': 1064, 'creates': 2019, 'step': 8841, 'fixed': 3255, 'asset': 776, 'custodian': 2099, 'banks': 951, 'rely': 7973, 'seemingly': 8383, 'impossible': 3974, 'nclearwater': 5460, 'competitive': 1684, 'compensation': 1675, 'market': 4824, 'casual': 1324, 'workplace': 9924, 'beautiful': 979, 'surroundings': 9032, 'balance': 943, 'ndeveloping': 5616, 'solution': 8647, 'hasn': 3709, 'x99t': 9999, 'dramatic': 2577, 'nchanging': 5444, 'persuasion': 7207, 'force': 3311, 'path': 7104, 'nleading': 6052, 'domain': 2552, 'standard': 8790, 'significantly': 8531, 'ndemonstrating': 5593, 'decompose': 2205, 'engineered': 2828, 'nindustry': 5982, 'pattern': 7112, 'continuous': 1871, 'nvery': 6745, 'masters': 4845, 'nhealth': 5919, 'regence': 7906, 'blue': 1075, 'shield': 8484, 'nemployer': 5699, 'match': 4847, 'hsa': 3865, 'contributions': 1897, 'nflex': 5839, 'ncentral': 5437, 'downtown': 2569, 'temporaryhow': 9180, 'cover': 1997, 'letter': 4577, 'attached': 824, 'page': 7036, 'outline': 6993, 'relate': 7937, 'ross': 8192, 'school': 8309, 'evaluation': 2950, 'relative': 7947, 'ncollect': 5478, 'interprets': 4264, 'nsupport': 6610, 'customized': 2108, 'according': 321, 'defined': 2224, 'nprovide': 6373, 'nparticipate': 6273, 'discussions': 2475, 'nmasters': 6111, 'qualtrics': 7715, 'strata': 8878, 'query': 7733, 'warehouse': 9808, 'repositories': 8008, 'objects': 6818, 'appointment': 683, 'designation': 2308, 'napplication': 5290, 'deadline': 2182, 'openings': 6902, 'posted': 7361, 'seven': 8457, 'days': 2172, 'removed': 7987, 'posting': 7368, 'boards': 1081, 'filled': 3215, 'period': 7167, 'ended': 2807, 'constellis': 1823, 'established': 2923, '2010': 97, 'operators': 6919, 'investors': 4310, 'sought': 8667, 'brands': 1125, 'combines': 1610, 'legacy': 4563, 'academi': 290, 'amk9': 586, 'triple': 9427, 'canopy': 1266, 'olive': 6879, 'omniplex': 6885, 'centerra': 1368, 'edinburgh': 2676, 'affiliates': 472, 'procurement': 7521, 'maintenance': 4767, 'threat': 9248, 'protection': 7619, 'c4i': 1222, 'crisis': 2041, 'response': 8078, 'helps': 3754, 'sustain': 9043, 'operates': 6909, 'regional': 7909, 'africa': 481, 'americas': 583, 'europe': 2942, 'middle': 4988, 'east': 2640, 'headquartered': 3729, 'washington': 9815, 'reston': 8092, 'va': 9632, 'nmaintain': 6094, 'megacenter': 4923, 'nvalidate': 6739, 'gsa': 3641, 'reliable': 7959, 'source': 8670, 'fps': 3361, 'enforcement': 2818, 'emergency': 2765, 'contacts': 1848, 'leso': 4573, 'responders': 8076, 'guard': 3647, 'posts': 7372, 'occupant': 6837, 'agencies': 485, 'elevators': 2739, 'amenities': 578, 'nupdate': 6721, 'profiles': 7547, 'special': 8696, 'dispatching': 2485, 'nprojects': 6364, 'nguard': 5904, 'ncontact': 5528, 'ncall': 5415, 'nverify': 6744, 'removal': 7985, 'weekly': 9846, 'rexus': 8141, 'alarm': 525, 'accounts': 330, 'demographics': 2257, 'zones': 10114, 'panel': 7048, 'ndocument': 5640, 'procedures': 7509, 'delete': 2235, 'hard': 3692, 'copies': 1938, 'backup': 936, 'comply': 1707, 'ul': 9480, 'nprepare': 6331, 'nreceive': 6415, 'respond': 8074, 'tracking': 9339, 'tool': 9303, 'ncontacts': 5529, 'officer': 6863, 'nperform': 6287, 'dispatcher': 2484, 'nexclude': 5778, 'delayed': 2234, 'calls': 1245, 'nsend': 6513, 'emails': 2751, 'dispatch': 2483, 'event': 2956, 'nresearch': 6462, 'discrepancies': 2461, 'nmegacenter': 6120, 'correspondence': 1965, 'spot': 8740, 'flag': 3259, 'notification': 6246, 'blotter': 1074, 'logging': 4686, 'nlog': 6082, 'stats': 8831, 'log': 4685, 'disseminate': 2498, 'request': 8023, 'headquarters': 3730, 'edit': 2678, 'nassist': 5321, 'webrms': 9836, 'leims': 4567, 'mist': 5036, 'megan': 4924, 'listed': 4648, 'diploma': 2413, 'ged': 3483, 'ncomputer': 5509, 'word': 9908, 'nproficient': 6357, 'entry': 2872, 'continent': 1861, 'dollars': 2551, 'moral': 5113, 'ethical': 2932, 'remain': 7974, 'cornerstone': 1949, 'continues': 1868, 'emphasis': 2771, 'compliance': 1701, 'chip': 1450, '21': 114, 'majority': 4771, 'military': 4999, 'leverage': 4584, 'ambition': 572, 'safer': 8235, 'augmented': 858, 'intimate': 4278, 'economies': 2665, 'cultures': 2081, 'result': 8098, 'willingness': 9885, 'demanding': 2251, 'nequal': 5727, 'nrace': 6402, 'vet': 9705, 'story': 8872, 'nulta': 6693, 'beauty': 980, 'specialty': 8705, 'true': 9435, 'enthusiast': 2863, 'gets': 3521, 'butterflies': 1210, 'shops': 8499, 'guests': 3652, 'prestige': 7456, 'mass': 4839, 'salon': 8250, 'roof': 8184, 'committing': 1636, 'unrivaled': 9566, 'thrill': 9251, 'delight': 2236, 'discovery': 2460, 'nqm': 6384, 'silicon': 8533, 'valley': 9647, 'harnesses': 3703, 'ulta': 9481, 'qm': 7703, 'joined': 4381, 'accelerate': 294, 'differentiate': 2386, 'elevate': 2737, 'guest': 3651, 'bridge': 1141, 'journeys': 4394, 'thought': 9245, 'differentiated': 2387, 'push': 7682, 'boundaries': 1109, 'nlp': 6085, 'generation': 3498, 'millions': 5002, 'everyday': 2961, 'rock': 8174, 'star': 8803, 'bring': 1149, 'x9cwow': 10040, 'versatile': 9696, 'enthusiastic': 2864, 'tackle': 9082, 'ground': 3630, 'mark': 4823, 'ncore': 5546, 'nnatural': 6160, 'novel': 6255, 'personalization': 7195, 'topic': 9315, 'clustering': 1547, 'entity': 2868, 'ontology': 6897, 'nmachine': 6091, 'ml': 5048, 'challenging': 1394, 'nplatform': 6307, 'integrate': 4178, 'nrelation': 6440, 'garner': 3465, 'buy': 1212, 'nmentor': 6122, 'collaborators': 1582, 'lesser': 4574, 'semi': 8410, 'general': 3488, 'emerging': 2766, 'evolving': 2967, 'intellectual': 4187, 'strategically': 8881, 'nsome': 6554, 'stakeholder': 8781, 'conferences': 1767, 'nprefered': 6328, 'nms': 6156, 'n2': 5188, 'gpu': 3583, 'graph': 3604, 'internshipwhat': 4255, 'embedded': 2753, 'ingesting': 4096, 'nleverage': 6058, 'nb': 5358, 'uild': 9477, 'ingest': 4095, 'verification': 9689, 'statements': 8819, 'nlearning': 6055, 'bs': 1169, 'graduate': 3591, 'ntechnically': 6627, 'savvy': 8278, 'snowflake': 8621, 'airflow': 520, 'ncommunicator': 5492, 'starter': 8809, 'ambiguity': 570, 'moving': 5133, 'ntableau': 6617, 'ipo': 4327, '2013': 100, 'defining': 2226, 'loyal': 4726, 'efficiency': 2711, 'freakishly': 3377, 'engineer': 2827, 'supplying': 9015, 'fellow': 3193, 'nquery': 6397, 'hql': 3856, 'queriesanalyze': 7732, 'toolscreate': 9311, 'presentations': 7447, 'mobile': 5056, 'games': 3457, 'managementa': 4784, 'resportingidentify': 8086, 'brainstorm': 1119, 'teamad': 9131, 'nsql': 6569, 'mysqlunderstanding': 5175, 'databasesexcelother': 2137, 'settingclear': 8454, 'analysisability': 598, 'directedgeneral': 2417, 'plusagile': 7312, 'pluscritical': 7313, 'nscientific': 6501, 'collectively': 1591, 'x9csg': 10031, 'regulated': 7922, 'gaming': 3459, 'lottery': 4715, 'certain': 1377, 'sg': 8465, 'investigations': 4303, 'checks': 1431, 'dictated': 2374, 'regulation': 7923, 'contracts': 1888, 'complies': 1705, 'regulatory': 7925, 'contractual': 1891, 'commitments': 1633, 'continuing': 1869, 'employ': 2775, 'fulfill': 3410, 'prerequisite': 7437, 'extent': 3088, 'permitted': 7181, 'shall': 8468, 'consent': 1798, 'diligence': 2403, 'investigation': 4302, 'interpreted': 4262, 'requested': 8024, 'stated': 8817, 'x99d': 9994, 'rights': 8152, 'applicant': 672, 'depth': 2290, 'lilly': 4625, 'vendors': 9682, 'brand': 1123, 'liaison': 4595, 'consistency': 1812, 'affiliate': 470, 'ensuring': 2854, 'consistent': 1813, 'nmonthly': 6151, 'marts': 4836, 'nstewardship': 6586, '360': 157, 'pulls': 7661, 'alignment': 542, 'nad': 5229, 'ncreating': 5556, 'ndemonstrate': 5590, 'availability': 889, 'nowner': 6265, 'overview': 7017, 'unite': 9536, 'caring': 1300, 'indianapolis': 4035, 'indiana': 4034, '39': 161, 'medicines': 4914, 'disease': 2476, 'philanthropy': 7236, 'volunteerism': 9779, 'determined': 2334, 'nbasic': 5369, 'nqualified': 6387, 'legally': 4565, 'authorized': 871, 'employed': 2776, 'anticipate': 649, 'sponsorship': 8735, 'visa': 9741, '1b': 83, 'tn': 9287, 'nlilly': 6070, 'affirmative': 475, 'preferences': 7419, 'unix': 9546, 'warehousing': 9810, 'msword': 5147, 'powerpoint': 7385, 'pl': 7273, 'stored': 8865, 'db': 2174, 'nproject': 6361, 'nsix': 6538, 'sigma': 8523, 'black': 1057, 'green': 3619, 'belt': 1001, 'nregionnorth': 6434, 'ncountry': 5548, 'nusa': 6725, 'ncityindianapolis': 5453, 'nindianapolis': 5980, 'nworkplace': 6786, 'arrangementlocal': 733, 'expires': 3056, 'n19': 5185, 'jul': 4406, 'mister': 5039, 'wash': 9814, 'formula': 3340, 'feel': 3188, 'dry': 2605, 'shiny': 8488, 'promise': 7576, 'nour': 6250, 'makers': 4773, 'currently': 2094, 'tucson': 9446, 'unlimited': 9554, 'club': 1545, 'uwc': 9629, 'curious': 2091, 'tell': 9173, 'segment': 8386, 'increased': 4017, 'trial': 9417, 'subscriber': 8949, 'retention': 8109, 'shape': 8469, 'nchurn': 5449, 'reduction': 7879, 'nmember': 6121, 'lifetime': 4616, 'ltv': 4736, 'nbehavioral': 5373, 'ntrial': 6676, 'nintellectual': 5999, 'curiosity': 2089, 'draw': 2579, 'connections': 1790, 'whys': 9877, 'whats': 9870, 'sense': 8417, 'pos': 7346, 'nlike': 6069, 'dirty': 2429, 'nbachelors': 5362, 'nperks': 6292, 'nmodern': 6144, 'nfast': 5822, 'nfun': 5871, 'truly': 9437, 'ngenerous': 5887, 'ncar': 5426, 'discounts': 2455, 'nmister': 6139, 'genetics': 3503, 'verify': 9693, 'nationwide': 5331, 'nbrand': 5392, 'naddress': 5236, '222': 118, '5th': 199, 'street': 8893, 'az': 914, '85705': 237, 'nproperty': 6369, 'corp': 1951, '157975': 51, 'payment': 7124, 'fraud': 3376, 'protect': 7616, 'profitability': 7550, 'gathering': 3472, 'credit': 2030, 'card': 1285, 'debit': 2191, 'ach': 338, 'eft': 2717, 'paypal': 7127, 'converting': 1914, 'collaborating': 1577, 'investigating': 4301, 'referrals': 7892, 'volume': 9773, 'actuarial': 369, 'casualty': 1325, 'setting': 8453, 'lieu': 4609, 'pre': 7401, 'look': 4701, 'retrieving': 8119, 'manipulating': 4799, 'workload': 9923, 'nmeet': 6119, 'dataflux': 2142, 'auto': 874, 'telematics': 9170, 'encouragement': 2802, 'benefit': 1009, 'nannual': 5282, 'gainshare': 3451, 'bonus': 1092, '24': 122, 'rewards': 8140, 'ndedication': 5580, 'arrangements': 734, 'lifestyle': 4614, 'ndynamic': 5659, 'supports': 9020, 'embraces': 2760, 'relaxed': 7948, 'atmosphere': 819, 'nonsite': 6208, 'gym': 3665, 'wellness': 9859, 'nhealthcare': 5920, 'onsite': 6895, 'nsponsorship': 6566, 'sponsor': 8731, 'foreign': 3319, 'authorization': 869, 'determination': 2332, 'napply': 5294, 'nprimary': 6338, 'ohio': 6872, 'mayfield': 4878, 'village': 9730, 'nschedule': 6499, 'expedia': 3030, 'ndo': 5638, 'wish': 9897, 'volumes': 9774, 'untapped': 9573, 'ocean': 6842, 'dreams': 2587, 'numbers': 6696, 'generates': 3496, 'sleep': 8588, 'hilarious': 3776, 'nif': 5961, 'answered': 644, 'yes': 10099, 'x99ve': 10000, 'utilize': 9621, 'wealth': 9833, 'harvest': 3708, 'bringing': 1150, 'cases': 1316, 'carrentals': 1304, 'rigor': 8153, 'ndetermine': 5612, 'nown': 6264, 'tests': 9211, 'winners': 9889, 'segments': 8391, 'targeting': 9114, 'improved': 3979, 'nexplore': 5798, 'pricing': 7469, 'merge': 4949, 'context': 1858, 'prowess': 7639, 'nnetwork': 6165, 'centric': 1372, 'aspects': 761, 'ndiscover': 5628, 'travelers': 9398, 'narratives': 5307, 'transparency': 9391, 'led': 4559, 'surrounded': 9030, 'tons': 9302, 'single': 8552, 'interesting': 4210, 'continually': 1865, 'conference': 1766, 'attendance': 831, 'skillset': 8573, 'expansion': 3025, 'classes': 1499, 'scoring': 8330, 'sem': 8406, 'bidding': 1025, 'rank': 7774, 'history': 3790, 'producing': 7527, 'outstanding': 7007, 'professionally': 7539, 'personally': 7199, 'nexpedia': 5790, 'recognizes': 7839, 'dependent': 2276, 'recognize': 7837, 'break': 1130, 'barriers': 955, 'inspires': 4148, 'nwhether': 6772, 'lodging': 4684, 'act': 354, 'reach': 7799, 'relentlessly': 7954, 'strive': 8908, 'humility': 3880, 'optimism': 6930, 'respecting': 8070, 'voices': 9772, 'feet': 3191, 'stay': 8833, 'chance': 1399, 'cares': 1298, 'hunger': 3884, 'loved': 4720, 'hotels': 3837, 'egencia': 2718, 'trivago': 9428, 'homeaway': 3813, 'orbitz': 6944, 'travelocity': 9400, 'wotif': 9939, 'lastminute': 4506, 'au': 847, 'ebookers': 2648, 'cheaptickets': 1428, 'hotwire': 3839, 'classic': 1500, 'vacations': 9636, 'cruiseshipcenters': 2058, 'silverrail': 8535, 'alice': 537, 'traveldoo': 9397, 'li': 4593, 'ms1': 5144, 'receive': 7828, 'participates': 7075, 'ssa': 8762, 'dhs': 2363, 'confirm': 1776, 'internshipare': 4228, 'wellsky': 9860, 'lookout': 4704, 'college': 1593, 'grads': 3589, 'ready': 7810, 'gives': 3538, 'naccountable': 5217, 'equipped': 2895, 'nlearn': 6054, 'arise': 724, 'nmanage': 6101, 'exists': 3016, 'sr': 8759, 'completed': 1692, 'semester': 8409, 'ncreative': 5557, 'nwillingness': 6777, 'ninterest': 6003, 'ngain': 5875, 'ninnovation': 5989, 'saves': 8276, 'nwellsky': 6765, 'napplicants': 5289, 'eligibility': 2741, '19000bn4': 63, 'noracle': 6222, 'capture': 1281, 'advertising': 446, '199': 78, '200': 88, 'advertisers': 445, 'audience': 850, 'extend': 3081, 'contextual': 1860, 'viewability': 9723, 'roi': 8177, 'acquisitions': 351, 'addthis': 397, 'bluekai': 1076, 'crosswise': 2054, 'datalogix': 2146, 'grapeshot': 3603, 'moat': 5055, 'plays': 7299, 'x9crivr': 10028, 'restaurants': 8089, 'tech': 9142, 'telco': 9165, 'entertainment': 2861, 'b2b': 918, 'odc': 6848, 'rivr': 8163, 'operate': 6908, 'nrole': 6488, 'broomfield': 1162, 'activation': 360, 'communicated': 1645, 'thoughtful': 9246, 'thorough': 9243, 'publishers': 7654, 'optimal': 6929, 'consumers': 1843, 'placements': 7277, 'maximizing': 4876, 'form': 3327, 'hold': 3802, 'measures': 4906, 'sizes': 8568, 'evaluating': 2949, 'viewable': 9724, 'ads': 428, 'offline': 6868, 'eye': 3104, 'persuasively': 7208, 'proposition': 7604, 'suite': 8981, 'defines': 2225, 'usage': 9599, 'participating': 7076, 'broader': 1154, 'grounding': 3632, 'example': 2974, 'random': 7769, 'forest': 3321, 'nuances': 6687, 'interrogate': 4265, 'crm': 2049, 'prospect': 7609, '3rd': 163, 'app': 663, 'visitation': 9750, 'adtech': 429, 'ecosystem': 2668, 'demand': 2250, 'pixel': 7270, 'walled': 9799, 'garden': 3464, 'facebook': 3111, 'pinterest': 7258, 'ba': 920, 'profession': 7536, 'mandatory': 4794, 'gap': 3461, 'complimented': 1706, 'x98big': 9989, 'picture': 7249, 'troubleshoot': 9432, 'underperforming': 9506, 'workflows': 9920, 'streamline': 8889, 'automate': 876, 'qubole': 7729, 'gui': 3653, 'convention': 1905, 'demonstrates': 2261, 'loves': 4721, 'x9cwhy': 10039, 'extending': 3083, 'lack': 4483, 'prescribed': 7440, 'characteristic': 1409, 'ndetailed': 5608, 'ndesigns': 5604, 'develops': 2348, 'consolidate': 1818, 'x9cbig': 10007, 'enhancement': 2836, 'ninteracts': 6002, 'codes': 1561, 'cleanse': 1511, 'evaluate': 2946, 'disparate': 2481, 'metadata': 4960, 'varied': 9663, 'ncome': 5483, 'sample': 8251, 've': 9675, 'ndid': 5620, 'lyft': 4744, 'prospects': 7612, 'politically': 7331, 'aftermath': 482, 'uber': 9470, 'press': 7453, 'woes': 9904, 'nis': 6024, 'fourth': 3360, 'quarter': 7727, 'rural': 8224, 'nhow': 5941, 'did': 2377, 'solar': 8639, 'eclipse': 2656, 'hotel': 3836, 'bookings': 1094, 'nascent': 5313, 'function': 3416, 'purchase': 7669, 'dataset': 2156, 'creatively': 2024, 'statistically': 8828, 'sound': 8668, 'itch': 4344, 'obstacles': 6829, 'deeply': 2214, 'ahead': 509, 'toolbelt': 9304, 'implementing': 3964, 'stickler': 8850, 'careful': 1294, 'gifted': 3529, 'communicator': 1652, 'juggling': 4405, 'relish': 7968, 'empower': 2784, 'goods': 3568, 'ndesire': 5605, 'sociology': 8630, 'nexcited': 5775, 'curve': 2097, 'nhighly': 5930, 'nstock': 6587, 'grants': 3600, 'ntake': 6619, 'nedison': 5672, 'intelligent': 4191, 'email': 2750, 'earth': 2637, '3x': 164, 'larger': 4502, 'million': 5001, 'marketplace': 4829, 'gain': 3447, 'island': 4335, 'lend': 4568, 'stuck': 8923, 'egos': 2719, 'backseat': 935, 'figuring': 3210, 'tackling': 9084, 'tough': 9327, 'textbook': 9215, 'finally': 3222, 'posture': 7373, 'lot': 4714, 'attempt': 829, 'blameless': 1058, 'postmortems': 7371, 'hiringorganization': 3783, 'edison': 2677, 'eis': 2722, 'mm': 5051, 'module': 5087, 'sap': 8262, 'facilitate': 3116, 'material': 4852, 'vendor': 9681, 'purchasing': 7671, 'formatting': 3336, 'nextend': 5802, 'modify': 5084, 'pieces': 7252, 'lists': 4655, 'text': 9214, 'convey': 1916, 'specifications': 8709, 'shipping': 8491, 'receiving': 7830, 'nreinstate': 6439, 'useable': 9604, 'exhaustive': 3011, 'notice': 6244, 'formal': 3329, 'outlook': 6996, 'verbally': 9688, 'nunder': 6706, 'incorporate': 4014, 'output': 7000, 'investigate': 4298, 'correct': 1955, 'nreview': 6480, 'inconsistencies': 4012, 'acknowledgement': 345, 'gifts': 3531, 'pledges': 7304, 'constituent': 1824, 'wishes': 9898, 'mcw': 4888, 'fund': 3423, 'ncoordinate': 5543, 'filing': 3214, 'gift': 3528, 'reconcile': 7849, 'deposits': 2288, 'nanswer': 5284, 'payments': 7125, 'nassists': 5323, 'supplemental': 9009, 'norganizational': 6227, 'structure': 8917, 'nbuilding': 5402, 'park': 7068, 'institutional': 4159, 'advancement': 434, 'ndivision': 5637, 'title': 9284, 'titles': 9285, 'ncollaborates': 5474, 'administrator': 417, 'ii': 3923, 'specialist': 8697, 'donor': 2559, 'relations': 7944, 'coordinator': 1936, 'accountant': 327, 'payroll': 7128, 'representative': 8013, 'trouble': 9430, 'shooting': 8493, 'active': 361, 'listening': 4651, 'nspecifications': 6563, 'nappropriate': 5298, 'substituted': 8961, 'raisers': 7763, 'nfield': 5826, 'ncertification': 5440, 'nhere': 5926, 'knot': 4457, '15': 46, 'weddingwire': 9839, 'bodas': 1084, 'gigmasters': 3532, 'bump': 1194, 'lasting': 4505, 'inspire': 4146, 'celebrate': 1355, 'milestones': 4998, 'home': 3812, 'couples': 1988, 'depend': 2271, 'tkww': 9286, 'funnels': 3434, 'dashboarding': 2130, 'qlik': 7701, 'birst': 1050, 'sheets': 8481, 'apprised': 688, 'ncommunicate': 5488, 'bigquery': 1030, 'nfront': 5867, 'dashboard': 2129, 'ncommitment': 5486, 'professionalism': 7538, 'shift': 8485, 'gears': 3482, 'aim': 513, 'isn': 4336, 'say': 8279, 'ask': 756, 'respectfully': 8069, 'assumptions': 799, 'turned': 9455, 'constructive': 1831, 'conflict': 1778, 'ambitious': 574, 'persevere': 7188, 'accountable': 326, 'aren': 723, 'afraid': 480, 'quo': 7749, 'thing': 9232, 'failure': 3135, 'settle': 8455, 'quest': 7735, 'stronger': 8913, 'award': 903, 'winning': 9890, 'generous': 3501, 'parental': 7064, 'leave': 4557, 'promoting': 7581, 'giving': 3539, 'happiness': 3689, 'x94in': 9975, 'governing': 3576, 'nondiscrimination': 6199, 'expressly': 3079, 'prohibits': 7567, 'harassment': 3691, 'eligible': 2742, 'unit': 9535, 'acts': 366, 'pharmacy': 7228, 'amounts': 589, 'nmodel': 6141, 'ware': 9807, 'house': 3849, 'nensure': 5713, 'audits': 856, 'determining': 2336, 'heavy': 3745, 'involvement': 4319, 'ncentene': 5436, 'nmodels': 6142, 'n4': 5195, 'db2': 2175, 'server': 8438, 'ncertificate': 5438, 'ndoctoral': 5639, 'nmaster': 6110, 'started': 8808, 'discount': 2452, 'idea': 3905, 'selling': 8405, 'grown': 3637, '260': 127, '695': 212, '59': 195, 'banners': 952, '28': 131, 'commerce': 1626, 'websites': 9838, 'fiscal': 3249, '485': 176, 'employs': 2783, 'sustainability': 9044, 'unwavering': 9575, 'appzen': 703, 'disciplinary': 2441, 'measuring': 4907, 'nappzen': 5300, 'greatest': 3615, 'revolutionize': 8134, 'routinely': 8200, 'massive': 4842, 'scalability': 8286, 'storage': 8862, 'entirely': 2866, 'cs': 2066, 'ee': 2693, 'nfamiliar': 5815, 'docker': 2533, 'ds': 2606, 'scikit': 8318, 'nsolve': 6553, 'specification': 8708, 'prototype': 7624, 'iteratively': 4350, 'structures': 8919, 'advocating': 457, 'activity': 364, 'ninteract': 6001, 'functionally': 3420, 'improvements': 3982, 'nchinese': 5448, 'fluency': 3287, 'read': 7805, 'speak': 8692, 'nadobe': 5241, 'leveraging': 4587, 'attribution': 844, 'segmentation': 8387, 'nideal': 5955, 'academic': 292, 'cold': 1574, 'start': 8807, 'sparse': 8690, 'noisy': 6196, 'outcome': 6984, 'reinforcement': 7931, 'hmm': 3799, 'nmake': 6099, 'nphd': 6300, 'fields': 3204, 'sparkml': 8688, 'mllib': 5049, 'npossess': 6316, 'acumen': 373, 'capable': 1271, 'asking': 758, 'mapreduce': 4815, 'impala': 3958, 'anova': 642, 'adobe': 422, 'immersed': 3947, 'flows': 3283, 'freely': 3381, 'saying': 8280, 'blog': 1068, 'encourage': 2800, '62': 204, '844': 234, '908': 251, 'yearsummary': 10092, 'oregon': 6954, 'modernizing': 5080, 'turn': 9453, 'excellence': 2982, 'consultants': 1836, 'governance': 3574, 'distributed': 2509, 'accomplished': 317, 'nidentify': 5959, 'website': 9837, 'establish': 2922, 'nproduce': 6350, 'pain': 7040, 'points': 7321, 'nbusiness': 5406, 'warehouses': 9809, 'naccess': 5213, 'ncompile': 5501, 'tabulate': 9080, 'respect': 8066, 'connect': 1786, 'nprioritize': 6341, 'ncontinuous': 5534, 'nfive': 5836, 'ndegree': 5586, 'windows': 9888, 'video': 9719, 'sports': 8739, 'casino': 1319, 'geospatial': 3517, 'month': 5106, 'accruals': 333, 'nsick': 6530, 'npersonal': 6294, 'n11': 5182, 'ntelework': 6630, 'schedules': 8303, 'ncomprehensive': 5507, 'prescription': 7441, 'low': 4722, 'premiums': 7430, 'nlife': 6067, 'accidental': 310, 'death': 2190, 'tax': 9120, 'npublic': 6378, 'pers': 7187, 'pension': 7149, 'contribution': 1896, 'noregon': 6224, '457': 174, 'deferred': 2221, 'options': 6938, 'http': 3868, 'oregonlottery': 6955, 'org': 6956, 'jobs': 4376, 'recruitment': 7865, 'vacancies': 9633, 'reserves': 8045, 'withdraw': 9899, 'close': 1537, 'announcements': 635, 'dictate': 2373, 'nors': 6233, '461': 175, 'convicted': 1919, 'felony': 3194, 'gambling': 3454, 'offense': 6856, 'fingerprinting': 3235, 'affiliation': 473, 'checking': 1430, 'references': 7889, 'character': 1408, 'nall': 5260, 'prohibited': 7566, 'playing': 7298, 'naccording': 5215, 'persons': 7202, '503': 181, '540': 186, '1315': 39, 'lotterycareers': 4716, 'nposted': 6318, 'nweekly': 6762, '114157802': 30, 'nwireless': 6779, 'ecosystems': 2669, 'apple': 669, 'fielding': 3202, 'wireless': 9895, 'span': 8684, 'numerous': 6701, 'disciplines': 2444, 'viable': 9711, 'invent': 4291, 'customize': 2107, 'principles': 7478, 'ncreativity': 5559, 'ndescription': 5601, 'nconceive': 5510, 'npresent': 6333, 'ntakes': 6620, 'nm': 6090, 'presently': 7450, 'internationally': 4223, 'multidisciplinary': 5154, 'orthopaedic': 6976, 'arthritis': 740, 'treatments': 9409, 'pivot': 7267, 'surgery': 9027, 'brigham': 1144, 'women': 9906, 'hospital': 3831, 'harvard': 3707, 'biostatistics': 1047, 'macros': 4753, 'authorship': 872, 'journal': 4388, 'manuscripts': 4808, 'abstracts': 286, 'posters': 7363, 'oracore': 6941, 'integral': 4177, 'nprincipal': 6339, 'exploratory': 3068, 'tables': 9079, 'listings': 4654, 'run': 8221, 'recurring': 7867, 'progress': 7562, 'importing': 3973, 'forms': 3338, 'cleaning': 1509, 'nidentifies': 5958, 'investigates': 4300, 'resolves': 8060, 'ninterface': 6005, 'standardized': 8794, 'preliminary': 7425, 'accompanying': 315, 'codebooks': 1559, 'desired': 2318, 'nskills': 6541, 'independence': 4028, 'internet': 4224, 'medicine': 4913, 'normal': 6229, 'hectic': 3746, 'cv': 2111, 'neeo': 5680, 'statement': 8818, 'nbrigham': 5395, 'unrelated': 9565, 'ma': 4746, 'bwh': 1219, 'main': 4760, '75': 219, 'francis': 3372, 'st': 8768, '02115': 4, 'norganization': 6226, 'nstandard': 6573, 'nshift': 6527, 'nrecruiting': 6427, 'orthopedics': 6978, '22': 117, 'ncan': 5419, 'unsurpassed': 9572, 'fsa': 3402, 'joint': 4384, 'venture': 9683, 'owned': 7020, 'trusted': 9439, 'providers': 7635, 'saic': 8238, 'aecom': 459, 'vacancy': 9634, 'atf': 811, 'executes': 2998, 'case': 1315, 'proper': 7594, 'nobtain': 6186, 'investigative': 4304, 'notices': 6245, 'advertisements': 444, 'suspense': 9040, 'petitions': 7218, 'nreconcile': 6424, 'declarations': 2203, 'ngather': 5878, 'disposition': 2490, 'forfeited': 3324, 'nassure': 5325, 'computations': 1726, 'inventories': 4293, 'ndistribute': 5631, 'official': 6866, 'obtaining': 6832, 'collecting': 1587, 'administrative': 416, 'concerning': 1744, 'attorney': 839, 'doj': 2548, 'units': 9540, 'retrieve': 8116, 'bases': 962, 'format': 3330, 'manipulate': 4797, 'transfer': 9368, 'compute': 1727, 'print': 7479, 'spreadsheets': 8747, 'citizenship': 1481, 'nforfeiture': 5852, 'recruit': 7861, 'compensate': 1674, 'quali': 7706, 'xef': 10070, 'xac': 10059, 'x81ed': 9955, 'hiv': 3794, 'mental': 4933, 'x81ned': 9959, 'francisco': 3373, 'validate': 9642, 'yr': 10105, 'interact': 4201, 'melissa': 4925, 'bell': 997, 'climate': 1529, '201': 96, '1100': 28, '94103': 254, 'dealer': 2185, 'salesperson': 8247, 'kpi': 4467, 'dates': 2166, 'delivered': 2243, 'exploring': 3071, 'nactively': 5226, 'roadmap': 8169, 'ears': 2636, 'n7': 5202, 'coding': 1562, 'nbe': 5371, 'teammate': 9134, 'nconfidence': 5518, 'hustle': 3888, 'accountability': 325, 'logic': 4687, 'calculated': 1234, 'columns': 1601, 'kpis': 4468, 'vector': 9676, 'frontend': 3398, 'ux': 9630, 'designer': 2311, 'deploying': 2284, 'promotion': 7582, 'behaviors': 991, 'items': 4346, 'modified': 5082, 'desktop': 2321, 'categorize': 1333, 'optimized': 6933, 'categories': 1332, 'device': 2350, 'shopper': 8496, 'sessions': 8446, 'nconsult': 5527, 'configuration': 1772, 'frame': 3363, 'scenarios': 8299, 'nbabylist': 5360, 'partnering': 7084, 'empowering': 2786, 'scope': 8324, 'uniquely': 9533, 'nearly': 5665, 'babylist': 922, 'internally': 4221, 'externally': 3090, 'gather': 3470, 'dive': 2516, 'align': 539, 'aid': 511, 'nspot': 6567, 'backgrounds': 931, 'pr': 7392, 'baby': 921, 'lens': 4571, 'organizations': 6963, 'obsessed': 6825, 'wizard': 9902, 'directed': 2416, 'proactive': 7497, 'adept': 398, 'overwhelmed': 7018, 'mockups': 5060, 'navigate': 5353, 'registry': 7915, 'expecting': 3029, 'exactly': 2970, 'worth': 9938, 'purchased': 7670, 'registries': 7914, 'stuff': 8931, 'donewe': 2558, 'liveswe': 4663, 'genuinely': 3509, 'appreciate': 684, 'themwe': 9223, 'sustainable': 9045, 'profitable': 7551, 'advancementwe': 436, 'businesswe': 1206, 'doers': 2545, 'thinkerswe': 9237, 'initiativewe': 4109, 'smart': 8599, 'paycompetitive': 7121, 'funded': 3427, 'hra': 3859, 'dental401': 2266, 'insuranceflexible': 4171, 'policyeasy': 7327, 'bart': 957, 'assistancewe': 787, 'don': 2557, 'late': 4507, 'weekends': 9845, 'wfh': 9868, 'wednesday': 9840, 'consider': 1804, 'comes': 1615, 'transferable': 9369, 'goes': 3559, 'adding': 389, 'perspectives': 7206, 'neuroimaging': 5749, 'entered': 2856, 'exporting': 3073, 'editing': 2680, 'assisting': 790, 'basic': 964, 'incoming': 4007, 'scripts': 8344, 'missing': 5032, 'described': 2297, 'imaging': 3940, 'lab': 4477, 'contingent': 1863, 'funding': 3429, 'psychology': 7645, 'biomedical': 1045, 'psychological': 7644, 'bash': 963, 'useful': 9606, 'facility': 3121, 'meticulous': 4972, 'spm': 8728, 'afni': 479, 'fsl': 3403, 'naffirmative': 5248, 'npenn': 6284, 'adheres': 401, 'discrimination': 2469, 'ethnic': 2935, 'paradigm': 7055, 'founding': 3359, '2014': 101, 'featured': 3177, 'wall': 9798, 'york': 10102, 'pbs': 7131, 'newshour': 5764, 'techcrunch': 9143, 'outlets': 6991, 'nparadigm': 6269, 'dsr': 2610, 'pinpoint': 7257, 'exist': 3014, 'tailored': 9093, 'increase': 4016, 'equity': 2899, 'foster': 3350, 'ndefining': 5585, '12': 33, 'attract': 841, 'retain': 8107, 'nusing': 6728, 'final': 3219, 'advise': 448, 'nr': 6401, 'debug': 2193, 'scraped': 8333, 'pulled': 7659, 'nstatistics': 6582, 'econometric': 2660, 'intensive': 4195, 'bootcamps': 1100, 'preference': 7418, 'previous': 7465, 'npeople': 6286, 'observational': 6821, 'ideally': 3907, 'nsocial': 6548, 'political': 7330, 'ntools': 6658, 'reproducible': 8018, 'github': 3536, 'figure': 3208, 'finder': 3228, 'explaining': 3059, 'double': 2564, 'catch': 1331, 'mistakes': 5038, 'balancing': 944, 'jumping': 4409, 'acknowledge': 344, 'mistake': 5037, 'talk': 9103, 'openly': 6903, 'avoid': 899, 'collaboratively': 1581, 'ndetails': 5609, 'x8bthis': 9964, 'salaries': 8243, '401': 166, 'x8bwe': 9965, 'equitable': 2898, 'hear': 3739, 'platts': 7291, 'commodity': 1638, 'investment': 4308, 'collect': 1585, 'fundamental': 3424, 'sector': 8370, 'elements': 2736, 'placed': 7275, 'steep': 8838, 'competing': 1681, 'complementary': 1690, 'lng': 4669, 'liquids': 4645, 'petrochemicals': 7219, 'continued': 1867, 'demonstrating': 2262, 'expanding': 3023, 'readers': 7806, 'crude': 2057, 'oil': 6874, 'says': 8281, 'naturally': 5341, 'conscientious': 1795, 'occur': 6840, 'spotting': 8744, 'ncollects': 5480, 'nleverages': 6059, 'outgoing': 6988, 'nconducts': 5516, 'rate': 7784, 'return': 8120, 'nprepares': 6332, 'engages': 2824, 'demonstrate': 2259, 'nresponds': 6472, 'ntrains': 6667, 'mentors': 4941, 'timeliness': 9271, 'nba': 5359, 'n0': 5176, 'npersistent': 6293, 'fundamentals': 3426, 'grasp': 3611, 'pipeline': 7263, 'grid': 3626, 'dynamics': 2624, 'ndisplays': 5629, 'rounded': 8196, 'personalities': 7193, 'adapting': 382, 'numeracy': 6697, 'conceptualize': 1741, 'proportional': 7598, 'algebra': 533, 'nadept': 5239, 'adhering': 402, 'adjust': 407, 'conviction': 1920, 'benchmark': 1003, 'commodities': 1637, 'news': 5762, 'greater': 3614, 'metals': 4962, 'agriculture': 506, 'ns': 6493, 'nyse': 6804, 'spgi': 8721, 'governments': 3579, 'confidence': 1768, 'spglobal': 8722, 'accept': 299, 'unsolicited': 9568, 'resumes': 8103, 'fees': 3190, 'seniority': 8416, 'audio': 852, 'listeners': 4650, 'personalize': 7196, 'works': 9927, 'designers': 2312, 'undertake': 9515, 'ndefine': 5583, 'wider': 9881, 'coach': 1554, 'ncoding': 5472, 'ggplot': 3523, 'matplotlib': 4865, 'thinker': 9235, 'autonomously': 887, 'loosely': 4709, 'teaching': 9129, 'technologists': 9160, 'builder': 1185, 'nit': 6025, 'cgi': 1387, 'x94supporting': 9983, 'offering': 6859, 'reinforces': 7932, 'nno': 6174, 'ncgi': 5442, 'ethnicity': 2936, 'perceived': 7154, 'familial': 3143, 'characteristics': 1410, 'mailbox': 4759, 'us_employment_compliance': 9595, 'requisition': 8035, 'message': 4956, 'routed': 8198, 'recruiter': 7862, 'note': 6239, 'reason': 7820, 'returned': 8121, 'click': 1524, 'transitioning': 9381, 'successfully': 8969, 'vary': 9667, 'held': 3748, 'discharge': 2439, 'inquired': 4128, 'discussed': 2472, 'disclosed': 2447, 'disclose': 2446, 'unless': 9553, 'disclosure': 2448, 'complaint': 1688, 'charge': 1412, 'furtherance': 3438, 'proceeding': 7511, 'hearing': 3741, 'conducted': 1761, 'duty': 2619, 'furnish': 3435, 'streams': 8891, 'assimilation': 784, 'nevaluate': 5752, 'nfollow': 5846, 'road': 8167, 'map': 4809, 'sdlc': 8349, 'nsecret': 6507, 'nrequirement': 6458, 'ntesting': 6635, 'yearworking': 10097, 'erp': 2905, 'university': 9545, 'nebraska': 5667, 'lincoln': 4630, 'respected': 8067, 'fosters': 3352, 'promotes': 7580, 'eo': 2883, 'pregnancy': 7424, 'unl': 9549, 'edu': 2685, 'd3': 2118, 'cooperatively': 1930, 'accomplishment': 318, 'flexibility': 3267, 'filter': 3216, 'desirable': 2316, 'prefer': 7415, 'npre': 6325, 'placement': 7276, 'cdl': 1351, 'dot': 2563, 'approved': 699, 'alcohol': 528, 'controlled': 1901, 'substances': 8958, 'internshipjob': 4239, 'transwestern': 9395, 'comprise': 1719, 'privately': 7493, 'diversified': 2518, 'underlies': 9504, 'outperform': 6999, 'baltimore': 945, 'region': 7908, 'inputs': 4126, 'nensures': 5714, 'ntracks': 6664, 'leases': 4555, 'tenant': 9182, 'movement': 5129, 'nrecommends': 6423, 'expands': 3024, 'npromotes': 6367, 'brokers': 1159, 'coursework': 1993, 'indesign': 4031, 'costar': 1975, 'pressure': 7455, 'calendar': 1239, 'budgeted': 1177, 'nwashington': 6758, 'district': 2515, 'columbia': 1599, 'energetic': 2813, 'ntranswestern': 6673, 'guiding': 3660, 'organizationoutstanding': 6961, 'skillsproficiency': 8577, 'algorithm': 534, 'problemsms': 7507, 'degreeability': 2232, 'aims': 516, 'orders': 6950, 'invested': 4297, 'logistics': 4691, 'mile': 4997, 'operation': 6911, 'resourceful': 8063, 'flex': 3266, 'scaling': 8292, 'justify': 4420, 'acquire': 347, 'willing': 9884, 'technique': 9149, 'regularization': 7920, 'elastic': 2724, 'net': 5738, 'weighted': 9848, 'squares': 8757, 'censored': 1363, 'endogeneity': 2809, 'propensity': 7593, 'resulting': 8099, 'loop': 4707, 'proof': 7587, 'concept': 1735, 'conceptualizing': 1742, 'chart': 1419, 'courses': 1992, 'implemented': 3963, 'excitement': 2992, 'iterative': 4349, 'nconceptualize': 5512, 'initiativesguide': 4108, 'coordinate': 1931, 'phases': 7230, 'skill': 8570, 'recommending': 7846, 'interpreting': 4263, 'resultsfunctionally': 8101, 'straight': 8876, 'spirit': 8725, 'pioneering': 7261, 'attitudeproven': 836, 'teamsexperience': 9137, 'partnershipphd': 7087, 'hourinternshipthe': 3844, 'try': 9442, 'transit': 9379, 'tdm': 9126, 'capital': 1274, 'metro': 4975, 'updating': 9580, 'surveying': 9035, 'efficacy': 2708, 'farebox': 3152, 'inaccuracies': 3987, 'exceptions': 2987, 'rejection': 7936, 'reschedule': 8037, 'collections': 1589, 'corrective': 1958, 'graphs': 3610, 'forecasts': 3317, 'trend': 9414, 'endeavors': 2806, 'validity': 9646, 'confer': 1765, 'originating': 6975, 'entering': 2857, 'prior': 7482, 'advancing': 438, 'interviews': 4276, 'urban': 9592, 'levelstrong': 4582, 'propose': 7601, 'ncapital': 5424, 'nsalary': 6495, 'hourly': 3845, 'mclean': 4886, '19050': 68, 'virginia': 9735, 'founder': 3357, 'chairman': 1390, 'chief': 1443, 'executive': 3003, 'richard': 8144, 'fairbank': 3138, 'humanity': 3877, 'banking': 950, 'exhibit': 3012, 'succeeding': 8965, 'nguided': 5906, 'shared': 8472, 'openness': 6904, 'powered': 7382, 'teamwork': 9141, 'obsess': 6824, 'realize': 7815, 'launched': 4515, 'disrupted': 2494, 'individually': 4045, 'personalizing': 7198, '1988': 77, 'skyrocketed': 8582, 'outsized': 7004, 'reusable': 8124, 'libraries': 4597, 'modules': 5088, 'enabling': 2795, 'frameworks': 3366, '2nd': 135, 'extensible': 3085, 'succinctly': 8970, 'interactions': 4204, 'experiencesbuilding': 3041, 'static': 8822, 'interactive': 4205, 'dependenciesbuilding': 2274, 'abstracting': 283, 'encoding': 2796, 'visual': 9755, 'formsbuilding': 3339, 'representations': 8012, 'carry': 1308, 'effectivelyexploring': 2704, 'richer': 8145, 'bit': 1053, 'simplerleading': 8540, 'wave': 9828, 'inspirational': 4145, 'examplessharing': 2976, 'demos': 2264, 'onlookers': 6893, 'inside': 4137, 'blurt': 1077, 'crazy': 2014, 'probably': 7502, 'incredible': 4020, 'credentials': 2028, 'impressive': 3976, 'dropped': 2602, 'taught': 9119, 'contributor': 1898, 'wrangler': 9940, 'parsing': 7071, 'render': 7988, 'solved': 8653, 'experimenter': 3048, 'bias': 1021, 'fail': 3134, 'shipped': 8490, 'flopped': 3274, 'fearless': 3173, 'undefined': 9500, 'frighten': 3397, 'tiny': 9279, 'crack': 2007, 'broken': 1157, 'nut': 6729, 'ntwenty': 6681, 'met': 4958, 'phdat': 7232, 'analysisat': 599, 'learningat': 4550, 'x9cstem': 10032, 'numerical': 6700, 'textual': 9216, 'dataat': 2134, 'librariesat': 4598, 'sponsoring': 8733, 'ignite': 3922, 'motion': 5119, 'riders': 8149, 'eaters': 2645, '600': 201, 'cities': 1478, 'let': 4576, 'productionizing': 7530, 'accelerating': 296, 'grade': 3585, 'spend': 8717, 'allocation': 549, 'derive': 2293, 'prospecting': 7610, 'proprietary': 7606, 'ntranslate': 6669, 'learnings': 4552, 'nprevious': 6337, 'ngreat': 5900, 'nbalance': 5366, 'swift': 9057, 'nhunger': 5947, 'nenthusiasm': 5718, 'dsi': 2608, 'preclinical': 7404, 'physiological': 7245, 'telemetry': 9171, 'pulmonary': 7662, 'allowing': 552, 'trials': 9418, 'gained': 3448, 'inspiration': 4144, 'shunned': 8513, 'extracting': 3094, 'latitude': 4512, 'nbonus': 5389, 'npassionate': 6278, 'cbap': 1344, 'pba': 7130, 'cma': 1549, 'involved': 4318, 'upstream': 9591, 'subsurface': 8962, 'reservoirs': 8048, 'smes': 8605, 'autonomous': 886, 'empowered': 2785, 'limits': 4629, 'ip': 4324, 'nact': 5223, 'reservoir': 8047, 'agents': 489, 'usually': 9617, 'petrophysicist': 7221, 'nmsc': 6157, 'petroleum': 7220, 'nalgorithmic': 5258, 'simulation': 8546, 'mathematica': 4859, 'scipy': 8320, 'numpy': 6703, 'nbeyond': 5380, 'spinoff': 8724, 'nasa': 5312, 'jet': 4368, 'propulsion': 7607, 'caltech': 1249, 'far': 3151, 'conventional': 1906, 'cognitive': 1568, 'mimics': 5004, 'reasoning': 7824, 'recruiting': 7864, 'termination': 9196, 'layoff': 4530, 'recall': 7827, 'leaves': 4558, 'absence': 279, 'improper': 3977, 'interference': 4215, 'limit': 4626, 'remote': 7983, 'ago': 501, 'nid': 5954, 'n2019': 5191, '52799': 184, 'noverview': 6262, 'pra': 7393, '15000': 49, 'cro': 2050, 'maintained': 4764, 'old': 6877, 'permeates': 7179, 'simply': 8545, 'ndue': 5655, 'risks': 8159, 'nacting': 5224, 'trending': 9415, 'specifying': 8711, 'protocols': 7623, 'nproviding': 6376, 'nreviewing': 6481, 'aggregate': 491, 'regularly': 7921, 'identification': 3913, 'collaborates': 1576, 'teamsto': 9139, 'nrecommend': 6420, 'adaptive': 383, 'ndocuments': 5642, 'utilizingapplicable': 9625, 'usingprogramming': 9613, 'nescalates': 5731, 'concerns': 1745, 'outof': 6998, 'nanalytically': 5275, 'constant': 1821, 'considering': 1809, 'programmers': 7558, 'jreview': 4396, 'spotfire': 8741, 'jmp': 4373, 'nanalytical': 5274, 'manageable': 4781, 'aggregating': 493, 'interpretation': 4261, 'frequently': 3385, 'npra': 6322, 'noptions': 6221, 'onlineapply': 6892, 'nshare': 6522, 'nsorry': 6555, 'properly': 7595, 'moment': 5092, 'refresh': 7898, 'later': 4509, 'newsfeed': 5763, 'internshipthe': 4252, 'influences': 4068, 'catholic': 1338, 'observations': 6822, 'hidden': 3766, 'behavioral': 990, 'traits': 9356, 'indicate': 4036, 'deal': 2184, 'npassion': 6277, 'motivation': 5122, 'ethic': 2931, 'factor': 3127, 'obtained': 6831, 'course': 1990, 'ext': 3080, 'jump': 4408, 'criticism': 2047, '29': 132, '64': 205, '143': 45, 'strength': 8895, 'kind': 4446, 'longevity': 4699, 'testimony': 9209, 'loyalty': 4727, 'ncatholic': 5435, 'second': 8363, 'fraternal': 3375, 'consecutive': 1796, 'milwaukee': 5003, 'sentinel': 8425, 'soft': 8632, 'parking': 7069, 'rooftop': 8185, 'pool': 7334, 'faith': 3140, 'membership': 4928, 'nserving': 6519, 'god': 3558, 'andenhancing': 616, 'nxj6': 6795, 'palo': 7046, 'alto': 566, 'institute': 4155, 'pavir': 7116, 'investigator': 4305, 'pi': 7247, 'eugene': 2938, 'butcher': 1208, 'laboratory': 4481, 'butcherlab': 1209, 'stanford': 8799, 'cell': 1359, 'transcriptomics': 9366, 'investigators': 4306, 'vascular': 9669, 'immunology': 3953, 'tumor': 9449, 'translational': 9388, 'genomic': 3505, 'transcriptomic': 9365, 'dimensional': 2405, 'biological': 1042, 'wk': 9903, 'exempt': 3007, 'nvision': 6752, 'ndental': 5595, 'nholidays': 5935, 'nlong': 6083, 'ncommuter': 5493, 'npavir': 6281, 'affiliated': 471, 'affairs': 465, 'vapahcs': 9655, 'commence': 1623, 'nduties': 5658, 'jsl': 4398, 'charts': 1422, 'potentially': 7375, 'problematic': 7504, 'corrections': 1957, 'inadequate': 3989, 'edits': 2683, 'suggest': 8973, 'faculty': 3133, 'criteria': 2044, 'nlicense': 6063, 'valid': 9641, 'nsubstantial': 6600, 'nenvironmental': 5722, 'demands': 2252, 'lifting': 4618, 'lbs': 4533, 'bending': 1006, 'repetitive': 8000, 'manual': 4802, 'dexterity': 2360, 'wet': 9865, 'blood': 1070, 'borne': 1104, 'pathogens': 7106, 'toxic': 9333, 'caustic': 1343, 'chemicals': 1432, 'reagents': 7811, 'radiation': 7755, 'occasional': 6834, 'sponsors': 8734, 'administering': 413, 'funds': 3431, 'combat': 1603, 'refer': 7886, 'pleased': 7302, 'el': 2723, 'segundo': 8392, 'california': 1242, 'streaming': 8888, 'objective': 6814, 'nreport': 6448, 'rich': 8143, 'predict': 7407, 'failures': 3136, 'broadcast': 1153, 'reduce': 7877, 'outages': 6983, 'displays': 2488, 'highcharts': 3770, 'js': 4397, 'matillion': 4862, 'alteryx': 564, 'knime': 4455, 'presto': 7458, 'kafka': 4422, 'isolved': 4339, 'hcm': 3720, 'robust': 8173, 'hr': 3858, 'onboarding': 6887, 'aca': 289, 'enrollment': 2848, 'sized': 8567, 'import': 3968, 'nbrief': 5394, 'electronically': 2732, 'convert': 1913, 'infinisource': 4063, 'smooth': 8610, 'extremely': 3102, 'hris': 3860, 'construct': 1829, 'nmap': 6106, 'pdf2excel': 7136, 'workable': 9912, 'nconvert': 5541, 'pdf': 7135, 'ntroubleshoot': 6678, 'nfacilitate': 5811, 'satisfactory': 8270, 'nexamine': 5771, 'nnormal': 6177, 'concentration': 1734, 'moderate': 5073, 'noise': 6195, 'ndisclaimer': 5626, 'merely': 4948, 'revise': 8133, 'performed': 7162, 'introduction': 4285, 'nfleetcor': 5838, 'nmain': 6093, 'nlooking': 6084, 'familiar': 3144, 'average': 894, 'nnot': 6179, 'flt': 3285, 'simplify': 8544, 'secure': 8372, 'fuel': 3406, 'toll': 9296, 'payables': 7119, 'acceptance': 302, 'networks': 5745, 'fleetcor': 3265, 'merchants': 4946, 'incremental': 4022, 'north': 6234, 'latin': 4511, 'australasia': 862, 'nfounded': 5861, '2000': 89, 'peachtree': 7139, 'corners': 1948, 'georgia': 3516, 'fuelman': 3408, 'comdata': 1612, 'nforbes': 5849, 'champion': 1397, '250': 125, 'fastest': 3164, 'forbes': 3310, 'statista': 8825, 'prestigious': 7457, 'row': 8202, 'nfortune': 5857, '1000': 14, 'movers': 5130, 'rankings': 7777, 'rising': 8157, '92': 252, 'spots': 8743, '896': 244, '500': 180, 'stock': 8855, 'comprised': 1720, 'stocks': 8858, 'cap': 1267, 'founded': 3356, 'x98thrive': 9992, 'volunteer': 9777, 'xa6allowing': 10051, 'achievement': 340, 'responded': 8075, 'links': 4643, 'npackage': 6267, 'hired': 3780, 'nautomatic': 5347, 'thirty': 9242, '30': 138, 'waiting': 9792, 'nprojected': 6362, 'trajectory': 9357, 'shows': 8512, 'digit': 2398, 'organic': 6957, 'contests': 1857, 'prizes': 7495, 'ninclusive': 5975, 'appreciation': 687, 'discounted': 2453, 'nrobust': 6486, 'ndiscounts': 5627, 'wholesale': 9874, 'grocery': 3629, 'gyms': 3666, 'nphilanthropic': 6301, 'intersecting': 4268, 'crime': 2036, 'incidents': 3996, 'messy': 4957, 'governmental': 3578, 'private': 7492, 'inclination': 3999, 'allow': 550, 'notifications': 6247, 'mayors': 4879, 'governors': 3580, 'chiefs': 1444, 'police': 7323, 'figures': 3209, 'citizen': 1479, 'ndistilling': 5630, 'wrangling': 9941, 'evangelize': 2953, 'nenjoys': 5711, 'ncitizen': 5450, 'option': 6936, 'target': 9112, 'mappings': 4813, 'repository': 8009, 'nasco': 5314, 'box': 1112, 'ezcater': 3106, 'greenhouse': 3620, 'io': 4322, 'embed': 2752, 'catering': 1337, '23': 120, '8m': 246, 'ratings': 7788, '60k': 202, 'caterers': 1336, 'superbly': 8997, 'food': 3305, 'iconiq': 3902, 'wellington': 9858, '2b': 133, '2020': 108, 'surely': 9022, 'instrumental': 4165, 'elevating': 2738, 'supervisors': 9006, 'ezdispatch': 3107, 'nboth': 5390, 'similarly': 8538, 'ndive': 5635, 'tie': 9261, 'extractions': 3096, 'clamor': 1491, 'constantly': 1822, 'nquantify': 6392, 'nadd': 5234, 'ranks': 7778, 'champions': 1398, 'accessible': 308, 'nacquire': 5220, 'invaluable': 4290, 'impactful': 3955, 'weeds': 9841, 'rigorous': 8155, 'ncommunicative': 5491, 'straightforward': 8877, 'ncollaborative': 5477, 'nexperienced': 5792, 'nice': 5951, 'telling': 9174, 'kick': 4442, 'trade': 9342, 'dsa': 2607, 'shortage': 8503, 'hone': 3819, 'eager': 2625, 'nalso': 5262, 'importantly': 3971, 'sane': 8260, 'room': 8186, 'bad': 938, 'happen': 3686, 'noh': 6193, 'usual': 9616, 'eat': 2643, 'subsidized': 8955, 'passes': 7094, 'smack': 8595, 'dab': 2120, 'tremendous': 9413, 'wicked': 9878, 'awesome': 910, 'cupcakes': 2083, 'goodies': 3567, 'knowing': 4459, 'helped': 3751, 'rocket': 8175, 'ship': 8489, 'moon': 5111, 'nezcater': 5809, 'embrace': 2759, 'humans': 3878, 'appearance': 666, 'jerks': 4365, 'brilliant': 1148, 'ones': 6888, 'initiation': 4104, 'closure': 1542, 'da': 2119, 'predictable': 7408, 'hc1': 3718, 'exposed': 3074, 'nhl7': 5934, 'strongly': 8915, 'nexceptional': 5774, 'understood': 9514, 'concert': 1746, 'sdm': 8350, 'hl7': 3796, 'nengage': 5706, 'completing': 1696, 'configurations': 1773, 'export': 3072, 'ntech': 6625, 'browsers': 1165, 'nweb': 6760, 'nhc1': 5916, 'improves': 3984, 'x94including': 9976, 'laboratories': 4480, 'payors': 7126, 'x94to': 9984, 'harms': 3700, 'eliminating': 2744, 'wasteful': 9817, 'nget': 5889, 'glimpse': 3545, 'visiting': 9751, 'instagram': 4149, 'hc1dotcom': 3719, 'openx': 6906, 'petabyte': 7215, 'won': 9907, 'cut': 2109, 'neural': 5746, 'bagged': 939, 'boosted': 1097, 'trees': 9411, 'nhas': 5913, 'literature': 4656, 'incorporating': 4015, 'nrapidly': 6408, 'noptimizing': 6219, 'programmatic': 7556, 'exchange': 2988, 'maximize': 4875, 'buyers': 1214, 'sellers': 8404, 'nleveraging': 6060, 'unlock': 9555, 'architectures': 716, 'consultant': 1835, 'nph': 6299, 'npractical': 6323, 'pytorch': 7695, 'theory': 9227, 'signal': 8525, 'gcp': 3477, 'azure': 916, 'glance': 3541, 'nopenx': 6211, 'unleashing': 9552, 'designed': 2310, 'served': 8436, 'screens': 8341, 'marketplaces': 4830, 'executors': 3005, 'fascinated': 3159, 'empathetic': 2769, 'frontiers': 3400, 'bedrock': 982, 'guide': 3655, 'remind': 7980, 'unified': 9524, 'flourishes': 3279, 'dies': 2381, 'stake': 8780, 'reputations': 8021, 'book': 1093, 'teach': 9128, 'confront': 1784, 'repeat': 7997, 'aggressively': 496, 'actively': 362, 'defensiveness': 2220, 'weaklings': 9831, '43': 171, '101': 19, '202': 107, 'yearworks': 10098, 'johns': 4378, 'hopkins': 3824, 'children': 1447, 'functionality': 3419, 'moderately': 5074, 'benchmarking': 1004, 'physician': 7242, 'divisional': 2523, 'concurrent': 1754, 'educates': 2687, 'coaches': 1555, 'visio': 9745, 'acquired': 348, 'cogito': 1565, 'caboodle': 1226, 'soon': 8661, 'ncomplete': 5502, 'pass': 7091, 'certificate': 1379, 'nspecial': 6559, 'compile': 1685, 'nany': 5286, 'nsitting': 6537, 'extended': 3082, 'periods': 7171, 'nclassified': 5455, 'atp': 821, '03': 5, 'pb': 7129, 'nstarting': 6579, 'pm': 7315, 'nexempt': 5784, '04': 7, 'md': 4889, '10003093': 15, 'som': 8657, 'ped': 7141, 'npersonnel': 6295, 'jhurecruitment': 4370, 'jhu': 4369, 'tty': 9445, 'maryland': 4838, 'relay': 7949, 'dial': 2370, '711': 215, 'provisions': 7638, 'accordingly': 322, 'nduring': 5657, 'influenza': 4071, 'flu': 3286, 'season': 8359, 'institutions': 4160, 'vaccination': 9637, 'religious': 7967, 'requirement': 8030, 'subjects': 8939, 'immune': 3950, 'rubella': 8215, 'german': 3518, 'measles': 4900, 'rubeola': 8216, 'mumps': 5164, 'varicella': 9662, 'chickenpox': 1442, 'hepatitis': 3756, 'having': 3714, 'received': 7829, 'tdap': 9125, 'tetanus': 9212, 'diphtheria': 2412, 'pertussis': 7212, 'mmr': 5052, 'vaccines': 9640, 'antibody': 648, 'diseases': 2477, 'immunities': 3951, 'ordinarily': 6953, 'included': 4001, 'exam': 2971, 'immunization': 3952, 'vaccinations': 9638, 'occupational': 6839, 'nnote': 6180, 'postings': 7369, 'updated': 9578, 'nhttps': 5944, 'www1': 9951, 'eeoc': 2696, 'gov': 3572, 'employers': 2780, 'upload': 9587, 'eeoc_self_print_poster': 2697, 'nimportant': 5971, 'nhttp': 5943, 'hrnt': 3862, 'cfm': 1386, 'udacity': 9473, 'democratize': 2255, 'groundbreaking': 3631, 'robotics': 8172, 'virtual': 9736, 'reality': 7813, 'empowerment': 2787, 'cars': 1310, 'aspiring': 764, 'learners': 4548, 'essentials': 2921, 'nudacity': 6690, 'payback': 7120, 'engine': 2826, 'advantages': 440, 'drawbacks': 2580, 'properties': 7596, 'distributions': 2513, 'feature': 3176, 'nmarketing': 6109, 'nforecasting': 5851, 'lgbtq': 4592, 'nenters': 5717, 'tracks': 9340, 'aco': 346, 'scheduling': 8304, 'recipients': 7835, 'nsubmits': 6599, 'auditing': 854, 'rosters': 8193, 'beaumont': 978, 'harris': 3705, 'birkhill': 1048, 'physicians': 7243, 'nobtains': 6187, 'reconciling': 7853, 'nunderstands': 6710, 'considers': 1810, 'secondary': 8364, 'conceives': 1731, 'delivers': 2245, 'affordable': 477, 'collective': 1590, 'stand': 8788, 'sickness': 8518, 'unleashes': 9551, 'experienceexperience': 3037, 'prototypingknowledge': 7627, 'architectureknowledge': 715, 'technologiesknowledge': 9157, 'environmentsknowledge': 2878, 'managementability': 4785, 'standardize': 8793, 'processesbusiness': 7516, 'acumensdlc': 374, 'cycle': 2115, 'developmentoral': 2346, 'nca': 5413, 'nhcsc': 5917, 'drug': 2603, 'smoke': 8608, 'screening': 8340, 'allowed': 551, 'submitted': 8944, 'hcsc': 3721, 'view': 9722, 'submissions': 8941, 'ncontributing': 5538, 'nconducting': 5515, 'nperforming': 6289, 'ntranslating': 6671, 'nhelping': 5925, 'tune': 9450, 'stephen': 8843, 'edward': 2692, 'tufte': 9447, 'principals': 7476, 'storytelling': 8875, 'appropriately': 695, 'ssas': 8763, 'cube': 2074, 'sharepoint': 8474, 'substance': 8957, 'abuse': 288, 'terminology': 9197, 'alleviate': 546, 'tsql': 9444, 'dax': 2169, 'ssrs': 8767, 'cardinal': 1287, 'innovations': 4120, 'vudu': 9786, 'sunnyvale': 8994, 'churn': 1463, 'sounds': 8669, 'x83': 9962, 'x98': 9987, 'prediction': 7411, 'choices': 1454, 'ambiguous': 571, 'ab1': 267, 'practicing': 7398, 'juggle': 4404, 'nwriting': 6791, 'nstaying': 6585, 'narchitecting': 5302, 'nimplementing': 5968, 'images': 3935, 'nfinding': 5832, 'suit': 8978, 'ncontract': 5536, 'nservice': 6517, 'amendments': 577, 'nmaintenance': 6097, 'paralegal': 7056, 'nfluent': 5844, 'numerate': 6698, 'naccustomed': 5219, 'sla': 8585, 'ncustomer': 5569, 'aware': 905, 'nintermediate': 6006, 'lookups': 4706, 'nindependently': 5979, 'astreya': 804, 'biggest': 1029, 'nemployment': 5700, 'nintroduction': 6017, 'ncareer': 5427, 'nonline': 6202, 'cbt': 1346, 'nuggets': 6691, 'upskill': 9590, 'nperformance': 6288, 'ndedicated': 5579, 'ninternal': 6008, 'nnumerous': 6184, 'npeer': 6283, 'nmarket': 6108, 'nastreya': 5326, 'merit': 4953, '42': 170, 'hourpart': 3846, 'timecontractor': 9268, 'remotely': 7984, 'nalelo': 5257, 'opening': 6901, 'employing': 2781, 'alelo': 529, 'counts': 1986, 'saved': 8275, 'enskill': 2851, 'dozens': 2571, 'spoken': 8730, 'examine': 2972, 'dialogue': 2372, 'exercises': 3009, 'upgrades': 9583, 'select': 8394, 'filtering': 3217, 'annotation': 633, 'raters': 7786, 'ntrain': 6665, 'retrain': 8111, 'prepared': 7434, 'taken': 9094, 'interaction': 4203, 'mongodb': 5097, 'chatbot': 1425, 'suspension': 9041, 'transcription': 9364, 'duplicate': 2615, 'coordinates': 1933, 'eliminate': 2743, 'mpi': 5136, 'duplicates': 2616, 'merges': 4951, 'unmerges': 9558, 'registration': 7912, 'demographic': 2256, 'belongs': 1000, 'identifier': 3915, 'registered': 7911, 'nand': 5280, 'ntwo': 6682, 'nlicensure': 6065, 'nhave': 5914, 'hpf': 3855, 'portal': 7341, 'greenway': 3623, 'nexpected': 5789, 'inappropriate': 3990, 'abbreviations': 269, 'backs': 934, 'body': 1087, 'surgical': 9028, 'ambulatory': 575, 'immediately': 3944, 'nwill': 6776, 'doctors': 2537, 'deficiencies': 2222, 'sign': 8524, 'nprocess': 6346, 'decline': 2204, 'signature': 8527, 'unable': 9486, 'doctor': 2535, 'queues': 7740, 'sent': 8423, 'adi': 403, 'correction': 1956, 'queue': 7739, 'stockamp': 8856, 'migrate': 4991, 'brrh': 1167, 'intra': 4279, 'inter': 4200, 'mrn': 5142, 'elimination': 2745, 'creations': 2022, 'coordination': 1935, 'suggested': 8974, 'cleanup': 1514, 'ncontributor': 5539, 'curriculum': 2095, 'pertains': 7210, 'infraction': 4088, 'nrecognize': 6418, 'beliefs': 994, 'strengths': 8899, 'limitations': 4627, 'nexhibit': 5786, 'adaptability': 379, 'maturity': 4872, 'phi': 7234, 'calm': 1246, 'responsiveness': 8085, 'stressful': 8901, 'delinquent': 2239, 'adult': 430, 'advocates': 456, 'promptness': 7585, 'npatient': 6279, 'merging': 4952, 'boca': 1083, 'raton': 7790, 'nlinking': 6073, 'manually': 4803, 'nmerging': 6124, 'nmerge': 6123, 'families': 3147, 'visitors': 9753, 'nincumbent': 5977, 'disaster': 2437, 'man': 4779, 'evacuation': 2945, 'adhere': 399, 'smoking': 8609, 'restrictions': 8096, 'instituted': 4156, 'hires': 3781, 'documented': 2540, 'vaccine': 9639, '561': 190, '955': 257, '4075': 168, 'zendesk': 10107, 'amer': 579, 'fact': 3123, 'sharer': 8475, 'needing': 5677, 'sole': 8641, 'wins': 9891, 'selflessly': 8401, 'digger': 2396, 'actually': 368, 'sees': 8385, 'unafraid': 9487, 'admit': 419, 'inventive': 4292, 'njoin': 6032, 'prove': 7630, 'nsift': 6532, 'nassess': 5317, 'mentorship': 4942, 'initial': 4100, 'brainstorms': 1121, 'launch': 4514, 'clarity': 1496, 'hesitate': 3759, 'knack': 4452, 'bime': 1038, 'gooddata': 3565, 'mysql': 5174, 'funnel': 3433, 'mqls': 5138, 'arr': 731, 'scales': 8291, 'startups': 8814, 'enterprises': 2859, 'multitude': 5161, 'asia': 755, 'australia': 863, 'south': 8675, 'ninterested': 6004, 'neighbor': 5691, 'engage': 2820, 'nzendesk': 6805, 'nby': 5408, 'submitting': 8945, 'agree': 502, 'purposes': 7675, 'privacy': 7491, 'explains': 3060, 'gateway': 3468, 'louis': 4717, 'publisher': 7653, 'clayton': 1507, 'missouri': 5035, 'ninterpreting': 6015, 'nmaintaining': 6095, 'issue': 4341, 'acting': 355, 'ngathering': 5879, 'nextremely': 5808, 'jira': 4371, 'trello': 9412, 'uniqueness': 9534, 'forth': 3345, 'privileges': 7494, 'metropolitan': 4976, 'logistical': 4690, 'fabric': 3109, 'ride': 8147, 'sandwich': 8259, 'represents': 8016, 'earn': 2632, 'strengthen': 8896, 'streets': 8894, 'trucking': 9434, 'haul': 3712, 'rider': 8148, 'deriving': 2295, 'catalyze': 1328, 'ocr': 6843, 'cohorts': 1572, 'anticipated': 650, 'demonstrable': 2258, 'guided': 3656, 'nsuperb': 6605, 'safe': 8231, 'accuity': 334, '1999': 82, 'mineola': 5012, 'fiu': 3254, 'ny': 6797, 'anti': 647, 'laundering': 4517, 'sbs': 8283, 'holistic': 3811, 'reaches': 7800, 'silos': 8534, 'guys': 3664, 'miss': 5030, 'patented': 7102, 'ranking': 7776, 'probability': 7501, 'kyc': 4476, 'enhanced': 2835, 'supportive': 9019, 'door': 2560, 'furthering': 3439, 'coaching': 1556, 'names': 5266, 'entities': 2867, 'suspected': 9039, 'terrorism': 9203, 'crimes': 2037, 'suspicious': 9042, 'terrorist': 9204, 'nneed': 6163, 'nflexibility': 5840, 'alternate': 561, 'min': 5005, 'bsa': 1170, 'patriot': 7111, 'drew': 2589, 'saint': 8240, 'baman1': 946, 'boeing': 1088, 'renton': 7991, 'wa': 9788, 'mo': 5054, 'bscs': 1172, 'nresponding': 6471, 'continuity': 1870, 'ndocumenting': 5641, 'quicker': 7743, 'nboeing': 5388, 'aerospace': 463, 'manufacturer': 4805, 'airplanes': 521, 'technicians': 9147, 'skilled': 8571, 'thinkers': 9236, 'bold': 1089, 'innovators': 4123, 'dreamers': 2586, 'x9cus': 10036, 'xa7': 10054, '120': 34, 'lawful': 4520, 'permanent': 7177, 'resident': 8051, 'refugee': 7899, 'asylee': 807, 'traditional': 9345, 'devops': 2355, 'geographically': 3514, 'dispersed': 2486, 'partnerships': 7088, 'nexcitement': 5776, 'ntypical': 6684, 'mathematic': 4858, 'nyes': 6800, 'cio': 1467, 'nresearches': 6463, 'nimplements': 5969, 'devises': 2353, 'compare': 1667, 'clarivate': 1497, 'nexplores': 5799, 'recommends': 7847, 'modernization': 5078, 'obsolete': 6827, 'redundant': 7880, 'migrating': 4993, 'routines': 8201, 'migratiion': 4992, 'nmandatory': 6104, 'nseven': 6520, 'nthree': 6646, 'hp': 3853, 'uft': 9475, 'selenium': 8399, 'environments': 2876, 'dealing': 2187, 'powerbuilder': 7380, 'diagrams': 2369, 'typos': 9467, 'grammatical': 3597, 'migrations': 4995, 'bdd': 975, 'cucumber': 2075, 'postman': 7370, 'soapui': 8623, 'junit': 4413, 'nunit': 6713, 'agilecraft': 498, 'nformal': 5853, 'nsalient': 6496, 'crgt': 2035, 'mobility': 5058, 'cyber': 2113, 'pivotal': 7268, 'missions': 5034, 'civilian': 1486, 'express': 3076, 'clicking': 1525, 'button': 1211, 'viewing': 9726, 'salient': 8248, 'salientcrgt': 8249, 'yeargcc': 10085, '1997': 81, 'oakland': 6810, 'hubzone': 3871, 'gcc': 3476, 'recently': 7832, 'iso': 4337, 'certified': 1383, '9001': 249, '2015': 102, 'ngcc': 5881, 'proposing': 7603, 'bpa': 1114, 'releasing': 7953, 'released': 7951, 'cleared': 1518, 'promising': 7577, 'ree': 7881, 'deputy': 2291, 'derived': 2294, 'reeta': 7885, 'evaluates': 2948, 'effects': 2707, 'intranet': 4280, 'bureau': 1197, 'modifying': 5085, 'inactivating': 3988, 'templates': 9176, 'prepares': 7435, 'satisfaction': 8268, 'belief': 993, 'factors': 3130, 'discriminatory': 2470, 'vets': 9708, 'abbott': 268, 'fully': 3414, 'spans': 8686, 'spectrum': 8713, 'diagnostics': 2368, 'devices': 2351, 'nutritionals': 6735, 'branded': 1124, 'generic': 3500, '103': 20, '160': 53, 'ngathers': 5880, 'summarizes': 8989, 'pqe': 7391, 'pqa': 7390, 'assessments': 775, 'capa': 1268, 'surveillance': 9033, 'nassisting': 5322, 'ndrafting': 5649, 'facilitating': 3118, 'nescalating': 5732, 'describes': 2298, 'wholly': 9875, 'representation': 8011, 'manufacturing': 4807, 'voice': 9771, 'emerge': 2763, 'dropbox': 2601, 'mentions': 4938, 'backlog': 933, 'leveling': 4580, 'super': 8996, 'nsaas': 6494, 'finish': 3238, 'sit': 8557, 'augment': 857, 'nmine': 6131, 'mix': 5043, 'equivalents': 2902, 'facts': 3132, 'ncross': 5562, 'seamlessly': 8355, 'digestible': 2395, 'satisfactorily': 8269, 'nsit': 6536, 'finger': 3234, 'nreach': 6411, 'arms': 730, 'ntalk': 6621, 'nwalk': 6756, 'noccasionally': 6188, 'climb': 1530, 'stoop': 8860, 'kneel': 4453, 'crouch': 2055, 'nlift': 6068, 'npunctuality': 6380, 'naverage': 5352, 'nspending': 6564, 'air': 517, 'neeoc': 5681, 'complying': 1708, 'alienage': 538, 'accessibility': 307, '317': 147, '613': 203, '6890': 211, 'talentacquisition': 9099, 'finishline': 3241, 'reasonably': 7823, '1901744': 67, 'drives': 2598, 'frames': 3364, 'collects': 1592, 'sell': 8402, 'generations': 3499, 'xgboost': 10071, 'sophisticated': 8662, 'agenda': 487, 'wallet': 9800, 'ndrives': 5653, 'nenhance': 5709, 'alternative': 562, 'establishment': 2925, 'qc': 7699, 'earning': 2634, 'formulation': 3343, 'massachusetts': 4840, '06366': 9, '1001': 16, 'fiat': 3200, 'chrysler': 1461, 'automobiles': 884, 'fca': 3170, 'pipe': 7262, 'lining': 4638, 'ict': 3903, 'nproblem': 6345, 'constraints': 1828, 'corresponding': 1966, 'hierarchical': 3767, 'stochastic': 8854, 'embedding': 2754, 'sne': 8618, 'pca': 7133, 'underlying': 9505, 'mechanics': 4909, 'repeatability': 7998, 'fairness': 3139, 'noperationalization': 6214, 'mlops': 5050, 'challenger': 1392, 'coe': 1563, 'launching': 4516, 'premises': 7428, 'hybrid': 3889, 'containerization': 1852, 'kubernetes': 4473, 'container': 1851, 'postgres': 7365, 'greenplum': 3621, 'nconfident': 5519, 'starters': 8810, 'moderation': 5076, 'especially': 2914, 'domains': 2553, 'automotive': 885, 'rstudio': 8210, 'rapidminer': 7781, 'dataiku': 2144, 'h2o': 3668, 'em': 2749, 'azureml': 917, 'ibm': 3899, 'watson': 9827, 'modeler': 5065, 'sagemaker': 8237, 'generalized': 3492, 'glm': 3546, 'boosting': 1098, 'convolutional': 1923, 'cnn': 1551, 'recurrent': 7866, 'rnn': 8165, 'nspecialization': 6560, 'versed': 9698, 'nshould': 6529, 'reflects': 7897, 'healthy': 3738, 'customary': 2101, 'norms': 6232, 'weka': 9850, 'parameters': 7060, 'baselines': 961, 'effect': 2700, 'intervals': 4271, 'significance': 8529, 'measurements': 4905, 'alexa': 531, 'instantly': 4152, 'interacting': 4202, 'echo': 2655, 'tap': 9110, 'seconds': 8365, 'nlu': 6089, 'hardest': 3695, 'conversational': 1910, 'exceeds': 2979, 'tagging': 9091, 'syntactic': 9067, 'disambiguation': 2436, 'contract1': 1875, 'ecd': 2653, 'pa': 7027, 'particular': 7078, 'protocol': 7622, 'pilots': 7255, 'medidata': 4915, 'rave': 7791, 'clinicaltrials': 1533, 'ndevelopment': 5617, 'ndetect': 5610, 'ecdi': 2654, 'apache': 658, 'probabilistic': 7499, 'pymc3': 7689, 'figaro': 3206, 'yrs': 10106, 'wix': 9901, '90': 247, '130': 38, '1tb': 86, 'interfaces': 4213, 'bsc': 1171, 'nsee': 6509, 'x93churn': 9968, 'administers': 414, 'advising': 450, 'essc': 2919, 'largely': 4501, 'sister': 8556, 'tv': 9458, 'yearjob': 10086, 'lendio': 4570, 'plenty': 7305, 'introduced': 4284, 'ninterpret': 6014, 'scheduled': 8302, 'ncontinuously': 5535, 'innovate': 4116, 'talents': 9102, 'internships': 4249, 'ndomo': 5646, 'neffective': 5682, '50k': 182, 'nbright': 5396, 'birthday': 1051, 'relocation': 7971, 'greatplacetowork': 3617, 'slack': 8586, 'scrappy': 8336, 'integrations': 4183, 'nslack': 6542, 'x94we': 9986, 'humble': 3879, 'hardworking': 3698, 'hello': 3749, 'ndeepen': 5582, 'ncraft': 5553, 'scaled': 8290, 'probabilities': 7500, 'layer': 4527, 'corner': 1947, 'kinds': 4448, 'connected': 1787, 'nensuring': 5715, 'pleasant': 7301, 'meditech': 4916, 'luke': 4739, 'cornwall': 1950, 'nst': 6572, 'slch': 8587, 'campuses': 1259, 'newburgh': 5759, 'montefiore': 5104, 'hudson': 3873, 'aspires': 763, 'compassionate': 1672, 'cardiac': 1286, 'stroke': 8911, 'cancer': 1261, 'orthopedic': 6977, 'mitigation': 5042, 'readiness': 7807, 'satisfied': 8271, 'waterfall': 9822, 'budgeting': 1178, 'bank': 949, 'n1st': 5186, 'nhours': 5940, 'n40': 5196, 'nhi': 5927, 'chewse': 1438, 'meal': 4892, '19': 61, 'style': 8933, 'meals': 4893, 'burden': 1196, 'amazing': 567, 'competition': 1682, 'propositions': 7605, 'curated': 2086, 'menus': 4943, 'experimenting': 3049, 'fulfilling': 3411, 'productive': 7531, 'paving': 7115, 'caas': 1224, 'hairy': 3673, 'authentic': 864, 'connection': 1789, 'intellectually': 4188, 'insatiable': 4133, 'sweat': 9054, 'flip': 3270, 'switch': 9058, 'zoom': 10115, 'motivate': 5120, 'really': 7818, 'head': 3726, 'tooling': 9306, 'welding': 9854, 'truth': 9441, 'decentralized': 2196, 'fluent': 3288, 'facto': 3126, 'stays': 8834, 'nexposure': 5801, 'periscope': 7173, 'statistic': 8826, 'nfood': 5847, 'bonding': 1091, 'attend': 830, 'workshops': 9928, 'night': 5962, 'budgets': 1179, 'strengthening': 8897, 'weekday': 9843, 'tribe': 9419, 'usstratcom': 9615, 'commander': 1622, 'designated': 2307, 'nuclear': 6689, 'nc3': 5412, 'se': 8351, 'ec': 2650, 'cohesive': 1570, 'prescriptive': 7442, '093': 11, '118': 32, '670': 210, 'yearthere': 10094, 'distinction': 2505, 'premiere': 7427, 'residents': 8052, 'consists': 1816, '850': 236, 'sworn': 9059, '650': 208, 'trained': 9351, 'honor': 3822, 'safeguarding': 8233, 'protecting': 7618, 'located': 4679, 'mpd': 5134, 'civic': 1484, 'propel': 7592, 'advisor': 451, 'advice': 447, 'visualizes': 9761, 'concern': 1743, 'going': 3560, 'targets': 9115, 'nadvise': 5244, 'capstat': 1279, 'assists': 791, 'assure': 801, 'nkeep': 6041, 'abreast': 277, 'gis': 3534, 'descriptive': 2303, 'arcgis': 709, 'regulations': 7924, 'nskilled': 6540, 'tight': 9264, 'officials': 6867, 'nlicensures': 6066, 'nn': 6159, 'accredited': 331, 'hrm': 3861, 'exhibits': 3013, 'weekend': 9844, 'dc': 2178, 'courts': 1996, 'trainings': 9353, 'travels': 9401, 'town': 9332, 'motor': 5124, 'vehicle': 9678, 'operator': 6918, 'permit': 7180, 'npositions': 6315, 'traffic': 9347, 'typical': 9465, 'sacramento': 8230, 'internshipwe': 4254, 'networking': 5744, 'nintuitive': 6019, 'gdit': 3478, 'contractwe': 1892, 'ndeveloper': 5615, 'ngoal': 5893, 'script': 8342, 'imported': 3972, 'choose': 1455, 'bug': 1181, 'fixing': 3257, 'automates': 878, 'skype': 8581, 'nfar': 5819, 'immerses': 3948, 'socials': 8626, 'periodcross': 7168, 'hackday': 3671, 'giants': 3527, 'game': 3455, 'bay': 970, 'playground': 7297, 'endless': 2808, 'undergradinternships': 9502, 'gradinternships': 3588, 'kpisexperience': 4469, 'sqlproficient': 8754, 'storycapacity': 8873, 'terminologyworks': 9199, 'detailpassionate': 2325, 'experiencea': 3034, 'graduating': 3594, 'nnone': 6176, 'mentioned': 4937, 'walmartlabs': 9802, 'fueled': 3407, 'predicting': 7410, 'hbase': 3717, 'lapack': 4497, 'gurobi': 3662, 'ndigital': 5623, 'cryptoasset': 2062, 'insightful': 4139, '5m': 197, 'seed': 8376, 'rolled': 8181, 'crypto': 2060, 'disruption': 2496, 'indices': 4040, 'cryptoanalysis': 2061, 'consisting': 1815, 'exchanges': 2989, 'blockchains': 1065, 'sectors': 8371, 'x94cryptocurrencies': 9974, 'ledger': 4560, 'x94a': 9971, 'previously': 7466, 'sold': 8640, 'fintech': 3243, 'cryptocurrency': 2064, 'jupyter': 4416, 'showcase': 8507, 'lowering': 4724, 'variables': 9657, 'combinatorics': 1607, 'nextensive': 5805, 'dimensionality': 2406, 'nmastery': 6112, 'postgresql': 7366, 'cryptoassets': 2063, 'notebook': 6240, 'altair': 559, 'immigration': 3949, 'ndow': 5648, 'jones': 4385, 'dow': 2565, 'produced': 7524, 'globally': 3549, 'produces': 7526, 'flagship': 3260, 'newspaper': 5765, 'circulation': 1469, 'factiva': 3124, 'barron': 956, 'marketwatch': 4832, 'djx': 2527, 'newswires': 5767, 'venturesource': 9685, 'recent': 7831, 'expanded': 3022, 'arts': 751, 'heritage': 3757, 'published': 7652, 'journalists': 4391, 'bureaus': 1198, 'editions': 2681, 'newspapers': 5766, 'magazines': 4755, 'holds': 3806, '35': 154, 'pulitzer': 7657, 'journalism': 4389, 'comprises': 1721, 'specialists': 8698, 'princeton': 7474, 'london': 4695, 'accountabilities': 324, 'noverseeing': 6260, 'nproposing': 6370, 'learnt': 4553, 'newsworthy': 5768, 'talentresourceteam': 9101, 'dowjones': 2566, 'x9creasonable': 10027, 'nasdaq': 5315, 'nws': 6792, 'nwsa': 6793, 'asx': 806, 'nwslv': 6794, 'section': 8367, 'workday': 9913, 'homepage': 3816, 'thank': 9219, 'nreq': 6454, '15454': 50, 'internshipoverview': 4243, 'nevery': 5755, 'perspecta': 7203, 'bound': 1108, 'stop': 8861, 'integrators': 4184, 'tirelessly': 9281, 'landscape': 4490, 'nperspecta': 6297, 'caliber': 1241, 'rewarded': 8138, 'x94not': 9980, 'x9414': 9970, 'x94stands': 9982, 'op': 6899, 'typically': 9466, 'represent': 8010, 'trying': 9443, 'pursing': 7676, 'stem': 8840, 'arthur': 741, 'lawrence': 4522, 'urgently': 9594, 'earliest': 2630, 'proceed': 7510, 'n6': 5201, 'nworked': 6784, 'cosmos': 1972, 'dms': 2529, 'nrelevant': 6443, 'kindly': 4447, 'anum': 653, '832': 231, '941': 253, '0356': 6, 'arthurlawrence': 742, 'experiencehighly': 3038, 'javaextremely': 4357, 'productsexperience': 7534, 'crunching': 2059, 'terabytes': 9190, 'dataa': 2133, 'lineexperience': 4634, 'leadblog': 4536, 'papers': 7052, 'talks': 9105, 'showing': 8509, 'learningcontributions': 4551, 'forefront': 3318, 'attacking': 826, 'browses': 1166, 'ipad': 4325, 'tens': 9186, 'fascinating': 3160, 'intent': 4196, 'implicitly': 3967, 'explicitly': 3063, 'modalities': 5061, 'learned': 4546, 'converse': 1911, 'visible': 9744, 'customersdesign': 2104, 'approacheswork': 692, 'workersdevelop': 9918, 'technologiesstay': 9158, 'retrievalbecome': 8115, 'visionpush': 9748, 'communitybe': 1656, 'ambassador': 569, 'cfdss': 1385, 'cfds': 1384, 'evangelizing': 2954, 'nroles': 6489, 'nproduct': 6353, 'nrepresenting': 6452, 'datarobot': 2155, 'standpoint': 8797, 'demonstrations': 2263, 'informing': 4085, 'nenabling': 5703, 'framing': 3369, 'consumption': 1845, 'ncollaborating': 5475, 'rest': 8087, 'nleadership': 6051, 'empathizing': 2770, 'nqualifying': 6388, 'npresenting': 6335, 'nup': 6720, 'consultative': 1838, 'telecommunication': 9167, 'westlake': 9863, '1996': 80, 'vs': 9785, 'chat': 1424, 'spanning': 8685, 'stretches': 8903, 'presence': 7443, 'gamification': 3458, 'nvs': 6755, 'buying': 1215, 'referred': 7893, 'x9cppc': 10025, 'buyer': 1213, 'adwords': 458, 'succeeds': 8966, 'decisive': 2201, 'thrives': 9253, 'nareas': 5304, 'buys': 1216, 'caps': 1278, 'impression': 3975, 'score': 8326, 'ngenerate': 5885, 'nqualities': 6389, 'nadaptive': 5232, 'composure': 1714, 'critically': 2046, 'articulate': 745, 'summaries': 8984, 'nhelpful': 5924, 'noutstanding': 6254, 'appreciated': 685, 'explicit': 3062, 'likely': 4623, 'colleague': 1583, 'screen': 8339, 'representatives': 8014, 'imperative': 3959, 'aspect': 760, 'flirt4free': 3271, 'understands': 9512, 'respects': 8073, 'incentive': 3992, 'attractive': 842, 'internshiprally': 4246, 'diet': 2382, 'selecting': 8396, 'choosing': 1456, 'president': 7452, 'coo': 1924, 'david': 2167, 'ko': 4466, 'innovates': 4117, 'okay': 6875, 'burn': 1200, 'follows': 3304, 'ninvestigate': 6020, 'functioning': 3421, 'npursuing': 6382, 'ngeneral': 5883, 'schemas': 8306, 'nadaptable': 5231, 'rally': 7766, 'nrally': 6406, 'population': 7338, 'knows': 4465, 'enrich': 2845, 'believes': 996, 'administer': 412, 'childbirth': 1446, 'matriculation': 4866, 'union': 9530, 'nindividuals': 5981, 'notify': 6248, 'rallyhealth': 7767, 'npursuant': 6381, 'fair': 3137, 'ordinance': 6951, 'arrest': 736, 'ncivis': 5454, 'nonprofits': 6207, 'citizens': 1480, 'interdisciplinary': 4208, 'civis': 1487, 'guessing': 3650, 'atwww': 846, 'civisanalytics': 1488, 'individuality': 4044, 'brought': 1164, 'arm': 727, 'toughest': 9328, 'commonly': 1640, 'utilities': 9618, 'nunifying': 6712, '1st': 84, 'nderiving': 5600, 'ncreatively': 5558, 'ntravel': 6674, 'lt': 4735, 'affinity': 474, 'pragmatically': 7400, 'ppt': 7389, 'penney': 7147, 'nplano': 6305, 'texas': 9213, 'upgrade': 9582, 'deploys': 2287, 'implements': 3965, 'nacquires': 5221, 'nuses': 6727, 'accomplishments': 319, 'datameer': 2147, 'css': 2069, 'quantities': 7724, 'west': 9861, 'plano': 7285, 'jcpenney': 4361, 'merchandise': 4944, 'clinic': 1531, 'daycare': 2171, 'preschool': 7439, 'cafeteria': 1231, 'garage': 3463, 'golden': 3562, 'rule': 8218, 'rooted': 8190, 'treat': 9405, 'treated': 9406, 'touchpoint': 9326, 'stylish': 8935, 'exclusive': 2994, 'reinforcing': 7933, 'warrior': 9813, '98': 261, 'welcoming': 9853, 'prosper': 7613, 'celebrated': 1356, 'meant': 4899, 'twitter': 9461, 'linkedin': 4641, 'jcp': 4360, '1082692': 23, '57': 191, '85': 235, 'gpl': 3582, 'evidence': 2963, 'housed': 3850, 'andrew': 621, 'young': 10103, 'pressing': 7454, 'decide': 2197, 'ultimate': 9482, 'scarce': 8294, 'atlanta': 817, 'focuses': 3298, 'micro': 4984, 'toolkit': 9307, 'wants': 9806, 'nclean': 5456, 'uniformity': 9526, 'discretion': 2463, 'npay': 6282, 'nflsa': 5842, '17': 54, '33': 151, 'nclosing': 5466, 'mastery': 4846, 'paper': 7051, 'lay': 4526, 'samples': 8252, 'rolling': 8182, 'reviewed': 8130, 'april': 704, 'board': 1079, 'requisitions': 8036, 'xpo': 10073, 'invest': 4296, '450': 173, 'methodical': 4965, 'producers': 7525, 'reliability': 7958, 'solicit': 8643, 'artifacts': 748, 'rollout': 8183, 'ngeneralize': 5884, 'graduates': 3593, 'geo': 3511, 'spatial': 8691, 'plotly': 7306, 'mixed': 5044, 'principle': 7477, 'bayesian': 972, 'fluently': 3289, 'inefficient': 4054, 'prone': 7586, 'navailability': 5349, 'periodic': 7169, 'rotation': 8195, 'specialization': 8699, 'coursera': 1991, 'camp': 1254, 'n10': 5179, 'ed1': 2672, 'nxpo': 6796, 'disney': 2479, 'pepsi': 7152, 'xa9al': 10057, 'toyota': 9334, 'getting': 3522, 'construed': 1832, 'classified': 1503, 'staples': 8802, 'assortment': 796, 'lowest': 4725, 'total': 9321, 'embodied': 2757, 'x9cwe': 10037, 'incentives': 3993, 'resides': 8053, 'strategiesdevelop': 8883, 'segmentationdevelop': 8388, 'sba': 8282, 'businesscoordinate': 1204, 'initiativesassess': 4107, 'techniquesrecommend': 9152, 'modelsexcellent': 5072, 'alteryxexperience': 565, 'visualizing': 9762, 'pulling': 7660, 'teradataexcellent': 9192, 'writtenproven': 9947, 'nstaples': 6576, 'breakroom': 1135, 'furniture': 3436, 'promotional': 7583, 'solopreneurs': 8645, 'sycamore': 9061, 'composed': 1711, 'standalone': 8789, 'totaling': 9322, '17b': 56, 'canada': 1260, 'sharp': 8478, 'squarespace': 8758, 'ndepending': 5598, 'nreframe': 6433, 'quantifiable': 7718, 'reveal': 8125, 'instrument': 4164, 'transformations': 9374, 'devise': 2352, 'competency': 1680, 'nsquarespace': 6570, 'blending': 1061, 'elegant': 2734, 'x94': 9969, 'artists': 750, 'iconic': 3901, 'dublin': 2614, 'portland': 7345, 'nequity': 5728, 'nfree': 5864, 'lunch': 4740, 'ndog': 5643, 'ntoday': 6653, 'grad': 3584, 'lindquist': 4631, 'llp': 4667, 'personable': 7191, 'obligations': 6819, 'nafter': 5249, 'auditors': 855, 'nreliable': 6444, 'nfrequent': 5865, 'infrequent': 4091, 'stockton': 8859, 'nlindquist': 6072, 'nibi': 5949, 'passengers': 7093, 'gtfs': 3645, 'procure': 7520, 'passenger': 7092, 'everett': 2960, 'vancouver': 9653, 'translink': 9389, 'rtd': 8211, 'mbta': 4883, 'los': 4710, 'angeles': 623, 'nmost': 6154, 'nplan': 6304, 'alerts': 530, 'feeds': 3187, 'archival': 717, 'memos': 4931, 'formatted': 3335, 'civil': 1485, 'noffice': 6191, 'yearly': 10087, 'nbagels': 5365, 'happy': 3690, 'mini': 5015, 'thursday': 9255, 'birthdays': 1052, 'seasonal': 8360, 'pumpkin': 7664, 'carving': 1313, 'contest': 1856, 'transcripts': 9367, 'submission': 8940, 'ibi': 3898, 'credential': 2027, 'confirmation': 1777, 'offence': 6855, 'internshipcheck': 4232, 'nready': 6412, 'cooper': 1927, 'alley': 547, 'dream': 2585, 'alive': 544, 'oh': 6871, 'lending': 4569, 'candor': 1265, 'punch': 7666, 'clock': 1536, 'hole': 3807, 'instead': 4153, 'nintern': 6007, 'mr': 5139, 'manger': 4795, 'x9cbusy': 10008, 'gaining': 3449, 'ton': 9300, 'sttm': 8922, 'reverse': 8128, 'comprising': 1722, 'coming': 1619, 'upcoming': 9576, 'geared': 3481, 'xa2gather': 10044, 'xa2work': 10049, 'xa2showcase': 10048, 'incredibly': 4021, 'technologically': 9155, 'xa2knowledge': 10046, 'understating': 9513, 'xa2hands': 10045, 'rdbms': 7797, 'xa2preferred': 10047, 'accepted': 303, 'equivalency': 2900, '2021': 109, 'ndemonstration': 5594, 'nenergetic': 5705, 'waitr': 9793, 'redefining': 7870, 'dining': 2410, 'ordering': 6949, 'sided': 8519, 'concierge': 1748, 'convenience': 1903, 'humor': 3881, 'came': 1253, 'waitrapp': 9794, 'nnow': 6181, 'iterate': 4347, 'quantify': 7721, 'levers': 4588, 'backwards': 937, 'sizing': 8569, 'ideating': 3911, 'dives': 2520, 'ncollecting': 5479, 'nmanaging': 6103, 'confident': 1769, 'win': 9886, 'owner': 7021, 'adaptable': 380, 'resilient': 8055, 'expand': 3021, 'carve': 1312, 'hyper': 3893, 'perk': 7174, 'nground': 5901, 'rare': 7782, 'reinventing': 7935, 'continual': 1864, 'subscriptions': 8952, 'nsharp': 6525, 'nnine': 6172, 'macbook': 4748, 'substitute': 8960, 'choice': 1453, 'ngetting': 5890, 'brass': 1126, 'negotiable': 5688, 'drivetime': 2599, 'periodically': 7170, 'nquantifying': 6393, 'nassessing': 5318, 'financing': 3227, 'underwriting': 9517, 'cash': 1317, 'loan': 4673, 'nvaluing': 6741, 'unseen': 9567, 'vehicles': 9679, 'placing': 7279, 'bids': 1026, 'auctions': 848, 'ins': 4132, 'nutilizing': 6732, 'stream': 8887, 'calculates': 1235, 'similarity': 8537, 'ndesigning': 5603, 'seeing': 8377, 'logical': 4688, 'calculus': 1238, 'ncuriosity': 5566, 'nwhen': 6770, 'nhiring': 5931, 'tobacco': 9289, 'remarkable': 7976, 'healthequity': 3735, '13': 37, 'classroom': 1506, 'directs': 2427, 'preventing': 7462, 'enrollments': 2849, 'surrounding': 9031, 'kri': 4471, 'cei': 1353, 'risky': 8160, 'abnormal': 274, 'remediate': 7977, 'assimilate': 783, 'consequential': 1799, 'ncomfortable': 5485, 'nhealthequity': 5921, '2030': 110, 'hsas': 3866, 'spread': 8745, 'popular': 7337, 'firmly': 3246, 'contributors': 1899, 'purple': 7673, 'fiercely': 3205, 'genuine': 3508, 'promoter': 7579, 'timeabout': 9267, 'grubhub': 3640, 'diners': 2409, 'convenient': 1904, 'favorite': 3166, 'chalupa': 1395, 'taco': 9085, 'salad': 8241, 'restaurant': 8088, 'enjoyed': 2841, 'said': 8239, 'memorable': 4930, 'diner': 2408, 'flawlessly': 3263, 'partnered': 7083, '105': 21, 'apps': 702, 'levelup': 4583, 'seamless': 8354, 'tapingo': 9111, 'eat24': 2644, 'nwant': 6757, 'eating': 2646, 'nquestion': 6399, 'nrelentlessly': 6442, 'ncomfort': 5484, 'ngot': 5896, 'strings': 8907, 'recharge': 7833, 'npto': 6377, 'nbetter': 5379, 'kitchens': 4450, 'stocked': 8857, 'granted': 3599, 'restricted': 8095, 'ncasual': 5432, 'rays': 7793, 'comfy': 1618, 'couch': 1977, 'coworkers': 2001, 'ngrubhub': 5903, 'poster': 7362, 'dol': 2549, 'offered': 6858, 'ford': 3314, 'dearborn': 2189, 'mi': 4980, 'formation': 3331, 'embeddings': 2755, 'cosine': 1971, 'distance': 2500, 'ontologies': 6896, 'gradient': 3586, 'descent': 2296, 'tomorrow': 9298, 'striving': 8910, 'nford': 5850, 'culturally': 2079, 'nvisa': 6751, 'turning': 9456, 'intuitive': 4287, 'spent': 8719, 'prioritizing': 7489, 'paas': 7028, 'iaas': 3896, 'correctness': 1960, 'nfind': 5831, 'ndon': 5647, 'fluid': 3291, 'proficiencies': 7543, 'nconnectwise': 5522, 'inovalon': 4124, 'intervention': 4272, 'progression': 7564, 'tea': 9127, 'cycles': 2116, 'executions': 3002, 'called': 1243, 'suites': 8983, 'channeling': 1405, 'noversees': 6261, 'mba': 4880, 'natleast': 5334, 'trustmark': 9440, 'personalized': 7197, 'circumstance': 1470, 'revolves': 8136, 'peace': 7138, 'profiling': 7548, 'digest': 2394, 'voluntary': 9776, 'nprofile': 6358, 'aggregated': 492, 'morgan': 5114, 'stanley': 8800, 'nnew': 6167, 'anomaly': 639, 'noperational': 6213, 'nsolutions': 6552, 'ndetection': 5611, 'nengineering': 5708, 'nanalyst': 5272, 'occupation': 6838, 'nservices': 6518, 'nregression': 6435, 'namount': 5268, 'detect': 2328, 'nanomalies': 5283, 'morganstanley': 5115, 'careersearch': 1292, 'html': 3867, 'scroll': 8345, 'nenter': 5716, '3127828': 146, 'x9cjob': 10016, 'x9csearch': 10030, 'nmorgan': 6153, 'nstanley': 6574, 'dni': 2530, 'contractoverview': 1887, 'nnorthwest': 6178, 'governed': 3575, '1500': 48, 'surgeons': 9026, 'southwest': 8678, 'kaiser': 4426, 'eminent': 2767, 'iii': 3924, 'nmajor': 6098, 'kpit': 4470, 'ndefines': 5584, 'meta': 4959, 'conventions': 1907, 'npopulates': 6311, 'conflicting': 1779, 'convergence': 1908, 'timly': 9277, 'ninformation': 5983, 'attributes': 843, 'candid': 1262, 'workplans': 9926, 'avoidance': 900, 'northwest': 6236, 'mutual': 5170, 'lactation': 4484, 'interacts': 4206, 'dexcom': 2359, 'glucose': 3553, 'diabetes': 2364, 'inception': 3994, 'caregivers': 1297, 'scoping': 8325, 'timeline': 9269, 'particularly': 7079, 'sklearn': 8579, 'seaborn': 8352, 'dataproc': 2153, 'datalab': 2145, 'nresults': 6476, 'aways': 908, 'matrix': 4867, 'decomposition': 2206, 'factorization': 3129, 'nlist': 6074, 'ntypically': 6685, 'discriminated': 2467, 'staffing': 8776, 'costa': 1974, 'mesa': 4955, 'executed': 2997, 'nprogramming': 6360, 'warehousingdata': 9811, 'redshift': 7875, 'ingestion': 4097, 'urgency': 9593, 'layers': 4529, 'labor': 4479, 'wfs': 9869, 'constrained': 1826, 'dw': 2620, 'clusteroptimizing': 1548, 'issuesgather': 4343, 'datadesigning': 2141, 'setsprovide': 8451, 'membersmodeling': 4929, 'reportingearn': 8006, 'technologymanage': 9162, 'waste': 9816, 'ngraduate': 5898, 'incrementally': 4023, 'integrating': 4181, 'ec2': 2651, 'augmenting': 859, 'ranging': 7773, 'undertaken': 9516, 'implementations': 3962, 'linguistics': 4637, 'question': 7736, 'distributional': 2512, 'semantics': 8408, 'napplied': 5292, 'libsvm': 4600, 'shogun': 8492, 'cleartk': 1521, 'scalanlp': 8288, 'breeze': 1139, 'clearnlp': 1520, 'opennlp': 6905, 'nltk': 6088, 'ipython': 4329, 'solr': 8646, 'lucene': 4737, 'ndistributed': 5632, 'graphlab': 3608, 'ndatabases': 5576, 'foremost': 3320, 'benchmarks': 1005, 'divisions': 2524, 'equips': 2897, 'seize': 8393, 'stimulating': 8852, 'domestic': 2554, 'unions': 9531, 'unemployment': 9519, 'forwarded': 3349, 'ofccp': 6854, 'regs': 7918, 'eeopost': 2698, 'pdfdescribes': 7137, 'protections': 7620, 'shaw': 8480, 'reflect': 7896, 'richness': 8146, 'dan': 2123, 'lavender': 4518, 'nshaw': 6526, 'missed': 5031, 'roll': 8180, 'ntrack': 6663, 'nstay': 6584, 'cable': 1225, 'b2c': 919, 'maximization': 4874, 'glms': 3547, 'forests': 3323, 'colorado': 1596, 'reimbursement': 7929, 'expenses': 3032, '350': 155, 'yeara': 10078, 'die': 2379, 'collisions': 1594, 'zero': 10108, 'insurtech': 4173, 'hiroad': 3784, 'native': 5332, 'trillion': 9423, 'longer': 4698, 'mindful': 5008, 'societal': 8627, 'backend': 929, 'sourced': 8671, 'consumed': 1841, 'modern': 5077, 'nactuarial': 5228, 'nmore': 6152, 'factoring': 3128, 'shower': 8508, 'panoramic': 7050, 'views': 9727, 'near': 5664, 'montgomery': 5105, 'station': 8823, 'locals': 4677, 'owl': 7019, 'looks': 4705, 'multicultural': 5153, 'pursuant': 7677, 'nstart': 6577, 'discoveries': 2458, 'hospitals': 3833, 'minimize': 5017, 'pharmaceuticals': 7227, 'cures': 2088, 'meaning': 4895, 'matched': 4848, 'deployed': 2283, 'nsan': 6497, 'jose': 4386, 'nraleigh': 6405, 'durham': 2617, 'nlittleton': 6075, 'ndallas': 5572, 'tx': 9462, 'ncleveland': 5461, 'naustin': 5344, 'nann': 5281, 'arbor': 707, 'nopportunities': 6216, 'debugging': 2194, 'prof': 7535, 'neo': 5723, 'nibm': 5950, '190007ji': 62, 'centerpiece': 1367, 'fundamentally': 3425, 'unlocks': 9556, 'architecting': 711, 'reviewing': 8131, 'needle': 5678, 'haystack': 3715, 'ninja': 5988, 'transforms': 9377, 'dimensions': 2407, 'v1': 9631, 'nthere': 6641, 'positioned': 7349, 'piece': 7251, 'puzzle': 7687, 'nminimal': 6133, 'matrixed': 4868, 'nintellectually': 6000, 'variation': 9660, 'completes': 1695, 'capgemini': 1273, 'xa6rapidly': 10053, 'created': 2017, 'harnessed': 3702, 'influx': 4072, 'iot': 4323, 'realm': 7819, 'telecom': 9166, 'publicly': 7650, 'eda': 2673, 'tier': 9262, 'variance': 9658, 'chaid': 1388, 'cart': 1311, 'association': 795, 'frequentist': 3384, 'pearl': 7140, 'caffe': 1232, 'kxen': 4474, 'ect': 2670, 'hana': 3676, 'svms': 9050, 'kmeans': 4451, 'nmf': 6126, 'rnns': 8166, 'cnns': 1552, 'scrapping': 8335, 'napplications': 5291, 'realization': 7814, 'methodological': 4967, 'versatility': 9697, 'progressing': 7563, 'nqualification': 6385, 'baseline': 960, 'ncapgemini': 5423, 'encouraging': 2804, 'sensory': 8422, 'environmental': 2875, 'referenced': 7888, 'traditionally': 9346, 'pose': 7347, 'undue': 9518, 'hardship': 3696, 'nclick': 5462, 'ambitions': 573, 'revenues': 8127, 'eur': 2939, '14': 43, 'usd': 9601, 'nvisit': 6753, 'count': 1982, 'tolling': 9297, 'optimum': 6935, 'port': 7340, 'nonly': 6204, 'contacted': 1847, '1921': 69, 'aviation': 896, 'rail': 7759, 'seaport': 8356, 'busiest': 1202, '550': 188, 'wages': 9790, 'owns': 7025, 'acre': 352, '776': 223, 'foot': 3307, 'tall': 9106, 'tallest': 9107, 'skyscraper': 8583, 'western': 9862, 'hemisphere': 3755, 'trans': 9358, 'nraise': 6404, 'ncapture': 5425, 'mfc': 4978, 'estimation': 2929, 'socialize': 8625, 'ntraining': 6666, 'onshore': 6894, 'offshore': 6869, 'nmckesson': 6116, 'disqualified': 2492, 'mckesson': 4885, 'seekers': 8380, 'sending': 8414, 'disability_accommodation': 2432, 'cvs': 2112, 'nyc': 6798, 'vibrant': 9714, 'galvanize': 3452, 'soho': 8637, 'manhattan': 4796, 'flowers': 3281, 'alike': 543, 'intention': 4197, 'stage': 8777, 'celebratory': 1358, 'occasions': 6836, 'smiles': 8607, 'smile': 8606, 'guarantee': 3646, 'backing': 932, 'gifting': 3530, 'entertaining': 2860, 'harry': 3706, 'popcorn': 7336, 'factory': 3131, 'cheryl': 1436, 'cookies': 1925, 'baskets': 967, 'wolferman': 9905, 'moose': 5112, 'munch': 5165, 'universe': 9542, 'chocolatesm': 1452, 'fruitbouquets': 3401, 'sm': 8594, 'steaks': 8837, 'chops': 1457, 'yards': 10076, 'towers': 9331, 'designpac': 2314, 'celebrations': 1357, 'passport': 7099, 'reminders': 7982, 'bloomnet': 1073, 'floral': 3275, 'wire': 9894, 'napco': 5287, 'xa9cor': 10058, 'florists': 3277, 'profitably': 7552, 'hot': 3835, 'retailers': 8106, 'federation': 3183, 'gold': 3561, 'awards': 904, 'shares': 8476, 'traded': 9343, 'ticker': 9256, 'symbol': 9062, 'flws': 3293, 'internshipmongodb': 4242, 'summarize': 8987, 'dinners': 2411, 'broadway': 1156, 'sightseeing': 8522, 'speaker': 8693, 'fitting': 3253, 'nmongodb': 6147, 'unitedhealthcare': 9539, 'rise': 8156, 'directions': 2420, 'borders': 1101, 'gadget': 3446, 'distinguish': 2506, 'normalization': 6230, 'assuring': 802, 'aids': 512, 'nproducing': 6352, 'predominately': 7414, 'tend': 9183, 'theoretical': 9225, 'nundergraduate': 6707, 'napplicant': 5288, 'ncareers': 5428, 'presented': 7448, 'couldn': 1979, 'imagine': 3939, 'elite': 2746, 'chapter': 1407, 'doors': 2561, 'ndiversity': 5636, 'unitedhealth': 9538, 'nunitedhealth': 6715, 'internshipsummary': 4251, 'nsierra': 6531, 'nevada': 5751, 'ncontext': 5530, 'herndon': 3758, 'scrub': 8346, 'horizontal': 3826, 'agent': 488, 'pushing': 7684, 'copious': 1939, 'informs': 4086, 'ninitiate': 5985, 'snc': 8617, 'ipdp': 4326, 'nstudy': 6596, 'layout': 4531, 'evaluations': 2951, 'originate': 6974, 'nexecute': 5780, 'estimates': 2928, 'ncompliance': 5504, 'adherence': 400, 'nsnc': 6546, 'descriptions': 2302, 'summarizations': 8986, 'necessarily': 5669, 'pursuit': 7680, 'disco': 2450, 'handles': 3681, 'adjudicates': 406, 'allegiance': 545, 'violations': 9732, 'conform': 1781, '1324b': 40, 'authorizations': 870, 'eb': 2647, 'distribute': 2508, 'containing': 1853, 'redesigning': 7871, 'energizing': 2815, 'nwestern': 6766, 'losses': 4712, 'aggregation': 494, 'rated': 7785, 'midwestern': 4990, 'alaska': 526, 'ranked': 7775, '57th': 193, 'minnesota': 5023, 'minneapolis': 5022, 'paul': 7114, 'earned': 2633, 'accolades': 311, 'tribune': 9420, '2011': 98, 'recipient': 7834, 'magazine': 4754, 'x9c10': 10002, 'finalist': 3220, 'alfred': 532, 'sloan': 8592, 'x9cwhen': 10038, 'known': 4464, 'x9cthe': 10034, 'wellbeing': 9856, 'half': 3674, 'thanks': 9220, 'subsidy': 8956, 'ppo': 7388, 'deductible': 2210, 'hdhp': 3725, 'massage': 4841, 'snack': 8613, 'workstations': 9930, 'nutrition': 6733, 'seminars': 8412, 'n100': 5180, 'tuition': 9448, 'automobile': 883, 'homeowner': 3815, 'actual': 367, 'quotes': 7750, 'glassdoor': 3542, 'x9cexcellent': 10012, 'prioritizes': 7488, 'x9cjust': 10017, 'ceo': 1374, 'x9cabove': 10003, 'x9ci': 10014, 'felt': 3195, 'welcomed': 9852, 'ly': 4743, '2qxtl4a': 136, 'nguardian': 5905, 'debt': 2192, 'relief': 7964, 'steady': 8836, 'guardian': 3648, 'visuals': 9764, 'analyzed': 611, 'bing': 1040, 'adcenter': 385, 'pareto': 7066, 'formulas': 3341, 'vlookups': 9768, 'guardiandebtrelief': 3649, 'nrocky': 6487, 'hill': 3777, 'ct': 2071, 'naxians': 5357, 'redtoo': 7876, 'axians': 912, 'advisors': 452, 'nassemble': 5316, 'automating': 881, 'nselect': 6510, 'visually': 9763, 'npublish': 6379, 'authoring': 866, 'attained': 828, 'emr': 2789, 'rds': 7798, 'comparable': 1666, 'dependency': 2275, 'disconnected': 2451, 'intacct': 4174, 'npotential': 6320, 'ends': 2812, 'lost': 4713, 'uninformed': 9528, 'eventually': 2959, 'paying': 7123, 'nthat': 6638, 'vim': 9731, 'npatients': 6280, 'afford': 476, 'costs': 1976, 'nvim': 6750, 'nrespond': 6470, 'sftp': 8464, 'documenting': 2541, 'cmo': 1550, 'unfortunately': 9522, 'crafting': 2010, 'distilling': 2503, 'nresiliency': 6465, 'incomplete': 4008, 'insufficient': 4169, 'nkeen': 6040, 'certainly': 1378, 'npython': 6383, 'tel': 9164, 'aviv': 898, 'greatpoint': 3618, 'ventures': 9684, 'optum': 6939, 'sequoia': 8432, 'israel': 4340, 'bcbs': 973, 'payers': 7122, 'usdc': 9602, 'pioneer': 7259, 'sleeves': 8589, 'tank': 9109, 'mold': 5090, 'horizon': 3825, 'vertica': 9701, 'ramp': 7768, 'extrapolate': 3100, 'curation': 2087, 'derivation': 2292, 'cron': 2051, 'pyspark': 7691, 'sparksql': 8689, 'deloitte': 2248, 'sharpen': 8479, 'ndeloitte': 5588, 'recognizing': 7840, 'ncorporate': 5547, 'extends': 3084, 'nrecruiter': 6426, 'tips': 9280, 'inscape': 4135, 'vizio': 9766, 'automatic': 879, 'tvs': 9459, 'deeper': 2213, 'ninscape': 5992, 'unavailable': 9491, 'granularity': 3602, 'dash': 2128, 'x9cmake': 10020, 'polished': 7329, 'nresourceful': 6468, 'nenthusiastic': 5719, 'extreme': 3101, 'demeanor': 2253, 'subsidiary': 8954, 'njohnson': 6031, 'controls': 1902, 'invites': 4315, 'outlined': 6994, 'jci': 4359, 'nrising': 6484, 'nu': 6686, 'developmental': 2345, 'roundtable': 8197, 'johnsoncontrols': 4379, 'tomorrowneedsyou': 9299, 'executiion': 2999, 'stewards': 8848, 'consuming': 1844, 'spaceflight': 8681, 'nfacilitating': 5812, 'nexecuting': 5782, 'enforcing': 2819, 'usages': 9600, 'interrogating': 4266, 'directing': 2418, 'holder': 3803, 'lawfully': 4521, 'admitted': 420, 'asylum': 808, 'aerorspace': 462, 'nblue': 5386, 'phenomenal': 7233, 'miningprogramming': 5020, 'conceptshave': 1738, 'hdfs': 3724, 'pythonstronger': 7694, 'nnull': 6182, 'kept': 4434, 'guidelines': 3658, 'tasked': 9117, 'pursue': 7678, 'harnessing': 3704, 'influencing': 4069, 'nlive': 6076, 'relocate': 7970, 'nquantitative': 6394, 'vlookup': 9767, 'internshipit': 4238, 'wild': 9882, 'achievers': 342, 'nextending': 5803, 'nenhancing': 5710, 'nprocessing': 6348, 'ndoing': 5644, 'systemic': 9073, 'toolkits': 9308, 'extracts': 3097, 'ayima': 913, 'n25': 5193, 'nsummer': 6604, 'fridays': 3391, 'sun': 8993, 'njunior': 6036, 'immerse': 3946, 'ninitiative': 5986, 'nanalyzing': 5279, 'nclient': 5463, 'ngaining': 5876, 'omniture': 6886, 'sitecatalyst': 8559, 'utm': 9626, 'ndrive': 5651, 'seo': 8426, 'breakfasts': 1133, 'sonos': 8660, 'nickelback': 5953, 'nbeer': 5372, 'fridge': 3392, 'bar': 953, 'nnintendo': 6173, 'drawing': 2581, 'combining': 1611, 'worlds': 9935, 'ppc': 7387, 'forge': 3325, 'lauded': 4513, 'sponsorships': 8736, 'nvictorious': 6747, 'digging': 2397, 'victorious': 9717, 'x9ctranslate': 10035, 'simplified': 8542, 'leveraged': 4585, 'historical': 3787, 'nhandle': 5909, 'qa': 7696, 'tag': 9090, 'console': 1817, 'ndashboard': 5573, 'nrelentless': 6441, 'ngiving': 5892, 'upholds': 9586, 'inherent': 4098, 'trait': 9355, 'nradical': 6403, 'horizontally': 3827, 'vertically': 9703, 'radical': 7756, 'nempowering': 5701, 'x9cit': 10015, 'perfecting': 7157, 'devours': 2358, 'daring': 2126, 'discernment': 2438, 'strongest': 8914, 'nescape': 5733, 'rat': 7783, 'sponsored': 8732, 'selected': 8395, 'historic': 3786, 'showplace': 8511, 'square': 8755, 'capitalists': 1276, 'increasing': 4018, 'x9crunway': 10029, 'x9cmvp': 10021, 'hungry': 3886, 'exit': 3017, 'worrying': 9937, 'shutting': 8514, 'myriad': 5173, 'caltrain': 1250, 'muni': 5167, 'michelin': 4983, 'starred': 8805, 'nightlife': 5963, 'soma': 8658, 'commute': 1657, 'nvictoriousseo': 6748, 'victoriousseo': 9718, 'evaluated': 2947, 'recruiters': 7863, 'depict': 2280, 'nactive': 5225, 'compartmented': 1670, 'sci': 8310, 'nc2': 5411, 'esi': 2913, 'nato': 5335, 'sar': 8264, 'securities': 8374, 'ninvestment': 6021, 'corporations': 1954, 'ncommon': 5487, 'nbalances': 5367, 'lifestyles': 4615, 'ntechnology': 6629, 'redefine': 7869, 'sizeable': 8566, 'nsystems': 6616, 'nsecurity': 6508, 'nworldwide': 6788, 'backbone': 927, 'nclients': 5464, 'imit': 3942, 'nexclusively': 5779, 'msim': 5145, 'nportfolio': 6312, 'nenvironment': 5721, 'ncomponents': 5506, 'nrecommendation': 6421, 'nmining': 6136, 'absolutely': 280, 'xb7identify': 10064, 'nopportunity': 6217, 'nstructured': 6594, 'xb7': 10062, 'nyear': 6799, 'nmath': 6113, 'variable': 9656, 'applicability': 670, 'nalgorithms': 5259, 'nmind': 6130, 'ncommunication': 5490, 'xb7experience': 10063, 'xb7knowledge': 10065, 'nof': 6190, 'nadvantages': 5243, 'ndistributions': 5634, 'nrandom': 6407, 'nquerying': 6398, 'nlanguages': 6048, 'nplatforms': 6308, 'nboca': 5387, 'fl': 3258, 'alpharetta': 557, 'ga': 3443, 'dayton': 2173, 'demo': 2254, 'prod': 7522, 'tickets': 9258, 'thresholds': 9250, 'dictionaries': 2375, 'geographical': 3513, 'xml': 10072, 'hpcc': 3854, 'delimited': 2238, 'proofreading': 7591, 'linked': 4640, 'naccountabilities': 5216, 'nmodify': 6145, 'nrun': 6490, 'clarifications': 1494, 'intimacy': 4277, 'nundertake': 6711, 'nresolve': 6466, 'resolving': 8061, 'examples': 2975, 'lexisnexis': 4590, 'upholding': 9585, 'relx': 7972, 'plc': 7300, 'lexisnexisrisk': 4591, '877': 241, '734': 218, '1938': 70, 'timeqxbranch': 9274, 'invited': 4314, 'qxbranch': 7752, 'nprototype': 6371, 'norganize': 6228, 'curate': 2085, 'ncontinue': 5532, 'theano': 9221, 'ncompetence': 5497, 'portions': 7344, 'maintainable': 4763, 'specializations': 8700, 'nanalytics': 5276, 'cuda': 2076, 'collaborations': 1579, 'smoothly': 8611, 'speaks': 8695, 'contexts': 1859, 'oversight': 7016, 'synthesize': 9069, 'chen': 1435, 'et': 2930, 'al': 524, 'angrist': 625, 'castillo': 1323, 'x9csurge': 10033, 'goose': 3570, 'chase': 1423, 'earnings': 2635, 'carries': 1306, 'opposing': 6927, 'virtues': 9740, 'internshipgreater': 4236, 'gny': 3554, 'financially': 3225, 'stable': 8770, 'northeast': 6235, 'actuary': 371, 'loss': 4711, 'imageright': 3933, 'institution': 4158, 'nauvera': 5348, 'intricately': 4282, 'ncloud': 5467, 'sw': 9052, 'saas': 8229, 'ndatabase': 5575, 'postgress': 7367, 'titan': 9283, 'casandra': 1314, 'ruby': 8217, 'rails': 7760, 'nopen': 6210, 'angular': 626, 'storm': 8871, 'contributed': 1894, 'velocity': 9680, 'oems': 6851, 'dealerships': 2186, 'camaraderie': 1251, 'coordinated': 1932, 'nlocal': 6077, 'eastern': 2641, 'zone': 10113, 'targeted': 9113, 'naccurately': 5218, 'invoices': 4316, 'hygiene': 3892, 'usps': 9614, 'sort': 8664, 'cass': 1320, 'ncoa': 5469, 'conquest': 1794, 'mailable': 4758, 'uphold': 9584, 'evolves': 2966, 'grows': 3638, 'punctual': 7667, 'participation': 7077, 'salaried': 8242, 'nnext': 6170, 'steps': 8844, 'perfect': 7156, 'internshipwho': 4256, 'criteo': 2042, 'shoppers': 8497, 'tb': 9122, '10ms': 25, 'buzzwords': 1218, 'excite': 2990, 'precision': 7403, 'ctr': 2073, 'cr': 2006, 'whilst': 9872, 'dislike': 2478, 'passing': 7095, 'buck': 1174, 'fixer': 3256, 'dare': 2125, 'fuels': 3409, 'seen': 8384, 'criteos': 2043, 'heard': 3740, 'belonging': 999, 'dignity': 2402, 'ncriteo': 5560, 'consequently': 1800, 'relation': 7942, 'encompass': 2797, 'feasibility': 3174, 'emphasizing': 2772, 'ncommunicates': 5489, 'nnewwave': 6168, 'modernize': 5079, 'newwave': 5769, 'began': 983, '2004': 92, 'americans': 582, 'loading': 4671, 'separated': 8427, 'regions': 7910, 'queuing': 7741, 'cassandra': 1321, 'azkaban': 915, 'luigi': 4738, 'nresidency': 6464, 'lived': 4659, 'ninterpersonal': 6013, 'facilitation': 3119, 'retaining': 8108, 'nuber': 6688, 'obsession': 6826, 'owning': 7024, 'nexample': 5772, 'delightful': 2237, 'friction': 3388, 'npredicting': 6326, 'signals': 8526, 'ndemonstrable': 5589, 'nknow': 6044, 'retraining': 8112, 'lda': 4534, 'tf': 9217, 'idf': 3920, 'word2vec': 9909, 'doc2vec': 2532, 'glove': 3552, 'variational': 9661, 'bayes': 971, 'theorem': 9224, 'explained': 3058, 'trilogy': 9424, 'npowered': 6321, 'instructors': 4163, 'boot': 1099, 'camps': 1257, 'graduated': 3592, 'ndriven': 5652, 'mentality': 4934, 'ntrilogy': 6677, 'mode': 5063, 'deserve': 2305, 'depends': 2279, 'ear': 2628, 'fans': 3149, 'critics': 2048, 'nteamwork': 6624, 'envision': 2879, 'credibly': 2029, 'nimprove': 5972, 'rows': 8203, 'nviagogo': 6746, 'impacting': 3956, 'x81table': 9960, 'carried': 1305, 'viagogo': 9713, 'geographies': 3515, 'currencies': 2092, 'x81nd': 9957, 'underpinnings': 9507, 'ntypes': 6683, 'ef': 2699, 'x81ciency': 9954, 'inventory': 4294, 'x81eld': 9956, 'parallel': 7057, 'stretch': 8902, 'pretty': 7459, 'x81ndings': 9958, 'spin': 8723, 'nspin': 6565, 'electric': 2729, 'scooters': 8323, 'cooperation': 1928, 'planners': 7283, 'elected': 2727, 'stationless': 8824, 'orchestrated': 6946, 'lawyers': 4525, 'combinator': 1606, 'seattle': 8362, 'scooter': 8322, 'coral': 1941, 'gables': 3445, 'florida': 3276, 'lexington': 4589, 'kentucky': 4433, 'detroit': 2337, 'embeds': 2756, 'neighborhoods': 5692, 'locally': 4676, 'infoemd': 4074, 'finely': 3233, 'overhead': 7010, 'ndaily': 5571, 'credits': 2031, 'cellphone': 1360, 'stipend': 8853, 'expense': 3031, 'boss': 1105, 'fight': 3207, 'tightly': 9265, 'players': 7296, 'motivations': 5123, 'commops': 1642, 'faced': 3112, 'poc': 7318, 'weaknesses': 9832, 'goby': 3557, 'ap': 656, 'esg': 2912, 'reshape': 8050, 'boost': 1096, '140': 44, '51': 183, 'nacquiring': 5222, 'configuring': 1775, 'neffectively': 5683, 'nrefining': 6432, 'nentrepreneurial': 5720, 'worker': 9916, 'dress': 2588, 'foosball': 3306, 'ping': 7256, 'pong': 7333, 'outdoor': 6986, 'patio': 7110, 'golf': 3563, 'simulator': 8547, 'illinois': 3927, 'contractcandidates': 1879, 'ods': 6850, 'edw': 2691, 'nresource': 6467, 'contractakraya': 1877, 'swapnil': 9053, '408': 169, '907': 250, '3201': 150, 'quite': 7747, 'akraya': 523, 'copy': 1940, 'extension': 3086, 'w2': 9787, 'ntop': 6659, 'slq': 8593, 'digitalocean': 2401, 'scenario': 8298, 'catalyst': 1327, 'coremetrics': 1944, 'crimson': 2040, 'hexagon': 3763, 'nsoft': 6549, 'nakraya': 5256, 'x9c': 10001, 'temp': 9175, 'nbyl': 5409, 'retrieved': 8117, 'distributing': 2510, 'outliers': 6992, 'vice': 9715, 'ncompleting': 5503, 'reconciliations': 7852, 'reconcilable': 7848, 'item': 4345, 'outfront': 6987, 'profits': 7553, 'peer': 7143, 'obiee': 6812, 'bics': 1023, 'oac': 6809, 'toad': 9288, 'noutfront': 6252, 'internshipsamsara': 4250, 'hardware': 3697, 'plug': 7308, 'mechanical': 4908, 'bolster': 1090, 'jdms': 4363, 'toolmakers': 9309, 'shifting': 8486, 'releases': 7952, 'aggressive': 495, 'cohort': 1571, 'returns': 8123, 'refining': 7895, 'nproliferate': 6365, 'nstudying': 6597, 'gleaning': 3544, 'graphql': 3609, 'samsara': 8254, 'colors': 1597, 'sexes': 8460, 'religions': 7966, 'ages': 490, '65': 207, 'yearfun': 10084, 'gi': 3526, 'publishes': 7655, 'genre': 3506, 'andpartnerships': 619, 'supercharge': 8998, 'nourcurrent': 6251, 'jo': 4374, 'stars': 8806, 'hgtv': 3765, 'hit': 3791, 'x98fixerupper': 9990, 'at4': 809, 'scienceexperience': 8312, 'caresabout': 1299, 'responsiblefor': 8083, 'restructuring': 8097, 'wanteffective': 9805, 'communicators': 1653, 'technicalusers': 9146, 'geta': 3520, 'aself': 754, 'andimprovement': 618, 'closelywith': 1540, 'playerbehavior': 7295, 'translatingbusiness': 9386, 'adirect': 404, 'heuristic': 3761, 'datamining': 2150, 'glean': 3543, 'andprovide': 620, 'andrun': 622, 'indirectly': 4042, 'builddashboards': 1183, 'effectivelyvia': 2705, 'withgame': 9900, 'ui': 9476, 'illustrators': 3930, 'nminimumqualifications': 6135, 'x99sdegree': 9998, 'relateddisciplines': 7939, 'yearsrelated': 10090, 'yearsexperience': 10089, 'asr': 766, 'yearsservicing': 10091, 'ops': 6928, 'ofprocess': 6870, 'sqlfor': 8752, 'assembling': 769, 'andformatting': 617, 'ofat': 6853, 'parse': 7070, 'npreferredqualifications': 6330, 'familiaritywith': 3146, 'datastore': 2160, 'descriptiveand': 2304, 'visualizationtechniques': 9759, 'aplus': 662, 'communicatingresearch': 1648, 'feed': 3185, 'devoted': 2356, 'stunting': 8932, 'mothers': 5117, 'empirical': 2774, 'bangladesh': 948, 'friedman': 3393, 'instruments': 4168, 'mph': 5135, 'mbbs': 4881, 'john': 4377, 'hancock': 3677, '08': 10, 'internshipabout': 4227, 'ngap': 5877, 'pushed': 7683, 'tournaments': 9330, 'bowling': 1111, 'nights': 5964, 'volunteering': 9778, 'pools': 7335, 'left': 4562, 'combinations': 1605, 'abstractly': 285, 'guru': 3663, 'npromote': 6366, 'nexecution': 5783, 'dataminer': 2148, 'intermedia': 4216, 'prime': 7473, 'innovator': 4122, 'blended': 1060, 'reliably': 7960, 'investments': 4309, 'x94combined': 9973, 'nprojectmanager': 6363, 'nations': 5330, 'architect': 710, 'configure': 1774, 'nonce': 6198, 'cac': 1227, 'ratios': 7789, 'nhaving': 5915, 'instance': 4151, 'tactic': 9086, 'caused': 1341, 'adjusted': 408, 'nstrategy': 6589, 'tactics': 9089, 'traversing': 9403, 'nbuilt': 5404, 'transactional': 9361, 'nideally': 5956, 'capitalist': 1275, 'munging': 5166, 'nhonest': 5937, 'upfront': 9581, 'namazing': 5263, 'ncitizenship': 5451, 'warner': 9812, 'robins': 8171, 'pmo': 7316, 'nwould': 6789, 'briefings': 1143, 'branch': 1122, 'nconducted': 5514, 'nprovided': 6374, 'brief': 1142, 'compiling': 1687, 'organizing': 6968, 'nestablishing': 5737, 'noperating': 6212, 'prompt': 7584, 'consultation': 1837, 'productivity': 7532, 'regards': 7905, 'ncse': 5563, 'kids': 4444, 'namikids': 5267, '136': 41, '1969': 73, 'amikids': 585, 'youth': 10104, 'positively': 7352, 'partnership': 7086, 'separating': 8428, 'troubled': 9431, 'bright': 1145, 'honesty': 3821, 'enthusiasm': 2862, 'institutes': 4157, 'comparison': 1669, 'sis': 8554, 'reoccurring': 7992, 'kid': 4443, 'indicator': 4038, 'conduction': 1763, 'comparing': 1668, 'nintroductory': 6018, 'juvenile': 4421, 'justice': 4419, 'criminology': 2039, 'listen': 4649, 'meets': 4922, 'std': 8835, 'eap': 2627, 'invitae': 4312, 'envisions': 2882, 'sequencing': 8431, 'lifelong': 4613, 'meritocracy': 4954, 'intently': 4199, 'iteration': 4348, 'founders': 3358, 'counselors': 1981, 'naid': 5254, 'haves': 3713, 'ndomain': 5645, 'perfectly': 7158, 'histories': 3789, '36': 156, '60': 200, 'houras': 3841, 'cia': 1464, 'noffices': 6192, 'directorate': 2424, 'ddi': 2180, 'officers': 6864, 'safeguard': 8232, 'altering': 560, 'nus': 6724, 'dual': 2613, 'ngpa': 5897, 'thesis': 9231, 'ncomputational': 5508, 'neconomics': 5671, 'ngeospatial': 5888, 'nmathematics': 6114, 'noperations': 6215, 'nphysics': 6303, 'tour': 9329, 'nattending': 5338, 'nintegrity': 5998, 'polygraph': 7332, 'illegal': 3926, 'drugs': 2604, 'armour': 729, 'chosen': 1458, 'athletes': 814, 'blistering': 1063, 'heat': 3743, 'bitter': 1055, 'sport': 8737, 'commonplace': 1641, 'hungriest': 3885, 'pledge': 7303, 'xa6protect': 10052, 'athlete': 813, 'mapmyfitness': 4811, 'endomondo': 2810, 'myfitnesspal': 5172, 'teamed': 9133, 'aimed': 515, 'unmatched': 9557, 'utilized': 9622, 'neventbrite': 5754, 'bustling': 1207, 'minutes': 5027, 'ticket': 9257, 'organizers': 6966, 'attendees': 832, 'happens': 3687, 'threats': 9249, 'chargeback': 1413, 'eventbrite': 2957, 'vigilant': 9729, 'spam': 8683, 'nitty': 6027, 'gritty': 3627, 'decisioning': 2199, 'envisioned': 2880, 'gt': 3642, 'powering': 7384, 'festivals': 3198, 'marathons': 4818, 'hackathons': 3670, 'rallies': 7765, 'fundraisers': 3430, 'competitions': 1683, 'exact': 2969, 'nsign': 6533, 'caregiver': 1296, 'transgender': 9378, 'stereotypes': 8845, 'victim': 9716, 'assault': 767, 'stalking': 8784, 'contractare': 1878, 'plugged': 7309, 'reading': 7808, 'narrative': 5306, 'huffington': 3874, 'buzzfeed': 1217, 'yahoo': 10074, 'lifehacker': 4612, 'floss': 3278, 'foundations': 3355, 'imaginable': 3936, 'freelance': 3380, 'journalist': 4390, 'edited': 2679, 'outlines': 6995, 'possibility': 7357, 'viability': 9710, 'conceptual': 1739, 'nfact': 5814, 'grammar': 3596, 'nsurvey': 6613, 'chicagoland': 1441, 'virtually': 9738, 'affected': 467, 'x9clive': 10018, 'reconciliation': 7851, 'operationalization': 6913, 'hampshire': 3675, 'frontier': 3399, 'livereach': 4660, 'disrupt': 2493, 'lrm': 4728, 'nfunctions': 5873, 'splunk': 8727, 'elasticsearch': 2725, 'logstash': 4694, 'kibana': 4441, 'julia': 4407, 'usable': 9598, 'livereachmedia': 4661, 'envisioning': 2881, 'sky': 8580, 'enabled': 2792, 'harmonizing': 3699, 'ideals': 3908, 'insatiably': 4134, 'lean': 4544, 'uncertainty': 9493, 'awe': 909, 'ncheck': 5445, 'en': 2790, 'adopt': 423, 'architectural': 713, 'cpg': 2003, 'nwell': 6763, 'deployments': 2286, 'infusing': 4092, 'lerning': 4572, 'bot': 1107, 'databricks': 2138, 'nincrease': 5976, 'hd': 3723, 'miachine': 4981, 'streeam': 8892, 'hubs': 3870, 'sl': 8584, 'dtabase': 2612, 'bus': 1201, 'orcle': 6947, 'vms': 9769, 'biztalk': 1056, 'remove': 7986, 'blockers': 1066, 'evangelist': 2952, 'nemphasis': 5696, 'adjacent': 405, 'nbreadth': 5393, 'consensus': 1797, 'conflicts': 1780, 'npresentation': 6334, 'comfort': 1616, 'vmware': 9770, 'avanade': 891, 'wipro': 9893, 'csc': 2067, 'infosys': 4087, 'servicenow': 8442, 'dell': 2247, 'tcs': 9124, 'ordinances': 6952, 'imbalances': 3941, 'monetization': 5095, 'elicit': 2740, 'gameplay': 3456, 'accessing': 309, 'publishing': 7656, 'windowing': 9887, 'narticulate': 5309, 'n_____________________________________________________________________': 5207, 'conceived': 1730, 'intricacies': 4281, 'connectors': 1792, 'lightly': 4621, 'workplaces': 9925, 'studios': 8928, 'consultancy': 1834, 'prominent': 7575, 'nclose': 5465, 'nrigorous': 6483, 'intuition': 4286, 'nrussian': 6492, 'rfps': 8142, 'cqi': 2005, 'nextracts': 5807, 'cleans': 1510, 'manipulates': 4798, 'platformsclean': 7290, 'projectscollect': 7573, 'ninvolvement': 6022, 'papersconsent': 7053, 'hrsa': 3864, 'spns': 8729, 'surveysassist': 9037, 'systemperforms': 9074, 'required1': 8029, 'excelexperience': 2981, 'setsknowledge': 8450, 'sqlknowledge': 8753, 'softwaredemonstrated': 8636, 'orientedability': 6971, 'teambasic': 9132, 'methodssurvey': 4971, 'announcement': 634, 'santa': 8261, 'clara': 1492, 'mateo': 4851, 'counties': 1983, 'nharvest': 5912, '1974': 76, 'despite': 2322, 'immense': 3945, 'nsilicon': 6535, 'partly': 7081, 'malnutrition': 4778, 'pervasive': 7213, 'ndistributes': 5633, 'nutritious': 6736, 'nthrough': 6649, '309': 141, '985': 262, 'nadvocates': 5247, 'nresources': 6469, 'shfb': 8483, 'nsecond': 6505, 'ndifferent': 5621, 'ninitiatives': 5987, 'preferredexperience': 7421, 'supervisionexcellent': 9004, 'orally': 6943, 'neagerness': 5663, '750': 220, 'curtner': 2096, 'ave': 892, '95125': 256, 'nevenings': 5753, 'fto': 3405, 'neoe': 5725, 'represented': 8015, 'tinton': 9278, 'falls': 3142, 'nlocate': 6078, 'suited': 8982, 'characterize': 1411, 'classifier': 1504, 'marketo': 4828, 'technics': 9148, 'pwerpoint': 7688, 'nrecognized': 6419, 'gartner': 3466, 'magic': 4756, 'quadrant': 7705, 'recovery': 7859, 'definitive': 2230, 'seventh': 8458, 'commvault': 1660, 'furthest': 3440, 'ncommvault': 5494, 'cisco': 1475, 'nutanix': 6730, 'pure': 7672, 'hitachi': 3792, 'netapp': 5739, 'emea': 2762, 'apac': 657, 'contractcompany': 1880, 'ncritical': 5561, 'cst': 2070, 'unnecessary': 9559, 'visits': 9754, 'chronic': 1460, 'turnkey': 9457, 'nmission': 6138, 'homes': 3817, 'abroad': 278, 'older': 6878, 'adults': 431, 'battling': 969, 'illness': 3928, 'sybase': 9060, 'crystal': 2065, 'conveying': 1918, 'novi': 6263, 'triggers': 9422, 'nefficiency': 5684, 'linking': 4642, 'contracted': 1882, 'ncst': 5564, '70': 213, 'yeartitle': 10095, 'nlocations': 6081, 'charleston': 1416, 'sc': 8284, '100k': 17, 'sisense': 8555, 'disruptive': 2497, 'healing': 3732, 'oversees': 7015, 'analyzable': 609, 'difficulties': 2392, 'perpetuate': 7186, 'conceptualization': 1740, 'nstrength': 6590, 'mount': 5126, 'sinai': 8550, 'devotion': 2357, 'ethically': 2933, 'nurturing': 6723, 'nover': 6257, '38': 160, 'nformed': 5854, 'icahn': 3900, 'premier': 7426, 'beth': 1015, 'brooklyn': 1160, 'queens': 7730, 'roosevelt': 8188, 'infirmary': 4064, 'brainjolt': 1116, 'brainjoltmedia': 1117, 'nbrainjolt': 5391, 'quantcast': 7717, 'cleverness': 1523, 'inducing': 4047, 'viral': 9734, 'quizzes': 7748, 'nhighlights': 5929, 'words': 9910, '20m': 113, 'nmagiquiz': 6092, 'mobiles': 5057, 'boasting': 1082, 'visitor': 9752, 'whopping': 9876, '26': 126, 'monster': 5102, 'possibly': 7359, 'fin': 3218, 'nspecifically': 6562, 'biased': 1022, 'draft': 2573, 'nstructure': 6593, 'yield': 10100, 'bid': 1024, 'gds': 3479, 'gam': 3453, 'drama': 2576, 'dsps': 2609, 'ssps': 8766, 'dfp': 2362, 'nmeasurable': 6117, 'nfoundational': 5860, 'header': 3727, 'desks': 2320, 'nexpectations': 5788, 'ntroubleshooting': 6679, 'nmitigate': 6140, 'negatively': 5687, 'nthought': 6645, 'educate': 2686, 'greatly': 3616, 'boredom': 1103, 'nhome': 5936, 'ngym': 5907, 'nspotify': 6568, 'netflix': 5741, 'audible': 849, 'contractjob': 1884, 'ntitle': 6651, 'redmond': 7874, 'nnature': 6161, 'nsupporting': 6611, 'discrete': 2462, 'quantitate': 7722, 'arrive': 737, 'nautomate': 5346, 'nfilter': 5827, 'x9cclean': 10009, 'printouts': 7481, 'philips': 7237, 'layered': 4528, 'precondition': 7406, 'calling': 1244, 'society': 8629, 'continuum': 1873, 'unexpected': 9520, 'moments': 5093, 'watching': 9820, '1973': 75, 'vietnam': 9721, 'readjustment': 7809, '1990': 79, '888': 242, '367': 158, '7223': 217, 'ph1': 7225, 'forgot': 3326, 'password': 7100, 'reset': 8049, 'careersite': 1293, 'monitored': 5099, 'inbox': 3991, '969': 259, '756': 222, 'monthcontractunder': 5107, 'professors': 7542, 'dana': 2124, 'mukamel': 5150, 'kai': 4425, 'zheng': 10111, 'calmhsa': 1247, 'inn': 4113, 'statewide': 8821, 'chatting': 1427, 'describing': 2299, 'irvine': 4333, 'uc': 9471, '968': 258, '58': 194, '755': 221, '83': 230, 'ntotal': 6661, 'nfinal': 5828, 'contractor': 1885, 'substantial': 8959, 'subcontracts': 8937, 'attach': 823, 'internshipelement': 4235, 'element': 2735, 'bellevue': 998, 'nsmarts': 6545, 'pick': 7248, 'light': 4620, 'nagility': 5251, 'internshipbmw': 4229, 'breakthrough': 1136, 'bmw': 1078, 'contained': 1850, 'repeatable': 7999, 'rmarkdown': 8164, 'napprise': 5297, 'nanalysis': 5271, 'parts': 7089, 'videos': 9720, 'analyse': 594, 'indictors': 4041, 'analysing': 596, 'incites': 3997, 'viacom': 9712, 'touches': 9324, 'hottest': 3838, 'translation': 9387, 'viewers': 9725, 'mtv': 5148, 'comedy': 1614, 'paramount': 7062, 'vh1': 9709, 'bet': 1014, 'heterogeneous': 3760, 'metered': 4963, 'syndicated': 9066, 'foresting': 3322, 'attitudinal': 837, 'redis': 7872, 'x98think': 9991, 'ish': 4334, 'upper': 9588, 'avvo': 902, 'likes': 4624, 'envelope': 2873, 'approximations': 701, 'uncovering': 9499, 'maximum': 4877, 'precise': 7402, 'nsuccess': 6601, 'breathe': 1137, 'ib': 3897, 'applauds': 668, 'embracing': 2761, 'intensely': 4194, 'luxury': 4742, 'jeans': 4364, 'sneakers': 8619, 'stability': 8769, 'ninternet': 6009, 'bored': 1102, 'bodies': 1085, 'scraping': 8334, 'ggplot2': 3524, 'dplyr': 2572, 'tidyverse': 9260, 'node': 6189, 'definite': 2227, 'c4ads': 1221, 'ninterns': 6010, 'prorated': 7608, 'equality': 2893, 'corva': 1969, 'ups': 9589, 'houston': 3852, 'minute': 5026, 'drilling': 2591, 'laser': 4504, 'qcs': 7700, 'qaqc': 7697, 'prioritized': 7487, 'staged': 8778, 'drill': 2590, 'string': 8906, 'bha': 1019, 'bits': 1054, 'mud': 5149, 'motors': 5125, 'casing': 1318, 'nthorough': 6644, 'navigating': 5354, 'nfour': 5862, 'nrig': 6482, 'rto': 8214, 'hourtemporaryoverview': 3848, 'vance': 9652, 'rotate': 8194, 'closed': 1538, 'inqa': 4127, 'stamp': 8785, 'boxes': 1113, 'stamped': 8786, 'paperwork': 7054, 'yard': 10075, 'sorters': 8665, 'repair': 7995, 'assembly': 770, 'nregularly': 6437, 'stands': 8798, 'bends': 1007, 'lifts': 4619, 'moves': 5131, 'intermittently': 4218, 'shifts': 8487, 'inclement': 3998, 'weather': 9834, 'internshipdata': 4234, 'nbloom': 5385, 'oxide': 7026, 'newark': 5758, 'bloom': 1071, 'x98always': 9988, 'bloomenergy': 1072, 'scoop': 8321, 'nscoop': 6502, 'neighbors': 5693, 'carpooling': 1303, 'x94unlocking': 9985, 'friendships': 3396, 'miguelhelft': 4996, 'mainstream': 4761, 'nfew': 5825, 'pixels': 7271, 'beings': 992, 'touching': 9325, 'academics': 293, 'nbut': 5407, 'lone': 4696, 'vc': 9674, 'academia': 291, 'sf': 8462, 'mixes': 5045, 'elbow': 2726, 'grease': 3612, 'crosshairs': 2053, 'commuters': 1659, 'embody': 2758, 'furry': 3437, 'tail': 9092, 'wagging': 9791, 'fluffy': 3290, 'faces': 3113, 'exemplify': 3006, 'reminder': 7981, 'shouldn': 8506, 'seriously': 8434, 'carpool': 1302, 'influenced': 4067, 'crafted': 2009, 'feels': 3189, 'contractfocuskpi': 1883, 'nthank': 6637, 'nfocuskpi': 5845, 'focuskpi': 3300, 'customization': 2105, 'contractdata': 1881, 'batch': 968, 'nhadoop': 5908, 'connectivity': 1791, 'instincts': 4154, 'nreq6826': 6455, 'nnumber': 6183, 'nregular': 6436, 'nweekends': 6761, 'nperiodic': 6291, 'ntempe': 6631, 'storing': 8870, 'standardization': 8791, 'ntranslates': 6670, 'toolset': 9312, 'ntests': 6636, 'replication': 8001, 'synchronization': 9064, 'nexhibits': 5787, 'sunset': 8995, 'irregular': 4331, 'aligned': 540, 'red': 7868, 'skillsfile': 8575, 'columnar': 1600, 'storesoperational': 8868, 'metadatasmall': 4961, 'buildsstructured': 1189, 'datadatabase': 2140, 'designdatabase': 2309, 'builddatabase': 1184, 'tuningdatabase': 9452, 'scalingindexing': 8293, 'invertedquery': 4295, 'knowledgeopportunistic': 4463, 'createdinternal': 2018, 'knowledgedata': 4462, 'skillstranslate': 8578, 'structuresuse': 8920, 'languagesdata': 4495, 'prep': 7431, 'techniquesdata': 9151, 'techniquesuse': 9153, 'analyticsdashboarding': 607, 'scorecarding': 8328, 'ncompetencies': 5498, 'expertisedecision': 3053, 'judgmentteamworkcritical': 4403, 'thinkingadaptability': 9239, 'nsfarm': 6521, 'njt18': 6035, 'descriptionalphawise': 2301, 'alphawise': 558, 'enabler': 2793, 'x9coffense': 10023, 'x9cdefense': 10010, 'quants': 7726, 'rulebooks': 8219, 'shore': 8500, 'suggesting': 8975, 'reliance': 7961, 'samsung': 8255, 'nstrategic': 6588, 'innate': 4114, 'uncharted': 9494, 'activate': 359, 'operationalized': 6915, 'ncombine': 5482, 'addressed': 394, 'logit': 4692, 'multinomial': 5157, 'component': 1709, 'priori': 7483, 'schema': 8305, 'nnecessary': 6162, 'convince': 1921, 'adversarial': 441, 'vps': 9784, 'approve': 698, 'alternatives': 563, 'subordinates': 8947, 'negotiate': 5689, 'agreement': 504, 'compromise': 1723, 'medium': 4918, 'keyboard': 4439, 'terminal': 9195, '95': 255, 'prolonged': 7574, 'considerable': 1805, 'acuity': 372, 'numeric': 6699, 'stress': 8900, 'normally': 6231, 'cyclical': 2117, 'machines': 4750, 'printers': 7480, 'copiers': 1937, 'faxes': 3167, 'varies': 9664, 'defaults': 2216, 'european': 2943, 'assesses': 772, 'selects': 8398, 'adapts': 384, 'anticipates': 651, 'exceptionally': 2986, 'measured': 4903, 'internshiprifiniti': 4248, 'sofia': 8631, 'bulgaria': 1191, 'ukraine': 9479, 'leased': 4554, 'portfolios': 7343, 'infrastructures': 4090, 'disprove': 2491, 'bench': 1002, 'marking': 4833, 'ncollaboration': 5476, 'ease': 2638, 'consolidation': 1820, 'corridor': 1967, '19000c1k': 64, 'nwithin': 6782, 'unusually': 9574, 'encounter': 2798, 'discounting': 2454, 'unpredictable': 9563, 'unknowns': 9548, 'styles': 8934, 'transparent': 9392, 'publish': 7651, 'journals': 4392, 'uncommon': 9496, 'enjoyment': 2843, 'postgraduate': 7364, 'nconsistency': 5524, 'parameter': 7059, 'predicted': 7409, 'adaptations': 381, 'fantastic': 3150, 'npost': 6317, 'doctoral': 2536, 'dataops': 2151, 'graphical': 3605, 'gaussian': 3474, 'mcmc': 4887, 'markov': 4834, 'summarization': 8985, 'mxnet': 5171, 'torch': 9318, 'ranges': 7772, 'modelled': 5069, 'stanza': 8801, 'nhundreds': 5946, 'pageviews': 7038, 'sync': 9063, 'concerts': 1747, 'sporting': 8738, 'movie': 5132, 'esports': 2916, 'brothers': 1163, 'nbc': 5370, 'cbs': 1345, 'nfl': 5837, 'nhl': 5933, 'ncaa': 5414, 'default': 2215, 'calendars': 1240, 'automatically': 880, 'remember': 7979, 'articles': 744, 'pages': 7037, 'aligning': 541, 'nstanza': 6575, 'nanalyzes': 5278, 'locate': 4678, 'nconstruct': 5526, 'theories': 9226, 'verifies': 9692, 'delve': 2249, 'nexciting': 5777, 'reimbursements': 7930, 'ncatered': 5434, 'advertisement': 443, 'dorahitsolutions': 2562, 'timeposition': 9273, 'nutritional': 6734, 'federally': 3182, 'disparities': 2482, 'snap': 8616, 'ed': 2671, 'surveys': 9036, 'intake': 4175, 'archive': 718, 'docs': 2534, 'fte': 3404, 'ua': 9468, 'asu': 805, 'nau': 5343, 'recreation': 7860, 'arizona': 725, 'worldatwork': 9932, 'recording': 7856, 'responses': 8079, 'compiles': 1686, 'sorts': 8666, 'corrects': 1961, 'reconciles': 7850, 'trackers': 9338, 'disseminates': 2499, 'logs': 4693, 'archives': 719, 'hardcopy': 3693, 'affecting': 468, 'accepts': 305, 'attends': 833, 'nskill': 6539, 'absorb': 281, 'regents': 7907, 'narizona': 5305, 'alphanumeric': 556, 'proofing': 7588, 'nvivo': 6754, 'composition': 1713, 'spelling': 8716, 'punctuation': 7668, 'flsa': 3284, 'doe': 2544, 'motiion': 5118, 'fostering': 3351, 'scattered': 8296, 'inconsistently': 4013, 'freshness': 3387, 'aspire': 762, 'signs': 8532, 'ntoolbox': 6655, 'intuitively': 4288, 'shortlist': 8504, 'termimpact': 9194, 'x9cbang': 10005, 'nstarter': 6578, 'finisher': 3239, 'hope': 3823, 'unquestioned': 9564, 'ndisciplined': 5625, 'snag': 8615, 'nappreciation': 5296, 'honest': 3820, 'acceptable': 301, 'outlast': 6990, 'scratch': 8337, 'painful': 7041, 'eyes': 3105, 'nremote': 6447, 'vastly': 9671, 'outnumber': 6997, 'disadvantages': 2434, 'shown': 8510, 'obstacle': 6828, 'devolve': 2354, 'empire': 2773, 'notch': 6238, 'n1strategy': 5187, 'nimble': 5966, '1strategy': 85, 'nearn': 5666, 'roadblocks': 8168, 'parties': 7080, 'uncleansed': 9495, 'versioning': 9700, 'ncultivating': 5565, 'shareholders': 8473, 'amex': 584, 'orchestra': 6945, 'napplying': 5295, 'rigorious': 8154, 'reolve': 7993, 'nmonitoring': 6149, 'performances': 7161, 'nindependent': 5978, 'dialog': 2371, 'prototypes': 7625, 'django': 2525, 'nreqid': 6456, '19004162': 66, 'ndate': 5577, 'payable': 7118, 'ndriving': 5654, 'ghg': 3525, 'emissions': 2768, 'gresb': 3624, 'cdp': 1352, 'gri': 3625, 'djsi': 2526, 'sasb': 8266, 'disclosures': 2449, 'leed': 4561, 'submittal': 8943, 'tcfd': 9123, 'nleed': 6057, 'kernels': 4437, 'bear': 977, 'quantifind': 7720, 'nquantifind': 6391, 'explanatory': 3061, 'vertical': 9702, 'aml': 587, 'nsupervised': 6607, 'dimension': 2404, 'nreal': 6413, 'latent': 4508, 'dirichlet': 2428, 'lsa': 4729, 'menlo': 4932, 'strives': 8909, 'nblackthorn': 5382, 'therapeutics': 9229, 'neurobehavioral': 5747, 'disorders': 2480, 'depression': 2289, 'schizophrenia': 8307, 'autism': 873, 'pioneered': 7260, 'psychiatry': 7643, 'gen': 3486, 'multimodal': 5156, 'treatment': 9408, 'neuroscience': 5750, 'resting': 8091, 'fmri': 3294, 'structural': 8916, 'mri': 5141, 'dwi': 2621, 'ample': 592, 'freesurfer': 3382, 'toolboxes': 9305, 'eeg': 2694, 'speech': 8714, 'strategical': 8880, 'pda': 7134, 'introduce': 4283, 'nfully': 5870, 'segmented': 8390, 'cleansed': 1512, 'shoots': 8494, 'nexecutes': 5781, 'ssdt': 8764, 'nrdbms': 6410, 'ssis': 8765, 'nftp': 5868, 'dmexpress': 2528, 'talend': 9097, 'mc1': 4884, 'nzeta': 6806, 'steinberg': 8839, 'sculley': 8348, 'cola': 1573, '2007': 94, 'zetahub': 10109, 'february': 3180, 'multichannel': 5152, 'continents': 1862, 'hyderabad': 3890, 'india': 4033, 'nrecent': 6416, 'relevancy': 7956, '4th': 178, 'nconceptual': 5511, 'nai': 5253, 'xa8ve': 10055, 'svm': 9049, 'apriori': 705, 'tidyr': 9259, 'holders': 3804, 'kaggle': 4423, 'article': 743, 'quant': 7716, 'nportland': 6313, 'begin': 984, 'ncambia': 5416, 'frictionless': 3389, 'fragmented': 3362, 'disposal': 2489, 'chatbots': 1426, 'admitting': 421, 'diagnosis': 2366, 'ncluster': 5468, 'nintegrate': 5997, 'cambia': 1252, 'tokenization': 9292, 'expressions': 3078, 'corenlp': 1945, 'gensim': 3507, 'mallet': 4777, 'lingpipe': 4636, 'ctakes': 2072, 'crf': 2034, 'maxent': 4873, 'lsi': 4732, 'neager': 5662, 'cumulative': 2082, 'convex': 1915, 'tackles': 9083, 'tries': 9421, 'storages': 8863, 'nadapt': 5230, 'exploit': 3064, 'eighteen': 2721, 'nbroad': 5398, 'cntk': 1553, 'conception': 1736, 'draws': 2583, 'ideation': 3912, 'nsynthesize': 6615, 'longitudinal': 4700, 'kernel': 4436, 'ensemble': 2850, 'methodically': 4966, 'spring': 8748, 'companywide': 1665, 'investigated': 4299, 'maps': 4816, 'scatter': 8295, 'plots': 7307, 'histograms': 3785, 'influential': 4070, 'sectional': 8368, 'ncoursework': 5550, 'century': 1373, 'beginnings': 987, 'pacific': 7031, 'internshiplocation': 4241, 'cupertino': 2084, 'nseagate': 6504, 'hqs': 3857, 'bigdata': 1028, '8am': 245, '5pm': 198, 'seagate': 8353, 'returning': 8122, 'fall': 3141, 'nlsg': 6086, 'lsg': 4730, 'ninsurance': 5996, 'nhealthy': 5922, 'compliant': 1702, 'drawn': 2582, 'planned': 7282, 'translated': 9383, 'multivariable': 5162, 'ncity': 5452, 'norfolk': 6225, 'nstate': 6580, 'nbuilds': 5403, 'cerner': 1376, 'modality': 5062, 'palm': 7045, 'beach': 976, 'nfacility': 5813, 'mary': 4837, 'tenet': 9184, 'rsg': 8207, 'modelers': 5066, 'white': 9873, 'river': 8161, 'junction': 4410, 'vermont': 9695, 'landscapes': 4491, 'nefficient': 5685, 'ntransportation': 6672, 'rsginc': 8208, 'contracttorchlight': 1890, 'nprogram': 6359, 'approval': 696, 'proofread': 7590, 'tabulation': 9081, 'granular': 3601, 'nanticipate': 5285, 'syntax': 9068, 'torchlight': 9319, 'ntorchlight': 6660, 'voted': 9781, 'torchlighthire': 9320, 'ntogether': 6654, 'ncarrot': 5430, 'cigarette': 1466, 'preventable': 7461, 'fda': 3171, 'therapy': 9230, 'smartphone': 8602, 'njoining': 6033, 'formative': 3332, 'carrot': 1307, 'instrumented': 4167, 'nfantastic': 5818, 'mixpanel': 5046, 'keynote': 4440, 'featuring': 3179, 'trails': 9349, 'waterway': 9826, 'cafe': 1230, 'shuttle': 8515, 'proximity': 7640, 'otherabout': 6982, 'westrock': 9864, 'nwestrock': 6767, 'wrk': 9948, 'packaging': 7034, '320': 149, 'nsenior': 6514, 'n1000': 5181, 'abernathy': 270, 'rd': 7796, 'ne': 5660, 'natlanta': 5333, '30328': 140, 'nunited': 6714, 'nrequisition': 6461, '8954': 243, 'unanticipated': 9489, 'researches': 8041, 'telecommuting': 9169, 'cplex': 2004, 'ampl': 591, 'opl': 6923, 'attn': 838, 'stephanie': 8842, 'nday': 5578, 'newyork': 5770, 'presbyterian': 7438, 'weill': 9849, 'cornell': 1946, 'ao1': 655, 'n__________________': 5206, 'n2018': 5190, 'ceos': 1375, 'x9camerica': 10004, 'becker': 981, 'nyp': 6803, 'nnewyork': 6169, 'method': 4964, 'sophistication': 8663, 'participant': 7073, 'internshipinnovative': 4237, 'ninternships': 6012, 'inner': 4115, 'hosted': 3834, 'ninnovative': 5990, 'breed': 1138, 'reputation': 8020, 'centralized': 1371, 'nfinscan': 5833, 'bunch': 1195, 'friends': 3395, 'hang': 3684, 'uncommongoods': 9497, 'nuncommongoods': 6704, 'jsp': 4400, 'utm_medium': 9627, 'utm_source': 9628, 'cool': 1926, 'bios': 1046, 'ncarry': 5431, 'nresume': 6477, 'ncover': 5551, 'optional': 6937, '1079302': 22, 'nkbrwyle': 6039, 'kbr': 4428, 'navair': 5351, 'dod': 2543, 'nincludes': 5974, 'kbrwyle': 4429, 'nkbr': 6038, 'nmonpost': 6150, 'effecting': 2701, 'exploitation': 3065, 'loopholes': 4708, 'ngraduating': 5899, 'nwish': 6780, 'nbrooks': 5399, 'itw': 4352, 'hatfield': 3711, 'suburban': 8963, 'philadelphia': 7235, 'brooks': 1161, 'hungary': 3883, 'france': 3370, 'japan': 4355, 'semiconductor': 8411, 'cells': 1361, 'slides': 8591, 'nadminister': 5240, 'trackwise': 9341, 'preventive': 7464, 'cc': 1347, 'fa': 3108, 'traintrack': 9354, 'conformances': 1783, 'nassociate': 5324, 'nminitab': 6137, 'ncontinuing': 5533, 'dynamically': 2623, 'satisfying': 8273, 'compete': 1676, 'nitw': 6028, 'prospered': 7614, 'changed': 1401, 'yeardescription': 10083, 'nchesapeake': 5446, 'conservancy': 1801, 'annapolis': 630, 'chesapeake': 1437, 'watershed': 9825, 'fish': 3250, 'wildlife': 9883, 'waters': 9824, 'abundant': 287, 'wetlands': 9866, 'shorelines': 8501, 'spaces': 8682, 'acres': 353, 'vanishing': 9654, 'conserve': 1803, 'rivers': 8162, 'restore': 8094, 'conservation': 1802, 'cic': 1465, 'restoration': 8093, 'dramatically': 2578, 'pilot': 7254, 'habitat': 3669, 'overseeing': 7014, 'scientistwill': 8317, 'satellite': 8267, 'aerial': 460, 'imagery': 3934, 'lidar': 4605, 'ecological': 2657, 'n8': 5203, 'encountered': 2799, 'n9': 5204, 'grant': 3598, 'slide': 8590, 'decks': 2202, 'funders': 3428, 'dependable': 2272, 'stewardship': 8849, 'finite': 3242, 'nonlinear': 6203, '56': 189, '784': 225, 'yeardata': 10082, 'nschool': 6500, 'rc': 7795, 'pennsylvania': 7148, '19002353': 65, 'pittsburgh': 7266, 'radiology': 7757, 'psychiatric': 7642, 'molecular': 5091, 'pmod': 7317, 'neurochemical': 5748, 'abnormalities': 275, 'addictive': 388, 'nassignment': 5320, 'fulltime': 3413, 'programmer': 7557, 'ncampus': 5418, 'baccalaureate': 923, '30am': 142, '00pm': 3, 'nrelocation': 6446, 'finalists': 3221, 'nchild': 5447, 'clearances': 1517, 'noptional': 6220, 'omd': 6882, 'nexploration': 5797, 'npredictive': 6327, 'omg': 6883, 'ngenerating': 5886, 'nagency': 5250, 'nredjack': 6429, 'resilience': 8054, 'n15': 5183, 'complied': 1704, 'rust': 8226, 'naccomplished': 5214, 'pc': 7132, 'osx': 6980, 'reserve': 8044, 'redjack': 7873, 'nericsson': 5729, 'ericsson': 2904, 'networked': 5743, '180': 59, 'achievements': 341, 'practically': 7395, 'brains': 1118, '5g': 196, 'accelerator': 298, 'sweden': 9055, 'advancements': 435, 'digitalization': 2400, 'acceleration': 297, 'nthen': 6640, '4g': 177, 'validated': 9643, 'exogenous': 3020, 'industrialize': 4050, 'discriminant': 2465, 'bagging': 940, 'functionalities': 3418, 'industrialization': 4049, 'ncertifying': 5441, 'moocs': 5110, 'nurture': 6722, 'persistence': 7189, 'blogs': 1069, 'sensitivity': 8419, 'nli': 6062, 'bf1': 1018, 'ntag': 6618, 'manahj': 4792, 'opinion': 6921, 'compact': 1662, 'requesting': 8025, 'lie': 4606, 'detector': 2331, 'discharging': 2440, 'disciplining': 2445, 'discriminating': 2468, 'refusing': 7901, 'exercising': 3010, 'whd': 9871, 'eppac': 2890, 'modifications': 5081, 'adjustments': 410, 'dallas': 2122, '866': 239, '374': 159, '2272': 119, '338': 153, '9966': 263, 'serveng': 8437, 'contract6': 1876, 'internshipjoseph': 4240, 'ryerson': 8227, 'son': 8659, 'distributors': 2514, '176th': 55, 'anniversary': 631, 'china': 1448, 'lisle': 4646, 'circumstancesuse': 1473, 'informationwork': 4082, 'treasurygather': 9404, 'materialsaid': 4854, 'sourcesprovide': 8673, 'toolsworking': 9314, 'organizationrelationships': 6962, 'circumstanceslearned': 1472, 'datasetslearned': 2158, 'dataminimum': 2149, 'preferredwork': 7423, 'curiosityadvanced': 2090, 'ninspire': 5994, 'author': 865, 'playbooks': 7293, 'doxo': 2570, 'disrupting': 2495, 'bills': 1037, 'mature': 4871, 'biller': 1033, 'directory': 2426, 'charting': 1421, 'graphing': 3607, 'ncapacity': 5422, 'nzywave': 6808, 'consult': 1833, 'broker': 1158, 'zywave': 10116, '2005': 93, '2008': 95, 'kaplan': 4427, 'meaningfully': 4897, 'nconverse': 5540, 'feasible': 3175, 'nsound': 6556, 'nfirm': 5834, 'ncourageous': 5549, 'toolsets': 9313, 'srrs': 8760, 'gemba': 3485, 'a3': 264, 'mdi': 4890, 'n00079': 5177, 'nkaplan': 6037, 'highlight': 3773, 'nanalytic': 5273, 'eq': 2891, 'hcss': 3722, 'nbeing': 5375, 'nartificial': 5310, 'programing': 7555, 'sugar': 8972, 'arcade': 708, 'mention': 4936, 'loans': 4674, 'trip': 9426, 'npart': 6271, 'junk': 4414, 'folder': 3301, 'housing': 3851, 'h1': 3667, 'visas': 9742, 'timethe': 9276, 'nittany': 6026, 'alliance': 548, 'psu': 7641, 'enhances': 2838, 'penn': 7146, 'marketable': 4825, 'unsolved': 9569, 'concrete': 1753, 'prototyping': 7626, 'nontechnical': 6209, 'infer': 4059, 'asap': 752, 'milliman': 5000, 'actuaries': 370, 'licensing': 4604, 'quantification': 7719, 'lapse': 4498, 'mortality': 5116, 'nmilliman': 6129, '1947': 71, 'x94senior': 9981, 'mitigate': 5040, 'era': 2903, 'ncyber': 5570, 'breach': 1127, 'ncode': 5471, 'nrisk': 6485, 'cybersecurity': 2114, 'nbehaviors': 5374, 'namplion': 5269, 'synthesizes': 9070, 'diagnostic': 2367, 'leverages': 4586, 'amplion': 593, 'biomarker': 1044, 'extracted': 3093, 'neo4j': 5724, 'temporarybilling': 9179, 'nneeds': 6164, '200046821': 90, 'itunes': 4351, 'uml': 9485, 'factless': 3125, 'temporal': 9177, 'noverall': 6258, 'tiered': 9263, 'inherently': 4099, 'capturing': 1282, 'downstream': 2568, 'epms': 2889, 'verified': 9691, 'uat': 9469, 'satisfy': 8272, 'atos': 820, 'societas': 8628, 'europaea': 2941, 'forma': 3328, 'circa': 1468, 'x82': 9961, '72': 216, 'bpo': 1115, 'worldline': 9934, 'natos': 5336, 'powers': 7386, 'olympic': 6880, 'paralympic': 7058, 'euronext': 2940, 'paris': 7067, 'worldgrid': 9933, 'bull': 1193, 'unify': 9527, 'competences': 1678, 'nselecting': 6511, 'classifiers': 1505, 'dataviz': 2163, 'naive': 5255, 'cloudera': 1544, 'hortonworks': 3829, 'mapr': 4814, 'oozie': 6898, 'rtf': 8212, 'colour': 1598, 'solely': 8642, 'realized': 7816, '30bn': 143, 'paired': 7044, 'x94and': 9972, 'x94is': 9978, 'extraordinarily': 3098, 'generalist': 3489, 'nhonor': 5938, 'wwe': 9949, 'evolution': 2964, 'operationalize': 6914, 'systematic': 9072, 'servers': 8439, 'highlighting': 3774, 'n_': 5205, 'nimport': 5970, 'correlations': 1964, '31': 144, 'verifications': 9690, 'ofac': 6852, 'ss': 8761, 'vb': 9672, 'nback': 5363, 'dea': 2181, '67': 209, '126': 36, '062': 8, 'yearas': 10079, 'sub': 8936, 'truemotion': 9436, 'acceptability': 300, 'interdependencies': 4207, 'incongruences': 4010, 'notifying': 6249, 'dependencies': 2273, 'infogram': 4075, 'incongruencies': 4011, 'raise': 7761, 'lift': 4617, 'comprehend': 1715, 'nfeel': 5824, 'distracted': 2507, 'ntouch': 6662, 'toes': 9291, 'nburn': 5405, 'calories': 1248, 'waterfront': 9823, 'drink': 2592, 'afternoon': 483, 'sox': 8679, 'esplanade': 2915, 'lower': 4723, 'pun': 7665, 'band': 947, 'fort': 3344, 'ntruemotion': 6680, 'bain': 941, 'lakestar': 4486, 'joseph': 4387, 'calculating': 1236, 'hud': 3872, 'hmis': 3798, 'exym': 3103, 'champ': 1396, 'zoho': 10112, 'supervisory': 9007, 'widely': 9880, 'registrations': 7913, 'liability': 4594, 'nstatus': 6583, 'endorses': 2811, 'ada': 377, 'feha': 3192, 'experiencing': 3043, '310': 145, '396': 162, '6468': 206, 'voluntarily': 9775, 'refusal': 7900, 'adverse': 442, 'idlewild': 3921, 'tampa': 9108, '33634': 152, 'nacts': 5227, 'determines': 2335, 'drafts': 2575, 'nescalate': 5730, 'nruns': 6491, 'nformulates': 5856, 'concentrates': 1733, 'negative': 5686, 'angles': 624, 'unknown': 9547, 'ncandidate': 5420, 'multifunctional': 5155, 'nlicenses': 6064, 'perot': 7182, 'peradigm': 7153, 'wellcare': 9857, 'intelliclaim': 4189, 'nalpharetta': 5261, 'mn': 5053, 'n50': 5200, 'nresponsibility': 6474, 'nexercise': 5785, 'judgement': 4401, 'nverbal': 6742, 'abstract': 282, 'inefficiencies': 4053, 'defects': 2218, 'lessons': 4575, 'ninsert': 5993, 'internshipresponsibilities': 4247, 'alpha': 555, 'faceted': 3114, 'nneuberger': 6166, 'berman': 1012, 'onlineaccommodations': 6891, 'internshipc3': 4231, 'c3': 1220, 'abstraction': 284, '10x': 26, '100x': 18, 'tweak': 9460, 'nsmart': 6544, 'kitchen': 4449, 'breakfast': 1132, 'tennis': 9185, 'evening': 2955, 'fdr': 3172, 'airworthiness': 522, 'reasonability': 7821, 'avionica': 897, 'flight': 3269, 'incident': 3995, 'aircraft': 518, 'downloads': 2567, 'assisted': 789, 'guideline': 3657, 'quoting': 7751, 'ncontinual': 5531, 'aeronautical': 461, 'foqa': 3309, 'binary': 1039, 'octal': 6844, 'hex': 3762, 'numbering': 6695, 'ncompetency': 5499, 'ge': 3480, 'imagination': 3937, 'genx': 3510, 'imaginative': 3938, 'ecomagination': 2658, 'got': 3571, 'reengineering': 7884, 'nge': 5882, 'miami': 4982, 'tonnes': 9301, 'approachable': 690, 'pockets': 7319, 'correlation': 1963, 'invalid': 4289, 'defect': 2217, 'nreliably': 6445, 'flowing': 3282, 'traceable': 9336, 'insertion': 4136, 'interoperability': 4258, 'flaws': 3264, 'ncomply': 5505, 'operationalizing': 6916, 'mechanisms': 4910, 'mbr': 4882, 'qbr': 7698, 'nlearns': 6056, 'sme': 8604, 'nconsistently': 5525, 'editors': 2682, 'powercenteridq': 7381, 'mercury': 4947, 'qtp': 7704, '10g': 24, 'modular': 5086, 'sprint': 8749, 'nfosys': 5859, 'pythoninfosys': 7693, 'unprecedented': 9562, 'transferring': 9370, 'wanted': 9804, 'navigators': 5356, 'transformationsas': 9375, 'anchor': 615, 'developments': 2347, 'pursuits': 7681, 'travelu': 9402, 'qualificationsbasic': 7709, 'preferable': 7416, 'nlstm': 6087, 'knn': 4456, 'integer': 4176, 'constraint': 1827, 'analyticso': 608, 'managemento': 4787, 'segmentationo': 8389, 'sticks': 8851, 'differentiators': 2388, 'usinfosys': 9611, 'outsourcing': 7006, '80bn': 228, 'msn': 5146, 'surface': 9024, 'xbox': 10066, 'surprised': 9029, 'inspired': 4147, 'appreciates': 686, 'chipp': 1451, 'reactively': 7804, 'piracy': 7265, 'exploits': 3066, 'remediation': 7978, 'theft': 9222, 'distances': 2501, 'attacks': 827, 'ninforms': 5984, 'projected': 7569, 'nidentification': 5957, 'perpetration': 7183, 'perpetrators': 7185, 'nproper': 6368, 'leakage': 4543, 'referral': 7891, 'cela': 1354, 'attorneys': 840, 'naddt': 5238, 'modus': 5089, 'operandi': 6907, 'attack': 825, 'vectors': 9677, 'perpetrator': 7184, 'unasked': 9490, 'nextends': 5804, 'mitigating': 5041, 'ncoaches': 5470, 'nengages': 5707, 'objectively': 6815, 'inquiry': 4130, 'nshares': 6523, 'thoroughly': 9244, 'conversant': 1909, 'nsecondary': 6506, 'chinese': 1449, 'russian': 8225, 'cseo': 2068, 'cdas': 1349, 'internshipchicago': 4233, 'inspector': 4143, 'oig': 6873, 'watchdog': 9819, 'taxpayers': 9121, 'jurisdiction': 4417, 'economy': 2667, 'rooting': 8191, 'corruption': 1968, 'mismanagement': 5029, 'x94investigations': 9977, 'x94legal': 9979, 'noig': 6194, 'unpaid': 9561, 'cita': 1476, 'citywide': 1483, 'pentaho': 7150, 'usability': 9597, 'nonpartisan': 6205, 'nacademic': 5212, 'majoring': 4770, 'grading': 3587, 'penatho': 7145, 'summarized': 8988, 'ninstructions': 5995, 'nsubmit': 6598, 'chicagoinspectorgeneral': 1440, 'nattach': 5337, 'transcript': 9363, 'instruction': 4161, 'nframe': 5863, 'comma': 1620, 'json': 4399, 'informative': 4083, 'commercially': 1629, 'nderive': 5599, 'rshiny': 8209, 'dss': 2611, 'specializes': 8703, 'reproducibility': 8017, 'nexplain': 5796, 'gauge': 3473, 'zeus': 10110, 'flawless': 3262, 'november': 6256, 'shaking': 8467, '18b': 60, 'leasing': 4556, 'unfurnished': 9523, 'expertly': 3054, 'appointed': 682, 'realizing': 7817, 'raised': 7762, '24m': 123, 'initialized': 4101, 'bowery': 1110, 'floodgate': 3272, 'exits': 3019, 'rentals': 7990, 'npragmatic': 6324, 'dependents': 2277, 'nparking': 6270, 'n20': 5189, 'n16': 5184, 'mexico': 4977, 'montana': 5103, 'oklahoma': 6876, 'insurer': 4172, 'mindsetcustomer': 5011, 'focusedstrong': 3297, 'njr': 6034, 'ncategory': 5433, 'arlington': 726, 'j0319': 4353, '2145': 116, 'nmomentum': 6146, 'financials': 3226, 'usemploymentcompliance': 9607, 'null': 6692, 'nten': 6632, 'cre': 2015, 'multiplier': 5159, 'matches': 4849, 'accelerates': 295, 'streamlines': 8890, '55': 187, 'safely': 8234, 'virtue': 9739, 'seller': 8403, 'transacting': 9359, 'regressions': 7917, 'kagr': 4424, 'nkraft': 6047, 'leagues': 4542, 'athletics': 816, 'technically': 9145, 'jessica': 4367, 'gelman': 3484, 'overlooks': 7012, 'gillette': 3533, 'stadium': 8774, 'scrape': 8332, 'nsynthesis': 6614, 'ndexterity': 5619, 'fingers': 3236, 'mouse': 5128, 'peripheral': 7172, 'perception': 7155, 'listing': 4653, 'lakewood': 4487, 'um': 9484, 'terumo': 9205, 'bct': 974, '23245': 121, 'ecc': 2652, 'escalated': 2909, 'winshuttle': 9892, 'lsmw': 4733, 'loads': 4672, 'nverifies': 6743, 'completely': 1693, 'qualification': 7707, 'discretionary': 2464, 'inconclusive': 4009, 'afforded': 478, 'unfavorable': 9521, 'nterumo': 6634, 'conditional': 1757, 'january': 4354, 'terumobct': 9206, 'cellular': 1362, 'apheresis': 659, 'pathogen': 7105, 'coupled': 1987, 'therapeutic': 9228, 'strengthens': 8898, 'territories': 9201, 'brussels': 1168, 'buenos': 1180, 'aires': 519, 'singapore': 8551, 'tokyo': 9294, 'nlargest': 6049, 'rocky': 8176, 'mountain': 5127, 'leukemia': 4578, 'lymphoma': 4745, 'lls': 4668, 'nwinner': 6778, 'atd': 810, '2012': 99, 'healthiest': 3737, 'nrecipient': 6417, 'council': 1980, 'drcog': 2584, 'nwellness': 6764, 'intentional': 4198, 'neach': 5661, 'nconnecting': 5521, 'ngrowing': 5902, 'nsharing': 6524, 'integrates': 4180, 'facilitates': 3117, 'npersons': 6296, 'ineligible': 4055, 'nike': 5965, 'sustaining': 9048, 'transition': 9380, 'athletic': 815, 'smallest': 8598, 'macro': 4751, 'nsrl': 6571, 'teamsprovide': 9138, 'managementlead': 4786, 'adoptioncreate': 425, 'adoptiondocumentation': 426, 'stakeholderssupport': 8783, 'experiencedemonstrated': 3036, 'improvementsa': 3983, 'verbalability': 9687, 'solutionsa': 8649, 'improvementa': 3981, 'seeker': 8379, 'efficienciesable': 2710, 'objectivesprovide': 6817, 'detailsuperior': 2327, 'simultaneouslyexperience': 8549, 'plusability': 7311, 'internshipupper': 4253, 'escape': 2911, 'vortex': 9780, 'simplifies': 8543, 'nproduces': 6351, 'articulates': 746, 'nqueries': 6396, 'nadvises': 5245, 'nconsiders': 5523, 'nfinancial': 5830, 'louisville': 4718, 'ky': 4475, 'referencing': 7890, 'hits': 3793, 'datacreate': 2139, 'analysisdevelop': 600, 'consistencies': 1811, 'standardizations': 8792, 'dataproduce': 2154, 'meditechstrong': 4917, 'asc': 753, 'x12': 9952, '270': 129, '271': 130, '837': 233, '835experience': 232, 'languageexperience': 4493, 'frameworkworking': 3368, 'joins': 4383, 'fhir': 3199, 'preferredproven': 7422, 'formatsstrong': 3334, 'major2': 4769, 'firmkeen': 3245, 'perspectiveexcellent': 7205, 'hipaa': 3778, 'recordsstrong': 7858, 'skillsprofessional': 8576, 'presenceorganizational': 7444, 'responsive': 8084, 'proudly': 7629, '1970': 74, 'thirteen': 9241, 'stacks': 8773, 'gbm': 3475, 'assemble': 768, 'ebsco': 2649, 'books': 1095, 'ipswich': 4328, 'birmingham': 1049, 'nebsco': 5668, 'strictly': 8905, 'tolerate': 9295, 'amended': 576, 'nview': 6749, 'ntantus': 6622, 'isolate': 4338, 'traceability': 9335, 'rtm': 8213, 'nrecord': 6425, 'conformance': 1782, 'walkthroughs': 9797, 'inspections': 4142, 'navigator': 5355, 'universes': 9543, 'clm': 1535, 'rqm': 8205, 'temporaryjob': 9181, '3188439': 148, 'nregulation': 6438, 'afc': 464, 'protects': 7621, 'deutsche': 2338, 'avert': 895, 'unintentional': 9529, 'breaches': 1128, 'perimeter': 7165, 'germany': 3519, 'franchise': 3371, 'heavily': 3744, 'gains': 3450, 'packed': 7035, 'ndeutsche': 5613, 'x9cbank': 10006, 'x9cgtb': 10013, 'respectively': 8072, 'gtb': 3643, 'x9cnca': 10022, 'x9cpr': 10026, 'rr': 8206, 'exited': 3018, 'subsidiaries': 8953, 'domiciled': 2555, 'avp': 901, 'gtb_tfccm_us': 3644, 'adoptions': 427, 'x9cedr': 10011, 'distinct': 2504, 'tfccm_us': 9218, 'licensed': 4602, 'heads': 3731, 'charged': 1414, 'proces': 7512, 'nface': 5810, 'depiction': 2281, 'eus': 2944, 'directives': 2421, 'escalations': 2910, 'govern': 3573, 'pivots': 7269, 'overlapping': 7011, 'nmoderate': 6143, 'trinity': 9425, 'searching': 8358, 'nsources': 6557, 'sift': 8521, 'irrelevant': 4332, 'estimate': 2927, 'kimball': 4445, 'inmon': 4112, 'reonomy': 7994, 'structuring': 8921, 'nheadquartered': 5918, 'sapphire': 8263, 'softbank': 8633, 'newmark': 5761, 'knight': 4454, 'frank': 3374, 'cushman': 2098, 'wakefield': 9795, 'tishman': 9282, 'speyer': 8720, 'intelligently': 4192, 'complexities': 1699, 'nplaying': 6309, 'trivial': 9429, 'nhistory': 5932, '2x': 137, 'citi': 1477, 'bike': 1031, 'rooms': 8187, 'obama': 6811, 'reliantly': 7962, 'transparently': 9393, 'nbelow': 5376, 'discuss': 2471, 'strategists': 8884, 'election': 2728, 'incubate': 4024, 'stan': 8787, 'catasys': 1330, 'od': 6847, 'storytellers': 8874, 'instrumentation': 4166, 'moderating': 5075, 'detective': 2330, 'initially': 4102, 'vigilance': 9728, 'eagerness': 2626, 'proofpoint': 7589, 'nblend': 5383, 'intel': 4186, 'singularly': 8553, 'gans': 3460, 'resnets': 8056, 'mastered': 4844, 'classics': 1501, 'malicious': 4776, 'actors': 365, 'craftsmanship': 2011, 'nfeature': 5823, 'nblending': 5384, 'tested': 9208, 'repo': 8002, 'xafve': 10061, 'convnet': 1922, 'lstm': 4734, 'siamese': 8516, 'nunsupervised': 6719, 'dbscan': 2177, 'spectral': 8712, 'lsh': 4731, 'ntoolkits': 6657, 'genism': 3504, 'vowpal': 9782, 'wabbit': 9789, 'cultivating': 2077, 'treating': 9407, 'jl3': 4372, 'nlocated': 6079, 'barbara': 954, 'hg': 3764, 'mandate': 4793, 'install': 4150, 'blocks': 1067, 'away': 907, 'riding': 8150, 'bikes': 1032, 'funk': 3432, 'hanging': 3685, 'surf': 9023, 'nexperiment': 5793, 'comprehensively': 1718, 'nproduction': 6354, 'tokens': 9293, 'mrf': 5140, 'ninput': 5991, 'outsource': 7005, 'append': 667, 'athena': 812, 'betterment': 1017, 'comprehension': 1716, 'rafael': 7758, 'edm': 2684, 'escalate': 2908, 'complement': 1689, 'hierarchies': 3768, 'nstructuring': 6595, 'pull': 7658, 'potentials': 7376, 'syncing': 9065, 'siebel': 8520, 'mdm': 4891, 'reps': 8019, 'differing': 2390, 'opinions': 6922, 'naddresses': 5237, 'autodesk': 875, 'hobbyists': 3800, 'dnp': 2531, 'headhunter': 3728, 'nsavviness': 6498, 'nretail': 6478, 'consolidated': 1819, 'nmetrics': 6125, 'ntooling': 6656, 'consumable': 1840, 'scorecard': 8327, 'cadence': 1228, 'effieciency': 2714, 'enginnering': 2832, 'opposed': 6926, 'agility': 499, 'negotiation': 5690, 'nunquestionable': 6718, 'nthrives': 6648, 'nmotivated': 6155, 'nfoster': 5858, 'unity': 9541, 'generalizable': 3490, 'experimentally': 3046, 'farming': 3156, 'farmer': 3154, 'fbn': 3169, 'farmers': 3155, 'xa0': 10042, 'unbiased': 9492, 'farms': 3158, 'anonymously': 641, 'securely': 8373, 'sustainably': 9046, '2050': 111, 'farmland': 3157, 'decreasing': 2207, 'odds': 6849, 'stacked': 8772, 'squarely': 8756, 'shoulders': 8505, 'increasingly': 4019, 'harder': 3694, 'nfarmers': 5821, 'forced': 3312, 'agronomic': 507, 'gathered': 3471, 'sensors': 8421, 'farm': 3153, 'agricultural': 505, 'nfurthers': 5874, 'affects': 469, 'nuncovers': 6705, 'soil': 8638, 'plant': 7287, 'physiology': 7246, 'entomology': 2869, 'agronomy': 508, 'nfarmer': 5820, 'requisite': 8034, 'considerations': 1807, 'nquality': 6390, 'nquantity': 6395, 'nsupervision': 6608, 'nscope': 6503, 'deviations': 2349, 'omission': 6884, 'preclude': 7405, 'assigning': 780, '138': 42, '579': 192, 'yearcollects': 10081, 'strategizes': 8885, 'mines': 5014, 'finds': 3231, 'modifies': 5083, 'qualify': 7711, 'respective': 8071, 'internshipwith': 4257, 'nautodesk': 5345, 'sfdc': 8463, 'dataframes': 2143, 'runs': 8223, 'x93august': 9967, 'interviewing': 4275, 'didn': 2378, 'snr': 8622, 'agreed': 503, 'setsuse': 8452, 'labeled': 4478, 'setsassuring': 8449, 'analysisutilize': 601, 'processesunderstand': 7517, 'resourceswork': 8065, 'applicationssuperior': 677, 'datastrong': 2161, 'supervisionability': 9003, 'mustexperience': 5169, 'plusproven': 7314, 'sustained': 9047, 'seated': 8361, 'positon': 7354, 'reed': 7882, 'nreed': 6431, 'rbi': 7794, 'reedbusiness': 7883, 'nrbi': 6409, 'uk': 9478, 'supplement': 9008, 'holidaypaid': 3809, 'charity': 1415, 'yearbenefits': 10080, 'dateexcellent': 2165, 'ote': 6981, 'infancy': 4056, 'observer': 6823, 'relishes': 7969, 'sn1': 8612, 'internshipbrightstart': 4230, 'lawrenceville': 4523, 'brightree': 1147, 'hme': 3797, 'hospice': 3830, 'pulse': 7663, 'equipping': 2896, 'orthotic': 6979, 'prosthetic': 7615, 'infusion': 4093, 'nreduce': 6430, 'df1': 2361, 'locationus': 4683, 'transformational': 9373, 'marry': 4835, 'thriving': 9254, 'npack': 6266, 'softvision': 8634, 'yearunder': 10096, 'partakes': 7072, 'epidemiological': 2886, 'nprocesses': 6347, 'npartakes': 6272, 'nrepresents': 6453, 'antonio': 652, 'nconfers': 5517, 'infection': 4057, 'communicable': 1643, 'asthma': 803, 'diplomas': 2414, 'unofficial': 9560, 'advised': 449, 'claiming': 1489, 'dd214': 2179, 'nunless': 6716, 'reaching': 7801, 'hazardous': 3716, 'bodily': 1086, 'fluids': 3292, 'infectious': 4058, 'interval': 4270, 'filed': 3212, 'sanantonio': 8257, 'careercenter': 1290, 'aspx': 765, 'nhuman': 5945, '78205': 224, 'n210': 5192, '207': 112, '8705': 240, 'nhrcustomerservice': 5942, '00805': 2, 'nepidemiologist': 5726, 'nlh': 6061, 'questionnaire': 7737, '539': 185, '86': 238, 'annually': 637, 'nagree': 5252, 'disagree': 2435, 'cosa': 1970, 'armed': 728, 'forces': 3313, 'accrediting': 332, 'jd': 4362, 'beginner': 985, 'nhospital': 5939, 'nhanes': 5911, 'brfss': 1140, 'nlimited': 6071, 'infographics': 4076, 'pie': 7250, 'scatterplots': 8297, 'appealing': 665, 'epidemiologist': 2887, 'pymetrics': 7690, 'unleash': 9550, 'nclear': 5457, 'nembodiment': 5695, 'positivity': 7353, 'nfamily': 5817, 'maternity': 4856, 'paternity': 7103, 'nmidtown': 6128, 'retreats': 8113, 'nfinally': 5829, 'commissionat': 1630, 'hat': 3710, 'middleware': 4989, 'virtualization': 9737, 'cd': 1348, 'nadvocate': 5246, 'nred': 6428, 'uniformed': 9525, 'commissions': 1631, 'fee': 3184, 'proctor': 7519, 'studying': 8930, 'randomized': 7770, 'ocular': 6846, 'blindness': 1062, 'relied': 7963, 'approvals': 697, 'correlates': 1962, 'gradually': 3590, 'nproctor': 6349, 'ophthalmology': 6920, 'ucsf': 9472, 'inflammatory': 4065, 'professions': 7541, 'exclusively': 2995, 'chartered': 1420, 'scratched': 8338, 'discovered': 2457, 'photo': 7240, 'album': 527, 'nretention': 6479, 'attrition': 845, 'nnurture': 6185, 'ncampaign': 5417, 'nrecommender': 6422, 'recommender': 7845, 'survival': 9038, 'disciplined': 2443, 'storehouses': 8866, 'mock': 5059, '1967': 72, 'berkley': 1011, 'holding': 3805, 'writers': 9943, 'reinsurance': 7934, 'niche': 5952, 'territory': 9202, 'lies': 4608, 'nberkley': 5378, 'condo': 1759, 'rental': 7989, 'indemnification': 4027, 'contamination': 1854, 'reserving': 8046, 'unaided': 9488, 'generalize': 3491, 'retrieves': 8118, 'essbase': 2918, 'smartview': 8603, 'macroeconomic': 4752, 'nadapts': 5233, 'catastrophe': 1329, 'exams': 2977, 'steward': 8846, 'nvalues': 6740, 'numo': 6702, 'fuzzy': 3442, 'nexploring': 5800, 'ndigging': 5622, 'commercializable': 1628, 'nbringing': 5397, 'horsepower': 3828, 'stewarding': 8847, 'ideate': 3910, 'nthrive': 6647, 'coder': 1560, 'pair': 7043, 'parent': 7063, 'pains': 7042, 'ncool': 5542, 'bakery': 942, 'addresses': 395}\n"
          ],
          "name": "stdout"
        }
      ]
    },
    {
      "metadata": {
        "id": "w1Bkq2f7gL-X",
        "colab_type": "text"
      },
      "cell_type": "markdown",
      "source": [
        "### Vectorize training data"
      ]
    },
    {
      "metadata": {
        "id": "qvK0w2o9gZgn",
        "colab_type": "code",
        "outputId": "9885ee28-734d-438e-9ffa-ccfab6438b44",
        "colab": {
          "base_uri": "https://localhost:8080/",
          "height": 250
        }
      },
      "cell_type": "code",
      "source": [
        "train_word_counts = vectorizer.transform(X_train)\n",
        "\n",
        "X_train_vectorized = pd.DataFrame(train_word_counts.toarray(), columns=vectorizer.get_feature_names())\n",
        "\n",
        "print(X_train_vectorized.shape)\n",
        "X_train_vectorized.head()"
      ],
      "execution_count": 26,
      "outputs": [
        {
          "output_type": "stream",
          "text": [
            "(399, 10117)\n"
          ],
          "name": "stdout"
        },
        {
          "output_type": "execute_result",
          "data": {
            "text/html": [
              "<div>\n",
              "<style scoped>\n",
              "    .dataframe tbody tr th:only-of-type {\n",
              "        vertical-align: middle;\n",
              "    }\n",
              "\n",
              "    .dataframe tbody tr th {\n",
              "        vertical-align: top;\n",
              "    }\n",
              "\n",
              "    .dataframe thead th {\n",
              "        text-align: right;\n",
              "    }\n",
              "</style>\n",
              "<table border=\"1\" class=\"dataframe\">\n",
              "  <thead>\n",
              "    <tr style=\"text-align: right;\">\n",
              "      <th></th>\n",
              "      <th>00</th>\n",
              "      <th>000</th>\n",
              "      <th>00805</th>\n",
              "      <th>00pm</th>\n",
              "      <th>02115</th>\n",
              "      <th>03</th>\n",
              "      <th>0356</th>\n",
              "      <th>04</th>\n",
              "      <th>062</th>\n",
              "      <th>06366</th>\n",
              "      <th>...</th>\n",
              "      <th>zendesk</th>\n",
              "      <th>zero</th>\n",
              "      <th>zetahub</th>\n",
              "      <th>zeus</th>\n",
              "      <th>zheng</th>\n",
              "      <th>zoho</th>\n",
              "      <th>zone</th>\n",
              "      <th>zones</th>\n",
              "      <th>zoom</th>\n",
              "      <th>zywave</th>\n",
              "    </tr>\n",
              "  </thead>\n",
              "  <tbody>\n",
              "    <tr>\n",
              "      <th>0</th>\n",
              "      <td>0.0</td>\n",
              "      <td>0.0</td>\n",
              "      <td>0.0</td>\n",
              "      <td>0.0</td>\n",
              "      <td>0.0</td>\n",
              "      <td>0.0</td>\n",
              "      <td>0.0</td>\n",
              "      <td>0.0</td>\n",
              "      <td>0.0</td>\n",
              "      <td>0.0</td>\n",
              "      <td>...</td>\n",
              "      <td>0.0</td>\n",
              "      <td>0.0</td>\n",
              "      <td>0.0</td>\n",
              "      <td>0.0</td>\n",
              "      <td>0.0</td>\n",
              "      <td>0.0</td>\n",
              "      <td>0.0</td>\n",
              "      <td>0.0</td>\n",
              "      <td>0.0</td>\n",
              "      <td>0.0</td>\n",
              "    </tr>\n",
              "    <tr>\n",
              "      <th>1</th>\n",
              "      <td>0.0</td>\n",
              "      <td>0.0</td>\n",
              "      <td>0.0</td>\n",
              "      <td>0.0</td>\n",
              "      <td>0.0</td>\n",
              "      <td>0.0</td>\n",
              "      <td>0.0</td>\n",
              "      <td>0.0</td>\n",
              "      <td>0.0</td>\n",
              "      <td>0.0</td>\n",
              "      <td>...</td>\n",
              "      <td>0.0</td>\n",
              "      <td>0.0</td>\n",
              "      <td>0.0</td>\n",
              "      <td>0.0</td>\n",
              "      <td>0.0</td>\n",
              "      <td>0.0</td>\n",
              "      <td>0.0</td>\n",
              "      <td>0.0</td>\n",
              "      <td>0.0</td>\n",
              "      <td>0.0</td>\n",
              "    </tr>\n",
              "    <tr>\n",
              "      <th>2</th>\n",
              "      <td>0.0</td>\n",
              "      <td>0.0</td>\n",
              "      <td>0.0</td>\n",
              "      <td>0.0</td>\n",
              "      <td>0.0</td>\n",
              "      <td>0.0</td>\n",
              "      <td>0.0</td>\n",
              "      <td>0.0</td>\n",
              "      <td>0.0</td>\n",
              "      <td>0.0</td>\n",
              "      <td>...</td>\n",
              "      <td>0.0</td>\n",
              "      <td>0.0</td>\n",
              "      <td>0.0</td>\n",
              "      <td>0.0</td>\n",
              "      <td>0.0</td>\n",
              "      <td>0.0</td>\n",
              "      <td>0.0</td>\n",
              "      <td>0.0</td>\n",
              "      <td>0.0</td>\n",
              "      <td>0.0</td>\n",
              "    </tr>\n",
              "    <tr>\n",
              "      <th>3</th>\n",
              "      <td>0.0</td>\n",
              "      <td>0.0</td>\n",
              "      <td>0.0</td>\n",
              "      <td>0.0</td>\n",
              "      <td>0.0</td>\n",
              "      <td>0.0</td>\n",
              "      <td>0.0</td>\n",
              "      <td>0.0</td>\n",
              "      <td>0.0</td>\n",
              "      <td>0.0</td>\n",
              "      <td>...</td>\n",
              "      <td>0.0</td>\n",
              "      <td>0.0</td>\n",
              "      <td>0.0</td>\n",
              "      <td>0.0</td>\n",
              "      <td>0.0</td>\n",
              "      <td>0.0</td>\n",
              "      <td>0.0</td>\n",
              "      <td>0.0</td>\n",
              "      <td>0.0</td>\n",
              "      <td>0.0</td>\n",
              "    </tr>\n",
              "    <tr>\n",
              "      <th>4</th>\n",
              "      <td>0.0</td>\n",
              "      <td>0.0</td>\n",
              "      <td>0.0</td>\n",
              "      <td>0.0</td>\n",
              "      <td>0.0</td>\n",
              "      <td>0.0</td>\n",
              "      <td>0.0</td>\n",
              "      <td>0.0</td>\n",
              "      <td>0.0</td>\n",
              "      <td>0.0</td>\n",
              "      <td>...</td>\n",
              "      <td>0.0</td>\n",
              "      <td>0.0</td>\n",
              "      <td>0.0</td>\n",
              "      <td>0.0</td>\n",
              "      <td>0.0</td>\n",
              "      <td>0.0</td>\n",
              "      <td>0.0</td>\n",
              "      <td>0.0</td>\n",
              "      <td>0.0</td>\n",
              "      <td>0.0</td>\n",
              "    </tr>\n",
              "  </tbody>\n",
              "</table>\n",
              "<p>5 rows × 10117 columns</p>\n",
              "</div>"
            ],
            "text/plain": [
              "    00  000  00805  00pm  02115   03  0356   04  062  06366  ...  zendesk  zero  zetahub  zeus  zheng  zoho  zone  zones  zoom  zywave\n",
              "0  0.0  0.0    0.0   0.0    0.0  0.0   0.0  0.0  0.0    0.0  ...      0.0   0.0      0.0   0.0    0.0   0.0   0.0    0.0   0.0     0.0\n",
              "1  0.0  0.0    0.0   0.0    0.0  0.0   0.0  0.0  0.0    0.0  ...      0.0   0.0      0.0   0.0    0.0   0.0   0.0    0.0   0.0     0.0\n",
              "2  0.0  0.0    0.0   0.0    0.0  0.0   0.0  0.0  0.0    0.0  ...      0.0   0.0      0.0   0.0    0.0   0.0   0.0    0.0   0.0     0.0\n",
              "3  0.0  0.0    0.0   0.0    0.0  0.0   0.0  0.0  0.0    0.0  ...      0.0   0.0      0.0   0.0    0.0   0.0   0.0    0.0   0.0     0.0\n",
              "4  0.0  0.0    0.0   0.0    0.0  0.0   0.0  0.0  0.0    0.0  ...      0.0   0.0      0.0   0.0    0.0   0.0   0.0    0.0   0.0     0.0\n",
              "\n",
              "[5 rows x 10117 columns]"
            ]
          },
          "metadata": {
            "tags": []
          },
          "execution_count": 26
        }
      ]
    },
    {
      "metadata": {
        "id": "jmqDtiMxgbwN",
        "colab_type": "text"
      },
      "cell_type": "markdown",
      "source": [
        "### Vectorize test data"
      ]
    },
    {
      "metadata": {
        "id": "2LwYWsJpgauu",
        "colab_type": "code",
        "outputId": "2ca994c6-505a-47d9-c530-cd1937ed0475",
        "colab": {
          "base_uri": "https://localhost:8080/",
          "height": 250
        }
      },
      "cell_type": "code",
      "source": [
        "test_word_counts = vectorizer.transform(X_test)\n",
        "\n",
        "X_test_vectorized = pd.DataFrame(test_word_counts.toarray(), columns=vectorizer.get_feature_names())\n",
        "\n",
        "print(X_test_vectorized.shape)\n",
        "X_test_vectorized.head()"
      ],
      "execution_count": 27,
      "outputs": [
        {
          "output_type": "stream",
          "text": [
            "(100, 10117)\n"
          ],
          "name": "stdout"
        },
        {
          "output_type": "execute_result",
          "data": {
            "text/html": [
              "<div>\n",
              "<style scoped>\n",
              "    .dataframe tbody tr th:only-of-type {\n",
              "        vertical-align: middle;\n",
              "    }\n",
              "\n",
              "    .dataframe tbody tr th {\n",
              "        vertical-align: top;\n",
              "    }\n",
              "\n",
              "    .dataframe thead th {\n",
              "        text-align: right;\n",
              "    }\n",
              "</style>\n",
              "<table border=\"1\" class=\"dataframe\">\n",
              "  <thead>\n",
              "    <tr style=\"text-align: right;\">\n",
              "      <th></th>\n",
              "      <th>00</th>\n",
              "      <th>000</th>\n",
              "      <th>00805</th>\n",
              "      <th>00pm</th>\n",
              "      <th>02115</th>\n",
              "      <th>03</th>\n",
              "      <th>0356</th>\n",
              "      <th>04</th>\n",
              "      <th>062</th>\n",
              "      <th>06366</th>\n",
              "      <th>...</th>\n",
              "      <th>zendesk</th>\n",
              "      <th>zero</th>\n",
              "      <th>zetahub</th>\n",
              "      <th>zeus</th>\n",
              "      <th>zheng</th>\n",
              "      <th>zoho</th>\n",
              "      <th>zone</th>\n",
              "      <th>zones</th>\n",
              "      <th>zoom</th>\n",
              "      <th>zywave</th>\n",
              "    </tr>\n",
              "  </thead>\n",
              "  <tbody>\n",
              "    <tr>\n",
              "      <th>0</th>\n",
              "      <td>0.0</td>\n",
              "      <td>0.000000</td>\n",
              "      <td>0.0</td>\n",
              "      <td>0.0</td>\n",
              "      <td>0.0</td>\n",
              "      <td>0.0</td>\n",
              "      <td>0.0</td>\n",
              "      <td>0.0</td>\n",
              "      <td>0.0</td>\n",
              "      <td>0.0</td>\n",
              "      <td>...</td>\n",
              "      <td>0.0</td>\n",
              "      <td>0.0</td>\n",
              "      <td>0.0</td>\n",
              "      <td>0.0</td>\n",
              "      <td>0.0</td>\n",
              "      <td>0.0</td>\n",
              "      <td>0.0</td>\n",
              "      <td>0.0</td>\n",
              "      <td>0.0</td>\n",
              "      <td>0.0</td>\n",
              "    </tr>\n",
              "    <tr>\n",
              "      <th>1</th>\n",
              "      <td>0.0</td>\n",
              "      <td>0.000000</td>\n",
              "      <td>0.0</td>\n",
              "      <td>0.0</td>\n",
              "      <td>0.0</td>\n",
              "      <td>0.0</td>\n",
              "      <td>0.0</td>\n",
              "      <td>0.0</td>\n",
              "      <td>0.0</td>\n",
              "      <td>0.0</td>\n",
              "      <td>...</td>\n",
              "      <td>0.0</td>\n",
              "      <td>0.0</td>\n",
              "      <td>0.0</td>\n",
              "      <td>0.0</td>\n",
              "      <td>0.0</td>\n",
              "      <td>0.0</td>\n",
              "      <td>0.0</td>\n",
              "      <td>0.0</td>\n",
              "      <td>0.0</td>\n",
              "      <td>0.0</td>\n",
              "    </tr>\n",
              "    <tr>\n",
              "      <th>2</th>\n",
              "      <td>0.0</td>\n",
              "      <td>0.042829</td>\n",
              "      <td>0.0</td>\n",
              "      <td>0.0</td>\n",
              "      <td>0.0</td>\n",
              "      <td>0.0</td>\n",
              "      <td>0.0</td>\n",
              "      <td>0.0</td>\n",
              "      <td>0.0</td>\n",
              "      <td>0.0</td>\n",
              "      <td>...</td>\n",
              "      <td>0.0</td>\n",
              "      <td>0.0</td>\n",
              "      <td>0.0</td>\n",
              "      <td>0.0</td>\n",
              "      <td>0.0</td>\n",
              "      <td>0.0</td>\n",
              "      <td>0.0</td>\n",
              "      <td>0.0</td>\n",
              "      <td>0.0</td>\n",
              "      <td>0.0</td>\n",
              "    </tr>\n",
              "    <tr>\n",
              "      <th>3</th>\n",
              "      <td>0.0</td>\n",
              "      <td>0.000000</td>\n",
              "      <td>0.0</td>\n",
              "      <td>0.0</td>\n",
              "      <td>0.0</td>\n",
              "      <td>0.0</td>\n",
              "      <td>0.0</td>\n",
              "      <td>0.0</td>\n",
              "      <td>0.0</td>\n",
              "      <td>0.0</td>\n",
              "      <td>...</td>\n",
              "      <td>0.0</td>\n",
              "      <td>0.0</td>\n",
              "      <td>0.0</td>\n",
              "      <td>0.0</td>\n",
              "      <td>0.0</td>\n",
              "      <td>0.0</td>\n",
              "      <td>0.0</td>\n",
              "      <td>0.0</td>\n",
              "      <td>0.0</td>\n",
              "      <td>0.0</td>\n",
              "    </tr>\n",
              "    <tr>\n",
              "      <th>4</th>\n",
              "      <td>0.0</td>\n",
              "      <td>0.036271</td>\n",
              "      <td>0.0</td>\n",
              "      <td>0.0</td>\n",
              "      <td>0.0</td>\n",
              "      <td>0.0</td>\n",
              "      <td>0.0</td>\n",
              "      <td>0.0</td>\n",
              "      <td>0.0</td>\n",
              "      <td>0.0</td>\n",
              "      <td>...</td>\n",
              "      <td>0.0</td>\n",
              "      <td>0.0</td>\n",
              "      <td>0.0</td>\n",
              "      <td>0.0</td>\n",
              "      <td>0.0</td>\n",
              "      <td>0.0</td>\n",
              "      <td>0.0</td>\n",
              "      <td>0.0</td>\n",
              "      <td>0.0</td>\n",
              "      <td>0.0</td>\n",
              "    </tr>\n",
              "  </tbody>\n",
              "</table>\n",
              "<p>5 rows × 10117 columns</p>\n",
              "</div>"
            ],
            "text/plain": [
              "    00       000  00805  00pm  02115   03  0356   04  062  06366  ...  zendesk  zero  zetahub  zeus  zheng  zoho  zone  zones  zoom  zywave\n",
              "0  0.0  0.000000    0.0   0.0    0.0  0.0   0.0  0.0  0.0    0.0  ...      0.0   0.0      0.0   0.0    0.0   0.0   0.0    0.0   0.0     0.0\n",
              "1  0.0  0.000000    0.0   0.0    0.0  0.0   0.0  0.0  0.0    0.0  ...      0.0   0.0      0.0   0.0    0.0   0.0   0.0    0.0   0.0     0.0\n",
              "2  0.0  0.042829    0.0   0.0    0.0  0.0   0.0  0.0  0.0    0.0  ...      0.0   0.0      0.0   0.0    0.0   0.0   0.0    0.0   0.0     0.0\n",
              "3  0.0  0.000000    0.0   0.0    0.0  0.0   0.0  0.0  0.0    0.0  ...      0.0   0.0      0.0   0.0    0.0   0.0   0.0    0.0   0.0     0.0\n",
              "4  0.0  0.036271    0.0   0.0    0.0  0.0   0.0  0.0  0.0    0.0  ...      0.0   0.0      0.0   0.0    0.0   0.0   0.0    0.0   0.0     0.0\n",
              "\n",
              "[5 rows x 10117 columns]"
            ]
          },
          "metadata": {
            "tags": []
          },
          "execution_count": 27
        }
      ]
    },
    {
      "metadata": {
        "id": "s8dAeSwqhFja",
        "colab_type": "text"
      },
      "cell_type": "markdown",
      "source": [
        "## Logistic Regression"
      ]
    },
    {
      "metadata": {
        "id": "_QD0x2kMhKrP",
        "colab_type": "code",
        "outputId": "d479ae78-dea9-4c7c-8454-eaa5e95ab4d3",
        "colab": {
          "base_uri": "https://localhost:8080/",
          "height": 125
        }
      },
      "cell_type": "code",
      "source": [
        "LR = LogisticRegression(random_state=42).fit(X_train_vectorized, y_train)\n",
        "\n",
        "train_predictions = LR.predict(X_train_vectorized)\n",
        "test_predictions = LR.predict(X_test_vectorized)\n",
        "\n",
        "print(f'Train Accuracy: {accuracy_score(y_train, train_predictions)}')\n",
        "print(f'Test Accuracy: {accuracy_score(y_test, test_predictions)}')"
      ],
      "execution_count": 28,
      "outputs": [
        {
          "output_type": "stream",
          "text": [
            "Train Accuracy: 0.9774436090225563\n",
            "Test Accuracy: 0.86\n"
          ],
          "name": "stdout"
        },
        {
          "output_type": "stream",
          "text": [
            "/usr/local/lib/python3.6/dist-packages/sklearn/linear_model/logistic.py:433: FutureWarning: Default solver will be changed to 'lbfgs' in 0.22. Specify a solver to silence this warning.\n",
            "  FutureWarning)\n"
          ],
          "name": "stderr"
        }
      ]
    },
    {
      "metadata": {
        "id": "FyC0cUhOhLuC",
        "colab_type": "code",
        "colab": {}
      },
      "cell_type": "code",
      "source": [
        "results = results.append(format_results(\"Logistic Regression\", y_train, train_predictions, y_test, test_predictions, \"TF-IDF\"), ignore_index=True)"
      ],
      "execution_count": 0,
      "outputs": []
    },
    {
      "metadata": {
        "id": "8eZIT80JhMeF",
        "colab_type": "text"
      },
      "cell_type": "markdown",
      "source": [
        "## Multinomial Naive Bayes"
      ]
    },
    {
      "metadata": {
        "id": "8tFoUWpjhNgJ",
        "colab_type": "code",
        "outputId": "b770a528-0ec6-41a5-a75b-566dabfed7d3",
        "colab": {
          "base_uri": "https://localhost:8080/",
          "height": 51
        }
      },
      "cell_type": "code",
      "source": [
        "MNB = MultinomialNB().fit(X_train_vectorized, y_train)\n",
        "\n",
        "train_predictions = MNB.predict(X_train_vectorized)\n",
        "test_predictions = MNB.predict(X_test_vectorized)\n",
        "\n",
        "print(f'Train Accuracy: {accuracy_score(y_train, train_predictions)}')\n",
        "print(f'Test Accuracy: {accuracy_score(y_test, test_predictions)}')"
      ],
      "execution_count": 30,
      "outputs": [
        {
          "output_type": "stream",
          "text": [
            "Train Accuracy: 0.9674185463659147\n",
            "Test Accuracy: 0.87\n"
          ],
          "name": "stdout"
        }
      ]
    },
    {
      "metadata": {
        "id": "jke0sqrXhONN",
        "colab_type": "code",
        "colab": {}
      },
      "cell_type": "code",
      "source": [
        "results = results.append(format_results(\"Multinomial Naive Bayes\", y_train, train_predictions, y_test, test_predictions, \"TF-IDF\"), ignore_index=True)"
      ],
      "execution_count": 0,
      "outputs": []
    },
    {
      "metadata": {
        "id": "v1TyjExnhOxY",
        "colab_type": "text"
      },
      "cell_type": "markdown",
      "source": [
        "## Random Forest Classifier"
      ]
    },
    {
      "metadata": {
        "id": "ZBa4u85fhPzb",
        "colab_type": "code",
        "outputId": "e59b8572-8a45-4875-dce1-b113fd4ad48f",
        "colab": {
          "base_uri": "https://localhost:8080/",
          "height": 125
        }
      },
      "cell_type": "code",
      "source": [
        "RFC = RandomForestClassifier().fit(X_train_vectorized, y_train)\n",
        "\n",
        "train_predictions = RFC.predict(X_train_vectorized)\n",
        "test_predictions = RFC.predict(X_test_vectorized)\n",
        "\n",
        "print(f'Train Accuracy: {accuracy_score(y_train, train_predictions)}')\n",
        "print(f'Test Accuracy: {accuracy_score(y_test, test_predictions)}')"
      ],
      "execution_count": 32,
      "outputs": [
        {
          "output_type": "stream",
          "text": [
            "Train Accuracy: 0.9899749373433584\n",
            "Test Accuracy: 0.8\n"
          ],
          "name": "stdout"
        },
        {
          "output_type": "stream",
          "text": [
            "/usr/local/lib/python3.6/dist-packages/sklearn/ensemble/forest.py:246: FutureWarning: The default value of n_estimators will change from 10 in version 0.20 to 100 in 0.22.\n",
            "  \"10 in version 0.20 to 100 in 0.22.\", FutureWarning)\n"
          ],
          "name": "stderr"
        }
      ]
    },
    {
      "metadata": {
        "id": "MjT5dfjxhQkp",
        "colab_type": "code",
        "colab": {}
      },
      "cell_type": "code",
      "source": [
        "results = results.append(format_results(\"Random Forest Classifier\", y_train, train_predictions, y_test, test_predictions, \"TF-IDF\"), ignore_index=True)"
      ],
      "execution_count": 0,
      "outputs": []
    },
    {
      "metadata": {
        "id": "YSqg-5jqiNWd",
        "colab_type": "code",
        "outputId": "db3201cb-b703-415c-b751-5fdc0e95fd97",
        "colab": {
          "base_uri": "https://localhost:8080/",
          "height": 235
        }
      },
      "cell_type": "code",
      "source": [
        "results"
      ],
      "execution_count": 0,
      "outputs": [
        {
          "output_type": "execute_result",
          "data": {
            "text/html": [
              "<div>\n",
              "<style scoped>\n",
              "    .dataframe tbody tr th:only-of-type {\n",
              "        vertical-align: middle;\n",
              "    }\n",
              "\n",
              "    .dataframe tbody tr th {\n",
              "        vertical-align: top;\n",
              "    }\n",
              "\n",
              "    .dataframe thead th {\n",
              "        text-align: right;\n",
              "    }\n",
              "</style>\n",
              "<table border=\"1\" class=\"dataframe\">\n",
              "  <thead>\n",
              "    <tr style=\"text-align: right;\">\n",
              "      <th></th>\n",
              "      <th>model</th>\n",
              "      <th>acc_train</th>\n",
              "      <th>acc_test</th>\n",
              "      <th>vect_type</th>\n",
              "    </tr>\n",
              "  </thead>\n",
              "  <tbody>\n",
              "    <tr>\n",
              "      <th>0</th>\n",
              "      <td>Logistic Regression</td>\n",
              "      <td>0.997494</td>\n",
              "      <td>0.93</td>\n",
              "      <td>Count</td>\n",
              "    </tr>\n",
              "    <tr>\n",
              "      <th>1</th>\n",
              "      <td>Multinomial Naive Bayes</td>\n",
              "      <td>0.969925</td>\n",
              "      <td>0.88</td>\n",
              "      <td>Count</td>\n",
              "    </tr>\n",
              "    <tr>\n",
              "      <th>2</th>\n",
              "      <td>Random Forest Classifier</td>\n",
              "      <td>0.994987</td>\n",
              "      <td>0.89</td>\n",
              "      <td>Count</td>\n",
              "    </tr>\n",
              "    <tr>\n",
              "      <th>3</th>\n",
              "      <td>Logistic Regression</td>\n",
              "      <td>0.967419</td>\n",
              "      <td>0.91</td>\n",
              "      <td>TF-IDF</td>\n",
              "    </tr>\n",
              "    <tr>\n",
              "      <th>4</th>\n",
              "      <td>Multinomial Naive Bayes</td>\n",
              "      <td>0.967419</td>\n",
              "      <td>0.87</td>\n",
              "      <td>TF-IDF</td>\n",
              "    </tr>\n",
              "    <tr>\n",
              "      <th>5</th>\n",
              "      <td>Random Forest Classifier</td>\n",
              "      <td>0.992481</td>\n",
              "      <td>0.86</td>\n",
              "      <td>TF-IDF</td>\n",
              "    </tr>\n",
              "  </tbody>\n",
              "</table>\n",
              "</div>"
            ],
            "text/plain": [
              "                      model  acc_train  acc_test vect_type\n",
              "0       Logistic Regression   0.997494      0.93     Count\n",
              "1   Multinomial Naive Bayes   0.969925      0.88     Count\n",
              "2  Random Forest Classifier   0.994987      0.89     Count\n",
              "3       Logistic Regression   0.967419      0.91    TF-IDF\n",
              "4   Multinomial Naive Bayes   0.967419      0.87    TF-IDF\n",
              "5  Random Forest Classifier   0.992481      0.86    TF-IDF"
            ]
          },
          "metadata": {
            "tags": []
          },
          "execution_count": 61
        }
      ]
    },
    {
      "metadata": {
        "id": "ikICfnaujLy-",
        "colab_type": "code",
        "outputId": "c4bb6c48-b3e1-4b3f-c22e-ed8b125262e8",
        "colab": {
          "base_uri": "https://localhost:8080/",
          "height": 235
        }
      },
      "cell_type": "code",
      "source": [
        "results"
      ],
      "execution_count": 0,
      "outputs": [
        {
          "output_type": "execute_result",
          "data": {
            "text/html": [
              "<div>\n",
              "<style scoped>\n",
              "    .dataframe tbody tr th:only-of-type {\n",
              "        vertical-align: middle;\n",
              "    }\n",
              "\n",
              "    .dataframe tbody tr th {\n",
              "        vertical-align: top;\n",
              "    }\n",
              "\n",
              "    .dataframe thead th {\n",
              "        text-align: right;\n",
              "    }\n",
              "</style>\n",
              "<table border=\"1\" class=\"dataframe\">\n",
              "  <thead>\n",
              "    <tr style=\"text-align: right;\">\n",
              "      <th></th>\n",
              "      <th>model</th>\n",
              "      <th>acc_train</th>\n",
              "      <th>acc_test</th>\n",
              "      <th>vect_type</th>\n",
              "    </tr>\n",
              "  </thead>\n",
              "  <tbody>\n",
              "    <tr>\n",
              "      <th>0</th>\n",
              "      <td>Logistic Regression</td>\n",
              "      <td>0.997494</td>\n",
              "      <td>0.93</td>\n",
              "      <td>Count</td>\n",
              "    </tr>\n",
              "    <tr>\n",
              "      <th>1</th>\n",
              "      <td>Multinomial Naive Bayes</td>\n",
              "      <td>0.969925</td>\n",
              "      <td>0.88</td>\n",
              "      <td>Count</td>\n",
              "    </tr>\n",
              "    <tr>\n",
              "      <th>2</th>\n",
              "      <td>Random Forest Classifier</td>\n",
              "      <td>0.987469</td>\n",
              "      <td>0.82</td>\n",
              "      <td>Count</td>\n",
              "    </tr>\n",
              "    <tr>\n",
              "      <th>3</th>\n",
              "      <td>Logistic Regression</td>\n",
              "      <td>0.967419</td>\n",
              "      <td>0.91</td>\n",
              "      <td>TF-IDF</td>\n",
              "    </tr>\n",
              "    <tr>\n",
              "      <th>4</th>\n",
              "      <td>Multinomial Naive Bayes</td>\n",
              "      <td>0.967419</td>\n",
              "      <td>0.87</td>\n",
              "      <td>TF-IDF</td>\n",
              "    </tr>\n",
              "    <tr>\n",
              "      <th>5</th>\n",
              "      <td>Random Forest Classifier</td>\n",
              "      <td>0.987469</td>\n",
              "      <td>0.86</td>\n",
              "      <td>TF-IDF</td>\n",
              "    </tr>\n",
              "  </tbody>\n",
              "</table>\n",
              "</div>"
            ],
            "text/plain": [
              "                      model  acc_train  acc_test vect_type\n",
              "0       Logistic Regression   0.997494      0.93     Count\n",
              "1   Multinomial Naive Bayes   0.969925      0.88     Count\n",
              "2  Random Forest Classifier   0.987469      0.82     Count\n",
              "3       Logistic Regression   0.967419      0.91    TF-IDF\n",
              "4   Multinomial Naive Bayes   0.967419      0.87    TF-IDF\n",
              "5  Random Forest Classifier   0.987469      0.86    TF-IDF"
            ]
          },
          "metadata": {
            "tags": []
          },
          "execution_count": 90
        }
      ]
    },
    {
      "metadata": {
        "id": "YqNoBN7_m_pJ",
        "colab_type": "code",
        "outputId": "f58f5578-526f-4b4f-99e0-27dbb9427970",
        "colab": {
          "base_uri": "https://localhost:8080/",
          "height": 235
        }
      },
      "cell_type": "code",
      "source": [
        "results"
      ],
      "execution_count": 0,
      "outputs": [
        {
          "output_type": "execute_result",
          "data": {
            "text/html": [
              "<div>\n",
              "<style scoped>\n",
              "    .dataframe tbody tr th:only-of-type {\n",
              "        vertical-align: middle;\n",
              "    }\n",
              "\n",
              "    .dataframe tbody tr th {\n",
              "        vertical-align: top;\n",
              "    }\n",
              "\n",
              "    .dataframe thead th {\n",
              "        text-align: right;\n",
              "    }\n",
              "</style>\n",
              "<table border=\"1\" class=\"dataframe\">\n",
              "  <thead>\n",
              "    <tr style=\"text-align: right;\">\n",
              "      <th></th>\n",
              "      <th>model</th>\n",
              "      <th>acc_train</th>\n",
              "      <th>acc_test</th>\n",
              "      <th>vect_type</th>\n",
              "    </tr>\n",
              "  </thead>\n",
              "  <tbody>\n",
              "    <tr>\n",
              "      <th>0</th>\n",
              "      <td>Logistic Regression</td>\n",
              "      <td>0.997494</td>\n",
              "      <td>0.90</td>\n",
              "      <td>Count</td>\n",
              "    </tr>\n",
              "    <tr>\n",
              "      <th>1</th>\n",
              "      <td>Multinomial Naive Bayes</td>\n",
              "      <td>0.972431</td>\n",
              "      <td>0.88</td>\n",
              "      <td>Count</td>\n",
              "    </tr>\n",
              "    <tr>\n",
              "      <th>2</th>\n",
              "      <td>Random Forest Classifier</td>\n",
              "      <td>0.994987</td>\n",
              "      <td>0.90</td>\n",
              "      <td>Count</td>\n",
              "    </tr>\n",
              "    <tr>\n",
              "      <th>3</th>\n",
              "      <td>Logistic Regression</td>\n",
              "      <td>0.979950</td>\n",
              "      <td>0.86</td>\n",
              "      <td>TF-IDF</td>\n",
              "    </tr>\n",
              "    <tr>\n",
              "      <th>4</th>\n",
              "      <td>Multinomial Naive Bayes</td>\n",
              "      <td>0.967419</td>\n",
              "      <td>0.86</td>\n",
              "      <td>TF-IDF</td>\n",
              "    </tr>\n",
              "    <tr>\n",
              "      <th>5</th>\n",
              "      <td>Random Forest Classifier</td>\n",
              "      <td>0.992481</td>\n",
              "      <td>0.78</td>\n",
              "      <td>TF-IDF</td>\n",
              "    </tr>\n",
              "  </tbody>\n",
              "</table>\n",
              "</div>"
            ],
            "text/plain": [
              "                      model  acc_train  acc_test vect_type\n",
              "0       Logistic Regression   0.997494      0.90     Count\n",
              "1   Multinomial Naive Bayes   0.972431      0.88     Count\n",
              "2  Random Forest Classifier   0.994987      0.90     Count\n",
              "3       Logistic Regression   0.979950      0.86    TF-IDF\n",
              "4   Multinomial Naive Bayes   0.967419      0.86    TF-IDF\n",
              "5  Random Forest Classifier   0.992481      0.78    TF-IDF"
            ]
          },
          "metadata": {
            "tags": []
          },
          "execution_count": 133
        }
      ]
    },
    {
      "metadata": {
        "id": "PR4geouWv1nw",
        "colab_type": "code",
        "colab": {
          "base_uri": "https://localhost:8080/",
          "height": 235
        },
        "outputId": "981a7c99-1ebb-49cb-dce5-dc64f45354f7"
      },
      "cell_type": "code",
      "source": [
        "results"
      ],
      "execution_count": 34,
      "outputs": [
        {
          "output_type": "execute_result",
          "data": {
            "text/html": [
              "<div>\n",
              "<style scoped>\n",
              "    .dataframe tbody tr th:only-of-type {\n",
              "        vertical-align: middle;\n",
              "    }\n",
              "\n",
              "    .dataframe tbody tr th {\n",
              "        vertical-align: top;\n",
              "    }\n",
              "\n",
              "    .dataframe thead th {\n",
              "        text-align: right;\n",
              "    }\n",
              "</style>\n",
              "<table border=\"1\" class=\"dataframe\">\n",
              "  <thead>\n",
              "    <tr style=\"text-align: right;\">\n",
              "      <th></th>\n",
              "      <th>model</th>\n",
              "      <th>acc_train</th>\n",
              "      <th>acc_test</th>\n",
              "      <th>vect_type</th>\n",
              "    </tr>\n",
              "  </thead>\n",
              "  <tbody>\n",
              "    <tr>\n",
              "      <th>0</th>\n",
              "      <td>Logistic Regression</td>\n",
              "      <td>0.997494</td>\n",
              "      <td>0.93</td>\n",
              "      <td>Count</td>\n",
              "    </tr>\n",
              "    <tr>\n",
              "      <th>1</th>\n",
              "      <td>Multinomial Naive Bayes</td>\n",
              "      <td>0.974937</td>\n",
              "      <td>0.88</td>\n",
              "      <td>Count</td>\n",
              "    </tr>\n",
              "    <tr>\n",
              "      <th>2</th>\n",
              "      <td>Random Forest Classifier</td>\n",
              "      <td>0.994987</td>\n",
              "      <td>0.88</td>\n",
              "      <td>Count</td>\n",
              "    </tr>\n",
              "    <tr>\n",
              "      <th>3</th>\n",
              "      <td>Logistic Regression</td>\n",
              "      <td>0.977444</td>\n",
              "      <td>0.86</td>\n",
              "      <td>TF-IDF</td>\n",
              "    </tr>\n",
              "    <tr>\n",
              "      <th>4</th>\n",
              "      <td>Multinomial Naive Bayes</td>\n",
              "      <td>0.967419</td>\n",
              "      <td>0.87</td>\n",
              "      <td>TF-IDF</td>\n",
              "    </tr>\n",
              "    <tr>\n",
              "      <th>5</th>\n",
              "      <td>Random Forest Classifier</td>\n",
              "      <td>0.989975</td>\n",
              "      <td>0.80</td>\n",
              "      <td>TF-IDF</td>\n",
              "    </tr>\n",
              "  </tbody>\n",
              "</table>\n",
              "</div>"
            ],
            "text/plain": [
              "                      model  acc_train  acc_test vect_type\n",
              "0       Logistic Regression   0.997494      0.93     Count\n",
              "1   Multinomial Naive Bayes   0.974937      0.88     Count\n",
              "2  Random Forest Classifier   0.994987      0.88     Count\n",
              "3       Logistic Regression   0.977444      0.86    TF-IDF\n",
              "4   Multinomial Naive Bayes   0.967419      0.87    TF-IDF\n",
              "5  Random Forest Classifier   0.989975      0.80    TF-IDF"
            ]
          },
          "metadata": {
            "tags": []
          },
          "execution_count": 34
        }
      ]
    },
    {
      "metadata": {
        "colab_type": "text",
        "id": "vlclSdSSveq-"
      },
      "cell_type": "markdown",
      "source": [
        "# Stretch Goals\n",
        "\n",
        "- Try some agglomerative clustering using cosine-similarity-distance! (works better with high dimensional spaces) robust clustering - Agglomerative clustering like Ward would be cool. Try and create an awesome Dendrogram of the most important terms from the dataset.\n",
        "\n",
        "- Awesome resource for clustering stretch goals: \n",
        " - Agglomerative Clustering with Scipy: <https://joernhees.de/blog/2015/08/26/scipy-hierarchical-clustering-and-dendrogram-tutorial/>\n",
        " - Agglomerative Clustering for NLP: <http://brandonrose.org/clustering>\n",
        " \n",
        "- Use Latent Dirichlet Allocation (LDA) to perform topic modeling on the dataset: \n",
        " - Topic Modeling and LDA in Python: <https://towardsdatascience.com/topic-modeling-and-latent-dirichlet-allocation-in-python-9bf156893c24>\n",
        " - Topic Modeling and LDA using Gensim: <https://www.machinelearningplus.com/nlp/topic-modeling-gensim-python/>\n"
      ]
    }
  ]
}